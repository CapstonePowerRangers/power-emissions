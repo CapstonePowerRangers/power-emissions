{
 "cells": [
  {
   "cell_type": "code",
   "execution_count": 1,
   "metadata": {
    "collapsed": true,
    "pycharm": {
     "name": "#%%\n"
    }
   },
   "outputs": [],
   "source": [
    "import re\n",
    "import pickle\n",
    "import json\n",
    "import pandas as pd\n",
    "\n",
    "from library.common import Core\n",
    "from pathlib import Path\n",
    "cwd = Path.cwd()\n",
    "prediction_horizon = 4\n",
    "core = Core()\n",
    "models = core.all_features"
   ]
  },
  {
   "cell_type": "code",
   "execution_count": 2,
   "outputs": [],
   "source": [
    "models_path = cwd.parent/'models'\n",
    "models = list(models_path.glob('validation*.pkl'))"
   ],
   "metadata": {
    "collapsed": false,
    "pycharm": {
     "name": "#%%\n"
    }
   }
  },
  {
   "cell_type": "code",
   "execution_count": 3,
   "outputs": [
    {
     "data": {
      "text/plain": "[PosixPath('/Users/koonleong/Documents/UM/UMMADS/Courses - Current/SIADS697-Capstone/power_emissions/models/validation-model-Global-energy_intensity.pkl'),\n PosixPath('/Users/koonleong/Documents/UM/UMMADS/Courses - Current/SIADS697-Capstone/power_emissions/models/validation-model-Cluster 2-trade_openness.pkl'),\n PosixPath('/Users/koonleong/Documents/UM/UMMADS/Courses - Current/SIADS697-Capstone/power_emissions/models/validation-model-Cluster 2-co2.pkl'),\n PosixPath('/Users/koonleong/Documents/UM/UMMADS/Courses - Current/SIADS697-Capstone/power_emissions/models/validation-model-Cluster 0-renewable_energy_consumption_share.pkl'),\n PosixPath('/Users/koonleong/Documents/UM/UMMADS/Courses - Current/SIADS697-Capstone/power_emissions/models/validation-model-Cluster 2-constant_gdp_per_capita.pkl'),\n PosixPath('/Users/koonleong/Documents/UM/UMMADS/Courses - Current/SIADS697-Capstone/power_emissions/models/validation-model-Cluster 0-energy_intensity.pkl'),\n PosixPath('/Users/koonleong/Documents/UM/UMMADS/Courses - Current/SIADS697-Capstone/power_emissions/models/validation-model-Cluster 1-trade_openness.pkl'),\n PosixPath('/Users/koonleong/Documents/UM/UMMADS/Courses - Current/SIADS697-Capstone/power_emissions/models/validation-model-Cluster 1-manufacturing_percent.pkl'),\n PosixPath('/Users/koonleong/Documents/UM/UMMADS/Courses - Current/SIADS697-Capstone/power_emissions/models/validation-model-Cluster 1-co2.pkl'),\n PosixPath('/Users/koonleong/Documents/UM/UMMADS/Courses - Current/SIADS697-Capstone/power_emissions/models/validation-model-Cluster 0-co2.pkl'),\n PosixPath('/Users/koonleong/Documents/UM/UMMADS/Courses - Current/SIADS697-Capstone/power_emissions/models/validation-model-Cluster 1-energy_intensity.pkl'),\n PosixPath('/Users/koonleong/Documents/UM/UMMADS/Courses - Current/SIADS697-Capstone/power_emissions/models/validation-model-Global-population.pkl'),\n PosixPath('/Users/koonleong/Documents/UM/UMMADS/Courses - Current/SIADS697-Capstone/power_emissions/models/validation-model-Cluster 0-constant_gdp_per_capita.pkl'),\n PosixPath('/Users/koonleong/Documents/UM/UMMADS/Courses - Current/SIADS697-Capstone/power_emissions/models/validation-model-Cluster 2-manufacturing_percent.pkl'),\n PosixPath('/Users/koonleong/Documents/UM/UMMADS/Courses - Current/SIADS697-Capstone/power_emissions/models/validation-model-Cluster 2-energy_intensity.pkl'),\n PosixPath('/Users/koonleong/Documents/UM/UMMADS/Courses - Current/SIADS697-Capstone/power_emissions/models/validation-model-Global-manufacturing_percent.pkl'),\n PosixPath('/Users/koonleong/Documents/UM/UMMADS/Courses - Current/SIADS697-Capstone/power_emissions/models/validation-model-Global-co2.pkl'),\n PosixPath('/Users/koonleong/Documents/UM/UMMADS/Courses - Current/SIADS697-Capstone/power_emissions/models/validation-model-Cluster 2-population.pkl'),\n PosixPath('/Users/koonleong/Documents/UM/UMMADS/Courses - Current/SIADS697-Capstone/power_emissions/models/validation-model-Cluster 0-population.pkl'),\n PosixPath('/Users/koonleong/Documents/UM/UMMADS/Courses - Current/SIADS697-Capstone/power_emissions/models/validation-model-Global-renewable_energy_consumption_share.pkl'),\n PosixPath('/Users/koonleong/Documents/UM/UMMADS/Courses - Current/SIADS697-Capstone/power_emissions/models/validation-model-Cluster 0-manufacturing_percent.pkl'),\n PosixPath('/Users/koonleong/Documents/UM/UMMADS/Courses - Current/SIADS697-Capstone/power_emissions/models/validation-model-Cluster 1-constant_gdp_per_capita.pkl'),\n PosixPath('/Users/koonleong/Documents/UM/UMMADS/Courses - Current/SIADS697-Capstone/power_emissions/models/validation-model-Global-constant_gdp_per_capita.pkl'),\n PosixPath('/Users/koonleong/Documents/UM/UMMADS/Courses - Current/SIADS697-Capstone/power_emissions/models/validation-model-Cluster 0-trade_openness.pkl'),\n PosixPath('/Users/koonleong/Documents/UM/UMMADS/Courses - Current/SIADS697-Capstone/power_emissions/models/validation-model-Cluster 1-renewable_energy_consumption_share.pkl'),\n PosixPath('/Users/koonleong/Documents/UM/UMMADS/Courses - Current/SIADS697-Capstone/power_emissions/models/validation-model-Global-trade_openness.pkl'),\n PosixPath('/Users/koonleong/Documents/UM/UMMADS/Courses - Current/SIADS697-Capstone/power_emissions/models/validation-model-Cluster 2-renewable_energy_consumption_share.pkl'),\n PosixPath('/Users/koonleong/Documents/UM/UMMADS/Courses - Current/SIADS697-Capstone/power_emissions/models/validation-model-Cluster 1-population.pkl')]"
     },
     "execution_count": 3,
     "metadata": {},
     "output_type": "execute_result"
    }
   ],
   "source": [
    "models"
   ],
   "metadata": {
    "collapsed": false,
    "pycharm": {
     "name": "#%%\n"
    }
   }
  },
  {
   "cell_type": "code",
   "execution_count": 4,
   "outputs": [],
   "source": [
    "root_dir = cwd.parent\n",
    "data_file= r'data/processed/params_forecast_validation.json'\n",
    "last_data_year_file = root_dir/data_file\n",
    "file_path = last_data_year_file.as_posix()"
   ],
   "metadata": {
    "collapsed": false,
    "pycharm": {
     "name": "#%%\n"
    }
   }
  },
  {
   "cell_type": "code",
   "execution_count": 5,
   "outputs": [
    {
     "name": "stdout",
     "output_type": "stream",
     "text": [
      "FORECAST LABELS:  [2017, 2018, 2019, 2020]\n"
     ]
    }
   ],
   "source": [
    "\n",
    "with open(file_path, 'r') as datapoint:\n",
    "    last_data_year = json.load(datapoint)\n",
    "\n",
    "year_labels = [n for n in range(last_data_year.get('last_period') + 1,\n",
    "                                last_data_year.get('last_period') + 1 +\n",
    "                                prediction_horizon, 1)]\n",
    "print('FORECAST LABELS: ', year_labels)"
   ],
   "metadata": {
    "collapsed": false,
    "pycharm": {
     "name": "#%%\n"
    }
   }
  },
  {
   "cell_type": "code",
   "execution_count": 6,
   "outputs": [
    {
     "name": "stdout",
     "output_type": "stream",
     "text": [
      "Global energy_intensity\n",
      "/Users/koonleong/Documents/UM/UMMADS/Courses - Current/SIADS697-Capstone/power_emissions/models/validation-model-Global-energy_intensity.pkl\n",
      "Forecast  [36.99111336 36.11764673 35.2441801  34.37071347]\n",
      "Cluster 2 trade_openness\n",
      "/Users/koonleong/Documents/UM/UMMADS/Courses - Current/SIADS697-Capstone/power_emissions/models/validation-model-Cluster 2-trade_openness.pkl\n",
      "Forecast  [7083.03617674 7187.62250901 7292.20884129 7396.79517356]\n",
      "Cluster 2 co2\n",
      "/Users/koonleong/Documents/UM/UMMADS/Courses - Current/SIADS697-Capstone/power_emissions/models/validation-model-Cluster 2-co2.pkl\n",
      "Forecast  [18168.40708943 18373.47917887 18578.5512683  18783.62335774]\n",
      "Cluster 0 renewable_energy_consumption_share\n",
      "/Users/koonleong/Documents/UM/UMMADS/Courses - Current/SIADS697-Capstone/power_emissions/models/validation-model-Cluster 0-renewable_energy_consumption_share.pkl\n",
      "Forecast  [4941.83103679 4941.83103679 4941.83103679 4941.83103679]\n",
      "Cluster 2 constant_gdp_per_capita\n",
      "/Users/koonleong/Documents/UM/UMMADS/Courses - Current/SIADS697-Capstone/power_emissions/models/validation-model-Cluster 2-constant_gdp_per_capita.pkl\n",
      "Forecast  [1731687.80863576 1748889.37770543 1766090.94677511 1783292.51584478]\n",
      "Cluster 0 energy_intensity\n",
      "/Users/koonleong/Documents/UM/UMMADS/Courses - Current/SIADS697-Capstone/power_emissions/models/validation-model-Cluster 0-energy_intensity.pkl\n",
      "Forecast  [20.09550959 19.59437744 19.09324529 18.59211314]\n",
      "Cluster 1 trade_openness\n",
      "/Users/koonleong/Documents/UM/UMMADS/Courses - Current/SIADS697-Capstone/power_emissions/models/validation-model-Cluster 1-trade_openness.pkl\n",
      "Forecast  [64.56353511 65.54299889 66.52246267 67.50192645]\n",
      "Cluster 1 manufacturing_percent\n",
      "/Users/koonleong/Documents/UM/UMMADS/Courses - Current/SIADS697-Capstone/power_emissions/models/validation-model-Cluster 1-manufacturing_percent.pkl\n",
      "Forecast  [40.0236101 40.0236101 40.0236101 40.0236101]\n",
      "Cluster 1 co2\n",
      "/Users/koonleong/Documents/UM/UMMADS/Courses - Current/SIADS697-Capstone/power_emissions/models/validation-model-Cluster 1-co2.pkl\n",
      "Forecast  [15131.79324794 15420.04051712 15658.66131116 15919.52731676]\n",
      "Cluster 0 co2\n",
      "/Users/koonleong/Documents/UM/UMMADS/Courses - Current/SIADS697-Capstone/power_emissions/models/validation-model-Cluster 0-co2.pkl\n",
      "Forecast  [1346.20308896 1356.12454067 1366.4881088  1383.62417328]\n",
      "Cluster 1 energy_intensity\n",
      "/Users/koonleong/Documents/UM/UMMADS/Courses - Current/SIADS697-Capstone/power_emissions/models/validation-model-Cluster 1-energy_intensity.pkl\n",
      "Forecast  [0.34755173 0.3261898  0.30482787 0.28346594]\n",
      "Global population\n",
      "/Users/koonleong/Documents/UM/UMMADS/Courses - Current/SIADS697-Capstone/power_emissions/models/validation-model-Global-population.pkl\n",
      "Forecast  [7.51139454e+09 7.59682821e+09 7.68226188e+09 7.76769555e+09]\n",
      "Cluster 0 constant_gdp_per_capita\n",
      "/Users/koonleong/Documents/UM/UMMADS/Courses - Current/SIADS697-Capstone/power_emissions/models/validation-model-Cluster 0-constant_gdp_per_capita.pkl\n",
      "Forecast  [1770330.7844584  1791897.16390501 1813463.54335163 1835029.92279825]\n",
      "Cluster 2 manufacturing_percent\n",
      "/Users/koonleong/Documents/UM/UMMADS/Courses - Current/SIADS697-Capstone/power_emissions/models/validation-model-Cluster 2-manufacturing_percent.pkl\n",
      "Forecast  [1052.53668849 1044.06576591 1035.59484333 1027.12392075]\n",
      "Cluster 2 energy_intensity\n",
      "/Users/koonleong/Documents/UM/UMMADS/Courses - Current/SIADS697-Capstone/power_emissions/models/validation-model-Cluster 2-energy_intensity.pkl\n",
      "Forecast  [16.63086698 16.34590262 16.05222885 15.75404179]\n",
      "Global manufacturing_percent\n",
      "/Users/koonleong/Documents/UM/UMMADS/Courses - Current/SIADS697-Capstone/power_emissions/models/validation-model-Global-manufacturing_percent.pkl\n",
      "Forecast  [2359.1311626  2343.32663604 2327.52210947 2311.71758291]\n",
      "Global co2\n",
      "/Users/koonleong/Documents/UM/UMMADS/Courses - Current/SIADS697-Capstone/power_emissions/models/validation-model-Global-co2.pkl\n",
      "Forecast  [34624.82884632 35112.07922677 35601.27386376 36092.41275728]\n",
      "Cluster 2 population\n",
      "/Users/koonleong/Documents/UM/UMMADS/Courses - Current/SIADS697-Capstone/power_emissions/models/validation-model-Cluster 2-population.pkl\n",
      "Forecast  [4.33710745e+09 4.38115227e+09 4.42509990e+09 4.46895378e+09]\n",
      "Cluster 0 population\n",
      "/Users/koonleong/Documents/UM/UMMADS/Courses - Current/SIADS697-Capstone/power_emissions/models/validation-model-Cluster 0-population.pkl\n",
      "Forecast  [1.46258001e+09 1.49388491e+09 1.52518981e+09 1.55649471e+09]\n",
      "Global renewable_energy_consumption_share\n",
      "/Users/koonleong/Documents/UM/UMMADS/Courses - Current/SIADS697-Capstone/power_emissions/models/validation-model-Global-renewable_energy_consumption_share.pkl\n",
      "Forecast  [6062.2690551 6062.2690551 6062.2690551 6062.2690551]\n",
      "Cluster 0 manufacturing_percent\n",
      "/Users/koonleong/Documents/UM/UMMADS/Courses - Current/SIADS697-Capstone/power_emissions/models/validation-model-Cluster 0-manufacturing_percent.pkl\n",
      "Forecast  [1266.85608656 1259.80770514 1252.75932371 1245.71094229]\n",
      "Cluster 1 constant_gdp_per_capita\n",
      "/Users/koonleong/Documents/UM/UMMADS/Courses - Current/SIADS697-Capstone/power_emissions/models/validation-model-Cluster 1-constant_gdp_per_capita.pkl\n",
      "Forecast  [67013.65754311 67895.96101857 68778.26449402 69660.56796948]\n",
      "Global constant_gdp_per_capita\n",
      "/Users/koonleong/Documents/UM/UMMADS/Courses - Current/SIADS697-Capstone/power_emissions/models/validation-model-Global-constant_gdp_per_capita.pkl\n",
      "Forecast  [3569032.25063727 3608682.50262901 3648332.75462076 3687983.0066125 ]\n",
      "Cluster 0 trade_openness\n",
      "/Users/koonleong/Documents/UM/UMMADS/Courses - Current/SIADS697-Capstone/power_emissions/models/validation-model-Cluster 0-trade_openness.pkl\n",
      "Forecast  [10525.9457783  10680.52565583 10835.10553337 10989.68541091]\n",
      "Cluster 1 renewable_energy_consumption_share\n",
      "/Users/koonleong/Documents/UM/UMMADS/Courses - Current/SIADS697-Capstone/power_emissions/models/validation-model-Cluster 1-renewable_energy_consumption_share.pkl\n",
      "Forecast  [17.09447459 17.58104984 17.96240203 18.26128589]\n",
      "Global trade_openness\n",
      "/Users/koonleong/Documents/UM/UMMADS/Courses - Current/SIADS697-Capstone/power_emissions/models/validation-model-Global-trade_openness.pkl\n",
      "Forecast  [17673.54549015 17933.69116374 18193.83683733 18453.98251092]\n",
      "Cluster 2 renewable_energy_consumption_share\n",
      "/Users/koonleong/Documents/UM/UMMADS/Courses - Current/SIADS697-Capstone/power_emissions/models/validation-model-Cluster 2-renewable_energy_consumption_share.pkl\n",
      "Forecast  [1104.22164152 1101.62883752 1097.93436968 1093.88793822]\n",
      "Cluster 1 population\n",
      "/Users/koonleong/Documents/UM/UMMADS/Courses - Current/SIADS697-Capstone/power_emissions/models/validation-model-Cluster 1-population.pkl\n",
      "Forecast  [1.71151452e+09 1.72129228e+09 1.73107004e+09 1.74084780e+09]\n"
     ]
    }
   ],
   "source": [
    "# regex = r\"-([^-]\\w*[^-])-([^-]\\w*[^\\.])\"\n",
    "regex = r\"validation-model-([a-zA-Z0-9|\\s]*)-([\\w\\d]*_{0,1}[\\w\\d]*)\"\n",
    "\n",
    "forecasts = []\n",
    "for model in models:\n",
    "    # print('Processing:', model)\n",
    "    fname = model.name\n",
    "    matches = re.search(regex, fname)\n",
    "\n",
    "    if matches:\n",
    "        region = matches.group(1)\n",
    "        feature = matches.group(2)\n",
    "\n",
    "        print(region, feature)\n",
    "        print(model.as_posix())\n",
    "\n",
    "        with open(model.as_posix(), 'rb') as pkl:\n",
    "            optimal = pickle.load(pkl)\n",
    "\n",
    "            f = optimal.predict(prediction_horizon)\n",
    "            print('Forecast ', f)\n",
    "            fc = zip(year_labels, f)\n",
    "            forecast_df = pd.DataFrame(fc)\n",
    "            forecast_df.columns = ['year', 'forecasts']\n",
    "            forecasts.append([region, feature, forecast_df.to_numpy()])\n"
   ],
   "metadata": {
    "collapsed": false,
    "pycharm": {
     "name": "#%%\n"
    }
   }
  },
  {
   "cell_type": "code",
   "execution_count": 7,
   "outputs": [
    {
     "name": "stdout",
     "output_type": "stream",
     "text": [
      "Done with Forecasts\n"
     ]
    }
   ],
   "source": [
    "fc_path = cwd.parent/r'data/processed/ts_forecast_validation.pkl'\n",
    "with open(fc_path, 'wb') as pkl:\n",
    "    pickle.dump(forecasts, pkl)\n",
    "\n",
    "print(\"Done with Forecasts\")"
   ],
   "metadata": {
    "collapsed": false,
    "pycharm": {
     "name": "#%%\n"
    }
   }
  },
  {
   "cell_type": "code",
   "execution_count": 8,
   "outputs": [
    {
     "name": "stdout",
     "output_type": "stream",
     "text": [
      "[['Global', 'energy_intensity', array([[2017.        ,   36.99111336],\n",
      "       [2018.        ,   36.11764673],\n",
      "       [2019.        ,   35.2441801 ],\n",
      "       [2020.        ,   34.37071347]])], ['Cluster 2', 'trade_openness', array([[2017.        , 7083.03617674],\n",
      "       [2018.        , 7187.62250901],\n",
      "       [2019.        , 7292.20884129],\n",
      "       [2020.        , 7396.79517356]])], ['Cluster 2', 'co2', array([[ 2017.        , 18168.40708943],\n",
      "       [ 2018.        , 18373.47917887],\n",
      "       [ 2019.        , 18578.5512683 ],\n",
      "       [ 2020.        , 18783.62335774]])], ['Cluster 0', 'renewable_energy_consumption_share', array([[2017.        , 4941.83103679],\n",
      "       [2018.        , 4941.83103679],\n",
      "       [2019.        , 4941.83103679],\n",
      "       [2020.        , 4941.83103679]])], ['Cluster 2', 'constant_gdp_per_capita', array([[   2017.        , 1731687.80863576],\n",
      "       [   2018.        , 1748889.37770543],\n",
      "       [   2019.        , 1766090.94677511],\n",
      "       [   2020.        , 1783292.51584478]])], ['Cluster 0', 'energy_intensity', array([[2017.        ,   20.09550959],\n",
      "       [2018.        ,   19.59437744],\n",
      "       [2019.        ,   19.09324529],\n",
      "       [2020.        ,   18.59211314]])], ['Cluster 1', 'trade_openness', array([[2017.        ,   64.56353511],\n",
      "       [2018.        ,   65.54299889],\n",
      "       [2019.        ,   66.52246267],\n",
      "       [2020.        ,   67.50192645]])], ['Cluster 1', 'manufacturing_percent', array([[2017.       ,   40.0236101],\n",
      "       [2018.       ,   40.0236101],\n",
      "       [2019.       ,   40.0236101],\n",
      "       [2020.       ,   40.0236101]])], ['Cluster 1', 'co2', array([[ 2017.        , 15131.79324794],\n",
      "       [ 2018.        , 15420.04051712],\n",
      "       [ 2019.        , 15658.66131116],\n",
      "       [ 2020.        , 15919.52731676]])], ['Cluster 0', 'co2', array([[2017.        , 1346.20308896],\n",
      "       [2018.        , 1356.12454067],\n",
      "       [2019.        , 1366.4881088 ],\n",
      "       [2020.        , 1383.62417328]])], ['Cluster 1', 'energy_intensity', array([[2.01700000e+03, 3.47551735e-01],\n",
      "       [2.01800000e+03, 3.26189802e-01],\n",
      "       [2.01900000e+03, 3.04827870e-01],\n",
      "       [2.02000000e+03, 2.83465938e-01]])], ['Global', 'population', array([[2.01700000e+03, 7.51139454e+09],\n",
      "       [2.01800000e+03, 7.59682821e+09],\n",
      "       [2.01900000e+03, 7.68226188e+09],\n",
      "       [2.02000000e+03, 7.76769555e+09]])], ['Cluster 0', 'constant_gdp_per_capita', array([[   2017.        , 1770330.7844584 ],\n",
      "       [   2018.        , 1791897.16390501],\n",
      "       [   2019.        , 1813463.54335163],\n",
      "       [   2020.        , 1835029.92279825]])], ['Cluster 2', 'manufacturing_percent', array([[2017.        , 1052.53668849],\n",
      "       [2018.        , 1044.06576591],\n",
      "       [2019.        , 1035.59484333],\n",
      "       [2020.        , 1027.12392075]])], ['Cluster 2', 'energy_intensity', array([[2017.        ,   16.63086698],\n",
      "       [2018.        ,   16.34590262],\n",
      "       [2019.        ,   16.05222885],\n",
      "       [2020.        ,   15.75404179]])], ['Global', 'manufacturing_percent', array([[2017.        , 2359.1311626 ],\n",
      "       [2018.        , 2343.32663604],\n",
      "       [2019.        , 2327.52210947],\n",
      "       [2020.        , 2311.71758291]])], ['Global', 'co2', array([[ 2017.        , 34624.82884632],\n",
      "       [ 2018.        , 35112.07922677],\n",
      "       [ 2019.        , 35601.27386376],\n",
      "       [ 2020.        , 36092.41275728]])], ['Cluster 2', 'population', array([[2.01700000e+03, 4.33710745e+09],\n",
      "       [2.01800000e+03, 4.38115227e+09],\n",
      "       [2.01900000e+03, 4.42509990e+09],\n",
      "       [2.02000000e+03, 4.46895378e+09]])], ['Cluster 0', 'population', array([[2.01700000e+03, 1.46258001e+09],\n",
      "       [2.01800000e+03, 1.49388491e+09],\n",
      "       [2.01900000e+03, 1.52518981e+09],\n",
      "       [2.02000000e+03, 1.55649471e+09]])], ['Global', 'renewable_energy_consumption_share', array([[2017.       , 6062.2690551],\n",
      "       [2018.       , 6062.2690551],\n",
      "       [2019.       , 6062.2690551],\n",
      "       [2020.       , 6062.2690551]])], ['Cluster 0', 'manufacturing_percent', array([[2017.        , 1266.85608656],\n",
      "       [2018.        , 1259.80770514],\n",
      "       [2019.        , 1252.75932371],\n",
      "       [2020.        , 1245.71094229]])], ['Cluster 1', 'constant_gdp_per_capita', array([[ 2017.        , 67013.65754311],\n",
      "       [ 2018.        , 67895.96101857],\n",
      "       [ 2019.        , 68778.26449402],\n",
      "       [ 2020.        , 69660.56796948]])], ['Global', 'constant_gdp_per_capita', array([[2.01700000e+03, 3.56903225e+06],\n",
      "       [2.01800000e+03, 3.60868250e+06],\n",
      "       [2.01900000e+03, 3.64833275e+06],\n",
      "       [2.02000000e+03, 3.68798301e+06]])], ['Cluster 0', 'trade_openness', array([[ 2017.        , 10525.9457783 ],\n",
      "       [ 2018.        , 10680.52565583],\n",
      "       [ 2019.        , 10835.10553337],\n",
      "       [ 2020.        , 10989.68541091]])], ['Cluster 1', 'renewable_energy_consumption_share', array([[2017.        ,   17.09447459],\n",
      "       [2018.        ,   17.58104984],\n",
      "       [2019.        ,   17.96240203],\n",
      "       [2020.        ,   18.26128589]])], ['Global', 'trade_openness', array([[ 2017.        , 17673.54549015],\n",
      "       [ 2018.        , 17933.69116374],\n",
      "       [ 2019.        , 18193.83683733],\n",
      "       [ 2020.        , 18453.98251092]])], ['Cluster 2', 'renewable_energy_consumption_share', array([[2017.        , 1104.22164152],\n",
      "       [2018.        , 1101.62883752],\n",
      "       [2019.        , 1097.93436968],\n",
      "       [2020.        , 1093.88793822]])], ['Cluster 1', 'population', array([[2.01700000e+03, 1.71151452e+09],\n",
      "       [2.01800000e+03, 1.72129228e+09],\n",
      "       [2.01900000e+03, 1.73107004e+09],\n",
      "       [2.02000000e+03, 1.74084780e+09]])]]\n"
     ]
    }
   ],
   "source": [
    "# Code to read the forecast\n",
    "from pathlib import Path\n",
    "cwd = Path.cwd()\n",
    "fc_path = cwd.parent/r'data/processed/ts_forecast_validation.pkl'\n",
    "with open(fc_path, 'rb') as fc_file:\n",
    "    read_fc = pickle.load(fc_file)\n",
    "print(read_fc)"
   ],
   "metadata": {
    "collapsed": false,
    "pycharm": {
     "name": "#%%\n"
    }
   }
  },
  {
   "cell_type": "code",
   "execution_count": 8,
   "outputs": [],
   "source": [],
   "metadata": {
    "collapsed": false,
    "pycharm": {
     "name": "#%%\n"
    }
   }
  }
 ],
 "metadata": {
  "kernelspec": {
   "display_name": "Python 3",
   "language": "python",
   "name": "python3"
  },
  "language_info": {
   "codemirror_mode": {
    "name": "ipython",
    "version": 3
   },
   "file_extension": ".py",
   "mimetype": "text/x-python",
   "name": "python",
   "nbconvert_exporter": "python",
   "pygments_lexer": "ipython3",
   "version": "3.9.9"
  }
 },
 "nbformat": 4,
 "nbformat_minor": 0
}