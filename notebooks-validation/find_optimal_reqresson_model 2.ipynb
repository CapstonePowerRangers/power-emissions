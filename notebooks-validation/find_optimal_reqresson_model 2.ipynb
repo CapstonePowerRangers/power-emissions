{
 "cells": [
  {
   "cell_type": "markdown",
   "metadata": {},
   "source": [
    "# PyCaret 2 Regression Example\n",
    "This notebook is created using PyCaret 2.0. Last updated : 31-07-2020"
   ]
  },
  {
   "cell_type": "code",
   "execution_count": 1,
   "metadata": {},
   "outputs": [
    {
     "data": {
      "text/plain": "'2.3.5'"
     },
     "execution_count": 1,
     "metadata": {},
     "output_type": "execute_result"
    }
   ],
   "source": [
    "# check version\n",
    "from pycaret.utils import version\n",
    "version()"
   ]
  },
  {
   "cell_type": "markdown",
   "metadata": {},
   "source": [
    "# 1. Loading Dataset"
   ]
  },
  {
   "cell_type": "code",
   "execution_count": 2,
   "metadata": {},
   "outputs": [],
   "source": [
    "from library.common import Core\n",
    "core = Core()\n",
    "\n",
    "data = core.get_cluster_regression_datas(cluster = 'Global', first = 1970, last = 2019)\n"
   ]
  },
  {
   "cell_type": "markdown",
   "metadata": {},
   "source": [
    "# 2. Initialize Setup"
   ]
  },
  {
   "cell_type": "code",
   "execution_count": 3,
   "metadata": {},
   "outputs": [
    {
     "data": {
      "text/plain": "<pandas.io.formats.style.Styler at 0x1421079d0>",
      "text/html": "<style type=\"text/css\">\n#T_1fda5_row17_col1, #T_1fda5_row27_col1, #T_1fda5_row42_col1 {\n  background-color: lightgreen;\n}\n</style>\n<table id=\"T_1fda5_\">\n  <thead>\n    <tr>\n      <th class=\"blank level0\" >&nbsp;</th>\n      <th class=\"col_heading level0 col0\" >Description</th>\n      <th class=\"col_heading level0 col1\" >Value</th>\n    </tr>\n  </thead>\n  <tbody>\n    <tr>\n      <th id=\"T_1fda5_level0_row0\" class=\"row_heading level0 row0\" >0</th>\n      <td id=\"T_1fda5_row0_col0\" class=\"data row0 col0\" >session_id</td>\n      <td id=\"T_1fda5_row0_col1\" class=\"data row0 col1\" >123</td>\n    </tr>\n    <tr>\n      <th id=\"T_1fda5_level0_row1\" class=\"row_heading level0 row1\" >1</th>\n      <td id=\"T_1fda5_row1_col0\" class=\"data row1 col0\" >Target</td>\n      <td id=\"T_1fda5_row1_col1\" class=\"data row1 col1\" >co2</td>\n    </tr>\n    <tr>\n      <th id=\"T_1fda5_level0_row2\" class=\"row_heading level0 row2\" >2</th>\n      <td id=\"T_1fda5_row2_col0\" class=\"data row2 col0\" >Original Data</td>\n      <td id=\"T_1fda5_row2_col1\" class=\"data row2 col1\" >(50, 7)</td>\n    </tr>\n    <tr>\n      <th id=\"T_1fda5_level0_row3\" class=\"row_heading level0 row3\" >3</th>\n      <td id=\"T_1fda5_row3_col0\" class=\"data row3 col0\" >Missing Values</td>\n      <td id=\"T_1fda5_row3_col1\" class=\"data row3 col1\" >False</td>\n    </tr>\n    <tr>\n      <th id=\"T_1fda5_level0_row4\" class=\"row_heading level0 row4\" >4</th>\n      <td id=\"T_1fda5_row4_col0\" class=\"data row4 col0\" >Numeric Features</td>\n      <td id=\"T_1fda5_row4_col1\" class=\"data row4 col1\" >6</td>\n    </tr>\n    <tr>\n      <th id=\"T_1fda5_level0_row5\" class=\"row_heading level0 row5\" >5</th>\n      <td id=\"T_1fda5_row5_col0\" class=\"data row5 col0\" >Categorical Features</td>\n      <td id=\"T_1fda5_row5_col1\" class=\"data row5 col1\" >0</td>\n    </tr>\n    <tr>\n      <th id=\"T_1fda5_level0_row6\" class=\"row_heading level0 row6\" >6</th>\n      <td id=\"T_1fda5_row6_col0\" class=\"data row6 col0\" >Ordinal Features</td>\n      <td id=\"T_1fda5_row6_col1\" class=\"data row6 col1\" >False</td>\n    </tr>\n    <tr>\n      <th id=\"T_1fda5_level0_row7\" class=\"row_heading level0 row7\" >7</th>\n      <td id=\"T_1fda5_row7_col0\" class=\"data row7 col0\" >High Cardinality Features</td>\n      <td id=\"T_1fda5_row7_col1\" class=\"data row7 col1\" >False</td>\n    </tr>\n    <tr>\n      <th id=\"T_1fda5_level0_row8\" class=\"row_heading level0 row8\" >8</th>\n      <td id=\"T_1fda5_row8_col0\" class=\"data row8 col0\" >High Cardinality Method</td>\n      <td id=\"T_1fda5_row8_col1\" class=\"data row8 col1\" >None</td>\n    </tr>\n    <tr>\n      <th id=\"T_1fda5_level0_row9\" class=\"row_heading level0 row9\" >9</th>\n      <td id=\"T_1fda5_row9_col0\" class=\"data row9 col0\" >Transformed Train Set</td>\n      <td id=\"T_1fda5_row9_col1\" class=\"data row9 col1\" >(34, 6)</td>\n    </tr>\n    <tr>\n      <th id=\"T_1fda5_level0_row10\" class=\"row_heading level0 row10\" >10</th>\n      <td id=\"T_1fda5_row10_col0\" class=\"data row10 col0\" >Transformed Test Set</td>\n      <td id=\"T_1fda5_row10_col1\" class=\"data row10 col1\" >(16, 6)</td>\n    </tr>\n    <tr>\n      <th id=\"T_1fda5_level0_row11\" class=\"row_heading level0 row11\" >11</th>\n      <td id=\"T_1fda5_row11_col0\" class=\"data row11 col0\" >Shuffle Train-Test</td>\n      <td id=\"T_1fda5_row11_col1\" class=\"data row11 col1\" >True</td>\n    </tr>\n    <tr>\n      <th id=\"T_1fda5_level0_row12\" class=\"row_heading level0 row12\" >12</th>\n      <td id=\"T_1fda5_row12_col0\" class=\"data row12 col0\" >Stratify Train-Test</td>\n      <td id=\"T_1fda5_row12_col1\" class=\"data row12 col1\" >False</td>\n    </tr>\n    <tr>\n      <th id=\"T_1fda5_level0_row13\" class=\"row_heading level0 row13\" >13</th>\n      <td id=\"T_1fda5_row13_col0\" class=\"data row13 col0\" >Fold Generator</td>\n      <td id=\"T_1fda5_row13_col1\" class=\"data row13 col1\" >KFold</td>\n    </tr>\n    <tr>\n      <th id=\"T_1fda5_level0_row14\" class=\"row_heading level0 row14\" >14</th>\n      <td id=\"T_1fda5_row14_col0\" class=\"data row14 col0\" >Fold Number</td>\n      <td id=\"T_1fda5_row14_col1\" class=\"data row14 col1\" >10</td>\n    </tr>\n    <tr>\n      <th id=\"T_1fda5_level0_row15\" class=\"row_heading level0 row15\" >15</th>\n      <td id=\"T_1fda5_row15_col0\" class=\"data row15 col0\" >CPU Jobs</td>\n      <td id=\"T_1fda5_row15_col1\" class=\"data row15 col1\" >-1</td>\n    </tr>\n    <tr>\n      <th id=\"T_1fda5_level0_row16\" class=\"row_heading level0 row16\" >16</th>\n      <td id=\"T_1fda5_row16_col0\" class=\"data row16 col0\" >Use GPU</td>\n      <td id=\"T_1fda5_row16_col1\" class=\"data row16 col1\" >False</td>\n    </tr>\n    <tr>\n      <th id=\"T_1fda5_level0_row17\" class=\"row_heading level0 row17\" >17</th>\n      <td id=\"T_1fda5_row17_col0\" class=\"data row17 col0\" >Log Experiment</td>\n      <td id=\"T_1fda5_row17_col1\" class=\"data row17 col1\" >True</td>\n    </tr>\n    <tr>\n      <th id=\"T_1fda5_level0_row18\" class=\"row_heading level0 row18\" >18</th>\n      <td id=\"T_1fda5_row18_col0\" class=\"data row18 col0\" >Experiment Name</td>\n      <td id=\"T_1fda5_row18_col1\" class=\"data row18 col1\" >carbon emission</td>\n    </tr>\n    <tr>\n      <th id=\"T_1fda5_level0_row19\" class=\"row_heading level0 row19\" >19</th>\n      <td id=\"T_1fda5_row19_col0\" class=\"data row19 col0\" >USI</td>\n      <td id=\"T_1fda5_row19_col1\" class=\"data row19 col1\" >6d48</td>\n    </tr>\n    <tr>\n      <th id=\"T_1fda5_level0_row20\" class=\"row_heading level0 row20\" >20</th>\n      <td id=\"T_1fda5_row20_col0\" class=\"data row20 col0\" >Imputation Type</td>\n      <td id=\"T_1fda5_row20_col1\" class=\"data row20 col1\" >simple</td>\n    </tr>\n    <tr>\n      <th id=\"T_1fda5_level0_row21\" class=\"row_heading level0 row21\" >21</th>\n      <td id=\"T_1fda5_row21_col0\" class=\"data row21 col0\" >Iterative Imputation Iteration</td>\n      <td id=\"T_1fda5_row21_col1\" class=\"data row21 col1\" >None</td>\n    </tr>\n    <tr>\n      <th id=\"T_1fda5_level0_row22\" class=\"row_heading level0 row22\" >22</th>\n      <td id=\"T_1fda5_row22_col0\" class=\"data row22 col0\" >Numeric Imputer</td>\n      <td id=\"T_1fda5_row22_col1\" class=\"data row22 col1\" >mean</td>\n    </tr>\n    <tr>\n      <th id=\"T_1fda5_level0_row23\" class=\"row_heading level0 row23\" >23</th>\n      <td id=\"T_1fda5_row23_col0\" class=\"data row23 col0\" >Iterative Imputation Numeric Model</td>\n      <td id=\"T_1fda5_row23_col1\" class=\"data row23 col1\" >None</td>\n    </tr>\n    <tr>\n      <th id=\"T_1fda5_level0_row24\" class=\"row_heading level0 row24\" >24</th>\n      <td id=\"T_1fda5_row24_col0\" class=\"data row24 col0\" >Categorical Imputer</td>\n      <td id=\"T_1fda5_row24_col1\" class=\"data row24 col1\" >constant</td>\n    </tr>\n    <tr>\n      <th id=\"T_1fda5_level0_row25\" class=\"row_heading level0 row25\" >25</th>\n      <td id=\"T_1fda5_row25_col0\" class=\"data row25 col0\" >Iterative Imputation Categorical Model</td>\n      <td id=\"T_1fda5_row25_col1\" class=\"data row25 col1\" >None</td>\n    </tr>\n    <tr>\n      <th id=\"T_1fda5_level0_row26\" class=\"row_heading level0 row26\" >26</th>\n      <td id=\"T_1fda5_row26_col0\" class=\"data row26 col0\" >Unknown Categoricals Handling</td>\n      <td id=\"T_1fda5_row26_col1\" class=\"data row26 col1\" >least_frequent</td>\n    </tr>\n    <tr>\n      <th id=\"T_1fda5_level0_row27\" class=\"row_heading level0 row27\" >27</th>\n      <td id=\"T_1fda5_row27_col0\" class=\"data row27 col0\" >Normalize</td>\n      <td id=\"T_1fda5_row27_col1\" class=\"data row27 col1\" >True</td>\n    </tr>\n    <tr>\n      <th id=\"T_1fda5_level0_row28\" class=\"row_heading level0 row28\" >28</th>\n      <td id=\"T_1fda5_row28_col0\" class=\"data row28 col0\" >Normalize Method</td>\n      <td id=\"T_1fda5_row28_col1\" class=\"data row28 col1\" >minmax</td>\n    </tr>\n    <tr>\n      <th id=\"T_1fda5_level0_row29\" class=\"row_heading level0 row29\" >29</th>\n      <td id=\"T_1fda5_row29_col0\" class=\"data row29 col0\" >Transformation</td>\n      <td id=\"T_1fda5_row29_col1\" class=\"data row29 col1\" >False</td>\n    </tr>\n    <tr>\n      <th id=\"T_1fda5_level0_row30\" class=\"row_heading level0 row30\" >30</th>\n      <td id=\"T_1fda5_row30_col0\" class=\"data row30 col0\" >Transformation Method</td>\n      <td id=\"T_1fda5_row30_col1\" class=\"data row30 col1\" >None</td>\n    </tr>\n    <tr>\n      <th id=\"T_1fda5_level0_row31\" class=\"row_heading level0 row31\" >31</th>\n      <td id=\"T_1fda5_row31_col0\" class=\"data row31 col0\" >PCA</td>\n      <td id=\"T_1fda5_row31_col1\" class=\"data row31 col1\" >False</td>\n    </tr>\n    <tr>\n      <th id=\"T_1fda5_level0_row32\" class=\"row_heading level0 row32\" >32</th>\n      <td id=\"T_1fda5_row32_col0\" class=\"data row32 col0\" >PCA Method</td>\n      <td id=\"T_1fda5_row32_col1\" class=\"data row32 col1\" >None</td>\n    </tr>\n    <tr>\n      <th id=\"T_1fda5_level0_row33\" class=\"row_heading level0 row33\" >33</th>\n      <td id=\"T_1fda5_row33_col0\" class=\"data row33 col0\" >PCA Components</td>\n      <td id=\"T_1fda5_row33_col1\" class=\"data row33 col1\" >None</td>\n    </tr>\n    <tr>\n      <th id=\"T_1fda5_level0_row34\" class=\"row_heading level0 row34\" >34</th>\n      <td id=\"T_1fda5_row34_col0\" class=\"data row34 col0\" >Ignore Low Variance</td>\n      <td id=\"T_1fda5_row34_col1\" class=\"data row34 col1\" >False</td>\n    </tr>\n    <tr>\n      <th id=\"T_1fda5_level0_row35\" class=\"row_heading level0 row35\" >35</th>\n      <td id=\"T_1fda5_row35_col0\" class=\"data row35 col0\" >Combine Rare Levels</td>\n      <td id=\"T_1fda5_row35_col1\" class=\"data row35 col1\" >False</td>\n    </tr>\n    <tr>\n      <th id=\"T_1fda5_level0_row36\" class=\"row_heading level0 row36\" >36</th>\n      <td id=\"T_1fda5_row36_col0\" class=\"data row36 col0\" >Rare Level Threshold</td>\n      <td id=\"T_1fda5_row36_col1\" class=\"data row36 col1\" >None</td>\n    </tr>\n    <tr>\n      <th id=\"T_1fda5_level0_row37\" class=\"row_heading level0 row37\" >37</th>\n      <td id=\"T_1fda5_row37_col0\" class=\"data row37 col0\" >Numeric Binning</td>\n      <td id=\"T_1fda5_row37_col1\" class=\"data row37 col1\" >False</td>\n    </tr>\n    <tr>\n      <th id=\"T_1fda5_level0_row38\" class=\"row_heading level0 row38\" >38</th>\n      <td id=\"T_1fda5_row38_col0\" class=\"data row38 col0\" >Remove Outliers</td>\n      <td id=\"T_1fda5_row38_col1\" class=\"data row38 col1\" >False</td>\n    </tr>\n    <tr>\n      <th id=\"T_1fda5_level0_row39\" class=\"row_heading level0 row39\" >39</th>\n      <td id=\"T_1fda5_row39_col0\" class=\"data row39 col0\" >Outliers Threshold</td>\n      <td id=\"T_1fda5_row39_col1\" class=\"data row39 col1\" >None</td>\n    </tr>\n    <tr>\n      <th id=\"T_1fda5_level0_row40\" class=\"row_heading level0 row40\" >40</th>\n      <td id=\"T_1fda5_row40_col0\" class=\"data row40 col0\" >Remove Multicollinearity</td>\n      <td id=\"T_1fda5_row40_col1\" class=\"data row40 col1\" >False</td>\n    </tr>\n    <tr>\n      <th id=\"T_1fda5_level0_row41\" class=\"row_heading level0 row41\" >41</th>\n      <td id=\"T_1fda5_row41_col0\" class=\"data row41 col0\" >Multicollinearity Threshold</td>\n      <td id=\"T_1fda5_row41_col1\" class=\"data row41 col1\" >None</td>\n    </tr>\n    <tr>\n      <th id=\"T_1fda5_level0_row42\" class=\"row_heading level0 row42\" >42</th>\n      <td id=\"T_1fda5_row42_col0\" class=\"data row42 col0\" >Remove Perfect Collinearity</td>\n      <td id=\"T_1fda5_row42_col1\" class=\"data row42 col1\" >True</td>\n    </tr>\n    <tr>\n      <th id=\"T_1fda5_level0_row43\" class=\"row_heading level0 row43\" >43</th>\n      <td id=\"T_1fda5_row43_col0\" class=\"data row43 col0\" >Clustering</td>\n      <td id=\"T_1fda5_row43_col1\" class=\"data row43 col1\" >False</td>\n    </tr>\n    <tr>\n      <th id=\"T_1fda5_level0_row44\" class=\"row_heading level0 row44\" >44</th>\n      <td id=\"T_1fda5_row44_col0\" class=\"data row44 col0\" >Clustering Iteration</td>\n      <td id=\"T_1fda5_row44_col1\" class=\"data row44 col1\" >None</td>\n    </tr>\n    <tr>\n      <th id=\"T_1fda5_level0_row45\" class=\"row_heading level0 row45\" >45</th>\n      <td id=\"T_1fda5_row45_col0\" class=\"data row45 col0\" >Polynomial Features</td>\n      <td id=\"T_1fda5_row45_col1\" class=\"data row45 col1\" >False</td>\n    </tr>\n    <tr>\n      <th id=\"T_1fda5_level0_row46\" class=\"row_heading level0 row46\" >46</th>\n      <td id=\"T_1fda5_row46_col0\" class=\"data row46 col0\" >Polynomial Degree</td>\n      <td id=\"T_1fda5_row46_col1\" class=\"data row46 col1\" >None</td>\n    </tr>\n    <tr>\n      <th id=\"T_1fda5_level0_row47\" class=\"row_heading level0 row47\" >47</th>\n      <td id=\"T_1fda5_row47_col0\" class=\"data row47 col0\" >Trignometry Features</td>\n      <td id=\"T_1fda5_row47_col1\" class=\"data row47 col1\" >False</td>\n    </tr>\n    <tr>\n      <th id=\"T_1fda5_level0_row48\" class=\"row_heading level0 row48\" >48</th>\n      <td id=\"T_1fda5_row48_col0\" class=\"data row48 col0\" >Polynomial Threshold</td>\n      <td id=\"T_1fda5_row48_col1\" class=\"data row48 col1\" >None</td>\n    </tr>\n    <tr>\n      <th id=\"T_1fda5_level0_row49\" class=\"row_heading level0 row49\" >49</th>\n      <td id=\"T_1fda5_row49_col0\" class=\"data row49 col0\" >Group Features</td>\n      <td id=\"T_1fda5_row49_col1\" class=\"data row49 col1\" >False</td>\n    </tr>\n    <tr>\n      <th id=\"T_1fda5_level0_row50\" class=\"row_heading level0 row50\" >50</th>\n      <td id=\"T_1fda5_row50_col0\" class=\"data row50 col0\" >Feature Selection</td>\n      <td id=\"T_1fda5_row50_col1\" class=\"data row50 col1\" >False</td>\n    </tr>\n    <tr>\n      <th id=\"T_1fda5_level0_row51\" class=\"row_heading level0 row51\" >51</th>\n      <td id=\"T_1fda5_row51_col0\" class=\"data row51 col0\" >Feature Selection Method</td>\n      <td id=\"T_1fda5_row51_col1\" class=\"data row51 col1\" >classic</td>\n    </tr>\n    <tr>\n      <th id=\"T_1fda5_level0_row52\" class=\"row_heading level0 row52\" >52</th>\n      <td id=\"T_1fda5_row52_col0\" class=\"data row52 col0\" >Features Selection Threshold</td>\n      <td id=\"T_1fda5_row52_col1\" class=\"data row52 col1\" >None</td>\n    </tr>\n    <tr>\n      <th id=\"T_1fda5_level0_row53\" class=\"row_heading level0 row53\" >53</th>\n      <td id=\"T_1fda5_row53_col0\" class=\"data row53 col0\" >Feature Interaction</td>\n      <td id=\"T_1fda5_row53_col1\" class=\"data row53 col1\" >False</td>\n    </tr>\n    <tr>\n      <th id=\"T_1fda5_level0_row54\" class=\"row_heading level0 row54\" >54</th>\n      <td id=\"T_1fda5_row54_col0\" class=\"data row54 col0\" >Feature Ratio</td>\n      <td id=\"T_1fda5_row54_col1\" class=\"data row54 col1\" >False</td>\n    </tr>\n    <tr>\n      <th id=\"T_1fda5_level0_row55\" class=\"row_heading level0 row55\" >55</th>\n      <td id=\"T_1fda5_row55_col0\" class=\"data row55 col0\" >Interaction Threshold</td>\n      <td id=\"T_1fda5_row55_col1\" class=\"data row55 col1\" >None</td>\n    </tr>\n    <tr>\n      <th id=\"T_1fda5_level0_row56\" class=\"row_heading level0 row56\" >56</th>\n      <td id=\"T_1fda5_row56_col0\" class=\"data row56 col0\" >Transform Target</td>\n      <td id=\"T_1fda5_row56_col1\" class=\"data row56 col1\" >False</td>\n    </tr>\n    <tr>\n      <th id=\"T_1fda5_level0_row57\" class=\"row_heading level0 row57\" >57</th>\n      <td id=\"T_1fda5_row57_col0\" class=\"data row57 col0\" >Transform Target Method</td>\n      <td id=\"T_1fda5_row57_col1\" class=\"data row57 col1\" >box-cox</td>\n    </tr>\n  </tbody>\n</table>\n"
     },
     "metadata": {},
     "output_type": "display_data"
    }
   ],
   "source": [
    "from pycaret.regression import *\n",
    "reg1 = setup(data, target = 'co2', session_id=123, log_experiment=True,\n",
    "             normalize = True, normalize_method = 'minmax',\n",
    "             remove_outliers = False, outliers_threshold = 0.05,\n",
    "             experiment_name='carbon emission')"
   ]
  },
  {
   "cell_type": "markdown",
   "metadata": {},
   "source": [
    "# 3. Compare Baseline"
   ]
  },
  {
   "cell_type": "code",
   "execution_count": 4,
   "metadata": {},
   "outputs": [
    {
     "data": {
      "text/plain": "<pandas.io.formats.style.Styler at 0x10ce372e0>",
      "text/html": "<style type=\"text/css\">\n#T_55c64_ th {\n  text-align: left;\n}\n#T_55c64_row0_col0, #T_55c64_row1_col0, #T_55c64_row1_col1, #T_55c64_row1_col2, #T_55c64_row1_col3, #T_55c64_row1_col4, #T_55c64_row1_col5, #T_55c64_row1_col6, #T_55c64_row2_col0, #T_55c64_row2_col1, #T_55c64_row2_col2, #T_55c64_row2_col3, #T_55c64_row2_col4, #T_55c64_row2_col5, #T_55c64_row2_col6, #T_55c64_row3_col0, #T_55c64_row3_col1, #T_55c64_row3_col2, #T_55c64_row3_col3, #T_55c64_row3_col4, #T_55c64_row3_col5, #T_55c64_row3_col6, #T_55c64_row4_col0, #T_55c64_row4_col1, #T_55c64_row4_col2, #T_55c64_row4_col3, #T_55c64_row4_col4, #T_55c64_row4_col5, #T_55c64_row4_col6, #T_55c64_row5_col0, #T_55c64_row5_col1, #T_55c64_row5_col2, #T_55c64_row5_col3, #T_55c64_row5_col4, #T_55c64_row5_col5, #T_55c64_row5_col6, #T_55c64_row6_col0, #T_55c64_row6_col1, #T_55c64_row6_col2, #T_55c64_row6_col3, #T_55c64_row6_col4, #T_55c64_row6_col5, #T_55c64_row6_col6, #T_55c64_row7_col0, #T_55c64_row7_col1, #T_55c64_row7_col2, #T_55c64_row7_col3, #T_55c64_row7_col4, #T_55c64_row7_col5, #T_55c64_row7_col6, #T_55c64_row8_col0, #T_55c64_row8_col1, #T_55c64_row8_col2, #T_55c64_row8_col3, #T_55c64_row8_col4, #T_55c64_row8_col5, #T_55c64_row8_col6, #T_55c64_row9_col0, #T_55c64_row9_col1, #T_55c64_row9_col2, #T_55c64_row9_col3, #T_55c64_row9_col4, #T_55c64_row9_col5, #T_55c64_row9_col6, #T_55c64_row10_col0, #T_55c64_row10_col1, #T_55c64_row10_col2, #T_55c64_row10_col3, #T_55c64_row10_col4, #T_55c64_row10_col5, #T_55c64_row10_col6, #T_55c64_row11_col0, #T_55c64_row11_col1, #T_55c64_row11_col2, #T_55c64_row11_col3, #T_55c64_row11_col4, #T_55c64_row11_col5, #T_55c64_row11_col6, #T_55c64_row12_col0, #T_55c64_row12_col1, #T_55c64_row12_col2, #T_55c64_row12_col3, #T_55c64_row12_col4, #T_55c64_row12_col5, #T_55c64_row12_col6, #T_55c64_row13_col0, #T_55c64_row13_col1, #T_55c64_row13_col2, #T_55c64_row13_col3, #T_55c64_row13_col4, #T_55c64_row13_col5, #T_55c64_row13_col6, #T_55c64_row14_col0, #T_55c64_row14_col1, #T_55c64_row14_col2, #T_55c64_row14_col3, #T_55c64_row14_col4, #T_55c64_row14_col5, #T_55c64_row14_col6, #T_55c64_row15_col0, #T_55c64_row15_col1, #T_55c64_row15_col2, #T_55c64_row15_col3, #T_55c64_row15_col4, #T_55c64_row15_col5, #T_55c64_row15_col6, #T_55c64_row16_col0, #T_55c64_row16_col1, #T_55c64_row16_col2, #T_55c64_row16_col3, #T_55c64_row16_col4, #T_55c64_row16_col5, #T_55c64_row16_col6, #T_55c64_row17_col0, #T_55c64_row17_col1, #T_55c64_row17_col2, #T_55c64_row17_col3, #T_55c64_row17_col4, #T_55c64_row17_col5, #T_55c64_row17_col6 {\n  text-align: left;\n}\n#T_55c64_row0_col1, #T_55c64_row0_col2, #T_55c64_row0_col3, #T_55c64_row0_col4, #T_55c64_row0_col5, #T_55c64_row0_col6 {\n  text-align: left;\n  background-color: yellow;\n}\n#T_55c64_row0_col7, #T_55c64_row1_col7, #T_55c64_row2_col7, #T_55c64_row3_col7, #T_55c64_row4_col7, #T_55c64_row5_col7, #T_55c64_row6_col7, #T_55c64_row7_col7, #T_55c64_row8_col7, #T_55c64_row9_col7, #T_55c64_row10_col7, #T_55c64_row11_col7, #T_55c64_row12_col7, #T_55c64_row13_col7, #T_55c64_row14_col7, #T_55c64_row15_col7, #T_55c64_row16_col7 {\n  text-align: left;\n  background-color: lightgrey;\n}\n#T_55c64_row17_col7 {\n  text-align: left;\n  background-color: yellow;\n  background-color: lightgrey;\n}\n</style>\n<table id=\"T_55c64_\">\n  <thead>\n    <tr>\n      <th class=\"blank level0\" >&nbsp;</th>\n      <th class=\"col_heading level0 col0\" >Model</th>\n      <th class=\"col_heading level0 col1\" >MAE</th>\n      <th class=\"col_heading level0 col2\" >MSE</th>\n      <th class=\"col_heading level0 col3\" >RMSE</th>\n      <th class=\"col_heading level0 col4\" >R2</th>\n      <th class=\"col_heading level0 col5\" >RMSLE</th>\n      <th class=\"col_heading level0 col6\" >MAPE</th>\n      <th class=\"col_heading level0 col7\" >TT (Sec)</th>\n    </tr>\n  </thead>\n  <tbody>\n    <tr>\n      <th id=\"T_55c64_level0_row0\" class=\"row_heading level0 row0\" >et</th>\n      <td id=\"T_55c64_row0_col0\" class=\"data row0 col0\" >Extra Trees Regressor</td>\n      <td id=\"T_55c64_row0_col1\" class=\"data row0 col1\" >355.2449</td>\n      <td id=\"T_55c64_row0_col2\" class=\"data row0 col2\" >230160.0139</td>\n      <td id=\"T_55c64_row0_col3\" class=\"data row0 col3\" >457.4672</td>\n      <td id=\"T_55c64_row0_col4\" class=\"data row0 col4\" >0.9922</td>\n      <td id=\"T_55c64_row0_col5\" class=\"data row0 col5\" >0.0204</td>\n      <td id=\"T_55c64_row0_col6\" class=\"data row0 col6\" >0.0153</td>\n      <td id=\"T_55c64_row0_col7\" class=\"data row0 col7\" >0.2860</td>\n    </tr>\n    <tr>\n      <th id=\"T_55c64_level0_row1\" class=\"row_heading level0 row1\" >rf</th>\n      <td id=\"T_55c64_row1_col0\" class=\"data row1 col0\" >Random Forest Regressor</td>\n      <td id=\"T_55c64_row1_col1\" class=\"data row1 col1\" >434.7358</td>\n      <td id=\"T_55c64_row1_col2\" class=\"data row1 col2\" >301723.0588</td>\n      <td id=\"T_55c64_row1_col3\" class=\"data row1 col3\" >531.9396</td>\n      <td id=\"T_55c64_row1_col4\" class=\"data row1 col4\" >0.9908</td>\n      <td id=\"T_55c64_row1_col5\" class=\"data row1 col5\" >0.0242</td>\n      <td id=\"T_55c64_row1_col6\" class=\"data row1 col6\" >0.0189</td>\n      <td id=\"T_55c64_row1_col7\" class=\"data row1 col7\" >0.3960</td>\n    </tr>\n    <tr>\n      <th id=\"T_55c64_level0_row2\" class=\"row_heading level0 row2\" >gbr</th>\n      <td id=\"T_55c64_row2_col0\" class=\"data row2 col0\" >Gradient Boosting Regressor</td>\n      <td id=\"T_55c64_row2_col1\" class=\"data row2 col1\" >484.5277</td>\n      <td id=\"T_55c64_row2_col2\" class=\"data row2 col2\" >350966.5171</td>\n      <td id=\"T_55c64_row2_col3\" class=\"data row2 col3\" >576.1328</td>\n      <td id=\"T_55c64_row2_col4\" class=\"data row2 col4\" >0.9886</td>\n      <td id=\"T_55c64_row2_col5\" class=\"data row2 col5\" >0.0259</td>\n      <td id=\"T_55c64_row2_col6\" class=\"data row2 col6\" >0.0208</td>\n      <td id=\"T_55c64_row2_col7\" class=\"data row2 col7\" >0.0500</td>\n    </tr>\n    <tr>\n      <th id=\"T_55c64_level0_row3\" class=\"row_heading level0 row3\" >ada</th>\n      <td id=\"T_55c64_row3_col0\" class=\"data row3 col0\" >AdaBoost Regressor</td>\n      <td id=\"T_55c64_row3_col1\" class=\"data row3 col1\" >515.3011</td>\n      <td id=\"T_55c64_row3_col2\" class=\"data row3 col2\" >436274.1811</td>\n      <td id=\"T_55c64_row3_col3\" class=\"data row3 col3\" >629.7158</td>\n      <td id=\"T_55c64_row3_col4\" class=\"data row3 col4\" >0.9859</td>\n      <td id=\"T_55c64_row3_col5\" class=\"data row3 col5\" >0.0298</td>\n      <td id=\"T_55c64_row3_col6\" class=\"data row3 col6\" >0.0231</td>\n      <td id=\"T_55c64_row3_col7\" class=\"data row3 col7\" >0.1220</td>\n    </tr>\n    <tr>\n      <th id=\"T_55c64_level0_row4\" class=\"row_heading level0 row4\" >dt</th>\n      <td id=\"T_55c64_row4_col0\" class=\"data row4 col0\" >Decision Tree Regressor</td>\n      <td id=\"T_55c64_row4_col1\" class=\"data row4 col1\" >637.9010</td>\n      <td id=\"T_55c64_row4_col2\" class=\"data row4 col2\" >638618.2397</td>\n      <td id=\"T_55c64_row4_col3\" class=\"data row4 col3\" >759.2606</td>\n      <td id=\"T_55c64_row4_col4\" class=\"data row4 col4\" >0.9809</td>\n      <td id=\"T_55c64_row4_col5\" class=\"data row4 col5\" >0.0332</td>\n      <td id=\"T_55c64_row4_col6\" class=\"data row4 col6\" >0.0272</td>\n      <td id=\"T_55c64_row4_col7\" class=\"data row4 col7\" >0.0500</td>\n    </tr>\n    <tr>\n      <th id=\"T_55c64_level0_row5\" class=\"row_heading level0 row5\" >llar</th>\n      <td id=\"T_55c64_row5_col0\" class=\"data row5 col0\" >Lasso Least Angle Regression</td>\n      <td id=\"T_55c64_row5_col1\" class=\"data row5 col1\" >633.9905</td>\n      <td id=\"T_55c64_row5_col2\" class=\"data row5 col2\" >786661.6184</td>\n      <td id=\"T_55c64_row5_col3\" class=\"data row5 col3\" >861.3601</td>\n      <td id=\"T_55c64_row5_col4\" class=\"data row5 col4\" >0.9754</td>\n      <td id=\"T_55c64_row5_col5\" class=\"data row5 col5\" >0.0350</td>\n      <td id=\"T_55c64_row5_col6\" class=\"data row5 col6\" >0.0259</td>\n      <td id=\"T_55c64_row5_col7\" class=\"data row5 col7\" >0.0400</td>\n    </tr>\n    <tr>\n      <th id=\"T_55c64_level0_row6\" class=\"row_heading level0 row6\" >lasso</th>\n      <td id=\"T_55c64_row6_col0\" class=\"data row6 col0\" >Lasso Regression</td>\n      <td id=\"T_55c64_row6_col1\" class=\"data row6 col1\" >631.1633</td>\n      <td id=\"T_55c64_row6_col2\" class=\"data row6 col2\" >794298.4938</td>\n      <td id=\"T_55c64_row6_col3\" class=\"data row6 col3\" >864.9237</td>\n      <td id=\"T_55c64_row6_col4\" class=\"data row6 col4\" >0.9751</td>\n      <td id=\"T_55c64_row6_col5\" class=\"data row6 col5\" >0.0350</td>\n      <td id=\"T_55c64_row6_col6\" class=\"data row6 col6\" >0.0257</td>\n      <td id=\"T_55c64_row6_col7\" class=\"data row6 col7\" >2.2040</td>\n    </tr>\n    <tr>\n      <th id=\"T_55c64_level0_row7\" class=\"row_heading level0 row7\" >br</th>\n      <td id=\"T_55c64_row7_col0\" class=\"data row7 col0\" >Bayesian Ridge</td>\n      <td id=\"T_55c64_row7_col1\" class=\"data row7 col1\" >624.8609</td>\n      <td id=\"T_55c64_row7_col2\" class=\"data row7 col2\" >805553.8042</td>\n      <td id=\"T_55c64_row7_col3\" class=\"data row7 col3\" >868.5228</td>\n      <td id=\"T_55c64_row7_col4\" class=\"data row7 col4\" >0.9748</td>\n      <td id=\"T_55c64_row7_col5\" class=\"data row7 col5\" >0.0356</td>\n      <td id=\"T_55c64_row7_col6\" class=\"data row7 col6\" >0.0257</td>\n      <td id=\"T_55c64_row7_col7\" class=\"data row7 col7\" >0.0500</td>\n    </tr>\n    <tr>\n      <th id=\"T_55c64_level0_row8\" class=\"row_heading level0 row8\" >lr</th>\n      <td id=\"T_55c64_row8_col0\" class=\"data row8 col0\" >Linear Regression</td>\n      <td id=\"T_55c64_row8_col1\" class=\"data row8 col1\" >631.4469</td>\n      <td id=\"T_55c64_row8_col2\" class=\"data row8 col2\" >805399.9062</td>\n      <td id=\"T_55c64_row8_col3\" class=\"data row8 col3\" >869.9352</td>\n      <td id=\"T_55c64_row8_col4\" class=\"data row8 col4\" >0.9746</td>\n      <td id=\"T_55c64_row8_col5\" class=\"data row8 col5\" >0.0350</td>\n      <td id=\"T_55c64_row8_col6\" class=\"data row8 col6\" >0.0256</td>\n      <td id=\"T_55c64_row8_col7\" class=\"data row8 col7\" >2.9940</td>\n    </tr>\n    <tr>\n      <th id=\"T_55c64_level0_row9\" class=\"row_heading level0 row9\" >lar</th>\n      <td id=\"T_55c64_row9_col0\" class=\"data row9 col0\" >Least Angle Regression</td>\n      <td id=\"T_55c64_row9_col1\" class=\"data row9 col1\" >633.7587</td>\n      <td id=\"T_55c64_row9_col2\" class=\"data row9 col2\" >808282.9971</td>\n      <td id=\"T_55c64_row9_col3\" class=\"data row9 col3\" >869.7717</td>\n      <td id=\"T_55c64_row9_col4\" class=\"data row9 col4\" >0.9745</td>\n      <td id=\"T_55c64_row9_col5\" class=\"data row9 col5\" >0.0350</td>\n      <td id=\"T_55c64_row9_col6\" class=\"data row9 col6\" >0.0256</td>\n      <td id=\"T_55c64_row9_col7\" class=\"data row9 col7\" >0.0660</td>\n    </tr>\n    <tr>\n      <th id=\"T_55c64_level0_row10\" class=\"row_heading level0 row10\" >knn</th>\n      <td id=\"T_55c64_row10_col0\" class=\"data row10 col0\" >K Neighbors Regressor</td>\n      <td id=\"T_55c64_row10_col1\" class=\"data row10 col1\" >754.0998</td>\n      <td id=\"T_55c64_row10_col2\" class=\"data row10 col2\" >869081.4312</td>\n      <td id=\"T_55c64_row10_col3\" class=\"data row10 col3\" >912.4042</td>\n      <td id=\"T_55c64_row10_col4\" class=\"data row10 col4\" >0.9730</td>\n      <td id=\"T_55c64_row10_col5\" class=\"data row10 col5\" >0.0393</td>\n      <td id=\"T_55c64_row10_col6\" class=\"data row10 col6\" >0.0318</td>\n      <td id=\"T_55c64_row10_col7\" class=\"data row10 col7\" >0.0640</td>\n    </tr>\n    <tr>\n      <th id=\"T_55c64_level0_row11\" class=\"row_heading level0 row11\" >huber</th>\n      <td id=\"T_55c64_row11_col0\" class=\"data row11 col0\" >Huber Regressor</td>\n      <td id=\"T_55c64_row11_col1\" class=\"data row11 col1\" >663.5812</td>\n      <td id=\"T_55c64_row11_col2\" class=\"data row11 col2\" >870666.8479</td>\n      <td id=\"T_55c64_row11_col3\" class=\"data row11 col3\" >896.0924</td>\n      <td id=\"T_55c64_row11_col4\" class=\"data row11 col4\" >0.9728</td>\n      <td id=\"T_55c64_row11_col5\" class=\"data row11 col5\" >0.0381</td>\n      <td id=\"T_55c64_row11_col6\" class=\"data row11 col6\" >0.0277</td>\n      <td id=\"T_55c64_row11_col7\" class=\"data row11 col7\" >0.1900</td>\n    </tr>\n    <tr>\n      <th id=\"T_55c64_level0_row12\" class=\"row_heading level0 row12\" >ridge</th>\n      <td id=\"T_55c64_row12_col0\" class=\"data row12 col0\" >Ridge Regression</td>\n      <td id=\"T_55c64_row12_col1\" class=\"data row12 col1\" >959.4464</td>\n      <td id=\"T_55c64_row12_col2\" class=\"data row12 col2\" >1364936.9625</td>\n      <td id=\"T_55c64_row12_col3\" class=\"data row12 col3\" >1157.8588</td>\n      <td id=\"T_55c64_row12_col4\" class=\"data row12 col4\" >0.9579</td>\n      <td id=\"T_55c64_row12_col5\" class=\"data row12 col5\" >0.0466</td>\n      <td id=\"T_55c64_row12_col6\" class=\"data row12 col6\" >0.0393</td>\n      <td id=\"T_55c64_row12_col7\" class=\"data row12 col7\" >0.0400</td>\n    </tr>\n    <tr>\n      <th id=\"T_55c64_level0_row13\" class=\"row_heading level0 row13\" >omp</th>\n      <td id=\"T_55c64_row13_col0\" class=\"data row13 col0\" >Orthogonal Matching Pursuit</td>\n      <td id=\"T_55c64_row13_col1\" class=\"data row13 col1\" >1100.0155</td>\n      <td id=\"T_55c64_row13_col2\" class=\"data row13 col2\" >1645188.7807</td>\n      <td id=\"T_55c64_row13_col3\" class=\"data row13 col3\" >1278.7040</td>\n      <td id=\"T_55c64_row13_col4\" class=\"data row13 col4\" >0.9495</td>\n      <td id=\"T_55c64_row13_col5\" class=\"data row13 col5\" >0.0468</td>\n      <td id=\"T_55c64_row13_col6\" class=\"data row13 col6\" >0.0423</td>\n      <td id=\"T_55c64_row13_col7\" class=\"data row13 col7\" >0.0560</td>\n    </tr>\n    <tr>\n      <th id=\"T_55c64_level0_row14\" class=\"row_heading level0 row14\" >par</th>\n      <td id=\"T_55c64_row14_col0\" class=\"data row14 col0\" >Passive Aggressive Regressor</td>\n      <td id=\"T_55c64_row14_col1\" class=\"data row14 col1\" >1406.9636</td>\n      <td id=\"T_55c64_row14_col2\" class=\"data row14 col2\" >3411508.3041</td>\n      <td id=\"T_55c64_row14_col3\" class=\"data row14 col3\" >1826.3500</td>\n      <td id=\"T_55c64_row14_col4\" class=\"data row14 col4\" >0.8986</td>\n      <td id=\"T_55c64_row14_col5\" class=\"data row14 col5\" >0.0626</td>\n      <td id=\"T_55c64_row14_col6\" class=\"data row14 col6\" >0.0514</td>\n      <td id=\"T_55c64_row14_col7\" class=\"data row14 col7\" >0.0980</td>\n    </tr>\n    <tr>\n      <th id=\"T_55c64_level0_row15\" class=\"row_heading level0 row15\" >en</th>\n      <td id=\"T_55c64_row15_col0\" class=\"data row15 col0\" >Elastic Net</td>\n      <td id=\"T_55c64_row15_col1\" class=\"data row15 col1\" >2789.1517</td>\n      <td id=\"T_55c64_row15_col2\" class=\"data row15 col2\" >10769164.1000</td>\n      <td id=\"T_55c64_row15_col3\" class=\"data row15 col3\" >3244.8185</td>\n      <td id=\"T_55c64_row15_col4\" class=\"data row15 col4\" >0.7012</td>\n      <td id=\"T_55c64_row15_col5\" class=\"data row15 col5\" >0.1280</td>\n      <td id=\"T_55c64_row15_col6\" class=\"data row15 col6\" >0.1141</td>\n      <td id=\"T_55c64_row15_col7\" class=\"data row15 col7\" >0.0400</td>\n    </tr>\n    <tr>\n      <th id=\"T_55c64_level0_row16\" class=\"row_heading level0 row16\" >lightgbm</th>\n      <td id=\"T_55c64_row16_col0\" class=\"data row16 col0\" >Light Gradient Boosting Machine</td>\n      <td id=\"T_55c64_row16_col1\" class=\"data row16 col1\" >5174.2155</td>\n      <td id=\"T_55c64_row16_col2\" class=\"data row16 col2\" >35907417.2366</td>\n      <td id=\"T_55c64_row16_col3\" class=\"data row16 col3\" >5951.8642</td>\n      <td id=\"T_55c64_row16_col4\" class=\"data row16 col4\" >-0.0101</td>\n      <td id=\"T_55c64_row16_col5\" class=\"data row16 col5\" >0.2396</td>\n      <td id=\"T_55c64_row16_col6\" class=\"data row16 col6\" >0.2171</td>\n      <td id=\"T_55c64_row16_col7\" class=\"data row16 col7\" >0.5480</td>\n    </tr>\n    <tr>\n      <th id=\"T_55c64_level0_row17\" class=\"row_heading level0 row17\" >dummy</th>\n      <td id=\"T_55c64_row17_col0\" class=\"data row17 col0\" >Dummy Regressor</td>\n      <td id=\"T_55c64_row17_col1\" class=\"data row17 col1\" >5174.2157</td>\n      <td id=\"T_55c64_row17_col2\" class=\"data row17 col2\" >35907416.4000</td>\n      <td id=\"T_55c64_row17_col3\" class=\"data row17 col3\" >5951.8643</td>\n      <td id=\"T_55c64_row17_col4\" class=\"data row17 col4\" >-0.0101</td>\n      <td id=\"T_55c64_row17_col5\" class=\"data row17 col5\" >0.2396</td>\n      <td id=\"T_55c64_row17_col6\" class=\"data row17 col6\" >0.2171</td>\n      <td id=\"T_55c64_row17_col7\" class=\"data row17 col7\" >0.0280</td>\n    </tr>\n  </tbody>\n</table>\n"
     },
     "metadata": {},
     "output_type": "display_data"
    }
   ],
   "source": [
    "best_model = compare_models(fold=5)"
   ]
  },
  {
   "cell_type": "markdown",
   "metadata": {},
   "source": [
    "# 4. Create Model"
   ]
  },
  {
   "cell_type": "markdown",
   "source": [],
   "metadata": {
    "collapsed": false
   }
  },
  {
   "cell_type": "code",
   "execution_count": 5,
   "metadata": {},
   "outputs": [
    {
     "data": {
      "text/plain": "<pandas.io.formats.style.Styler at 0x14277b460>",
      "text/html": "<style type=\"text/css\">\n#T_10afe_row10_col0, #T_10afe_row10_col1, #T_10afe_row10_col2, #T_10afe_row10_col3, #T_10afe_row10_col4, #T_10afe_row10_col5 {\n  background: yellow;\n}\n</style>\n<table id=\"T_10afe_\">\n  <thead>\n    <tr>\n      <th class=\"blank level0\" >&nbsp;</th>\n      <th class=\"col_heading level0 col0\" >MAE</th>\n      <th class=\"col_heading level0 col1\" >MSE</th>\n      <th class=\"col_heading level0 col2\" >RMSE</th>\n      <th class=\"col_heading level0 col3\" >R2</th>\n      <th class=\"col_heading level0 col4\" >RMSLE</th>\n      <th class=\"col_heading level0 col5\" >MAPE</th>\n    </tr>\n  </thead>\n  <tbody>\n    <tr>\n      <th id=\"T_10afe_level0_row0\" class=\"row_heading level0 row0\" >0</th>\n      <td id=\"T_10afe_row0_col0\" class=\"data row0 col0\" >355.2505</td>\n      <td id=\"T_10afe_row0_col1\" class=\"data row0 col1\" >265432.5597</td>\n      <td id=\"T_10afe_row0_col2\" class=\"data row0 col2\" >515.2015</td>\n      <td id=\"T_10afe_row0_col3\" class=\"data row0 col3\" >0.9939</td>\n      <td id=\"T_10afe_row0_col4\" class=\"data row0 col4\" >0.0155</td>\n      <td id=\"T_10afe_row0_col5\" class=\"data row0 col5\" >0.0121</td>\n    </tr>\n    <tr>\n      <th id=\"T_10afe_level0_row1\" class=\"row_heading level0 row1\" >1</th>\n      <td id=\"T_10afe_row1_col0\" class=\"data row1 col0\" >167.3371</td>\n      <td id=\"T_10afe_row1_col1\" class=\"data row1 col1\" >51623.4326</td>\n      <td id=\"T_10afe_row1_col2\" class=\"data row1 col2\" >227.2079</td>\n      <td id=\"T_10afe_row1_col3\" class=\"data row1 col3\" >0.9947</td>\n      <td id=\"T_10afe_row1_col4\" class=\"data row1 col4\" >0.0092</td>\n      <td id=\"T_10afe_row1_col5\" class=\"data row1 col5\" >0.0067</td>\n    </tr>\n    <tr>\n      <th id=\"T_10afe_level0_row2\" class=\"row_heading level0 row2\" >2</th>\n      <td id=\"T_10afe_row2_col0\" class=\"data row2 col0\" >162.8038</td>\n      <td id=\"T_10afe_row2_col1\" class=\"data row2 col1\" >65930.9163</td>\n      <td id=\"T_10afe_row2_col2\" class=\"data row2 col2\" >256.7702</td>\n      <td id=\"T_10afe_row2_col3\" class=\"data row2 col3\" >0.9988</td>\n      <td id=\"T_10afe_row2_col4\" class=\"data row2 col4\" >0.0076</td>\n      <td id=\"T_10afe_row2_col5\" class=\"data row2 col5\" >0.0055</td>\n    </tr>\n    <tr>\n      <th id=\"T_10afe_level0_row3\" class=\"row_heading level0 row3\" >3</th>\n      <td id=\"T_10afe_row3_col0\" class=\"data row3 col0\" >278.3577</td>\n      <td id=\"T_10afe_row3_col1\" class=\"data row3 col1\" >138279.9776</td>\n      <td id=\"T_10afe_row3_col2\" class=\"data row3 col2\" >371.8602</td>\n      <td id=\"T_10afe_row3_col3\" class=\"data row3 col3\" >0.9969</td>\n      <td id=\"T_10afe_row3_col4\" class=\"data row3 col4\" >0.0215</td>\n      <td id=\"T_10afe_row3_col5\" class=\"data row3 col5\" >0.0149</td>\n    </tr>\n    <tr>\n      <th id=\"T_10afe_level0_row4\" class=\"row_heading level0 row4\" >4</th>\n      <td id=\"T_10afe_row4_col0\" class=\"data row4 col0\" >500.0563</td>\n      <td id=\"T_10afe_row4_col1\" class=\"data row4 col1\" >304928.8661</td>\n      <td id=\"T_10afe_row4_col2\" class=\"data row4 col2\" >552.2036</td>\n      <td id=\"T_10afe_row4_col3\" class=\"data row4 col3\" >0.9921</td>\n      <td id=\"T_10afe_row4_col4\" class=\"data row4 col4\" >0.0256</td>\n      <td id=\"T_10afe_row4_col5\" class=\"data row4 col5\" >0.0214</td>\n    </tr>\n    <tr>\n      <th id=\"T_10afe_level0_row5\" class=\"row_heading level0 row5\" >5</th>\n      <td id=\"T_10afe_row5_col0\" class=\"data row5 col0\" >329.1803</td>\n      <td id=\"T_10afe_row5_col1\" class=\"data row5 col1\" >177019.9783</td>\n      <td id=\"T_10afe_row5_col2\" class=\"data row5 col2\" >420.7374</td>\n      <td id=\"T_10afe_row5_col3\" class=\"data row5 col3\" >0.9865</td>\n      <td id=\"T_10afe_row5_col4\" class=\"data row5 col4\" >0.0143</td>\n      <td id=\"T_10afe_row5_col5\" class=\"data row5 col5\" >0.0117</td>\n    </tr>\n    <tr>\n      <th id=\"T_10afe_level0_row6\" class=\"row_heading level0 row6\" >6</th>\n      <td id=\"T_10afe_row6_col0\" class=\"data row6 col0\" >446.0263</td>\n      <td id=\"T_10afe_row6_col1\" class=\"data row6 col1\" >261128.4845</td>\n      <td id=\"T_10afe_row6_col2\" class=\"data row6 col2\" >511.0073</td>\n      <td id=\"T_10afe_row6_col3\" class=\"data row6 col3\" >0.9748</td>\n      <td id=\"T_10afe_row6_col4\" class=\"data row6 col4\" >0.0231</td>\n      <td id=\"T_10afe_row6_col5\" class=\"data row6 col5\" >0.0200</td>\n    </tr>\n    <tr>\n      <th id=\"T_10afe_level0_row7\" class=\"row_heading level0 row7\" >7</th>\n      <td id=\"T_10afe_row7_col0\" class=\"data row7 col0\" >684.5536</td>\n      <td id=\"T_10afe_row7_col1\" class=\"data row7 col1\" >660632.0082</td>\n      <td id=\"T_10afe_row7_col2\" class=\"data row7 col2\" >812.7927</td>\n      <td id=\"T_10afe_row7_col3\" class=\"data row7 col3\" >0.9791</td>\n      <td id=\"T_10afe_row7_col4\" class=\"data row7 col4\" >0.0363</td>\n      <td id=\"T_10afe_row7_col5\" class=\"data row7 col5\" >0.0282</td>\n    </tr>\n    <tr>\n      <th id=\"T_10afe_level0_row8\" class=\"row_heading level0 row8\" >8</th>\n      <td id=\"T_10afe_row8_col0\" class=\"data row8 col0\" >213.4114</td>\n      <td id=\"T_10afe_row8_col1\" class=\"data row8 col1\" >75366.3371</td>\n      <td id=\"T_10afe_row8_col2\" class=\"data row8 col2\" >274.5293</td>\n      <td id=\"T_10afe_row8_col3\" class=\"data row8 col3\" >0.9959</td>\n      <td id=\"T_10afe_row8_col4\" class=\"data row8 col4\" >0.0107</td>\n      <td id=\"T_10afe_row8_col5\" class=\"data row8 col5\" >0.0085</td>\n    </tr>\n    <tr>\n      <th id=\"T_10afe_level0_row9\" class=\"row_heading level0 row9\" >9</th>\n      <td id=\"T_10afe_row9_col0\" class=\"data row9 col0\" >816.6000</td>\n      <td id=\"T_10afe_row9_col1\" class=\"data row9 col1\" >740215.4169</td>\n      <td id=\"T_10afe_row9_col2\" class=\"data row9 col2\" >860.3577</td>\n      <td id=\"T_10afe_row9_col3\" class=\"data row9 col3\" >0.9873</td>\n      <td id=\"T_10afe_row9_col4\" class=\"data row9 col4\" >0.0451</td>\n      <td id=\"T_10afe_row9_col5\" class=\"data row9 col5\" >0.0404</td>\n    </tr>\n    <tr>\n      <th id=\"T_10afe_level0_row10\" class=\"row_heading level0 row10\" >Mean</th>\n      <td id=\"T_10afe_row10_col0\" class=\"data row10 col0\" >395.3577</td>\n      <td id=\"T_10afe_row10_col1\" class=\"data row10 col1\" >274055.7977</td>\n      <td id=\"T_10afe_row10_col2\" class=\"data row10 col2\" >480.2668</td>\n      <td id=\"T_10afe_row10_col3\" class=\"data row10 col3\" >0.9900</td>\n      <td id=\"T_10afe_row10_col4\" class=\"data row10 col4\" >0.0209</td>\n      <td id=\"T_10afe_row10_col5\" class=\"data row10 col5\" >0.0169</td>\n    </tr>\n    <tr>\n      <th id=\"T_10afe_level0_row11\" class=\"row_heading level0 row11\" >SD</th>\n      <td id=\"T_10afe_row11_col0\" class=\"data row11 col0\" >208.1981</td>\n      <td id=\"T_10afe_row11_col1\" class=\"data row11 col1\" >229795.8285</td>\n      <td id=\"T_10afe_row11_col2\" class=\"data row11 col2\" >208.3257</td>\n      <td id=\"T_10afe_row11_col3\" class=\"data row11 col3\" >0.0076</td>\n      <td id=\"T_10afe_row11_col4\" class=\"data row11 col4\" >0.0116</td>\n      <td id=\"T_10afe_row11_col5\" class=\"data row11 col5\" >0.0103</td>\n    </tr>\n  </tbody>\n</table>\n"
     },
     "metadata": {},
     "output_type": "display_data"
    }
   ],
   "source": [
    "model = create_model('et')\n"
   ]
  },
  {
   "cell_type": "code",
   "execution_count": 6,
   "metadata": {},
   "outputs": [],
   "source": [
    "import numpy as np\n",
    "# model = [create_model('et') for i in np.arange(0.1,1,0.1)]"
   ]
  },
  {
   "cell_type": "code",
   "execution_count": 7,
   "metadata": {},
   "outputs": [
    {
     "name": "stdout",
     "output_type": "stream",
     "text": [
      "100\n"
     ]
    }
   ],
   "source": [
    "print(len(model))"
   ]
  },
  {
   "cell_type": "markdown",
   "metadata": {},
   "source": [
    "# 5. Tune Hyperparameters"
   ]
  },
  {
   "cell_type": "code",
   "execution_count": 8,
   "metadata": {},
   "outputs": [
    {
     "data": {
      "text/plain": "<pandas.io.formats.style.Styler at 0x141f1b1f0>",
      "text/html": "<style type=\"text/css\">\n#T_c7f9d_row10_col0, #T_c7f9d_row10_col1, #T_c7f9d_row10_col2, #T_c7f9d_row10_col3, #T_c7f9d_row10_col4, #T_c7f9d_row10_col5 {\n  background: yellow;\n}\n</style>\n<table id=\"T_c7f9d_\">\n  <thead>\n    <tr>\n      <th class=\"blank level0\" >&nbsp;</th>\n      <th class=\"col_heading level0 col0\" >MAE</th>\n      <th class=\"col_heading level0 col1\" >MSE</th>\n      <th class=\"col_heading level0 col2\" >RMSE</th>\n      <th class=\"col_heading level0 col3\" >R2</th>\n      <th class=\"col_heading level0 col4\" >RMSLE</th>\n      <th class=\"col_heading level0 col5\" >MAPE</th>\n    </tr>\n  </thead>\n  <tbody>\n    <tr>\n      <th id=\"T_c7f9d_level0_row0\" class=\"row_heading level0 row0\" >0</th>\n      <td id=\"T_c7f9d_row0_col0\" class=\"data row0 col0\" >654.7370</td>\n      <td id=\"T_c7f9d_row0_col1\" class=\"data row0 col1\" >812986.3370</td>\n      <td id=\"T_c7f9d_row0_col2\" class=\"data row0 col2\" >901.6575</td>\n      <td id=\"T_c7f9d_row0_col3\" class=\"data row0 col3\" >0.9812</td>\n      <td id=\"T_c7f9d_row0_col4\" class=\"data row0 col4\" >0.0307</td>\n      <td id=\"T_c7f9d_row0_col5\" class=\"data row0 col5\" >0.0242</td>\n    </tr>\n    <tr>\n      <th id=\"T_c7f9d_level0_row1\" class=\"row_heading level0 row1\" >1</th>\n      <td id=\"T_c7f9d_row1_col0\" class=\"data row1 col0\" >363.0237</td>\n      <td id=\"T_c7f9d_row1_col1\" class=\"data row1 col1\" >179014.9178</td>\n      <td id=\"T_c7f9d_row1_col2\" class=\"data row1 col2\" >423.1015</td>\n      <td id=\"T_c7f9d_row1_col3\" class=\"data row1 col3\" >0.9815</td>\n      <td id=\"T_c7f9d_row1_col4\" class=\"data row1 col4\" >0.0165</td>\n      <td id=\"T_c7f9d_row1_col5\" class=\"data row1 col5\" >0.0142</td>\n    </tr>\n    <tr>\n      <th id=\"T_c7f9d_level0_row2\" class=\"row_heading level0 row2\" >2</th>\n      <td id=\"T_c7f9d_row2_col0\" class=\"data row2 col0\" >467.8860</td>\n      <td id=\"T_c7f9d_row2_col1\" class=\"data row2 col1\" >398800.4760</td>\n      <td id=\"T_c7f9d_row2_col2\" class=\"data row2 col2\" >631.5065</td>\n      <td id=\"T_c7f9d_row2_col3\" class=\"data row2 col3\" >0.9927</td>\n      <td id=\"T_c7f9d_row2_col4\" class=\"data row2 col4\" >0.0221</td>\n      <td id=\"T_c7f9d_row2_col5\" class=\"data row2 col5\" >0.0184</td>\n    </tr>\n    <tr>\n      <th id=\"T_c7f9d_level0_row3\" class=\"row_heading level0 row3\" >3</th>\n      <td id=\"T_c7f9d_row3_col0\" class=\"data row3 col0\" >295.6408</td>\n      <td id=\"T_c7f9d_row3_col1\" class=\"data row3 col1\" >142552.1327</td>\n      <td id=\"T_c7f9d_row3_col2\" class=\"data row3 col2\" >377.5608</td>\n      <td id=\"T_c7f9d_row3_col3\" class=\"data row3 col3\" >0.9968</td>\n      <td id=\"T_c7f9d_row3_col4\" class=\"data row3 col4\" >0.0216</td>\n      <td id=\"T_c7f9d_row3_col5\" class=\"data row3 col5\" >0.0161</td>\n    </tr>\n    <tr>\n      <th id=\"T_c7f9d_level0_row4\" class=\"row_heading level0 row4\" >4</th>\n      <td id=\"T_c7f9d_row4_col0\" class=\"data row4 col0\" >451.4834</td>\n      <td id=\"T_c7f9d_row4_col1\" class=\"data row4 col1\" >290523.4792</td>\n      <td id=\"T_c7f9d_row4_col2\" class=\"data row4 col2\" >539.0023</td>\n      <td id=\"T_c7f9d_row4_col3\" class=\"data row4 col3\" >0.9925</td>\n      <td id=\"T_c7f9d_row4_col4\" class=\"data row4 col4\" >0.0241</td>\n      <td id=\"T_c7f9d_row4_col5\" class=\"data row4 col5\" >0.0190</td>\n    </tr>\n    <tr>\n      <th id=\"T_c7f9d_level0_row5\" class=\"row_heading level0 row5\" >5</th>\n      <td id=\"T_c7f9d_row5_col0\" class=\"data row5 col0\" >245.3409</td>\n      <td id=\"T_c7f9d_row5_col1\" class=\"data row5 col1\" >70695.0560</td>\n      <td id=\"T_c7f9d_row5_col2\" class=\"data row5 col2\" >265.8854</td>\n      <td id=\"T_c7f9d_row5_col3\" class=\"data row5 col3\" >0.9946</td>\n      <td id=\"T_c7f9d_row5_col4\" class=\"data row5 col4\" >0.0089</td>\n      <td id=\"T_c7f9d_row5_col5\" class=\"data row5 col5\" >0.0084</td>\n    </tr>\n    <tr>\n      <th id=\"T_c7f9d_level0_row6\" class=\"row_heading level0 row6\" >6</th>\n      <td id=\"T_c7f9d_row6_col0\" class=\"data row6 col0\" >436.8479</td>\n      <td id=\"T_c7f9d_row6_col1\" class=\"data row6 col1\" >286009.9396</td>\n      <td id=\"T_c7f9d_row6_col2\" class=\"data row6 col2\" >534.7990</td>\n      <td id=\"T_c7f9d_row6_col3\" class=\"data row6 col3\" >0.9724</td>\n      <td id=\"T_c7f9d_row6_col4\" class=\"data row6 col4\" >0.0260</td>\n      <td id=\"T_c7f9d_row6_col5\" class=\"data row6 col5\" >0.0204</td>\n    </tr>\n    <tr>\n      <th id=\"T_c7f9d_level0_row7\" class=\"row_heading level0 row7\" >7</th>\n      <td id=\"T_c7f9d_row7_col0\" class=\"data row7 col0\" >828.5479</td>\n      <td id=\"T_c7f9d_row7_col1\" class=\"data row7 col1\" >940739.8173</td>\n      <td id=\"T_c7f9d_row7_col2\" class=\"data row7 col2\" >969.9174</td>\n      <td id=\"T_c7f9d_row7_col3\" class=\"data row7 col3\" >0.9703</td>\n      <td id=\"T_c7f9d_row7_col4\" class=\"data row7 col4\" >0.0429</td>\n      <td id=\"T_c7f9d_row7_col5\" class=\"data row7 col5\" >0.0337</td>\n    </tr>\n    <tr>\n      <th id=\"T_c7f9d_level0_row8\" class=\"row_heading level0 row8\" >8</th>\n      <td id=\"T_c7f9d_row8_col0\" class=\"data row8 col0\" >343.8608</td>\n      <td id=\"T_c7f9d_row8_col1\" class=\"data row8 col1\" >155544.5104</td>\n      <td id=\"T_c7f9d_row8_col2\" class=\"data row8 col2\" >394.3913</td>\n      <td id=\"T_c7f9d_row8_col3\" class=\"data row8 col3\" >0.9915</td>\n      <td id=\"T_c7f9d_row8_col4\" class=\"data row8 col4\" >0.0182</td>\n      <td id=\"T_c7f9d_row8_col5\" class=\"data row8 col5\" >0.0147</td>\n    </tr>\n    <tr>\n      <th id=\"T_c7f9d_level0_row9\" class=\"row_heading level0 row9\" >9</th>\n      <td id=\"T_c7f9d_row9_col0\" class=\"data row9 col0\" >844.2092</td>\n      <td id=\"T_c7f9d_row9_col1\" class=\"data row9 col1\" >1075723.3055</td>\n      <td id=\"T_c7f9d_row9_col2\" class=\"data row9 col2\" >1037.1708</td>\n      <td id=\"T_c7f9d_row9_col3\" class=\"data row9 col3\" >0.9815</td>\n      <td id=\"T_c7f9d_row9_col4\" class=\"data row9 col4\" >0.0602</td>\n      <td id=\"T_c7f9d_row9_col5\" class=\"data row9 col5\" >0.0466</td>\n    </tr>\n    <tr>\n      <th id=\"T_c7f9d_level0_row10\" class=\"row_heading level0 row10\" >Mean</th>\n      <td id=\"T_c7f9d_row10_col0\" class=\"data row10 col0\" >493.1578</td>\n      <td id=\"T_c7f9d_row10_col1\" class=\"data row10 col1\" >435258.9971</td>\n      <td id=\"T_c7f9d_row10_col2\" class=\"data row10 col2\" >607.4993</td>\n      <td id=\"T_c7f9d_row10_col3\" class=\"data row10 col3\" >0.9855</td>\n      <td id=\"T_c7f9d_row10_col4\" class=\"data row10 col4\" >0.0271</td>\n      <td id=\"T_c7f9d_row10_col5\" class=\"data row10 col5\" >0.0216</td>\n    </tr>\n    <tr>\n      <th id=\"T_c7f9d_level0_row11\" class=\"row_heading level0 row11\" >SD</th>\n      <td id=\"T_c7f9d_row11_col0\" class=\"data row11 col0\" >201.7494</td>\n      <td id=\"T_c7f9d_row11_col1\" class=\"data row11 col1\" >348628.9727</td>\n      <td id=\"T_c7f9d_row11_col2\" class=\"data row11 col2\" >257.3007</td>\n      <td id=\"T_c7f9d_row11_col3\" class=\"data row11 col3\" >0.0090</td>\n      <td id=\"T_c7f9d_row11_col4\" class=\"data row11 col4\" >0.0139</td>\n      <td id=\"T_c7f9d_row11_col5\" class=\"data row11 col5\" >0.0105</td>\n    </tr>\n  </tbody>\n</table>\n"
     },
     "metadata": {},
     "output_type": "display_data"
    }
   ],
   "source": [
    "tuned_model = tune_model(model, n_iter=50, optimize = 'MSE')"
   ]
  },
  {
   "cell_type": "code",
   "execution_count": 9,
   "metadata": {},
   "outputs": [
    {
     "data": {
      "text/plain": "ExtraTreesRegressor(bootstrap=False, ccp_alpha=0.0, criterion='mae',\n                    max_depth=8, max_features=1.0, max_leaf_nodes=None,\n                    max_samples=None, min_impurity_decrease=0.005,\n                    min_impurity_split=None, min_samples_leaf=3,\n                    min_samples_split=7, min_weight_fraction_leaf=0.0,\n                    n_estimators=180, n_jobs=-1, oob_score=False,\n                    random_state=123, verbose=0, warm_start=False)"
     },
     "execution_count": 9,
     "metadata": {},
     "output_type": "execute_result"
    }
   ],
   "source": [
    "tuned_model"
   ]
  },
  {
   "cell_type": "markdown",
   "metadata": {},
   "source": [
    "# 6. Ensemble Model"
   ]
  },
  {
   "cell_type": "code",
   "execution_count": 10,
   "metadata": {},
   "outputs": [
    {
     "data": {
      "text/plain": "<pandas.io.formats.style.Styler at 0x1427e4d60>",
      "text/html": "<style type=\"text/css\">\n#T_1ff10_row10_col0, #T_1ff10_row10_col1, #T_1ff10_row10_col2, #T_1ff10_row10_col3, #T_1ff10_row10_col4, #T_1ff10_row10_col5 {\n  background: yellow;\n}\n</style>\n<table id=\"T_1ff10_\">\n  <thead>\n    <tr>\n      <th class=\"blank level0\" >&nbsp;</th>\n      <th class=\"col_heading level0 col0\" >MAE</th>\n      <th class=\"col_heading level0 col1\" >MSE</th>\n      <th class=\"col_heading level0 col2\" >RMSE</th>\n      <th class=\"col_heading level0 col3\" >R2</th>\n      <th class=\"col_heading level0 col4\" >RMSLE</th>\n      <th class=\"col_heading level0 col5\" >MAPE</th>\n    </tr>\n  </thead>\n  <tbody>\n    <tr>\n      <th id=\"T_1ff10_level0_row0\" class=\"row_heading level0 row0\" >0</th>\n      <td id=\"T_1ff10_row0_col0\" class=\"data row0 col0\" >484.8042</td>\n      <td id=\"T_1ff10_row0_col1\" class=\"data row0 col1\" >389058.4674</td>\n      <td id=\"T_1ff10_row0_col2\" class=\"data row0 col2\" >623.7455</td>\n      <td id=\"T_1ff10_row0_col3\" class=\"data row0 col3\" >0.9910</td>\n      <td id=\"T_1ff10_row0_col4\" class=\"data row0 col4\" >0.0219</td>\n      <td id=\"T_1ff10_row0_col5\" class=\"data row0 col5\" >0.0185</td>\n    </tr>\n    <tr>\n      <th id=\"T_1ff10_level0_row1\" class=\"row_heading level0 row1\" >1</th>\n      <td id=\"T_1ff10_row1_col0\" class=\"data row1 col0\" >702.2759</td>\n      <td id=\"T_1ff10_row1_col1\" class=\"data row1 col1\" >512522.3728</td>\n      <td id=\"T_1ff10_row1_col2\" class=\"data row1 col2\" >715.9067</td>\n      <td id=\"T_1ff10_row1_col3\" class=\"data row1 col3\" >0.9469</td>\n      <td id=\"T_1ff10_row1_col4\" class=\"data row1 col4\" >0.0297</td>\n      <td id=\"T_1ff10_row1_col5\" class=\"data row1 col5\" >0.0291</td>\n    </tr>\n    <tr>\n      <th id=\"T_1ff10_level0_row2\" class=\"row_heading level0 row2\" >2</th>\n      <td id=\"T_1ff10_row2_col0\" class=\"data row2 col0\" >394.2607</td>\n      <td id=\"T_1ff10_row2_col1\" class=\"data row2 col1\" >244800.9549</td>\n      <td id=\"T_1ff10_row2_col2\" class=\"data row2 col2\" >494.7736</td>\n      <td id=\"T_1ff10_row2_col3\" class=\"data row2 col3\" >0.9955</td>\n      <td id=\"T_1ff10_row2_col4\" class=\"data row2 col4\" >0.0297</td>\n      <td id=\"T_1ff10_row2_col5\" class=\"data row2 col5\" >0.0220</td>\n    </tr>\n    <tr>\n      <th id=\"T_1ff10_level0_row3\" class=\"row_heading level0 row3\" >3</th>\n      <td id=\"T_1ff10_row3_col0\" class=\"data row3 col0\" >443.0239</td>\n      <td id=\"T_1ff10_row3_col1\" class=\"data row3 col1\" >309031.8145</td>\n      <td id=\"T_1ff10_row3_col2\" class=\"data row3 col2\" >555.9063</td>\n      <td id=\"T_1ff10_row3_col3\" class=\"data row3 col3\" >0.9931</td>\n      <td id=\"T_1ff10_row3_col4\" class=\"data row3 col4\" >0.0315</td>\n      <td id=\"T_1ff10_row3_col5\" class=\"data row3 col5\" >0.0233</td>\n    </tr>\n    <tr>\n      <th id=\"T_1ff10_level0_row4\" class=\"row_heading level0 row4\" >4</th>\n      <td id=\"T_1ff10_row4_col0\" class=\"data row4 col0\" >1315.6230</td>\n      <td id=\"T_1ff10_row4_col1\" class=\"data row4 col1\" >3267505.2056</td>\n      <td id=\"T_1ff10_row4_col2\" class=\"data row4 col2\" >1807.6242</td>\n      <td id=\"T_1ff10_row4_col3\" class=\"data row4 col3\" >0.9153</td>\n      <td id=\"T_1ff10_row4_col4\" class=\"data row4 col4\" >0.0659</td>\n      <td id=\"T_1ff10_row4_col5\" class=\"data row4 col5\" >0.0480</td>\n    </tr>\n    <tr>\n      <th id=\"T_1ff10_level0_row5\" class=\"row_heading level0 row5\" >5</th>\n      <td id=\"T_1ff10_row5_col0\" class=\"data row5 col0\" >1139.9388</td>\n      <td id=\"T_1ff10_row5_col1\" class=\"data row5 col1\" >1608927.6128</td>\n      <td id=\"T_1ff10_row5_col2\" class=\"data row5 col2\" >1268.4351</td>\n      <td id=\"T_1ff10_row5_col3\" class=\"data row5 col3\" >0.8771</td>\n      <td id=\"T_1ff10_row5_col4\" class=\"data row5 col4\" >0.0439</td>\n      <td id=\"T_1ff10_row5_col5\" class=\"data row5 col5\" >0.0397</td>\n    </tr>\n    <tr>\n      <th id=\"T_1ff10_level0_row6\" class=\"row_heading level0 row6\" >6</th>\n      <td id=\"T_1ff10_row6_col0\" class=\"data row6 col0\" >946.7057</td>\n      <td id=\"T_1ff10_row6_col1\" class=\"data row6 col1\" >1619812.6930</td>\n      <td id=\"T_1ff10_row6_col2\" class=\"data row6 col2\" >1272.7186</td>\n      <td id=\"T_1ff10_row6_col3\" class=\"data row6 col3\" >0.8434</td>\n      <td id=\"T_1ff10_row6_col4\" class=\"data row6 col4\" >0.0466</td>\n      <td id=\"T_1ff10_row6_col5\" class=\"data row6 col5\" >0.0368</td>\n    </tr>\n    <tr>\n      <th id=\"T_1ff10_level0_row7\" class=\"row_heading level0 row7\" >7</th>\n      <td id=\"T_1ff10_row7_col0\" class=\"data row7 col0\" >622.5820</td>\n      <td id=\"T_1ff10_row7_col1\" class=\"data row7 col1\" >518133.6728</td>\n      <td id=\"T_1ff10_row7_col2\" class=\"data row7 col2\" >719.8150</td>\n      <td id=\"T_1ff10_row7_col3\" class=\"data row7 col3\" >0.9836</td>\n      <td id=\"T_1ff10_row7_col4\" class=\"data row7 col4\" >0.0318</td>\n      <td id=\"T_1ff10_row7_col5\" class=\"data row7 col5\" >0.0256</td>\n    </tr>\n    <tr>\n      <th id=\"T_1ff10_level0_row8\" class=\"row_heading level0 row8\" >8</th>\n      <td id=\"T_1ff10_row8_col0\" class=\"data row8 col0\" >798.1061</td>\n      <td id=\"T_1ff10_row8_col1\" class=\"data row8 col1\" >735829.6699</td>\n      <td id=\"T_1ff10_row8_col2\" class=\"data row8 col2\" >857.8051</td>\n      <td id=\"T_1ff10_row8_col3\" class=\"data row8 col3\" >0.9597</td>\n      <td id=\"T_1ff10_row8_col4\" class=\"data row8 col4\" >0.0347</td>\n      <td id=\"T_1ff10_row8_col5\" class=\"data row8 col5\" >0.0315</td>\n    </tr>\n    <tr>\n      <th id=\"T_1ff10_level0_row9\" class=\"row_heading level0 row9\" >9</th>\n      <td id=\"T_1ff10_row9_col0\" class=\"data row9 col0\" >675.2487</td>\n      <td id=\"T_1ff10_row9_col1\" class=\"data row9 col1\" >609414.9927</td>\n      <td id=\"T_1ff10_row9_col2\" class=\"data row9 col2\" >780.6504</td>\n      <td id=\"T_1ff10_row9_col3\" class=\"data row9 col3\" >0.9895</td>\n      <td id=\"T_1ff10_row9_col4\" class=\"data row9 col4\" >0.0347</td>\n      <td id=\"T_1ff10_row9_col5\" class=\"data row9 col5\" >0.0299</td>\n    </tr>\n    <tr>\n      <th id=\"T_1ff10_level0_row10\" class=\"row_heading level0 row10\" >Mean</th>\n      <td id=\"T_1ff10_row10_col0\" class=\"data row10 col0\" >752.2569</td>\n      <td id=\"T_1ff10_row10_col1\" class=\"data row10 col1\" >981503.7456</td>\n      <td id=\"T_1ff10_row10_col2\" class=\"data row10 col2\" >909.7381</td>\n      <td id=\"T_1ff10_row10_col3\" class=\"data row10 col3\" >0.9495</td>\n      <td id=\"T_1ff10_row10_col4\" class=\"data row10 col4\" >0.0370</td>\n      <td id=\"T_1ff10_row10_col5\" class=\"data row10 col5\" >0.0304</td>\n    </tr>\n    <tr>\n      <th id=\"T_1ff10_level0_row11\" class=\"row_heading level0 row11\" >SD</th>\n      <td id=\"T_1ff10_row11_col0\" class=\"data row11 col0\" >287.7764</td>\n      <td id=\"T_1ff10_row11_col1\" class=\"data row11 col1\" >894779.5119</td>\n      <td id=\"T_1ff10_row11_col2\" class=\"data row11 col2\" >392.2759</td>\n      <td id=\"T_1ff10_row11_col3\" class=\"data row11 col3\" >0.0513</td>\n      <td id=\"T_1ff10_row11_col4\" class=\"data row11 col4\" >0.0117</td>\n      <td id=\"T_1ff10_row11_col5\" class=\"data row11 col5\" >0.0085</td>\n    </tr>\n  </tbody>\n</table>\n"
     },
     "metadata": {},
     "output_type": "display_data"
    }
   ],
   "source": [
    "dt = create_model('dt')"
   ]
  },
  {
   "cell_type": "code",
   "execution_count": 11,
   "metadata": {},
   "outputs": [
    {
     "data": {
      "text/plain": "<pandas.io.formats.style.Styler at 0x1426ed460>",
      "text/html": "<style type=\"text/css\">\n#T_2c51d_row10_col0, #T_2c51d_row10_col1, #T_2c51d_row10_col2, #T_2c51d_row10_col3, #T_2c51d_row10_col4, #T_2c51d_row10_col5 {\n  background: yellow;\n}\n</style>\n<table id=\"T_2c51d_\">\n  <thead>\n    <tr>\n      <th class=\"blank level0\" >&nbsp;</th>\n      <th class=\"col_heading level0 col0\" >MAE</th>\n      <th class=\"col_heading level0 col1\" >MSE</th>\n      <th class=\"col_heading level0 col2\" >RMSE</th>\n      <th class=\"col_heading level0 col3\" >R2</th>\n      <th class=\"col_heading level0 col4\" >RMSLE</th>\n      <th class=\"col_heading level0 col5\" >MAPE</th>\n    </tr>\n  </thead>\n  <tbody>\n    <tr>\n      <th id=\"T_2c51d_level0_row0\" class=\"row_heading level0 row0\" >0</th>\n      <td id=\"T_2c51d_row0_col0\" class=\"data row0 col0\" >344.9787</td>\n      <td id=\"T_2c51d_row0_col1\" class=\"data row0 col1\" >294527.7503</td>\n      <td id=\"T_2c51d_row0_col2\" class=\"data row0 col2\" >542.7041</td>\n      <td id=\"T_2c51d_row0_col3\" class=\"data row0 col3\" >0.9932</td>\n      <td id=\"T_2c51d_row0_col4\" class=\"data row0 col4\" >0.0159</td>\n      <td id=\"T_2c51d_row0_col5\" class=\"data row0 col5\" >0.0112</td>\n    </tr>\n    <tr>\n      <th id=\"T_2c51d_level0_row1\" class=\"row_heading level0 row1\" >1</th>\n      <td id=\"T_2c51d_row1_col0\" class=\"data row1 col0\" >265.4644</td>\n      <td id=\"T_2c51d_row1_col1\" class=\"data row1 col1\" >75380.8740</td>\n      <td id=\"T_2c51d_row1_col2\" class=\"data row1 col2\" >274.5558</td>\n      <td id=\"T_2c51d_row1_col3\" class=\"data row1 col3\" >0.9922</td>\n      <td id=\"T_2c51d_row1_col4\" class=\"data row1 col4\" >0.0116</td>\n      <td id=\"T_2c51d_row1_col5\" class=\"data row1 col5\" >0.0111</td>\n    </tr>\n    <tr>\n      <th id=\"T_2c51d_level0_row2\" class=\"row_heading level0 row2\" >2</th>\n      <td id=\"T_2c51d_row2_col0\" class=\"data row2 col0\" >236.2398</td>\n      <td id=\"T_2c51d_row2_col1\" class=\"data row2 col1\" >96691.4846</td>\n      <td id=\"T_2c51d_row2_col2\" class=\"data row2 col2\" >310.9525</td>\n      <td id=\"T_2c51d_row2_col3\" class=\"data row2 col3\" >0.9982</td>\n      <td id=\"T_2c51d_row2_col4\" class=\"data row2 col4\" >0.0103</td>\n      <td id=\"T_2c51d_row2_col5\" class=\"data row2 col5\" >0.0089</td>\n    </tr>\n    <tr>\n      <th id=\"T_2c51d_level0_row3\" class=\"row_heading level0 row3\" >3</th>\n      <td id=\"T_2c51d_row3_col0\" class=\"data row3 col0\" >341.0069</td>\n      <td id=\"T_2c51d_row3_col1\" class=\"data row3 col1\" >238617.2978</td>\n      <td id=\"T_2c51d_row3_col2\" class=\"data row3 col2\" >488.4847</td>\n      <td id=\"T_2c51d_row3_col3\" class=\"data row3 col3\" >0.9947</td>\n      <td id=\"T_2c51d_row3_col4\" class=\"data row3 col4\" >0.0280</td>\n      <td id=\"T_2c51d_row3_col5\" class=\"data row3 col5\" >0.0182</td>\n    </tr>\n    <tr>\n      <th id=\"T_2c51d_level0_row4\" class=\"row_heading level0 row4\" >4</th>\n      <td id=\"T_2c51d_row4_col0\" class=\"data row4 col0\" >836.8217</td>\n      <td id=\"T_2c51d_row4_col1\" class=\"data row4 col1\" >712488.7195</td>\n      <td id=\"T_2c51d_row4_col2\" class=\"data row4 col2\" >844.0905</td>\n      <td id=\"T_2c51d_row4_col3\" class=\"data row4 col3\" >0.9815</td>\n      <td id=\"T_2c51d_row4_col4\" class=\"data row4 col4\" >0.0341</td>\n      <td id=\"T_2c51d_row4_col5\" class=\"data row4 col5\" >0.0326</td>\n    </tr>\n    <tr>\n      <th id=\"T_2c51d_level0_row5\" class=\"row_heading level0 row5\" >5</th>\n      <td id=\"T_2c51d_row5_col0\" class=\"data row5 col0\" >199.3061</td>\n      <td id=\"T_2c51d_row5_col1\" class=\"data row5 col1\" >58228.9871</td>\n      <td id=\"T_2c51d_row5_col2\" class=\"data row5 col2\" >241.3068</td>\n      <td id=\"T_2c51d_row5_col3\" class=\"data row5 col3\" >0.9956</td>\n      <td id=\"T_2c51d_row5_col4\" class=\"data row5 col4\" >0.0084</td>\n      <td id=\"T_2c51d_row5_col5\" class=\"data row5 col5\" >0.0072</td>\n    </tr>\n    <tr>\n      <th id=\"T_2c51d_level0_row6\" class=\"row_heading level0 row6\" >6</th>\n      <td id=\"T_2c51d_row6_col0\" class=\"data row6 col0\" >655.8688</td>\n      <td id=\"T_2c51d_row6_col1\" class=\"data row6 col1\" >516338.6059</td>\n      <td id=\"T_2c51d_row6_col2\" class=\"data row6 col2\" >718.5671</td>\n      <td id=\"T_2c51d_row6_col3\" class=\"data row6 col3\" >0.9501</td>\n      <td id=\"T_2c51d_row6_col4\" class=\"data row6 col4\" >0.0332</td>\n      <td id=\"T_2c51d_row6_col5\" class=\"data row6 col5\" >0.0292</td>\n    </tr>\n    <tr>\n      <th id=\"T_2c51d_level0_row7\" class=\"row_heading level0 row7\" >7</th>\n      <td id=\"T_2c51d_row7_col0\" class=\"data row7 col0\" >316.8475</td>\n      <td id=\"T_2c51d_row7_col1\" class=\"data row7 col1\" >133565.8628</td>\n      <td id=\"T_2c51d_row7_col2\" class=\"data row7 col2\" >365.4666</td>\n      <td id=\"T_2c51d_row7_col3\" class=\"data row7 col3\" >0.9958</td>\n      <td id=\"T_2c51d_row7_col4\" class=\"data row7 col4\" >0.0166</td>\n      <td id=\"T_2c51d_row7_col5\" class=\"data row7 col5\" >0.0136</td>\n    </tr>\n    <tr>\n      <th id=\"T_2c51d_level0_row8\" class=\"row_heading level0 row8\" >8</th>\n      <td id=\"T_2c51d_row8_col0\" class=\"data row8 col0\" >405.8232</td>\n      <td id=\"T_2c51d_row8_col1\" class=\"data row8 col1\" >221064.8435</td>\n      <td id=\"T_2c51d_row8_col2\" class=\"data row8 col2\" >470.1753</td>\n      <td id=\"T_2c51d_row8_col3\" class=\"data row8 col3\" >0.9879</td>\n      <td id=\"T_2c51d_row8_col4\" class=\"data row8 col4\" >0.0213</td>\n      <td id=\"T_2c51d_row8_col5\" class=\"data row8 col5\" >0.0170</td>\n    </tr>\n    <tr>\n      <th id=\"T_2c51d_level0_row9\" class=\"row_heading level0 row9\" >9</th>\n      <td id=\"T_2c51d_row9_col0\" class=\"data row9 col0\" >756.2085</td>\n      <td id=\"T_2c51d_row9_col1\" class=\"data row9 col1\" >787750.8281</td>\n      <td id=\"T_2c51d_row9_col2\" class=\"data row9 col2\" >887.5533</td>\n      <td id=\"T_2c51d_row9_col3\" class=\"data row9 col3\" >0.9865</td>\n      <td id=\"T_2c51d_row9_col4\" class=\"data row9 col4\" >0.0511</td>\n      <td id=\"T_2c51d_row9_col5\" class=\"data row9 col5\" >0.0399</td>\n    </tr>\n    <tr>\n      <th id=\"T_2c51d_level0_row10\" class=\"row_heading level0 row10\" >Mean</th>\n      <td id=\"T_2c51d_row10_col0\" class=\"data row10 col0\" >435.8566</td>\n      <td id=\"T_2c51d_row10_col1\" class=\"data row10 col1\" >313465.5254</td>\n      <td id=\"T_2c51d_row10_col2\" class=\"data row10 col2\" >514.3857</td>\n      <td id=\"T_2c51d_row10_col3\" class=\"data row10 col3\" >0.9876</td>\n      <td id=\"T_2c51d_row10_col4\" class=\"data row10 col4\" >0.0230</td>\n      <td id=\"T_2c51d_row10_col5\" class=\"data row10 col5\" >0.0189</td>\n    </tr>\n    <tr>\n      <th id=\"T_2c51d_level0_row11\" class=\"row_heading level0 row11\" >SD</th>\n      <td id=\"T_2c51d_row11_col0\" class=\"data row11 col0\" >216.5550</td>\n      <td id=\"T_2c51d_row11_col1\" class=\"data row11 col1\" >253181.1984</td>\n      <td id=\"T_2c51d_row11_col2\" class=\"data row11 col2\" >221.0722</td>\n      <td id=\"T_2c51d_row11_col3\" class=\"data row11 col3\" >0.0134</td>\n      <td id=\"T_2c51d_row11_col4\" class=\"data row11 col4\" >0.0128</td>\n      <td id=\"T_2c51d_row11_col5\" class=\"data row11 col5\" >0.0106</td>\n    </tr>\n  </tbody>\n</table>\n"
     },
     "metadata": {},
     "output_type": "display_data"
    }
   ],
   "source": [
    "bagged_dt = ensemble_model(dt, n_estimators=50)"
   ]
  },
  {
   "cell_type": "code",
   "execution_count": 12,
   "metadata": {},
   "outputs": [
    {
     "data": {
      "text/plain": "<pandas.io.formats.style.Styler at 0x1427100d0>",
      "text/html": "<style type=\"text/css\">\n#T_2ae0d_row10_col0, #T_2ae0d_row10_col1, #T_2ae0d_row10_col2, #T_2ae0d_row10_col3, #T_2ae0d_row10_col4, #T_2ae0d_row10_col5 {\n  background: yellow;\n}\n</style>\n<table id=\"T_2ae0d_\">\n  <thead>\n    <tr>\n      <th class=\"blank level0\" >&nbsp;</th>\n      <th class=\"col_heading level0 col0\" >MAE</th>\n      <th class=\"col_heading level0 col1\" >MSE</th>\n      <th class=\"col_heading level0 col2\" >RMSE</th>\n      <th class=\"col_heading level0 col3\" >R2</th>\n      <th class=\"col_heading level0 col4\" >RMSLE</th>\n      <th class=\"col_heading level0 col5\" >MAPE</th>\n    </tr>\n  </thead>\n  <tbody>\n    <tr>\n      <th id=\"T_2ae0d_level0_row0\" class=\"row_heading level0 row0\" >0</th>\n      <td id=\"T_2ae0d_row0_col0\" class=\"data row0 col0\" >451.9375</td>\n      <td id=\"T_2ae0d_row0_col1\" class=\"data row0 col1\" >340533.1487</td>\n      <td id=\"T_2ae0d_row0_col2\" class=\"data row0 col2\" >583.5522</td>\n      <td id=\"T_2ae0d_row0_col3\" class=\"data row0 col3\" >0.9921</td>\n      <td id=\"T_2ae0d_row0_col4\" class=\"data row0 col4\" >0.0209</td>\n      <td id=\"T_2ae0d_row0_col5\" class=\"data row0 col5\" >0.0174</td>\n    </tr>\n    <tr>\n      <th id=\"T_2ae0d_level0_row1\" class=\"row_heading level0 row1\" >1</th>\n      <td id=\"T_2ae0d_row1_col0\" class=\"data row1 col0\" >546.6587</td>\n      <td id=\"T_2ae0d_row1_col1\" class=\"data row1 col1\" >407266.7976</td>\n      <td id=\"T_2ae0d_row1_col2\" class=\"data row1 col2\" >638.1746</td>\n      <td id=\"T_2ae0d_row1_col3\" class=\"data row1 col3\" >0.9578</td>\n      <td id=\"T_2ae0d_row1_col4\" class=\"data row1 col4\" >0.0261</td>\n      <td id=\"T_2ae0d_row1_col5\" class=\"data row1 col5\" >0.0224</td>\n    </tr>\n    <tr>\n      <th id=\"T_2ae0d_level0_row2\" class=\"row_heading level0 row2\" >2</th>\n      <td id=\"T_2ae0d_row2_col0\" class=\"data row2 col0\" >642.8936</td>\n      <td id=\"T_2ae0d_row2_col1\" class=\"data row2 col1\" >523238.6258</td>\n      <td id=\"T_2ae0d_row2_col2\" class=\"data row2 col2\" >723.3524</td>\n      <td id=\"T_2ae0d_row2_col3\" class=\"data row2 col3\" >0.9905</td>\n      <td id=\"T_2ae0d_row2_col4\" class=\"data row2 col4\" >0.0333</td>\n      <td id=\"T_2ae0d_row2_col5\" class=\"data row2 col5\" >0.0290</td>\n    </tr>\n    <tr>\n      <th id=\"T_2ae0d_level0_row3\" class=\"row_heading level0 row3\" >3</th>\n      <td id=\"T_2ae0d_row3_col0\" class=\"data row3 col0\" >418.7207</td>\n      <td id=\"T_2ae0d_row3_col1\" class=\"data row3 col1\" >300162.7046</td>\n      <td id=\"T_2ae0d_row3_col2\" class=\"data row3 col2\" >547.8711</td>\n      <td id=\"T_2ae0d_row3_col3\" class=\"data row3 col3\" >0.9933</td>\n      <td id=\"T_2ae0d_row3_col4\" class=\"data row3 col4\" >0.0312</td>\n      <td id=\"T_2ae0d_row3_col5\" class=\"data row3 col5\" >0.0222</td>\n    </tr>\n    <tr>\n      <th id=\"T_2ae0d_level0_row4\" class=\"row_heading level0 row4\" >4</th>\n      <td id=\"T_2ae0d_row4_col0\" class=\"data row4 col0\" >887.2604</td>\n      <td id=\"T_2ae0d_row4_col1\" class=\"data row4 col1\" >1007854.1266</td>\n      <td id=\"T_2ae0d_row4_col2\" class=\"data row4 col2\" >1003.9194</td>\n      <td id=\"T_2ae0d_row4_col3\" class=\"data row4 col3\" >0.9739</td>\n      <td id=\"T_2ae0d_row4_col4\" class=\"data row4 col4\" >0.0457</td>\n      <td id=\"T_2ae0d_row4_col5\" class=\"data row4 col5\" >0.0382</td>\n    </tr>\n    <tr>\n      <th id=\"T_2ae0d_level0_row5\" class=\"row_heading level0 row5\" >5</th>\n      <td id=\"T_2ae0d_row5_col0\" class=\"data row5 col0\" >540.9733</td>\n      <td id=\"T_2ae0d_row5_col1\" class=\"data row5 col1\" >301668.9536</td>\n      <td id=\"T_2ae0d_row5_col2\" class=\"data row5 col2\" >549.2440</td>\n      <td id=\"T_2ae0d_row5_col3\" class=\"data row5 col3\" >0.9770</td>\n      <td id=\"T_2ae0d_row5_col4\" class=\"data row5 col4\" >0.0208</td>\n      <td id=\"T_2ae0d_row5_col5\" class=\"data row5 col5\" >0.0201</td>\n    </tr>\n    <tr>\n      <th id=\"T_2ae0d_level0_row6\" class=\"row_heading level0 row6\" >6</th>\n      <td id=\"T_2ae0d_row6_col0\" class=\"data row6 col0\" >1121.8470</td>\n      <td id=\"T_2ae0d_row6_col1\" class=\"data row6 col1\" >1439756.1838</td>\n      <td id=\"T_2ae0d_row6_col2\" class=\"data row6 col2\" >1199.8984</td>\n      <td id=\"T_2ae0d_row6_col3\" class=\"data row6 col3\" >0.8608</td>\n      <td id=\"T_2ae0d_row6_col4\" class=\"data row6 col4\" >0.0581</td>\n      <td id=\"T_2ae0d_row6_col5\" class=\"data row6 col5\" >0.0504</td>\n    </tr>\n    <tr>\n      <th id=\"T_2ae0d_level0_row7\" class=\"row_heading level0 row7\" >7</th>\n      <td id=\"T_2ae0d_row7_col0\" class=\"data row7 col0\" >712.9030</td>\n      <td id=\"T_2ae0d_row7_col1\" class=\"data row7 col1\" >915760.4094</td>\n      <td id=\"T_2ae0d_row7_col2\" class=\"data row7 col2\" >956.9537</td>\n      <td id=\"T_2ae0d_row7_col3\" class=\"data row7 col3\" >0.9711</td>\n      <td id=\"T_2ae0d_row7_col4\" class=\"data row7 col4\" >0.0450</td>\n      <td id=\"T_2ae0d_row7_col5\" class=\"data row7 col5\" >0.0310</td>\n    </tr>\n    <tr>\n      <th id=\"T_2ae0d_level0_row8\" class=\"row_heading level0 row8\" >8</th>\n      <td id=\"T_2ae0d_row8_col0\" class=\"data row8 col0\" >798.1061</td>\n      <td id=\"T_2ae0d_row8_col1\" class=\"data row8 col1\" >735829.6699</td>\n      <td id=\"T_2ae0d_row8_col2\" class=\"data row8 col2\" >857.8051</td>\n      <td id=\"T_2ae0d_row8_col3\" class=\"data row8 col3\" >0.9597</td>\n      <td id=\"T_2ae0d_row8_col4\" class=\"data row8 col4\" >0.0347</td>\n      <td id=\"T_2ae0d_row8_col5\" class=\"data row8 col5\" >0.0315</td>\n    </tr>\n    <tr>\n      <th id=\"T_2ae0d_level0_row9\" class=\"row_heading level0 row9\" >9</th>\n      <td id=\"T_2ae0d_row9_col0\" class=\"data row9 col0\" >675.2487</td>\n      <td id=\"T_2ae0d_row9_col1\" class=\"data row9 col1\" >609414.9927</td>\n      <td id=\"T_2ae0d_row9_col2\" class=\"data row9 col2\" >780.6504</td>\n      <td id=\"T_2ae0d_row9_col3\" class=\"data row9 col3\" >0.9895</td>\n      <td id=\"T_2ae0d_row9_col4\" class=\"data row9 col4\" >0.0347</td>\n      <td id=\"T_2ae0d_row9_col5\" class=\"data row9 col5\" >0.0299</td>\n    </tr>\n    <tr>\n      <th id=\"T_2ae0d_level0_row10\" class=\"row_heading level0 row10\" >Mean</th>\n      <td id=\"T_2ae0d_row10_col0\" class=\"data row10 col0\" >679.6549</td>\n      <td id=\"T_2ae0d_row10_col1\" class=\"data row10 col1\" >658148.5613</td>\n      <td id=\"T_2ae0d_row10_col2\" class=\"data row10 col2\" >784.1421</td>\n      <td id=\"T_2ae0d_row10_col3\" class=\"data row10 col3\" >0.9666</td>\n      <td id=\"T_2ae0d_row10_col4\" class=\"data row10 col4\" >0.0351</td>\n      <td id=\"T_2ae0d_row10_col5\" class=\"data row10 col5\" >0.0292</td>\n    </tr>\n    <tr>\n      <th id=\"T_2ae0d_level0_row11\" class=\"row_heading level0 row11\" >SD</th>\n      <td id=\"T_2ae0d_row11_col0\" class=\"data row11 col0\" >202.9786</td>\n      <td id=\"T_2ae0d_row11_col1\" class=\"data row11 col1\" >352878.3250</td>\n      <td id=\"T_2ae0d_row11_col2\" class=\"data row11 col2\" >208.0137</td>\n      <td id=\"T_2ae0d_row11_col3\" class=\"data row11 col3\" >0.0373</td>\n      <td id=\"T_2ae0d_row11_col4\" class=\"data row11 col4\" >0.0112</td>\n      <td id=\"T_2ae0d_row11_col5\" class=\"data row11 col5\" >0.0093</td>\n    </tr>\n  </tbody>\n</table>\n"
     },
     "metadata": {},
     "output_type": "display_data"
    }
   ],
   "source": [
    "boosted_dt = ensemble_model(dt, method = 'Boosting')"
   ]
  },
  {
   "cell_type": "markdown",
   "metadata": {},
   "source": [
    "# 7. Blend Models"
   ]
  },
  {
   "cell_type": "code",
   "execution_count": 13,
   "metadata": {},
   "outputs": [
    {
     "ename": "TypeError",
     "evalue": "blend_models() missing 1 required positional argument: 'estimator_list'",
     "output_type": "error",
     "traceback": [
      "\u001B[0;31m---------------------------------------------------------------------------\u001B[0m",
      "\u001B[0;31mTypeError\u001B[0m                                 Traceback (most recent call last)",
      "\u001B[0;32m/var/folders/mq/db9ycln11xsdmvbmf1bcjz2r0000gn/T/ipykernel_31489/2382770891.py\u001B[0m in \u001B[0;36m<module>\u001B[0;34m\u001B[0m\n\u001B[0;32m----> 1\u001B[0;31m \u001B[0mblender\u001B[0m \u001B[0;34m=\u001B[0m \u001B[0mblend_models\u001B[0m\u001B[0;34m(\u001B[0m\u001B[0;34m)\u001B[0m\u001B[0;34m\u001B[0m\u001B[0;34m\u001B[0m\u001B[0m\n\u001B[0m",
      "\u001B[0;31mTypeError\u001B[0m: blend_models() missing 1 required positional argument: 'estimator_list'"
     ]
    }
   ],
   "source": [
    "blender = blend_models()"
   ]
  },
  {
   "cell_type": "markdown",
   "metadata": {},
   "source": [
    "# 8. Stack Models"
   ]
  },
  {
   "cell_type": "code",
   "execution_count": null,
   "metadata": {},
   "outputs": [],
   "source": [
    "stacker = stack_models(estimator_list = compare_models(n_select=5, fold = 5, whitelist = models(type='ensemble').index.tolist()))"
   ]
  },
  {
   "cell_type": "markdown",
   "metadata": {},
   "source": [
    "# 9. Analyze Model"
   ]
  },
  {
   "cell_type": "code",
   "execution_count": null,
   "metadata": {},
   "outputs": [],
   "source": [
    "plot_model(dt)"
   ]
  },
  {
   "cell_type": "code",
   "execution_count": null,
   "metadata": {},
   "outputs": [],
   "source": [
    "plot_model(dt, plot = 'error')"
   ]
  },
  {
   "cell_type": "code",
   "execution_count": null,
   "metadata": {},
   "outputs": [],
   "source": [
    "plot_model(dt, plot = 'feature')"
   ]
  },
  {
   "cell_type": "code",
   "execution_count": null,
   "metadata": {},
   "outputs": [],
   "source": [
    "evaluate_model(dt)"
   ]
  },
  {
   "cell_type": "markdown",
   "metadata": {},
   "source": [
    "# 10. Interpret Model"
   ]
  },
  {
   "cell_type": "code",
   "execution_count": null,
   "metadata": {},
   "outputs": [],
   "source": [
    "interpret_model(lightgbm)"
   ]
  },
  {
   "cell_type": "code",
   "execution_count": null,
   "metadata": {},
   "outputs": [],
   "source": [
    "interpret_model(lightgbm, plot = 'correlation')"
   ]
  },
  {
   "cell_type": "code",
   "execution_count": null,
   "metadata": {},
   "outputs": [],
   "source": [
    "interpret_model(lightgbm, plot = 'reason', observation = 12)"
   ]
  },
  {
   "cell_type": "markdown",
   "metadata": {},
   "source": [
    "# 11. AutoML()"
   ]
  },
  {
   "cell_type": "code",
   "execution_count": null,
   "metadata": {},
   "outputs": [],
   "source": [
    "best = automl(optimize = 'MAE')\n",
    "best"
   ]
  },
  {
   "cell_type": "markdown",
   "metadata": {},
   "source": [
    "# 12. Predict Model"
   ]
  },
  {
   "cell_type": "code",
   "execution_count": null,
   "metadata": {},
   "outputs": [],
   "source": [
    "pred_holdouts = predict_model(lightgbm)\n",
    "pred_holdouts.head()"
   ]
  },
  {
   "cell_type": "code",
   "execution_count": null,
   "metadata": {},
   "outputs": [],
   "source": [
    "new_data = data.copy()\n",
    "new_data.drop(['charges'], axis=1, inplace=True)\n",
    "predict_new = predict_model(best, data=new_data)\n",
    "predict_new.head()"
   ]
  },
  {
   "cell_type": "markdown",
   "metadata": {},
   "source": [
    "# 13. Save / Load Model"
   ]
  },
  {
   "cell_type": "code",
   "execution_count": null,
   "metadata": {},
   "outputs": [],
   "source": [
    "save_model(best, model_name='best-model')"
   ]
  },
  {
   "cell_type": "code",
   "execution_count": null,
   "metadata": {},
   "outputs": [],
   "source": [
    "loaded_bestmodel = load_model('best-model')\n",
    "print(loaded_bestmodel)"
   ]
  },
  {
   "cell_type": "code",
   "execution_count": null,
   "metadata": {},
   "outputs": [],
   "source": [
    "from sklearn import set_config\n",
    "set_config(display='diagram')\n",
    "loaded_bestmodel[0]"
   ]
  },
  {
   "cell_type": "code",
   "execution_count": null,
   "metadata": {},
   "outputs": [],
   "source": [
    "from sklearn import set_config\n",
    "set_config(display='text')"
   ]
  },
  {
   "cell_type": "markdown",
   "metadata": {},
   "source": [
    "# 14. Deploy Model"
   ]
  },
  {
   "cell_type": "code",
   "execution_count": null,
   "metadata": {},
   "outputs": [],
   "source": [
    "deploy_model(best, model_name = 'best-aws', authentication = {'bucket' : 'pycaret-test'})"
   ]
  },
  {
   "cell_type": "markdown",
   "metadata": {},
   "source": [
    "# 15. Get Config / Set Config"
   ]
  },
  {
   "cell_type": "code",
   "execution_count": null,
   "metadata": {},
   "outputs": [],
   "source": [
    "X_train = get_config('X_train')\n",
    "X_train.head()"
   ]
  },
  {
   "cell_type": "code",
   "execution_count": null,
   "metadata": {},
   "outputs": [],
   "source": [
    "get_config('seed')"
   ]
  },
  {
   "cell_type": "code",
   "execution_count": null,
   "metadata": {},
   "outputs": [],
   "source": [
    "from pycaret.regression import set_config\n",
    "set_config('seed', 999)"
   ]
  },
  {
   "cell_type": "code",
   "execution_count": null,
   "metadata": {},
   "outputs": [],
   "source": [
    "get_config('seed')"
   ]
  },
  {
   "cell_type": "markdown",
   "metadata": {},
   "source": [
    "# 16. MLFlow UI"
   ]
  },
  {
   "cell_type": "code",
   "execution_count": null,
   "metadata": {},
   "outputs": [],
   "source": [
    "!mlflow ui"
   ]
  },
  {
   "cell_type": "markdown",
   "metadata": {},
   "source": [
    "# End\n",
    "Thank you. For more information / tutorials on PyCaret, please visit https://www.pycaret.org"
   ]
  }
 ],
 "metadata": {
  "kernelspec": {
   "display_name": "Python 3",
   "language": "python",
   "name": "python3"
  },
  "language_info": {
   "codemirror_mode": {
    "name": "ipython",
    "version": 3
   },
   "file_extension": ".py",
   "mimetype": "text/x-python",
   "name": "python",
   "nbconvert_exporter": "python",
   "pygments_lexer": "ipython3",
   "version": "3.7.4"
  }
 },
 "nbformat": 4,
 "nbformat_minor": 2
}