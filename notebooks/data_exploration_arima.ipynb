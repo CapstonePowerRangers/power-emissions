{
 "cells": [
  {
   "cell_type": "code",
   "execution_count": 1,
   "metadata": {
    "collapsed": true
   },
   "outputs": [],
   "source": [
    "from library.common import Database\n",
    "import pandas as pd\n",
    "\n",
    "db = Database()\n",
    "db_table = 'owid_co2_greenhouse_gas_emissions'\n",
    "owid_df = pd.read_sql(db_table, db.config)\n",
    "\n",
    "owid_df\n",
    "full_features = list(owid_df.columns)\n",
    "#drop continuents\n",
    "owid_df = owid_df.dropna(subset = ['iso_code']).copy()\n",
    "# owid_df"
   ]
  },
  {
   "cell_type": "code",
   "execution_count": 2,
   "outputs": [],
   "source": [
    "selected = \\\n",
    "    ['iso_code',\n",
    "     'year',\n",
    "     'co2',\n",
    "     'consumption_co2',\n",
    "     'co2_growth_abs',\n",
    "     'trade_co2',\n",
    "     'co2_per_gdp',\n",
    "     'co2_per_unit_energy',\n",
    "     'coal_co2',\n",
    "     'cement_co2',\n",
    "     'flaring_co2',\n",
    "     'gas_co2',\n",
    "     'oil_co2',\n",
    "     'other_industry_co2',\n",
    "     'population',\n",
    "     'gdp',\n",
    "     'primary_energy_consumption']\n"
   ],
   "metadata": {
    "collapsed": false,
    "pycharm": {
     "name": "#%%\n"
    }
   }
  },
  {
   "cell_type": "code",
   "execution_count": 3,
   "outputs": [],
   "source": [
    "dataset = owid_df[selected].copy()\n",
    "\n",
    "dataset = dataset.fillna(0)\n",
    "global_df = dataset.groupby('year').sum().reset_index(drop = False)\n",
    "timeseries = global_df[:-2].copy()"
   ],
   "metadata": {
    "collapsed": false,
    "pycharm": {
     "name": "#%%\n"
    }
   }
  },
  {
   "cell_type": "code",
   "execution_count": 4,
   "outputs": [
    {
     "name": "stdout",
     "output_type": "stream",
     "text": [
      "co2\n",
      "Performing stepwise search to minimize aic\n"
     ]
    },
    {
     "name": "stderr",
     "output_type": "stream",
     "text": [
      "/Users/koonleong/Documents/UM/UMMADS/Courses - Current/SIADS697-Capstone/power_emissions/venv/lib/python3.7/site-packages/pmdarima/arima/_validation.py:77: UserWarning: stepwise model cannot be fit in parallel (n_jobs=1). Falling back to stepwise parameter search.\n",
      "  'Falling back to stepwise parameter search.' % n_jobs)\n"
     ]
    },
    {
     "name": "stdout",
     "output_type": "stream",
     "text": [
      " ARIMA(2,1,2)(0,0,0)[0] intercept   : AIC=321145.537, Time=2.32 sec\n",
      " ARIMA(0,1,0)(0,0,0)[0] intercept   : AIC=322229.743, Time=0.45 sec\n",
      " ARIMA(1,1,0)(0,0,0)[0] intercept   : AIC=321305.951, Time=0.92 sec\n",
      " ARIMA(0,1,1)(0,0,0)[0] intercept   : AIC=321174.720, Time=1.24 sec\n",
      " ARIMA(0,1,0)(0,0,0)[0]             : AIC=322227.743, Time=0.23 sec\n",
      " ARIMA(1,1,2)(0,0,0)[0] intercept   : AIC=321143.783, Time=1.91 sec\n",
      " ARIMA(0,1,2)(0,0,0)[0] intercept   : AIC=321141.900, Time=1.61 sec\n",
      " ARIMA(0,1,3)(0,0,0)[0] intercept   : AIC=321143.750, Time=2.18 sec\n",
      " ARIMA(1,1,1)(0,0,0)[0] intercept   : AIC=321142.089, Time=2.84 sec\n",
      " ARIMA(1,1,3)(0,0,0)[0] intercept   : AIC=321145.890, Time=4.41 sec\n",
      " ARIMA(0,1,2)(0,0,0)[0]             : AIC=321139.900, Time=0.66 sec\n",
      " ARIMA(0,1,1)(0,0,0)[0]             : AIC=321172.720, Time=0.45 sec\n",
      " ARIMA(1,1,2)(0,0,0)[0]             : AIC=321141.783, Time=0.77 sec\n",
      " ARIMA(0,1,3)(0,0,0)[0]             : AIC=321141.750, Time=0.92 sec\n",
      " ARIMA(1,1,1)(0,0,0)[0]             : AIC=321140.089, Time=0.82 sec\n",
      " ARIMA(1,1,3)(0,0,0)[0]             : AIC=321143.890, Time=1.79 sec\n",
      "\n",
      "Best model:  ARIMA(0,1,2)(0,0,0)[0]          \n",
      "Total fit time: 23.514 seconds\n",
      "consumption_co2\n",
      "Performing stepwise search to minimize aic\n"
     ]
    },
    {
     "name": "stderr",
     "output_type": "stream",
     "text": [
      "/Users/koonleong/Documents/UM/UMMADS/Courses - Current/SIADS697-Capstone/power_emissions/venv/lib/python3.7/site-packages/pmdarima/arima/_validation.py:77: UserWarning: stepwise model cannot be fit in parallel (n_jobs=1). Falling back to stepwise parameter search.\n",
      "  'Falling back to stepwise parameter search.' % n_jobs)\n"
     ]
    },
    {
     "name": "stdout",
     "output_type": "stream",
     "text": [
      " ARIMA(2,1,2)(0,0,0)[0] intercept   : AIC=320004.949, Time=6.14 sec\n",
      " ARIMA(0,1,0)(0,0,0)[0] intercept   : AIC=320789.578, Time=0.53 sec\n",
      " ARIMA(1,1,0)(0,0,0)[0] intercept   : AIC=320099.928, Time=1.02 sec\n",
      " ARIMA(0,1,1)(0,0,0)[0] intercept   : AIC=320022.992, Time=1.45 sec\n",
      " ARIMA(0,1,0)(0,0,0)[0]             : AIC=320787.578, Time=0.25 sec\n",
      " ARIMA(1,1,2)(0,0,0)[0] intercept   : AIC=320003.098, Time=2.03 sec\n",
      " ARIMA(0,1,2)(0,0,0)[0] intercept   : AIC=320001.055, Time=1.79 sec\n",
      " ARIMA(0,1,3)(0,0,0)[0] intercept   : AIC=320003.010, Time=2.40 sec\n",
      " ARIMA(1,1,1)(0,0,0)[0] intercept   : AIC=320001.928, Time=2.15 sec\n",
      " ARIMA(1,1,3)(0,0,0)[0] intercept   : AIC=320004.997, Time=3.25 sec\n",
      " ARIMA(0,1,2)(0,0,0)[0]             : AIC=319999.055, Time=0.78 sec\n",
      " ARIMA(0,1,1)(0,0,0)[0]             : AIC=320020.992, Time=0.54 sec\n",
      " ARIMA(1,1,2)(0,0,0)[0]             : AIC=320001.098, Time=0.87 sec\n",
      " ARIMA(0,1,3)(0,0,0)[0]             : AIC=320001.010, Time=1.07 sec\n",
      " ARIMA(1,1,1)(0,0,0)[0]             : AIC=319999.928, Time=0.67 sec\n",
      " ARIMA(1,1,3)(0,0,0)[0]             : AIC=320002.997, Time=1.16 sec\n",
      "\n",
      "Best model:  ARIMA(0,1,2)(0,0,0)[0]          \n",
      "Total fit time: 26.120 seconds\n",
      "co2_growth_abs\n",
      "Performing stepwise search to minimize aic\n"
     ]
    },
    {
     "name": "stderr",
     "output_type": "stream",
     "text": [
      "/Users/koonleong/Documents/UM/UMMADS/Courses - Current/SIADS697-Capstone/power_emissions/venv/lib/python3.7/site-packages/pmdarima/arima/_validation.py:77: UserWarning: stepwise model cannot be fit in parallel (n_jobs=1). Falling back to stepwise parameter search.\n",
      "  'Falling back to stepwise parameter search.' % n_jobs)\n"
     ]
    },
    {
     "name": "stdout",
     "output_type": "stream",
     "text": [
      " ARIMA(2,1,2)(0,0,0)[0] intercept   : AIC=220613.597, Time=13.31 sec\n",
      " ARIMA(0,1,0)(0,0,0)[0] intercept   : AIC=229476.767, Time=0.47 sec\n",
      " ARIMA(1,1,0)(0,0,0)[0] intercept   : AIC=226593.057, Time=0.99 sec\n",
      " ARIMA(0,1,1)(0,0,0)[0] intercept   : AIC=221467.417, Time=3.40 sec\n",
      " ARIMA(0,1,0)(0,0,0)[0]             : AIC=229474.767, Time=0.24 sec\n",
      " ARIMA(1,1,2)(0,0,0)[0] intercept   : AIC=220621.183, Time=8.67 sec\n",
      " ARIMA(2,1,1)(0,0,0)[0] intercept   : AIC=220757.533, Time=8.04 sec\n",
      " ARIMA(3,1,2)(0,0,0)[0] intercept   : AIC=220332.953, Time=26.75 sec\n",
      " ARIMA(3,1,1)(0,0,0)[0] intercept   : AIC=220380.142, Time=12.47 sec\n",
      " ARIMA(4,1,2)(0,0,0)[0] intercept   : AIC=220359.091, Time=22.96 sec\n",
      " ARIMA(3,1,3)(0,0,0)[0] intercept   : AIC=219769.771, Time=21.98 sec\n",
      " ARIMA(2,1,3)(0,0,0)[0] intercept   : AIC=220570.624, Time=27.11 sec\n",
      " ARIMA(4,1,3)(0,0,0)[0] intercept   : AIC=219738.367, Time=35.20 sec\n",
      " ARIMA(5,1,3)(0,0,0)[0] intercept   : AIC=219739.940, Time=40.96 sec\n",
      " ARIMA(4,1,4)(0,0,0)[0] intercept   : AIC=219479.932, Time=42.51 sec\n",
      " ARIMA(3,1,4)(0,0,0)[0] intercept   : AIC=219555.974, Time=40.78 sec\n",
      " ARIMA(5,1,4)(0,0,0)[0] intercept   : AIC=219483.272, Time=45.08 sec\n",
      " ARIMA(4,1,5)(0,0,0)[0] intercept   : AIC=219369.725, Time=64.48 sec\n",
      " ARIMA(3,1,5)(0,0,0)[0] intercept   : AIC=219742.882, Time=42.47 sec\n",
      " ARIMA(5,1,5)(0,0,0)[0] intercept   : AIC=219593.543, Time=60.57 sec\n",
      " ARIMA(4,1,5)(0,0,0)[0]             : AIC=219345.159, Time=24.55 sec\n",
      " ARIMA(3,1,5)(0,0,0)[0]             : AIC=219740.882, Time=14.29 sec\n",
      " ARIMA(4,1,4)(0,0,0)[0]             : AIC=219477.932, Time=16.02 sec\n",
      " ARIMA(5,1,5)(0,0,0)[0]             : AIC=219600.506, Time=19.78 sec\n",
      " ARIMA(3,1,4)(0,0,0)[0]             : AIC=219551.992, Time=14.65 sec\n",
      " ARIMA(5,1,4)(0,0,0)[0]             : AIC=219480.991, Time=16.28 sec\n",
      "\n",
      "Best model:  ARIMA(4,1,5)(0,0,0)[0]          \n",
      "Total fit time: 624.033 seconds\n",
      "trade_co2\n",
      "Performing stepwise search to minimize aic\n"
     ]
    },
    {
     "name": "stderr",
     "output_type": "stream",
     "text": [
      "/Users/koonleong/Documents/UM/UMMADS/Courses - Current/SIADS697-Capstone/power_emissions/venv/lib/python3.7/site-packages/pmdarima/arima/_validation.py:77: UserWarning: stepwise model cannot be fit in parallel (n_jobs=1). Falling back to stepwise parameter search.\n",
      "  'Falling back to stepwise parameter search.' % n_jobs)\n"
     ]
    },
    {
     "name": "stdout",
     "output_type": "stream",
     "text": [
      " ARIMA(2,0,2)(0,0,0)[0]             : AIC=192355.601, Time=2.76 sec\n",
      " ARIMA(0,0,0)(0,0,0)[0]             : AIC=227493.055, Time=0.20 sec\n",
      " ARIMA(1,0,0)(0,0,0)[0]             : AIC=193296.585, Time=0.58 sec\n",
      " ARIMA(0,0,1)(0,0,0)[0]             : AIC=209637.350, Time=0.74 sec\n",
      " ARIMA(1,0,2)(0,0,0)[0]             : AIC=192360.700, Time=1.35 sec\n",
      " ARIMA(2,0,1)(0,0,0)[0]             : AIC=193178.856, Time=2.24 sec\n",
      " ARIMA(3,0,2)(0,0,0)[0]             : AIC=192374.076, Time=2.25 sec\n",
      " ARIMA(2,0,3)(0,0,0)[0]             : AIC=192296.718, Time=6.77 sec\n",
      " ARIMA(1,0,3)(0,0,0)[0]             : AIC=192357.318, Time=2.18 sec\n",
      " ARIMA(3,0,3)(0,0,0)[0]             : AIC=192295.045, Time=8.01 sec\n",
      " ARIMA(4,0,3)(0,0,0)[0]             : AIC=192272.104, Time=12.55 sec\n",
      " ARIMA(4,0,2)(0,0,0)[0]             : AIC=192277.597, Time=8.66 sec\n",
      " ARIMA(5,0,3)(0,0,0)[0]             : AIC=191629.153, Time=13.15 sec\n",
      " ARIMA(5,0,2)(0,0,0)[0]             : AIC=191632.476, Time=10.13 sec\n",
      " ARIMA(5,0,4)(0,0,0)[0]             : AIC=191521.448, Time=14.35 sec\n",
      " ARIMA(4,0,4)(0,0,0)[0]             : AIC=191968.857, Time=10.60 sec\n",
      " ARIMA(5,0,5)(0,0,0)[0]             : AIC=191518.039, Time=18.69 sec\n",
      " ARIMA(4,0,5)(0,0,0)[0]             : AIC=191758.715, Time=17.14 sec\n",
      " ARIMA(5,0,5)(0,0,0)[0] intercept   : AIC=191520.178, Time=54.60 sec\n",
      "\n",
      "Best model:  ARIMA(5,0,5)(0,0,0)[0]          \n",
      "Total fit time: 186.959 seconds\n",
      "co2_per_gdp\n",
      "Performing stepwise search to minimize aic\n"
     ]
    },
    {
     "name": "stderr",
     "output_type": "stream",
     "text": [
      "/Users/koonleong/Documents/UM/UMMADS/Courses - Current/SIADS697-Capstone/power_emissions/venv/lib/python3.7/site-packages/pmdarima/arima/_validation.py:77: UserWarning: stepwise model cannot be fit in parallel (n_jobs=1). Falling back to stepwise parameter search.\n",
      "  'Falling back to stepwise parameter search.' % n_jobs)\n"
     ]
    },
    {
     "name": "stdout",
     "output_type": "stream",
     "text": [
      " ARIMA(2,0,2)(0,0,0)[0]             : AIC=-24885.696, Time=7.14 sec\n",
      " ARIMA(0,0,0)(0,0,0)[0]             : AIC=25672.059, Time=0.69 sec\n",
      " ARIMA(1,0,0)(0,0,0)[0]             : AIC=-22411.393, Time=0.41 sec\n",
      " ARIMA(0,0,1)(0,0,0)[0]             : AIC=6598.875, Time=0.93 sec\n",
      " ARIMA(1,0,2)(0,0,0)[0]             : AIC=-24860.462, Time=1.37 sec\n",
      " ARIMA(2,0,1)(0,0,0)[0]             : AIC=-24866.752, Time=2.55 sec\n",
      " ARIMA(3,0,2)(0,0,0)[0]             : AIC=-24863.860, Time=5.58 sec\n",
      " ARIMA(2,0,3)(0,0,0)[0]             : AIC=-24865.428, Time=7.05 sec\n",
      " ARIMA(1,0,1)(0,0,0)[0]             : AIC=-24824.679, Time=0.89 sec\n",
      " ARIMA(1,0,3)(0,0,0)[0]             : AIC=-24869.692, Time=1.81 sec\n",
      " ARIMA(3,0,1)(0,0,0)[0]             : AIC=-24881.640, Time=3.65 sec\n",
      " ARIMA(3,0,3)(0,0,0)[0]             : AIC=-24873.495, Time=11.94 sec\n",
      " ARIMA(2,0,2)(0,0,0)[0] intercept   : AIC=-24935.564, Time=21.26 sec\n",
      " ARIMA(1,0,2)(0,0,0)[0] intercept   : AIC=-24947.584, Time=11.03 sec\n",
      " ARIMA(0,0,2)(0,0,0)[0] intercept   : AIC=-7742.372, Time=8.34 sec\n",
      " ARIMA(1,0,1)(0,0,0)[0] intercept   : AIC=-24920.800, Time=9.50 sec\n",
      " ARIMA(1,0,3)(0,0,0)[0] intercept   : AIC=-24952.755, Time=17.94 sec\n",
      " ARIMA(0,0,3)(0,0,0)[0] intercept   : AIC=-12299.492, Time=7.66 sec\n",
      " ARIMA(2,0,3)(0,0,0)[0] intercept   : AIC=-24526.298, Time=28.03 sec\n",
      " ARIMA(1,0,4)(0,0,0)[0] intercept   : AIC=-24962.833, Time=21.74 sec\n",
      " ARIMA(0,0,4)(0,0,0)[0] intercept   : AIC=-15642.692, Time=9.30 sec\n",
      " ARIMA(2,0,4)(0,0,0)[0] intercept   : AIC=-24954.244, Time=17.90 sec\n",
      " ARIMA(1,0,5)(0,0,0)[0] intercept   : AIC=-24979.753, Time=27.49 sec\n",
      " ARIMA(0,0,5)(0,0,0)[0] intercept   : AIC=-17747.090, Time=12.96 sec\n",
      " ARIMA(2,0,5)(0,0,0)[0] intercept   : AIC=-24977.997, Time=37.63 sec\n",
      " ARIMA(1,0,5)(0,0,0)[0]             : AIC=-24905.051, Time=3.26 sec\n",
      "\n",
      "Best model:  ARIMA(1,0,5)(0,0,0)[0] intercept\n",
      "Total fit time: 278.080 seconds\n",
      "co2_per_unit_energy\n",
      "Performing stepwise search to minimize aic\n"
     ]
    },
    {
     "name": "stderr",
     "output_type": "stream",
     "text": [
      "/Users/koonleong/Documents/UM/UMMADS/Courses - Current/SIADS697-Capstone/power_emissions/venv/lib/python3.7/site-packages/pmdarima/arima/_validation.py:77: UserWarning: stepwise model cannot be fit in parallel (n_jobs=1). Falling back to stepwise parameter search.\n",
      "  'Falling back to stepwise parameter search.' % n_jobs)\n"
     ]
    },
    {
     "name": "stdout",
     "output_type": "stream",
     "text": [
      " ARIMA(2,0,2)(0,0,0)[0]             : AIC=-46417.493, Time=5.78 sec\n",
      " ARIMA(0,0,0)(0,0,0)[0]             : AIC=-13779.535, Time=0.64 sec\n",
      " ARIMA(1,0,0)(0,0,0)[0]             : AIC=-45680.878, Time=0.40 sec\n",
      " ARIMA(0,0,1)(0,0,0)[0]             : AIC=-30233.648, Time=1.38 sec\n",
      " ARIMA(1,0,2)(0,0,0)[0]             : AIC=-46171.675, Time=2.96 sec\n",
      " ARIMA(2,0,1)(0,0,0)[0]             : AIC=-46348.248, Time=5.13 sec\n",
      " ARIMA(3,0,2)(0,0,0)[0]             : AIC=inf, Time=12.28 sec\n",
      " ARIMA(2,0,3)(0,0,0)[0]             : AIC=-46422.973, Time=3.33 sec\n",
      " ARIMA(1,0,3)(0,0,0)[0]             : AIC=-46385.296, Time=5.63 sec\n",
      " ARIMA(3,0,3)(0,0,0)[0]             : AIC=-46420.784, Time=6.71 sec\n",
      " ARIMA(2,0,4)(0,0,0)[0]             : AIC=-46415.446, Time=7.48 sec\n",
      " ARIMA(1,0,4)(0,0,0)[0]             : AIC=-46421.667, Time=4.04 sec\n",
      " ARIMA(3,0,4)(0,0,0)[0]             : AIC=-46424.525, Time=13.18 sec\n",
      " ARIMA(4,0,4)(0,0,0)[0]             : AIC=-46424.053, Time=16.66 sec\n",
      " ARIMA(3,0,5)(0,0,0)[0]             : AIC=-46423.090, Time=5.36 sec\n",
      " ARIMA(2,0,5)(0,0,0)[0]             : AIC=-46418.174, Time=10.52 sec\n",
      " ARIMA(4,0,3)(0,0,0)[0]             : AIC=-46428.815, Time=12.68 sec\n",
      " ARIMA(4,0,2)(0,0,0)[0]             : AIC=-46421.184, Time=9.98 sec\n",
      " ARIMA(5,0,3)(0,0,0)[0]             : AIC=-46414.241, Time=7.84 sec\n",
      " ARIMA(5,0,2)(0,0,0)[0]             : AIC=-46421.492, Time=13.35 sec\n",
      " ARIMA(5,0,4)(0,0,0)[0]             : AIC=-46394.999, Time=17.73 sec\n",
      " ARIMA(4,0,3)(0,0,0)[0] intercept   : AIC=-46612.854, Time=32.80 sec\n",
      " ARIMA(3,0,3)(0,0,0)[0] intercept   : AIC=-46617.833, Time=28.33 sec\n",
      " ARIMA(2,0,3)(0,0,0)[0] intercept   : AIC=-46617.871, Time=36.50 sec\n",
      " ARIMA(1,0,3)(0,0,0)[0] intercept   : AIC=-46608.203, Time=18.39 sec\n",
      " ARIMA(2,0,2)(0,0,0)[0] intercept   : AIC=-46611.190, Time=22.73 sec\n",
      " ARIMA(2,0,4)(0,0,0)[0] intercept   : AIC=-46624.206, Time=23.47 sec\n",
      " ARIMA(1,0,4)(0,0,0)[0] intercept   : AIC=-46627.158, Time=27.88 sec\n",
      " ARIMA(0,0,4)(0,0,0)[0] intercept   : AIC=-43736.190, Time=12.42 sec\n",
      " ARIMA(1,0,5)(0,0,0)[0] intercept   : AIC=-46625.250, Time=32.65 sec\n",
      " ARIMA(0,0,3)(0,0,0)[0] intercept   : AIC=-42621.365, Time=9.92 sec\n",
      " ARIMA(0,0,5)(0,0,0)[0] intercept   : AIC=-44414.763, Time=19.79 sec\n",
      " ARIMA(2,0,5)(0,0,0)[0] intercept   : AIC=-46623.267, Time=28.60 sec\n",
      "\n",
      "Best model:  ARIMA(1,0,4)(0,0,0)[0] intercept\n",
      "Total fit time: 456.540 seconds\n",
      "coal_co2\n",
      "Performing stepwise search to minimize aic\n"
     ]
    },
    {
     "name": "stderr",
     "output_type": "stream",
     "text": [
      "/Users/koonleong/Documents/UM/UMMADS/Courses - Current/SIADS697-Capstone/power_emissions/venv/lib/python3.7/site-packages/pmdarima/arima/_validation.py:77: UserWarning: stepwise model cannot be fit in parallel (n_jobs=1). Falling back to stepwise parameter search.\n",
      "  'Falling back to stepwise parameter search.' % n_jobs)\n"
     ]
    },
    {
     "name": "stdout",
     "output_type": "stream",
     "text": [
      " ARIMA(2,1,2)(0,0,0)[0] intercept   : AIC=286876.657, Time=12.44 sec\n",
      " ARIMA(0,1,0)(0,0,0)[0] intercept   : AIC=287959.855, Time=1.08 sec\n",
      " ARIMA(1,1,0)(0,0,0)[0] intercept   : AIC=287264.299, Time=1.11 sec\n",
      " ARIMA(0,1,1)(0,0,0)[0] intercept   : AIC=287066.222, Time=1.50 sec\n",
      " ARIMA(0,1,0)(0,0,0)[0]             : AIC=287957.855, Time=0.23 sec\n",
      " ARIMA(1,1,2)(0,0,0)[0] intercept   : AIC=286882.737, Time=5.31 sec\n",
      " ARIMA(2,1,1)(0,0,0)[0] intercept   : AIC=286879.658, Time=4.36 sec\n",
      " ARIMA(3,1,2)(0,0,0)[0] intercept   : AIC=286791.998, Time=30.00 sec\n",
      " ARIMA(3,1,1)(0,0,0)[0] intercept   : AIC=286877.961, Time=7.46 sec\n",
      " ARIMA(4,1,2)(0,0,0)[0] intercept   : AIC=286448.622, Time=25.40 sec\n",
      " ARIMA(4,1,1)(0,0,0)[0] intercept   : AIC=286873.128, Time=11.30 sec\n",
      " ARIMA(5,1,2)(0,0,0)[0] intercept   : AIC=286664.170, Time=31.18 sec\n",
      " ARIMA(4,1,3)(0,0,0)[0] intercept   : AIC=286760.512, Time=34.48 sec\n",
      " ARIMA(3,1,3)(0,0,0)[0] intercept   : AIC=286880.034, Time=13.76 sec\n",
      " ARIMA(5,1,1)(0,0,0)[0] intercept   : AIC=286863.436, Time=6.85 sec\n",
      " ARIMA(5,1,3)(0,0,0)[0] intercept   : AIC=286442.728, Time=47.52 sec\n",
      " ARIMA(5,1,4)(0,0,0)[0] intercept   : AIC=286567.501, Time=50.54 sec\n",
      " ARIMA(4,1,4)(0,0,0)[0] intercept   : AIC=286641.556, Time=53.47 sec\n",
      " ARIMA(5,1,3)(0,0,0)[0]             : AIC=286440.750, Time=17.49 sec\n",
      " ARIMA(4,1,3)(0,0,0)[0]             : AIC=286758.508, Time=11.96 sec\n",
      " ARIMA(5,1,2)(0,0,0)[0]             : AIC=286662.170, Time=11.05 sec\n",
      " ARIMA(5,1,4)(0,0,0)[0]             : AIC=286566.117, Time=17.29 sec\n",
      " ARIMA(4,1,2)(0,0,0)[0]             : AIC=286446.622, Time=8.59 sec\n",
      " ARIMA(4,1,4)(0,0,0)[0]             : AIC=286638.338, Time=20.42 sec\n",
      "\n",
      "Best model:  ARIMA(5,1,3)(0,0,0)[0]          \n",
      "Total fit time: 424.818 seconds\n",
      "cement_co2\n",
      "Performing stepwise search to minimize aic\n"
     ]
    },
    {
     "name": "stderr",
     "output_type": "stream",
     "text": [
      "/Users/koonleong/Documents/UM/UMMADS/Courses - Current/SIADS697-Capstone/power_emissions/venv/lib/python3.7/site-packages/pmdarima/arima/_validation.py:77: UserWarning: stepwise model cannot be fit in parallel (n_jobs=1). Falling back to stepwise parameter search.\n",
      "  'Falling back to stepwise parameter search.' % n_jobs)\n"
     ]
    },
    {
     "name": "stdout",
     "output_type": "stream",
     "text": [
      " ARIMA(2,1,2)(0,0,0)[0] intercept   : AIC=183316.565, Time=9.26 sec\n",
      " ARIMA(0,1,0)(0,0,0)[0] intercept   : AIC=183808.624, Time=0.41 sec\n",
      " ARIMA(1,1,0)(0,0,0)[0] intercept   : AIC=183634.747, Time=0.50 sec\n",
      " ARIMA(0,1,1)(0,0,0)[0] intercept   : AIC=183583.079, Time=1.12 sec\n",
      " ARIMA(0,1,0)(0,0,0)[0]             : AIC=183806.624, Time=0.21 sec\n",
      " ARIMA(1,1,2)(0,0,0)[0] intercept   : AIC=183314.565, Time=4.04 sec\n",
      " ARIMA(0,1,2)(0,0,0)[0] intercept   : AIC=183315.841, Time=1.87 sec\n",
      " ARIMA(1,1,1)(0,0,0)[0] intercept   : AIC=183367.223, Time=4.62 sec\n",
      " ARIMA(1,1,3)(0,0,0)[0] intercept   : AIC=183316.405, Time=6.67 sec\n",
      " ARIMA(0,1,3)(0,0,0)[0] intercept   : AIC=183314.497, Time=5.43 sec\n",
      " ARIMA(0,1,4)(0,0,0)[0] intercept   : AIC=183316.380, Time=7.18 sec\n",
      " ARIMA(1,1,4)(0,0,0)[0] intercept   : AIC=183293.727, Time=15.22 sec\n",
      " ARIMA(2,1,4)(0,0,0)[0] intercept   : AIC=182879.444, Time=32.99 sec\n",
      " ARIMA(2,1,3)(0,0,0)[0] intercept   : AIC=183318.409, Time=8.92 sec\n",
      " ARIMA(3,1,4)(0,0,0)[0] intercept   : AIC=182875.949, Time=39.65 sec\n",
      " ARIMA(3,1,3)(0,0,0)[0] intercept   : AIC=inf, Time=43.48 sec\n",
      " ARIMA(4,1,4)(0,0,0)[0] intercept   : AIC=182870.107, Time=46.00 sec\n",
      " ARIMA(4,1,3)(0,0,0)[0] intercept   : AIC=inf, Time=42.80 sec\n",
      " ARIMA(5,1,4)(0,0,0)[0] intercept   : AIC=182834.778, Time=49.61 sec\n",
      " ARIMA(5,1,3)(0,0,0)[0] intercept   : AIC=inf, Time=47.25 sec\n",
      " ARIMA(5,1,5)(0,0,0)[0] intercept   : AIC=182711.863, Time=59.36 sec\n",
      " ARIMA(4,1,5)(0,0,0)[0] intercept   : AIC=182827.573, Time=53.27 sec\n",
      " ARIMA(5,1,5)(0,0,0)[0]             : AIC=182710.750, Time=21.51 sec\n",
      " ARIMA(4,1,5)(0,0,0)[0]             : AIC=182825.673, Time=17.53 sec\n",
      " ARIMA(5,1,4)(0,0,0)[0]             : AIC=182832.777, Time=17.11 sec\n",
      " ARIMA(4,1,4)(0,0,0)[0]             : AIC=182868.101, Time=16.33 sec\n",
      "\n",
      "Best model:  ARIMA(5,1,5)(0,0,0)[0]          \n",
      "Total fit time: 552.331 seconds\n",
      "flaring_co2\n",
      "Performing stepwise search to minimize aic\n"
     ]
    },
    {
     "name": "stderr",
     "output_type": "stream",
     "text": [
      "/Users/koonleong/Documents/UM/UMMADS/Courses - Current/SIADS697-Capstone/power_emissions/venv/lib/python3.7/site-packages/pmdarima/arima/_validation.py:77: UserWarning: stepwise model cannot be fit in parallel (n_jobs=1). Falling back to stepwise parameter search.\n",
      "  'Falling back to stepwise parameter search.' % n_jobs)\n"
     ]
    },
    {
     "name": "stdout",
     "output_type": "stream",
     "text": [
      " ARIMA(2,1,2)(0,0,0)[0] intercept   : AIC=126745.520, Time=8.39 sec\n",
      " ARIMA(0,1,0)(0,0,0)[0] intercept   : AIC=127293.190, Time=0.41 sec\n",
      " ARIMA(1,1,0)(0,0,0)[0] intercept   : AIC=126902.130, Time=0.87 sec\n",
      " ARIMA(0,1,1)(0,0,0)[0] intercept   : AIC=126893.472, Time=1.22 sec\n",
      " ARIMA(0,1,0)(0,0,0)[0]             : AIC=127291.190, Time=0.24 sec\n",
      " ARIMA(1,1,2)(0,0,0)[0] intercept   : AIC=126887.286, Time=8.52 sec\n",
      " ARIMA(2,1,1)(0,0,0)[0] intercept   : AIC=126865.647, Time=7.87 sec\n",
      " ARIMA(3,1,2)(0,0,0)[0] intercept   : AIC=126579.270, Time=28.78 sec\n",
      " ARIMA(3,1,1)(0,0,0)[0] intercept   : AIC=126843.908, Time=9.21 sec\n",
      " ARIMA(4,1,2)(0,0,0)[0] intercept   : AIC=126522.112, Time=30.62 sec\n",
      " ARIMA(4,1,1)(0,0,0)[0] intercept   : AIC=126788.614, Time=9.87 sec\n",
      " ARIMA(5,1,2)(0,0,0)[0] intercept   : AIC=126689.040, Time=16.30 sec\n",
      " ARIMA(4,1,3)(0,0,0)[0] intercept   : AIC=126304.136, Time=43.81 sec\n",
      " ARIMA(3,1,3)(0,0,0)[0] intercept   : AIC=126577.526, Time=34.78 sec\n",
      " ARIMA(5,1,3)(0,0,0)[0] intercept   : AIC=126656.034, Time=32.46 sec\n",
      " ARIMA(4,1,4)(0,0,0)[0] intercept   : AIC=126669.348, Time=46.66 sec\n",
      " ARIMA(3,1,4)(0,0,0)[0] intercept   : AIC=126353.832, Time=43.74 sec\n",
      " ARIMA(5,1,4)(0,0,0)[0] intercept   : AIC=126465.439, Time=51.75 sec\n",
      " ARIMA(4,1,3)(0,0,0)[0]             : AIC=126304.430, Time=14.49 sec\n",
      "\n",
      "Best model:  ARIMA(4,1,3)(0,0,0)[0] intercept\n",
      "Total fit time: 390.014 seconds\n",
      "gas_co2\n",
      "Performing stepwise search to minimize aic\n"
     ]
    },
    {
     "name": "stderr",
     "output_type": "stream",
     "text": [
      "/Users/koonleong/Documents/UM/UMMADS/Courses - Current/SIADS697-Capstone/power_emissions/venv/lib/python3.7/site-packages/pmdarima/arima/_validation.py:77: UserWarning: stepwise model cannot be fit in parallel (n_jobs=1). Falling back to stepwise parameter search.\n",
      "  'Falling back to stepwise parameter search.' % n_jobs)\n"
     ]
    },
    {
     "name": "stdout",
     "output_type": "stream",
     "text": [
      " ARIMA(2,1,2)(0,0,0)[0] intercept   : AIC=247648.099, Time=3.94 sec\n",
      " ARIMA(0,1,0)(0,0,0)[0] intercept   : AIC=248494.662, Time=0.42 sec\n",
      " ARIMA(1,1,0)(0,0,0)[0] intercept   : AIC=247725.165, Time=0.83 sec\n",
      " ARIMA(0,1,1)(0,0,0)[0] intercept   : AIC=247662.306, Time=1.16 sec\n",
      " ARIMA(0,1,0)(0,0,0)[0]             : AIC=248492.662, Time=0.21 sec\n",
      " ARIMA(1,1,2)(0,0,0)[0] intercept   : AIC=inf, Time=21.63 sec\n",
      " ARIMA(2,1,1)(0,0,0)[0] intercept   : AIC=247644.797, Time=5.60 sec\n",
      " ARIMA(1,1,1)(0,0,0)[0] intercept   : AIC=247650.707, Time=2.65 sec\n",
      " ARIMA(2,1,0)(0,0,0)[0] intercept   : AIC=247668.467, Time=1.50 sec\n",
      " ARIMA(3,1,1)(0,0,0)[0] intercept   : AIC=inf, Time=34.46 sec\n",
      " ARIMA(3,1,0)(0,0,0)[0] intercept   : AIC=247653.688, Time=1.91 sec\n",
      " ARIMA(3,1,2)(0,0,0)[0] intercept   : AIC=247648.705, Time=13.73 sec\n",
      " ARIMA(2,1,1)(0,0,0)[0]             : AIC=247642.797, Time=1.64 sec\n",
      " ARIMA(1,1,1)(0,0,0)[0]             : AIC=247648.707, Time=0.84 sec\n",
      " ARIMA(2,1,0)(0,0,0)[0]             : AIC=247666.467, Time=0.59 sec\n",
      " ARIMA(3,1,1)(0,0,0)[0]             : AIC=inf, Time=10.44 sec\n",
      " ARIMA(2,1,2)(0,0,0)[0]             : AIC=247646.099, Time=1.31 sec\n",
      " ARIMA(1,1,0)(0,0,0)[0]             : AIC=247723.165, Time=0.39 sec\n",
      " ARIMA(1,1,2)(0,0,0)[0]             : AIC=inf, Time=5.74 sec\n",
      " ARIMA(3,1,0)(0,0,0)[0]             : AIC=247651.688, Time=0.79 sec\n",
      " ARIMA(3,1,2)(0,0,0)[0]             : AIC=247646.705, Time=4.66 sec\n",
      "\n",
      "Best model:  ARIMA(2,1,1)(0,0,0)[0]          \n",
      "Total fit time: 114.442 seconds\n",
      "oil_co2\n",
      "Performing stepwise search to minimize aic\n"
     ]
    },
    {
     "name": "stderr",
     "output_type": "stream",
     "text": [
      "/Users/koonleong/Documents/UM/UMMADS/Courses - Current/SIADS697-Capstone/power_emissions/venv/lib/python3.7/site-packages/pmdarima/arima/_validation.py:77: UserWarning: stepwise model cannot be fit in parallel (n_jobs=1). Falling back to stepwise parameter search.\n",
      "  'Falling back to stepwise parameter search.' % n_jobs)\n"
     ]
    },
    {
     "name": "stdout",
     "output_type": "stream",
     "text": [
      " ARIMA(2,1,2)(0,0,0)[0] intercept   : AIC=273834.001, Time=11.12 sec\n",
      " ARIMA(0,1,0)(0,0,0)[0] intercept   : AIC=275417.311, Time=0.39 sec\n",
      " ARIMA(1,1,0)(0,0,0)[0] intercept   : AIC=273995.446, Time=0.86 sec\n",
      " ARIMA(0,1,1)(0,0,0)[0] intercept   : AIC=273883.688, Time=1.13 sec\n",
      " ARIMA(0,1,0)(0,0,0)[0]             : AIC=275415.311, Time=0.21 sec\n",
      " ARIMA(1,1,2)(0,0,0)[0] intercept   : AIC=273833.861, Time=9.18 sec\n",
      " ARIMA(0,1,2)(0,0,0)[0] intercept   : AIC=273885.689, Time=1.55 sec\n",
      " ARIMA(1,1,1)(0,0,0)[0] intercept   : AIC=273885.688, Time=1.71 sec\n",
      " ARIMA(1,1,3)(0,0,0)[0] intercept   : AIC=273883.400, Time=3.22 sec\n",
      " ARIMA(0,1,3)(0,0,0)[0] intercept   : AIC=273886.816, Time=2.46 sec\n",
      " ARIMA(2,1,1)(0,0,0)[0] intercept   : AIC=273886.220, Time=4.42 sec\n",
      " ARIMA(2,1,3)(0,0,0)[0] intercept   : AIC=273710.715, Time=25.29 sec\n",
      " ARIMA(3,1,3)(0,0,0)[0] intercept   : AIC=273882.131, Time=14.09 sec\n",
      " ARIMA(2,1,4)(0,0,0)[0] intercept   : AIC=273883.021, Time=4.43 sec\n",
      " ARIMA(1,1,4)(0,0,0)[0] intercept   : AIC=273881.796, Time=2.81 sec\n",
      " ARIMA(3,1,2)(0,0,0)[0] intercept   : AIC=273881.878, Time=18.61 sec\n",
      " ARIMA(3,1,4)(0,0,0)[0] intercept   : AIC=273883.868, Time=13.20 sec\n",
      " ARIMA(2,1,3)(0,0,0)[0]             : AIC=273708.714, Time=8.60 sec\n",
      " ARIMA(1,1,3)(0,0,0)[0]             : AIC=273881.400, Time=1.19 sec\n",
      " ARIMA(2,1,2)(0,0,0)[0]             : AIC=273832.000, Time=3.46 sec\n",
      " ARIMA(3,1,3)(0,0,0)[0]             : AIC=273880.131, Time=4.97 sec\n",
      " ARIMA(2,1,4)(0,0,0)[0]             : AIC=273881.021, Time=1.67 sec\n",
      " ARIMA(1,1,2)(0,0,0)[0]             : AIC=273831.861, Time=2.89 sec\n",
      " ARIMA(1,1,4)(0,0,0)[0]             : AIC=273879.796, Time=1.18 sec\n",
      " ARIMA(3,1,2)(0,0,0)[0]             : AIC=273879.878, Time=5.85 sec\n",
      " ARIMA(3,1,4)(0,0,0)[0]             : AIC=273881.868, Time=4.73 sec\n",
      "\n",
      "Best model:  ARIMA(2,1,3)(0,0,0)[0]          \n",
      "Total fit time: 149.252 seconds\n",
      "other_industry_co2\n",
      "Performing stepwise search to minimize aic\n"
     ]
    },
    {
     "name": "stderr",
     "output_type": "stream",
     "text": [
      "/Users/koonleong/Documents/UM/UMMADS/Courses - Current/SIADS697-Capstone/power_emissions/venv/lib/python3.7/site-packages/pmdarima/arima/_validation.py:77: UserWarning: stepwise model cannot be fit in parallel (n_jobs=1). Falling back to stepwise parameter search.\n",
      "  'Falling back to stepwise parameter search.' % n_jobs)\n"
     ]
    },
    {
     "name": "stdout",
     "output_type": "stream",
     "text": [
      " ARIMA(2,1,2)(0,0,0)[0] intercept   : AIC=121870.880, Time=14.45 sec\n",
      " ARIMA(0,1,0)(0,0,0)[0] intercept   : AIC=122998.098, Time=0.38 sec\n",
      " ARIMA(1,1,0)(0,0,0)[0] intercept   : AIC=122307.451, Time=0.82 sec\n",
      " ARIMA(0,1,1)(0,0,0)[0] intercept   : AIC=122137.714, Time=1.36 sec\n",
      " ARIMA(0,1,0)(0,0,0)[0]             : AIC=122996.098, Time=0.27 sec\n",
      " ARIMA(1,1,2)(0,0,0)[0] intercept   : AIC=121928.686, Time=5.63 sec\n",
      " ARIMA(2,1,1)(0,0,0)[0] intercept   : AIC=121929.001, Time=4.93 sec\n",
      " ARIMA(3,1,2)(0,0,0)[0] intercept   : AIC=121856.909, Time=17.56 sec\n",
      " ARIMA(3,1,1)(0,0,0)[0] intercept   : AIC=121921.790, Time=8.77 sec\n",
      " ARIMA(4,1,2)(0,0,0)[0] intercept   : AIC=inf, Time=37.39 sec\n",
      " ARIMA(3,1,3)(0,0,0)[0] intercept   : AIC=121041.037, Time=26.86 sec\n",
      " ARIMA(2,1,3)(0,0,0)[0] intercept   : AIC=121162.743, Time=20.86 sec\n",
      " ARIMA(4,1,3)(0,0,0)[0] intercept   : AIC=121236.342, Time=34.86 sec\n",
      " ARIMA(3,1,4)(0,0,0)[0] intercept   : AIC=121295.157, Time=41.33 sec\n",
      " ARIMA(2,1,4)(0,0,0)[0] intercept   : AIC=121047.841, Time=21.46 sec\n",
      " ARIMA(4,1,4)(0,0,0)[0] intercept   : AIC=121142.769, Time=43.31 sec\n",
      " ARIMA(3,1,3)(0,0,0)[0]             : AIC=121039.037, Time=9.56 sec\n",
      " ARIMA(2,1,3)(0,0,0)[0]             : AIC=121160.743, Time=7.02 sec\n",
      " ARIMA(3,1,2)(0,0,0)[0]             : AIC=121854.909, Time=5.15 sec\n",
      " ARIMA(4,1,3)(0,0,0)[0]             : AIC=121234.342, Time=11.75 sec\n",
      " ARIMA(3,1,4)(0,0,0)[0]             : AIC=121293.209, Time=13.94 sec\n",
      " ARIMA(2,1,2)(0,0,0)[0]             : AIC=121868.880, Time=5.07 sec\n",
      " ARIMA(2,1,4)(0,0,0)[0]             : AIC=121045.841, Time=7.59 sec\n",
      " ARIMA(4,1,2)(0,0,0)[0]             : AIC=inf, Time=14.41 sec\n",
      " ARIMA(4,1,4)(0,0,0)[0]             : AIC=121140.769, Time=14.98 sec\n",
      "\n",
      "Best model:  ARIMA(3,1,3)(0,0,0)[0]          \n",
      "Total fit time: 369.736 seconds\n",
      "population\n",
      "Performing stepwise search to minimize aic\n"
     ]
    },
    {
     "name": "stderr",
     "output_type": "stream",
     "text": [
      "/Users/koonleong/Documents/UM/UMMADS/Courses - Current/SIADS697-Capstone/power_emissions/venv/lib/python3.7/site-packages/pmdarima/arima/_validation.py:77: UserWarning: stepwise model cannot be fit in parallel (n_jobs=1). Falling back to stepwise parameter search.\n",
      "  'Falling back to stepwise parameter search.' % n_jobs)\n"
     ]
    },
    {
     "name": "stdout",
     "output_type": "stream",
     "text": [
      " ARIMA(2,1,2)(0,0,0)[0] intercept   : AIC=864319.358, Time=4.65 sec\n",
      " ARIMA(0,1,0)(0,0,0)[0] intercept   : AIC=866800.707, Time=0.42 sec\n",
      " ARIMA(1,1,0)(0,0,0)[0] intercept   : AIC=864694.974, Time=0.52 sec\n",
      " ARIMA(0,1,1)(0,0,0)[0] intercept   : AIC=864324.449, Time=1.26 sec\n",
      " ARIMA(0,1,0)(0,0,0)[0]             : AIC=866798.707, Time=0.31 sec\n",
      " ARIMA(1,1,2)(0,0,0)[0] intercept   : AIC=864318.002, Time=1.97 sec\n",
      " ARIMA(0,1,2)(0,0,0)[0] intercept   : AIC=864316.051, Time=1.69 sec\n",
      " ARIMA(0,1,3)(0,0,0)[0] intercept   : AIC=864317.480, Time=2.21 sec\n",
      " ARIMA(1,1,1)(0,0,0)[0] intercept   : AIC=864315.761, Time=5.28 sec\n",
      " ARIMA(2,1,1)(0,0,0)[0] intercept   : AIC=864317.211, Time=4.85 sec\n",
      " ARIMA(2,1,0)(0,0,0)[0] intercept   : AIC=864381.034, Time=1.55 sec\n",
      " ARIMA(1,1,1)(0,0,0)[0]             : AIC=864313.761, Time=2.75 sec\n",
      " ARIMA(0,1,1)(0,0,0)[0]             : AIC=864322.449, Time=0.76 sec\n",
      " ARIMA(1,1,0)(0,0,0)[0]             : AIC=864692.974, Time=0.38 sec\n",
      " ARIMA(2,1,1)(0,0,0)[0]             : AIC=864315.211, Time=3.22 sec\n",
      " ARIMA(1,1,2)(0,0,0)[0]             : AIC=864316.002, Time=1.32 sec\n",
      " ARIMA(0,1,2)(0,0,0)[0]             : AIC=864314.051, Time=1.02 sec\n",
      " ARIMA(2,1,0)(0,0,0)[0]             : AIC=864379.034, Time=0.97 sec\n",
      " ARIMA(2,1,2)(0,0,0)[0]             : AIC=864317.358, Time=2.99 sec\n",
      "\n",
      "Best model:  ARIMA(1,1,1)(0,0,0)[0]          \n",
      "Total fit time: 38.146 seconds\n",
      "gdp\n",
      "Performing stepwise search to minimize aic\n"
     ]
    },
    {
     "name": "stderr",
     "output_type": "stream",
     "text": [
      "/Users/koonleong/Documents/UM/UMMADS/Courses - Current/SIADS697-Capstone/power_emissions/venv/lib/python3.7/site-packages/pmdarima/arima/_validation.py:77: UserWarning: stepwise model cannot be fit in parallel (n_jobs=1). Falling back to stepwise parameter search.\n",
      "  'Falling back to stepwise parameter search.' % n_jobs)\n"
     ]
    },
    {
     "name": "stdout",
     "output_type": "stream",
     "text": [
      " ARIMA(2,1,2)(0,0,0)[0] intercept   : AIC=1289519.534, Time=9.16 sec\n",
      " ARIMA(0,1,0)(0,0,0)[0] intercept   : AIC=1296248.404, Time=0.44 sec\n",
      " ARIMA(1,1,0)(0,0,0)[0] intercept   : AIC=1294519.775, Time=0.53 sec\n",
      " ARIMA(0,1,1)(0,0,0)[0] intercept   : AIC=1293481.935, Time=1.71 sec\n",
      " ARIMA(0,1,0)(0,0,0)[0]             : AIC=1296246.404, Time=0.29 sec\n",
      " ARIMA(1,1,2)(0,0,0)[0] intercept   : AIC=1290372.592, Time=5.82 sec\n",
      " ARIMA(2,1,1)(0,0,0)[0] intercept   : AIC=1290444.988, Time=7.96 sec\n",
      " ARIMA(3,1,2)(0,0,0)[0] intercept   : AIC=1289204.822, Time=9.63 sec\n",
      " ARIMA(3,1,1)(0,0,0)[0] intercept   : AIC=1289865.044, Time=10.15 sec\n",
      " ARIMA(4,1,2)(0,0,0)[0] intercept   : AIC=1289150.741, Time=15.55 sec\n",
      " ARIMA(4,1,1)(0,0,0)[0] intercept   : AIC=1289792.911, Time=9.87 sec\n",
      " ARIMA(5,1,2)(0,0,0)[0] intercept   : AIC=1288865.761, Time=16.49 sec\n",
      " ARIMA(5,1,1)(0,0,0)[0] intercept   : AIC=1289492.209, Time=11.54 sec\n",
      " ARIMA(5,1,3)(0,0,0)[0] intercept   : AIC=1288423.203, Time=40.00 sec\n",
      " ARIMA(4,1,3)(0,0,0)[0] intercept   : AIC=1289142.623, Time=17.59 sec\n",
      " ARIMA(5,1,4)(0,0,0)[0] intercept   : AIC=1287807.612, Time=49.21 sec\n",
      " ARIMA(4,1,4)(0,0,0)[0] intercept   : AIC=1288008.578, Time=47.83 sec\n",
      " ARIMA(5,1,5)(0,0,0)[0] intercept   : AIC=inf, Time=56.64 sec\n",
      " ARIMA(4,1,5)(0,0,0)[0] intercept   : AIC=1287674.111, Time=39.55 sec\n",
      " ARIMA(3,1,5)(0,0,0)[0] intercept   : AIC=1287772.205, Time=48.68 sec\n",
      " ARIMA(3,1,4)(0,0,0)[0] intercept   : AIC=1289029.844, Time=20.96 sec\n",
      " ARIMA(4,1,5)(0,0,0)[0]             : AIC=1287672.111, Time=32.09 sec\n",
      " ARIMA(3,1,5)(0,0,0)[0]             : AIC=1287770.209, Time=36.01 sec\n",
      " ARIMA(4,1,4)(0,0,0)[0]             : AIC=1287999.007, Time=39.12 sec\n",
      " ARIMA(5,1,5)(0,0,0)[0]             : AIC=inf, Time=48.59 sec\n",
      " ARIMA(3,1,4)(0,0,0)[0]             : AIC=1289027.844, Time=15.34 sec\n",
      " ARIMA(5,1,4)(0,0,0)[0]             : AIC=1287805.711, Time=40.33 sec\n",
      "\n",
      "Best model:  ARIMA(4,1,5)(0,0,0)[0]          \n",
      "Total fit time: 631.108 seconds\n",
      "primary_energy_consumption\n",
      "Performing stepwise search to minimize aic\n"
     ]
    },
    {
     "name": "stderr",
     "output_type": "stream",
     "text": [
      "/Users/koonleong/Documents/UM/UMMADS/Courses - Current/SIADS697-Capstone/power_emissions/venv/lib/python3.7/site-packages/pmdarima/arima/_validation.py:77: UserWarning: stepwise model cannot be fit in parallel (n_jobs=1). Falling back to stepwise parameter search.\n",
      "  'Falling back to stepwise parameter search.' % n_jobs)\n"
     ]
    },
    {
     "name": "stdout",
     "output_type": "stream",
     "text": [
      " ARIMA(2,1,2)(0,0,0)[0] intercept   : AIC=385801.070, Time=3.77 sec\n",
      " ARIMA(0,1,0)(0,0,0)[0] intercept   : AIC=386854.010, Time=0.42 sec\n",
      " ARIMA(1,1,0)(0,0,0)[0] intercept   : AIC=385937.599, Time=0.56 sec\n",
      " ARIMA(0,1,1)(0,0,0)[0] intercept   : AIC=385820.952, Time=1.23 sec\n",
      " ARIMA(0,1,0)(0,0,0)[0]             : AIC=386852.010, Time=0.23 sec\n",
      " ARIMA(1,1,2)(0,0,0)[0] intercept   : AIC=385799.088, Time=1.94 sec\n",
      " ARIMA(0,1,2)(0,0,0)[0] intercept   : AIC=385797.262, Time=1.62 sec\n",
      " ARIMA(0,1,3)(0,0,0)[0] intercept   : AIC=385799.052, Time=2.23 sec\n",
      " ARIMA(1,1,1)(0,0,0)[0] intercept   : AIC=385797.167, Time=2.45 sec\n",
      " ARIMA(2,1,1)(0,0,0)[0] intercept   : AIC=385799.119, Time=1.85 sec\n",
      " ARIMA(2,1,0)(0,0,0)[0] intercept   : AIC=385813.893, Time=0.83 sec\n",
      " ARIMA(1,1,1)(0,0,0)[0]             : AIC=385795.167, Time=0.81 sec\n",
      " ARIMA(0,1,1)(0,0,0)[0]             : AIC=385818.952, Time=0.61 sec\n",
      " ARIMA(1,1,0)(0,0,0)[0]             : AIC=385935.599, Time=0.38 sec\n",
      " ARIMA(2,1,1)(0,0,0)[0]             : AIC=385797.119, Time=0.81 sec\n",
      " ARIMA(1,1,2)(0,0,0)[0]             : AIC=385797.088, Time=0.94 sec\n",
      " ARIMA(0,1,2)(0,0,0)[0]             : AIC=385795.262, Time=0.71 sec\n",
      " ARIMA(2,1,0)(0,0,0)[0]             : AIC=385811.893, Time=0.40 sec\n",
      " ARIMA(2,1,2)(0,0,0)[0]             : AIC=385799.070, Time=2.08 sec\n",
      "\n",
      "Best model:  ARIMA(1,1,1)(0,0,0)[0]          \n",
      "Total fit time: 23.868 seconds\n",
      "{'co2': (0, 1, 2), 'consumption_co2': (0, 1, 2), 'co2_growth_abs': (4, 1, 5), 'trade_co2': (5, 0, 5), 'co2_per_gdp': (1, 0, 5), 'co2_per_unit_energy': (1, 0, 4), 'coal_co2': (5, 1, 3), 'cement_co2': (5, 1, 5), 'flaring_co2': (4, 1, 3), 'gas_co2': (2, 1, 1), 'oil_co2': (2, 1, 3), 'other_industry_co2': (3, 1, 3), 'population': (1, 1, 1), 'gdp': (4, 1, 5), 'primary_energy_consumption': (1, 1, 1)}\n"
     ]
    }
   ],
   "source": [
    "import numpy as np\n",
    "import pmdarima as pm\n",
    "\n",
    "def get_optimal_param(timeseries):\n",
    "    stepwise_fit = pm.auto_arima(timeseries,\n",
    "                             seasonal=False,\n",
    "                             error_action='ignore',  # don't want to know if an order does not work\n",
    "                             suppress_warnings=True,\n",
    "                             trace =  True,\n",
    "                             n_jobs =  -1, # don't want convergence warnings\n",
    "                             stepwise=True)  # set to stepwise\n",
    "    return stepwise_fit.get_params().get('order')\n",
    "\n",
    "# this is a dataset from R\n",
    "# wineind = load_wineind().astype(np.float64)\n",
    "\n",
    "result = dict()\n",
    "for feature in selected[2:]:\n",
    "    print(feature)\n",
    "    series = dataset[feature].to_numpy()\n",
    "    result[feature] = get_optimal_param(series)\n",
    "\n",
    "print(result)"
   ],
   "metadata": {
    "collapsed": false,
    "pycharm": {
     "name": "#%%\n"
    }
   }
  },
  {
   "cell_type": "raw",
   "source": [
    "\n",
    "print(__doc__)\n",
    "\n",
    "# Author: Taylor Smith <taylor.smith@alkaline-ml.com>\n",
    "\n",
    "import numpy as np\n",
    "import pmdarima as pm\n",
    "from pmdarima import model_selection\n",
    "from matplotlib import pyplot as plt\n",
    "\n",
    "print(\"pmdarima version: %s\" % pm.__version__)\n",
    "\n",
    "# Load the data and split it into separate pieces\n",
    "y = global_df[feature]\n",
    "est = pm.ARIMA(order=order,\n",
    "               # seasonal_order=(0, 1, 1, 12),\n",
    "               suppress_warnings=True)\n",
    "cv = model_selection.SlidingWindowForecastCV(window_size=5, step=2, h=4)\n",
    "predictions = model_selection.cross_val_predict(\n",
    "    est, y, cv=cv, verbose=2, averaging=\"median\")\n",
    "\n",
    "# plot the predictions over the original series\n",
    "x_axis = np.arange(y.shape[0])\n",
    "n_test = predictions.shape[0]\n",
    "plt.figure(figsize=(20, 10))\n",
    "plt.plot(x_axis, y, alpha=0.75, c='b')\n",
    "plt.plot(x_axis[-n_test:], predictions, alpha=0.5, c='r')  # Forecasts\n",
    "plt.title(f\"Cross-validated {feature}\")\n",
    "\n",
    "plt.show()"
   ],
   "metadata": {
    "collapsed": false,
    "pycharm": {
     "name": "#%% raw\n"
    }
   }
  },
  {
   "cell_type": "code",
   "execution_count": 5,
   "outputs": [],
   "source": [
    "import json\n",
    "\n",
    "with open('arima_parameters.json', 'w') as f:\n",
    "    json.dump(result, f)\n"
   ],
   "metadata": {
    "collapsed": false,
    "pycharm": {
     "name": "#%%\n"
    }
   }
  }
 ],
 "metadata": {
  "kernelspec": {
   "name": "pycharm-41f59cfe",
   "language": "python",
   "display_name": "PyCharm (power_emissions)"
  },
  "language_info": {
   "codemirror_mode": {
    "name": "ipython",
    "version": 2
   },
   "file_extension": ".py",
   "mimetype": "text/x-python",
   "name": "python",
   "nbconvert_exporter": "python",
   "pygments_lexer": "ipython2",
   "version": "2.7.6"
  }
 },
 "nbformat": 4,
 "nbformat_minor": 0
}