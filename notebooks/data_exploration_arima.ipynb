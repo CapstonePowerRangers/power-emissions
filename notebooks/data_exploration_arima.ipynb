{
 "cells": [
  {
   "cell_type": "code",
   "execution_count": 9,
   "metadata": {
    "collapsed": true
   },
   "outputs": [
    {
     "data": {
      "text/plain": "      iso_code      country  year     co2  consumption_co2  co2_growth_prct  \\\n0          AFG  Afghanistan  1949   0.015              NaN              NaN   \n1          AFG  Afghanistan  1950   0.084              NaN           475.00   \n2          AFG  Afghanistan  1951   0.092              NaN             8.70   \n3          AFG  Afghanistan  1952   0.092              NaN             0.00   \n4          AFG  Afghanistan  1953   0.106              NaN            16.00   \n...        ...          ...   ...     ...              ...              ...   \n25199      ZWE     Zimbabwe  2016  10.738           12.153           -12.17   \n25200      ZWE     Zimbabwe  2017   9.582           11.248           -10.77   \n25201      ZWE     Zimbabwe  2018  11.854           13.163            23.72   \n25202      ZWE     Zimbabwe  2019  10.949           12.422            -7.64   \n25203      ZWE     Zimbabwe  2020  10.531              NaN            -3.82   \n\n       co2_growth_abs  trade_co2  co2_per_capita  consumption_co2_per_capita  \\\n0                 NaN        NaN           0.002                         NaN   \n1               0.070        NaN           0.011                         NaN   \n2               0.007        NaN           0.012                         NaN   \n3               0.000        NaN           0.012                         NaN   \n4               0.015        NaN           0.013                         NaN   \n...               ...        ...             ...                         ...   \n25199          -1.488      1.415           0.765                       0.866   \n25200          -1.156      1.666           0.673                       0.790   \n25201           2.273      1.308           0.821                       0.912   \n25202          -0.905      1.473           0.748                       0.848   \n25203          -0.418        NaN           0.709                         NaN   \n\n       ...  ghg_per_capita  methane  methane_per_capita  nitrous_oxide  \\\n0      ...             NaN      NaN                 NaN            NaN   \n1      ...             NaN      NaN                 NaN            NaN   \n2      ...             NaN      NaN                 NaN            NaN   \n3      ...             NaN      NaN                 NaN            NaN   \n4      ...             NaN      NaN                 NaN            NaN   \n...    ...             ...      ...                 ...            ...   \n25199  ...           4.703    11.92                0.85           6.55   \n25200  ...             NaN      NaN                 NaN            NaN   \n25201  ...             NaN      NaN                 NaN            NaN   \n25202  ...             NaN      NaN                 NaN            NaN   \n25203  ...             NaN      NaN                 NaN            NaN   \n\n       nitrous_oxide_per_capita  population           gdp  \\\n0                           NaN   7624058.0           NaN   \n1                           NaN   7752117.0  9.421400e+09   \n2                           NaN   7840151.0  9.692280e+09   \n3                           NaN   7935996.0  1.001732e+10   \n4                           NaN   8039684.0  1.063052e+10   \n...                         ...         ...           ...   \n25199                     0.467  14030338.0  2.096179e+10   \n25200                       NaN  14236599.0  2.194784e+10   \n25201                       NaN  14438812.0  2.271535e+10   \n25202                       NaN  14645473.0           NaN   \n25203                       NaN  14862927.0           NaN   \n\n       primary_energy_consumption  energy_per_capita  energy_per_gdp  \n0                             NaN                NaN             NaN  \n1                             NaN                NaN             NaN  \n2                             NaN                NaN             NaN  \n3                             NaN                NaN             NaN  \n4                             NaN                NaN             NaN  \n...                           ...                ...             ...  \n25199                        47.5           3385.574           1.889  \n25200                         NaN                NaN             NaN  \n25201                         NaN                NaN             NaN  \n25202                         NaN                NaN             NaN  \n25203                         NaN                NaN             NaN  \n\n[21948 rows x 58 columns]",
      "text/html": "<div>\n<style scoped>\n    .dataframe tbody tr th:only-of-type {\n        vertical-align: middle;\n    }\n\n    .dataframe tbody tr th {\n        vertical-align: top;\n    }\n\n    .dataframe thead th {\n        text-align: right;\n    }\n</style>\n<table border=\"1\" class=\"dataframe\">\n  <thead>\n    <tr style=\"text-align: right;\">\n      <th></th>\n      <th>iso_code</th>\n      <th>country</th>\n      <th>year</th>\n      <th>co2</th>\n      <th>consumption_co2</th>\n      <th>co2_growth_prct</th>\n      <th>co2_growth_abs</th>\n      <th>trade_co2</th>\n      <th>co2_per_capita</th>\n      <th>consumption_co2_per_capita</th>\n      <th>...</th>\n      <th>ghg_per_capita</th>\n      <th>methane</th>\n      <th>methane_per_capita</th>\n      <th>nitrous_oxide</th>\n      <th>nitrous_oxide_per_capita</th>\n      <th>population</th>\n      <th>gdp</th>\n      <th>primary_energy_consumption</th>\n      <th>energy_per_capita</th>\n      <th>energy_per_gdp</th>\n    </tr>\n  </thead>\n  <tbody>\n    <tr>\n      <th>0</th>\n      <td>AFG</td>\n      <td>Afghanistan</td>\n      <td>1949</td>\n      <td>0.015</td>\n      <td>NaN</td>\n      <td>NaN</td>\n      <td>NaN</td>\n      <td>NaN</td>\n      <td>0.002</td>\n      <td>NaN</td>\n      <td>...</td>\n      <td>NaN</td>\n      <td>NaN</td>\n      <td>NaN</td>\n      <td>NaN</td>\n      <td>NaN</td>\n      <td>7624058.0</td>\n      <td>NaN</td>\n      <td>NaN</td>\n      <td>NaN</td>\n      <td>NaN</td>\n    </tr>\n    <tr>\n      <th>1</th>\n      <td>AFG</td>\n      <td>Afghanistan</td>\n      <td>1950</td>\n      <td>0.084</td>\n      <td>NaN</td>\n      <td>475.00</td>\n      <td>0.070</td>\n      <td>NaN</td>\n      <td>0.011</td>\n      <td>NaN</td>\n      <td>...</td>\n      <td>NaN</td>\n      <td>NaN</td>\n      <td>NaN</td>\n      <td>NaN</td>\n      <td>NaN</td>\n      <td>7752117.0</td>\n      <td>9.421400e+09</td>\n      <td>NaN</td>\n      <td>NaN</td>\n      <td>NaN</td>\n    </tr>\n    <tr>\n      <th>2</th>\n      <td>AFG</td>\n      <td>Afghanistan</td>\n      <td>1951</td>\n      <td>0.092</td>\n      <td>NaN</td>\n      <td>8.70</td>\n      <td>0.007</td>\n      <td>NaN</td>\n      <td>0.012</td>\n      <td>NaN</td>\n      <td>...</td>\n      <td>NaN</td>\n      <td>NaN</td>\n      <td>NaN</td>\n      <td>NaN</td>\n      <td>NaN</td>\n      <td>7840151.0</td>\n      <td>9.692280e+09</td>\n      <td>NaN</td>\n      <td>NaN</td>\n      <td>NaN</td>\n    </tr>\n    <tr>\n      <th>3</th>\n      <td>AFG</td>\n      <td>Afghanistan</td>\n      <td>1952</td>\n      <td>0.092</td>\n      <td>NaN</td>\n      <td>0.00</td>\n      <td>0.000</td>\n      <td>NaN</td>\n      <td>0.012</td>\n      <td>NaN</td>\n      <td>...</td>\n      <td>NaN</td>\n      <td>NaN</td>\n      <td>NaN</td>\n      <td>NaN</td>\n      <td>NaN</td>\n      <td>7935996.0</td>\n      <td>1.001732e+10</td>\n      <td>NaN</td>\n      <td>NaN</td>\n      <td>NaN</td>\n    </tr>\n    <tr>\n      <th>4</th>\n      <td>AFG</td>\n      <td>Afghanistan</td>\n      <td>1953</td>\n      <td>0.106</td>\n      <td>NaN</td>\n      <td>16.00</td>\n      <td>0.015</td>\n      <td>NaN</td>\n      <td>0.013</td>\n      <td>NaN</td>\n      <td>...</td>\n      <td>NaN</td>\n      <td>NaN</td>\n      <td>NaN</td>\n      <td>NaN</td>\n      <td>NaN</td>\n      <td>8039684.0</td>\n      <td>1.063052e+10</td>\n      <td>NaN</td>\n      <td>NaN</td>\n      <td>NaN</td>\n    </tr>\n    <tr>\n      <th>...</th>\n      <td>...</td>\n      <td>...</td>\n      <td>...</td>\n      <td>...</td>\n      <td>...</td>\n      <td>...</td>\n      <td>...</td>\n      <td>...</td>\n      <td>...</td>\n      <td>...</td>\n      <td>...</td>\n      <td>...</td>\n      <td>...</td>\n      <td>...</td>\n      <td>...</td>\n      <td>...</td>\n      <td>...</td>\n      <td>...</td>\n      <td>...</td>\n      <td>...</td>\n      <td>...</td>\n    </tr>\n    <tr>\n      <th>25199</th>\n      <td>ZWE</td>\n      <td>Zimbabwe</td>\n      <td>2016</td>\n      <td>10.738</td>\n      <td>12.153</td>\n      <td>-12.17</td>\n      <td>-1.488</td>\n      <td>1.415</td>\n      <td>0.765</td>\n      <td>0.866</td>\n      <td>...</td>\n      <td>4.703</td>\n      <td>11.92</td>\n      <td>0.85</td>\n      <td>6.55</td>\n      <td>0.467</td>\n      <td>14030338.0</td>\n      <td>2.096179e+10</td>\n      <td>47.5</td>\n      <td>3385.574</td>\n      <td>1.889</td>\n    </tr>\n    <tr>\n      <th>25200</th>\n      <td>ZWE</td>\n      <td>Zimbabwe</td>\n      <td>2017</td>\n      <td>9.582</td>\n      <td>11.248</td>\n      <td>-10.77</td>\n      <td>-1.156</td>\n      <td>1.666</td>\n      <td>0.673</td>\n      <td>0.790</td>\n      <td>...</td>\n      <td>NaN</td>\n      <td>NaN</td>\n      <td>NaN</td>\n      <td>NaN</td>\n      <td>NaN</td>\n      <td>14236599.0</td>\n      <td>2.194784e+10</td>\n      <td>NaN</td>\n      <td>NaN</td>\n      <td>NaN</td>\n    </tr>\n    <tr>\n      <th>25201</th>\n      <td>ZWE</td>\n      <td>Zimbabwe</td>\n      <td>2018</td>\n      <td>11.854</td>\n      <td>13.163</td>\n      <td>23.72</td>\n      <td>2.273</td>\n      <td>1.308</td>\n      <td>0.821</td>\n      <td>0.912</td>\n      <td>...</td>\n      <td>NaN</td>\n      <td>NaN</td>\n      <td>NaN</td>\n      <td>NaN</td>\n      <td>NaN</td>\n      <td>14438812.0</td>\n      <td>2.271535e+10</td>\n      <td>NaN</td>\n      <td>NaN</td>\n      <td>NaN</td>\n    </tr>\n    <tr>\n      <th>25202</th>\n      <td>ZWE</td>\n      <td>Zimbabwe</td>\n      <td>2019</td>\n      <td>10.949</td>\n      <td>12.422</td>\n      <td>-7.64</td>\n      <td>-0.905</td>\n      <td>1.473</td>\n      <td>0.748</td>\n      <td>0.848</td>\n      <td>...</td>\n      <td>NaN</td>\n      <td>NaN</td>\n      <td>NaN</td>\n      <td>NaN</td>\n      <td>NaN</td>\n      <td>14645473.0</td>\n      <td>NaN</td>\n      <td>NaN</td>\n      <td>NaN</td>\n      <td>NaN</td>\n    </tr>\n    <tr>\n      <th>25203</th>\n      <td>ZWE</td>\n      <td>Zimbabwe</td>\n      <td>2020</td>\n      <td>10.531</td>\n      <td>NaN</td>\n      <td>-3.82</td>\n      <td>-0.418</td>\n      <td>NaN</td>\n      <td>0.709</td>\n      <td>NaN</td>\n      <td>...</td>\n      <td>NaN</td>\n      <td>NaN</td>\n      <td>NaN</td>\n      <td>NaN</td>\n      <td>NaN</td>\n      <td>14862927.0</td>\n      <td>NaN</td>\n      <td>NaN</td>\n      <td>NaN</td>\n      <td>NaN</td>\n    </tr>\n  </tbody>\n</table>\n<p>21948 rows × 58 columns</p>\n</div>"
     },
     "execution_count": 9,
     "metadata": {},
     "output_type": "execute_result"
    }
   ],
   "source": [
    "from library.common import Database\n",
    "import pandas as pd\n",
    "\n",
    "db = Database()\n",
    "db_table = 'owid_co2_greenhouse_gas_emissions'\n",
    "owid_df = pd.read_sql(db_table, db.config)\n",
    "\n",
    "owid_df\n",
    "full_features = list(owid_df.columns)\n",
    "#drop continuents\n",
    "owid_df = owid_df.dropna(subset = ['iso_code']).copy()\n",
    "owid_df"
   ]
  },
  {
   "cell_type": "code",
   "execution_count": 10,
   "outputs": [],
   "source": [
    "selected = \\\n",
    "    ['iso_code',\n",
    "     'year',\n",
    "     'co2',\n",
    "     'consumption_co2',\n",
    "     'co2_growth_abs',\n",
    "     'trade_co2',\n",
    "     'co2_per_capita',\n",
    "     # 'consumption_co2_per_capita',\n",
    "     'co2_per_gdp',\n",
    "     'co2_per_unit_energy',\n",
    "     'coal_co2',\n",
    "     'cement_co2',\n",
    "     'flaring_co2',\n",
    "     'gas_co2',\n",
    "     'oil_co2',\n",
    "     'other_industry_co2',\n",
    "     'population',\n",
    "     'gdp',\n",
    "     'primary_energy_consumption']\n"
   ],
   "metadata": {
    "collapsed": false,
    "pycharm": {
     "name": "#%%\n"
    }
   }
  },
  {
   "cell_type": "code",
   "execution_count": 11,
   "outputs": [],
   "source": [
    "dataset = owid_df[selected].copy()\n",
    "\n",
    "dataset = dataset.fillna(0)\n",
    "global_df = dataset.groupby('year').sum().reset_index(drop = False)\n",
    "timeseries = global_df[:-2].copy()"
   ],
   "metadata": {
    "collapsed": false,
    "pycharm": {
     "name": "#%%\n"
    }
   }
  },
  {
   "cell_type": "code",
   "execution_count": 12,
   "outputs": [
    {
     "name": "stderr",
     "output_type": "stream",
     "text": [
      "/Users/koonleong/Documents/UM/UMMADS/Courses - Current/SIADS697-Capstone/power_emissions/venv/lib/python3.7/site-packages/pmdarima/arima/_validation.py:77: UserWarning: stepwise model cannot be fit in parallel (n_jobs=1). Falling back to stepwise parameter search.\n",
      "  'Falling back to stepwise parameter search.' % n_jobs)\n"
     ]
    },
    {
     "name": "stdout",
     "output_type": "stream",
     "text": [
      "Performing stepwise search to minimize aic\n",
      " ARIMA(2,1,2)(0,0,0)[0] intercept   : AIC=321145.537, Time=2.21 sec\n",
      " ARIMA(0,1,0)(0,0,0)[0] intercept   : AIC=322229.743, Time=0.42 sec\n",
      " ARIMA(1,1,0)(0,0,0)[0] intercept   : AIC=321305.951, Time=0.93 sec\n",
      " ARIMA(0,1,1)(0,0,0)[0] intercept   : AIC=321174.720, Time=1.33 sec\n",
      " ARIMA(0,1,0)(0,0,0)[0]             : AIC=322227.743, Time=0.25 sec\n",
      " ARIMA(1,1,2)(0,0,0)[0] intercept   : AIC=321143.783, Time=2.03 sec\n",
      " ARIMA(0,1,2)(0,0,0)[0] intercept   : AIC=321141.900, Time=1.86 sec\n",
      " ARIMA(0,1,3)(0,0,0)[0] intercept   : AIC=321143.750, Time=2.25 sec\n",
      " ARIMA(1,1,1)(0,0,0)[0] intercept   : AIC=321142.089, Time=2.96 sec\n",
      " ARIMA(1,1,3)(0,0,0)[0] intercept   : AIC=321145.890, Time=4.53 sec\n",
      " ARIMA(0,1,2)(0,0,0)[0]             : AIC=321139.900, Time=0.79 sec\n",
      " ARIMA(0,1,1)(0,0,0)[0]             : AIC=321172.720, Time=0.52 sec\n",
      " ARIMA(1,1,2)(0,0,0)[0]             : AIC=321141.783, Time=0.76 sec\n",
      " ARIMA(0,1,3)(0,0,0)[0]             : AIC=321141.750, Time=0.97 sec\n",
      " ARIMA(1,1,1)(0,0,0)[0]             : AIC=321140.089, Time=0.93 sec\n",
      " ARIMA(1,1,3)(0,0,0)[0]             : AIC=321143.890, Time=1.78 sec\n",
      "\n",
      "Best model:  ARIMA(0,1,2)(0,0,0)[0]          \n",
      "Total fit time: 24.556 seconds\n"
     ]
    }
   ],
   "source": [
    "\n",
    "import numpy as np\n",
    "import pmdarima as pm\n",
    "# from pmdarima.datasets import load_wineind\n",
    "\n",
    "# this is a dataset from R\n",
    "# wineind = load_wineind().astype(np.float64)\n",
    "\n",
    "feature = 'co2'\n",
    "\n",
    "timeseries = dataset[feature].to_numpy()\n",
    "stepwise_fit = pm.auto_arima(timeseries,\n",
    "                             seasonal=False,\n",
    "                             error_action='ignore',  # don't want to know if an order does not work\n",
    "                             suppress_warnings=True,\n",
    "                             trace =  True,\n",
    "                             n_jobs =  -1, # don't want convergence warnings\n",
    "                             stepwise=True)  # set to stepwise\n",
    "\n",
    "order = stepwise_fit.get_params().get('order')"
   ],
   "metadata": {
    "collapsed": false,
    "pycharm": {
     "name": "#%%\n"
    }
   }
  },
  {
   "cell_type": "code",
   "source": [
    "print(__doc__)\n",
    "\n",
    "# Author: Taylor Smith <taylor.smith@alkaline-ml.com>\n",
    "\n",
    "import numpy as np\n",
    "import pmdarima as pm\n",
    "from pmdarima import model_selection\n",
    "from matplotlib import pyplot as plt\n",
    "\n",
    "print(\"pmdarima version: %s\" % pm.__version__)\n",
    "\n",
    "# Load the data and split it into separate pieces\n",
    "y = global_df[feature]\n",
    "est = pm.ARIMA(order=order,\n",
    "               # seasonal_order=(0, 1, 1, 12),\n",
    "               suppress_warnings=True)\n",
    "cv = model_selection.SlidingWindowForecastCV(window_size=5, step=2, h=4)\n",
    "predictions = model_selection.cross_val_predict(\n",
    "    est, y, cv=cv, verbose=2, averaging=\"median\")\n",
    "\n",
    "# plot the predictions over the original series\n",
    "x_axis = np.arange(y.shape[0])\n",
    "n_test = predictions.shape[0]\n",
    "plt.figure(figsize=(20, 10))\n",
    "plt.plot(x_axis, y, alpha=0.75, c='b')\n",
    "plt.plot(x_axis[-n_test:], predictions, alpha=0.5, c='r')  # Forecasts\n",
    "plt.title(f\"Cross-validated {feature}\")\n",
    "\n",
    "plt.show()"
   ],
   "metadata": {
    "collapsed": false,
    "pycharm": {
     "name": "#%%\n"
    }
   },
   "execution_count": 13,
   "outputs": [
    {
     "name": "stdout",
     "output_type": "stream",
     "text": [
      "Automatically created module for IPython interactive environment\n",
      "pmdarima version: 1.8.4\n",
      "[CV] fold=0 ..........................................................\n",
      "[CV] fold=1 ..........................................................\n",
      "[CV] fold=2 ..........................................................\n",
      "[CV] fold=3 ..........................................................\n",
      "[CV] fold=4 ..........................................................\n",
      "[CV] fold=5 ..........................................................\n",
      "[CV] fold=6 ..........................................................\n",
      "[CV] fold=7 ..........................................................\n",
      "[CV] fold=8 ..........................................................\n",
      "[CV] fold=9 ..........................................................\n",
      "[CV] fold=10 .........................................................\n",
      "[CV] fold=11 .........................................................\n",
      "[CV] fold=12 .........................................................\n",
      "[CV] fold=13 .........................................................\n",
      "[CV] fold=14 .........................................................\n",
      "[CV] fold=15 .........................................................\n",
      "[CV] fold=16 .........................................................\n",
      "[CV] fold=17 .........................................................\n",
      "[CV] fold=18 .........................................................\n",
      "[CV] fold=19 .........................................................\n",
      "[CV] fold=20 .........................................................\n",
      "[CV] fold=21 .........................................................\n",
      "[CV] fold=22 .........................................................\n",
      "[CV] fold=23 .........................................................\n",
      "[CV] fold=24 .........................................................\n",
      "[CV] fold=25 .........................................................\n",
      "[CV] fold=26 .........................................................\n",
      "[CV] fold=27 .........................................................\n",
      "[CV] fold=28 .........................................................\n",
      "[CV] fold=29 .........................................................\n",
      "[CV] fold=30 .........................................................\n",
      "[CV] fold=31 .........................................................\n",
      "[CV] fold=32 .........................................................\n",
      "[CV] fold=33 .........................................................\n",
      "[CV] fold=34 .........................................................\n",
      "[CV] fold=35 .........................................................\n",
      "[CV] fold=36 .........................................................\n",
      "[CV] fold=37 .........................................................\n",
      "[CV] fold=38 .........................................................\n",
      "[CV] fold=39 .........................................................\n",
      "[CV] fold=40 .........................................................\n",
      "[CV] fold=41 .........................................................\n",
      "[CV] fold=42 .........................................................\n",
      "[CV] fold=43 .........................................................\n",
      "[CV] fold=44 .........................................................\n",
      "[CV] fold=45 .........................................................\n",
      "[CV] fold=46 .........................................................\n",
      "[CV] fold=47 .........................................................\n",
      "[CV] fold=48 .........................................................\n",
      "[CV] fold=49 .........................................................\n",
      "[CV] fold=50 .........................................................\n",
      "[CV] fold=51 .........................................................\n",
      "[CV] fold=52 .........................................................\n",
      "[CV] fold=53 .........................................................\n",
      "[CV] fold=54 .........................................................\n",
      "[CV] fold=55 .........................................................\n",
      "[CV] fold=56 .........................................................\n",
      "[CV] fold=57 .........................................................\n",
      "[CV] fold=58 .........................................................\n",
      "[CV] fold=59 .........................................................\n",
      "[CV] fold=60 .........................................................\n",
      "[CV] fold=61 .........................................................\n",
      "[CV] fold=62 .........................................................\n",
      "[CV] fold=63 .........................................................\n",
      "[CV] fold=64 .........................................................\n",
      "[CV] fold=65 .........................................................\n",
      "[CV] fold=66 .........................................................\n",
      "[CV] fold=67 .........................................................\n",
      "[CV] fold=68 .........................................................\n",
      "[CV] fold=69 .........................................................\n",
      "[CV] fold=70 .........................................................\n",
      "[CV] fold=71 .........................................................\n",
      "[CV] fold=72 .........................................................\n",
      "[CV] fold=73 .........................................................\n",
      "[CV] fold=74 .........................................................\n",
      "[CV] fold=75 .........................................................\n",
      "[CV] fold=76 .........................................................\n",
      "[CV] fold=77 .........................................................\n",
      "[CV] fold=78 .........................................................\n",
      "[CV] fold=79 .........................................................\n",
      "[CV] fold=80 .........................................................\n",
      "[CV] fold=81 .........................................................\n",
      "[CV] fold=82 .........................................................\n",
      "[CV] fold=83 .........................................................\n",
      "[CV] fold=84 .........................................................\n",
      "[CV] fold=85 .........................................................\n",
      "[CV] fold=86 .........................................................\n",
      "[CV] fold=87 .........................................................\n",
      "[CV] fold=88 .........................................................\n",
      "[CV] fold=89 .........................................................\n",
      "[CV] fold=90 .........................................................\n",
      "[CV] fold=91 .........................................................\n",
      "[CV] fold=92 .........................................................\n",
      "[CV] fold=93 .........................................................\n",
      "[CV] fold=94 .........................................................\n",
      "[CV] fold=95 .........................................................\n",
      "[CV] fold=96 .........................................................\n",
      "[CV] fold=97 .........................................................\n",
      "[CV] fold=98 .........................................................\n",
      "[CV] fold=99 .........................................................\n",
      "[CV] fold=100 ........................................................\n",
      "[CV] fold=101 ........................................................\n",
      "[CV] fold=102 ........................................................\n",
      "[CV] fold=103 ........................................................\n",
      "[CV] fold=104 ........................................................\n",
      "[CV] fold=105 ........................................................\n",
      "[CV] fold=106 ........................................................\n",
      "[CV] fold=107 ........................................................\n",
      "[CV] fold=108 ........................................................\n",
      "[CV] fold=109 ........................................................\n",
      "[CV] fold=110 ........................................................\n",
      "[CV] fold=111 ........................................................\n",
      "[CV] fold=112 ........................................................\n",
      "[CV] fold=113 ........................................................\n",
      "[CV] fold=114 ........................................................\n",
      "[CV] fold=115 ........................................................\n",
      "[CV] fold=116 ........................................................\n",
      "[CV] fold=117 ........................................................\n",
      "[CV] fold=118 ........................................................\n",
      "[CV] fold=119 ........................................................\n",
      "[CV] fold=120 ........................................................\n",
      "[CV] fold=121 ........................................................\n",
      "[CV] fold=122 ........................................................\n",
      "[CV] fold=123 ........................................................\n",
      "[CV] fold=124 ........................................................\n",
      "[CV] fold=125 ........................................................\n",
      "[CV] fold=126 ........................................................\n",
      "[CV] fold=127 ........................................................\n",
      "[CV] fold=128 ........................................................\n",
      "[CV] fold=129 ........................................................\n",
      "[CV] fold=130 ........................................................\n",
      "[CV] fold=131 ........................................................\n"
     ]
    },
    {
     "data": {
      "text/plain": "<Figure size 1440x720 with 1 Axes>",
      "image/png": "[encoded data removed]"
     },
     "metadata": {
      "needs_background": "light"
     },
     "output_type": "display_data"
    }
   ]
  }
 ],
 "metadata": {
  "kernelspec": {
   "name": "pycharm-41f59cfe",
   "language": "python",
   "display_name": "PyCharm (power_emissions)"
  },
  "language_info": {
   "codemirror_mode": {
    "name": "ipython",
    "version": 2
   },
   "file_extension": ".py",
   "mimetype": "text/x-python",
   "name": "python",
   "nbconvert_exporter": "python",
   "pygments_lexer": "ipython2",
   "version": "2.7.6"
  }
 },
 "nbformat": 4,
 "nbformat_minor": 0
}