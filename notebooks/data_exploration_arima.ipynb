{
 "cells": [
  {
   "cell_type": "code",
   "execution_count": 9,
   "metadata": {
    "collapsed": true
   },
   "outputs": [
    {
     "name": "stdout",
     "output_type": "stream",
     "text": [
      "Data loaded\n"
     ]
    }
   ],
   "source": [
    "from library.common import Database\n",
    "import pandas as pd\n",
    "\n",
    "db = Database()\n",
    "db_table = 'owid_co2_greenhouse_gas_emissions'\n",
    "owid_df = pd.read_sql(db_table, db.config)\n",
    "\n",
    "owid_df\n",
    "full_features = list(owid_df.columns)\n",
    "#drop continuents\n",
    "owid_df = owid_df.dropna(subset = ['iso_code']).copy()\n",
    "\n",
    "print(\"Data loaded\")"
   ]
  },
  {
   "cell_type": "code",
   "execution_count": 10,
   "outputs": [],
   "source": [
    "# selected = \\\n",
    "#     ['iso_code',\n",
    "#      'year',\n",
    "#      'co2',\n",
    "#      'consumption_co2',\n",
    "#      'co2_growth_abs',\n",
    "#      'trade_co2',\n",
    "#      'co2_per_gdp',\n",
    "#      'co2_per_unit_energy',\n",
    "#      'coal_co2',\n",
    "#      'cement_co2',\n",
    "#      'flaring_co2',\n",
    "#      'gas_co2',\n",
    "#      'oil_co2',\n",
    "#      'other_industry_co2',\n",
    "#      'population',\n",
    "#      'gdp',\n",
    "#      'primary_energy_consumption']\n",
    "\n",
    "selected = [\"iso_code\", \"year\",\"trade_co2\"]\n"
   ],
   "metadata": {
    "collapsed": false,
    "pycharm": {
     "name": "#%%\n"
    }
   }
  },
  {
   "cell_type": "code",
   "execution_count": 11,
   "outputs": [],
   "source": [
    "dataset = owid_df[selected].copy()\n",
    "\n",
    "dataset = dataset.fillna(0)\n",
    "global_df = dataset.groupby('year').sum().reset_index(drop = False)\n",
    "timeseries = global_df[:-2].copy()"
   ],
   "metadata": {
    "collapsed": false,
    "pycharm": {
     "name": "#%%\n"
    }
   }
  },
  {
   "cell_type": "code",
   "execution_count": 12,
   "outputs": [
    {
     "name": "stdout",
     "output_type": "stream",
     "text": [
      "trade_co2\n",
      "Performing stepwise search to minimize aic\n",
      " ARIMA(2,0,2)(0,0,0)[0]             : AIC=192355.601, Time=2.57 sec\n",
      " ARIMA(0,0,0)(0,0,0)[0]             : AIC=227493.055, Time=0.21 sec\n",
      " ARIMA(1,0,0)(0,0,0)[0]             : AIC=193296.585, Time=0.37 sec\n",
      " ARIMA(0,0,1)(0,0,0)[0]             : AIC=209637.350, Time=0.71 sec\n",
      " ARIMA(1,0,2)(0,0,0)[0]             : AIC=192360.700, Time=1.22 sec\n",
      " ARIMA(2,0,1)(0,0,0)[0]             : AIC=193178.856, Time=2.13 sec\n",
      " ARIMA(3,0,2)(0,0,0)[0]             : AIC=192374.076, Time=2.06 sec\n",
      " ARIMA(2,0,3)(0,0,0)[0]             : AIC=192296.718, Time=6.23 sec\n",
      " ARIMA(1,0,3)(0,0,0)[0]             : AIC=192357.318, Time=2.01 sec\n",
      " ARIMA(3,0,3)(0,0,0)[0]             : AIC=192295.045, Time=7.64 sec\n",
      " ARIMA(4,0,3)(0,0,0)[0]             : AIC=192272.104, Time=11.14 sec\n",
      " ARIMA(4,0,2)(0,0,0)[0]             : AIC=192277.597, Time=7.93 sec\n",
      " ARIMA(5,0,3)(0,0,0)[0]             : AIC=191629.153, Time=11.87 sec\n",
      " ARIMA(5,0,2)(0,0,0)[0]             : AIC=191632.476, Time=8.89 sec\n",
      " ARIMA(6,0,3)(0,0,0)[0]             : AIC=191633.835, Time=14.74 sec\n",
      " ARIMA(5,0,4)(0,0,0)[0]             : AIC=191521.448, Time=15.63 sec\n",
      " ARIMA(4,0,4)(0,0,0)[0]             : AIC=191968.857, Time=11.23 sec\n",
      " ARIMA(6,0,4)(0,0,0)[0]             : AIC=191631.888, Time=17.57 sec\n",
      " ARIMA(5,0,5)(0,0,0)[0]             : AIC=191518.039, Time=17.23 sec\n",
      " ARIMA(4,0,5)(0,0,0)[0]             : AIC=191758.715, Time=16.04 sec\n",
      " ARIMA(6,0,5)(0,0,0)[0]             : AIC=191506.255, Time=19.03 sec\n",
      " ARIMA(7,0,5)(0,0,0)[0]             : AIC=191221.508, Time=22.12 sec\n",
      " ARIMA(7,0,4)(0,0,0)[0]             : AIC=191327.554, Time=20.82 sec\n",
      " ARIMA(8,0,5)(0,0,0)[0]             : AIC=191407.345, Time=24.24 sec\n",
      " ARIMA(7,0,6)(0,0,0)[0]             : AIC=191031.042, Time=24.27 sec\n",
      " ARIMA(6,0,6)(0,0,0)[0]             : AIC=191507.581, Time=22.69 sec\n",
      " ARIMA(8,0,6)(0,0,0)[0]             : AIC=191205.287, Time=24.31 sec\n",
      " ARIMA(7,0,7)(0,0,0)[0]             : AIC=190923.316, Time=23.07 sec\n",
      " ARIMA(6,0,7)(0,0,0)[0]             : AIC=191301.537, Time=22.76 sec\n",
      " ARIMA(8,0,7)(0,0,0)[0]             : AIC=191207.521, Time=24.74 sec\n",
      " ARIMA(7,0,8)(0,0,0)[0]             : AIC=190881.606, Time=28.91 sec\n",
      " ARIMA(6,0,8)(0,0,0)[0]             : AIC=190991.500, Time=28.41 sec\n",
      " ARIMA(8,0,8)(0,0,0)[0]             : AIC=inf, Time=37.89 sec\n",
      " ARIMA(7,0,9)(0,0,0)[0]             : AIC=190936.279, Time=38.05 sec\n",
      " ARIMA(6,0,9)(0,0,0)[0]             : AIC=190965.755, Time=34.59 sec\n",
      " ARIMA(8,0,9)(0,0,0)[0]             : AIC=190881.481, Time=37.87 sec\n",
      " ARIMA(9,0,9)(0,0,0)[0]             : AIC=inf, Time=40.05 sec\n",
      " ARIMA(8,0,10)(0,0,0)[0]             : AIC=190835.698, Time=43.01 sec\n",
      " ARIMA(7,0,10)(0,0,0)[0]             : AIC=190906.633, Time=41.20 sec\n",
      " ARIMA(9,0,10)(0,0,0)[0]             : AIC=190704.437, Time=46.24 sec\n",
      " ARIMA(10,0,10)(0,0,0)[0]             : AIC=190611.440, Time=45.16 sec\n",
      " ARIMA(10,0,9)(0,0,0)[0]             : AIC=190957.147, Time=37.49 sec\n",
      " ARIMA(11,0,10)(0,0,0)[0]             : AIC=190632.799, Time=50.70 sec\n",
      " ARIMA(10,0,11)(0,0,0)[0]             : AIC=190595.350, Time=49.53 sec\n",
      " ARIMA(9,0,11)(0,0,0)[0]             : AIC=190759.572, Time=45.72 sec\n",
      " ARIMA(11,0,11)(0,0,0)[0]             : AIC=190598.290, Time=49.87 sec\n",
      " ARIMA(10,0,12)(0,0,0)[0]             : AIC=190545.655, Time=57.23 sec\n",
      " ARIMA(9,0,12)(0,0,0)[0]             : AIC=190736.719, Time=61.03 sec\n",
      " ARIMA(11,0,12)(0,0,0)[0]             : AIC=190576.982, Time=56.72 sec\n",
      " ARIMA(10,0,13)(0,0,0)[0]             : AIC=190542.383, Time=62.93 sec\n",
      " ARIMA(9,0,13)(0,0,0)[0]             : AIC=190654.044, Time=61.58 sec\n",
      " ARIMA(11,0,13)(0,0,0)[0]             : AIC=190558.879, Time=59.61 sec\n",
      " ARIMA(10,0,14)(0,0,0)[0]             : AIC=190555.865, Time=73.55 sec\n",
      " ARIMA(9,0,14)(0,0,0)[0]             : AIC=190660.766, Time=64.27 sec\n",
      " ARIMA(11,0,14)(0,0,0)[0]             : AIC=190549.591, Time=68.56 sec\n",
      " ARIMA(10,0,13)(0,0,0)[0] intercept   : AIC=190544.147, Time=174.71 sec\n",
      "\n",
      "Best model:  ARIMA(10,0,13)(0,0,0)[0]          \n",
      "Total fit time: 1780.442 seconds\n",
      "{'trade_co2': (10, 0, 13)}\n"
     ]
    }
   ],
   "source": [
    "import numpy as np\n",
    "import pmdarima as pm\n",
    "\n",
    "def get_optimal_param(timeseries):\n",
    "    stepwise_fit = pm.auto_arima(timeseries,\n",
    "                                 max_p=20,\n",
    "                                 max_d=20,\n",
    "                                 max_q=20,\n",
    "                                 seasonal=False,\n",
    "                                 error_action='ignore',\n",
    "                                 suppress_warnings=True,\n",
    "                                 trace =  True,\n",
    "                                 stepwise=True)  # set to stepwise\n",
    "    return stepwise_fit.get_params().get('order')\n",
    "\n",
    "# this is a dataset from R\n",
    "# wineind = load_wineind().astype(np.float64)\n",
    "\n",
    "result = dict()\n",
    "for feature in selected[2:]:\n",
    "    print(feature)\n",
    "    series = dataset[feature].to_numpy()\n",
    "    result[feature] = get_optimal_param(series)\n",
    "\n",
    "print(result)"
   ],
   "metadata": {
    "collapsed": false,
    "pycharm": {
     "name": "#%%\n"
    }
   }
  },
  {
   "cell_type": "raw",
   "source": [
    "\n",
    "print(__doc__)\n",
    "\n",
    "# Author: Taylor Smith <taylor.smith@alkaline-ml.com>\n",
    "\n",
    "import numpy as np\n",
    "import pmdarima as pm\n",
    "from pmdarima import model_selection\n",
    "from matplotlib import pyplot as plt\n",
    "\n",
    "print(\"pmdarima version: %s\" % pm.__version__)\n",
    "\n",
    "# Load the data and split it into separate pieces\n",
    "y = global_df[feature]\n",
    "est = pm.ARIMA(order=order,\n",
    "               # seasonal_order=(0, 1, 1, 12),\n",
    "               suppress_warnings=True)\n",
    "cv = model_selection.SlidingWindowForecastCV(window_size=5, step=2, h=4)\n",
    "predictions = model_selection.cross_val_predict(\n",
    "    est, y, cv=cv, verbose=2, averaging=\"median\")\n",
    "\n",
    "# plot the predictions over the original series\n",
    "x_axis = np.arange(y.shape[0])\n",
    "n_test = predictions.shape[0]\n",
    "plt.figure(figsize=(20, 10))\n",
    "plt.plot(x_axis, y, alpha=0.75, c='b')\n",
    "plt.plot(x_axis[-n_test:], predictions, alpha=0.5, c='r')  # Forecasts\n",
    "plt.title(f\"Cross-validated {feature}\")\n",
    "\n",
    "plt.show()"
   ],
   "metadata": {
    "collapsed": false,
    "pycharm": {
     "name": "#%% raw\n"
    }
   }
  },
  {
   "cell_type": "code",
   "execution_count": 13,
   "outputs": [],
   "source": [
    "import json\n",
    "\n",
    "with open('arima_parametersX.json', 'w') as f:\n",
    "    json.dump(result, f)"
   ],
   "metadata": {
    "collapsed": false,
    "pycharm": {
     "name": "#%%\n"
    }
   }
  },
  {
   "cell_type": "code",
   "execution_count": 24,
   "outputs": [
    {
     "name": "stdout",
     "output_type": "stream",
     "text": [
      "co2\n",
      "Data shape: 21948\n",
      "Data head:\n",
      "0    7624058.0\n",
      "1    7752117.0\n",
      "2    7840151.0\n",
      "3    7935996.0\n",
      "4    8039684.0\n",
      "Name: population, dtype: float64\n"
     ]
    },
    {
     "name": "stderr",
     "output_type": "stream",
     "text": [
      "/Users/koonleong/Documents/UM/UMMADS/Courses - Current/SIADS697-Capstone/power_emissions/venv/lib/python3.7/site-packages/pmdarima/utils/visualization.py:223: FutureWarning: the 'unbiased'' keyword is deprecated, use 'adjusted' instead\n",
      "  vlines_kwargs=vlines_kwargs, **kwargs)\n",
      "/Users/koonleong/Documents/UM/UMMADS/Courses - Current/SIADS697-Capstone/power_emissions/venv/lib/python3.7/site-packages/matplotlib/axes/_base.py:2283: UserWarning: Warning: converting a masked element to nan.\n",
      "  xys = np.asarray(xys)\n"
     ]
    },
    {
     "data": {
      "text/plain": "<Figure size 576x432 with 3 Axes>",
      "image/png": "[encoded data removed]"
     },
     "metadata": {
      "needs_background": "light"
     },
     "output_type": "display_data"
    },
    {
     "name": "stderr",
     "output_type": "stream",
     "text": [
      "/Users/koonleong/Documents/UM/UMMADS/Courses - Current/SIADS697-Capstone/power_emissions/venv/lib/python3.7/site-packages/pmdarima/utils/visualization.py:223: FutureWarning: the 'unbiased'' keyword is deprecated, use 'adjusted' instead\n",
      "  vlines_kwargs=vlines_kwargs, **kwargs)\n",
      "/Users/koonleong/Documents/UM/UMMADS/Courses - Current/SIADS697-Capstone/power_emissions/venv/lib/python3.7/site-packages/matplotlib/axes/_base.py:2283: UserWarning: Warning: converting a masked element to nan.\n",
      "  xys = np.asarray(xys)\n"
     ]
    },
    {
     "data": {
      "text/plain": "<Figure size 576x432 with 3 Axes>",
      "image/png": "[encoded data removed]"
     },
     "metadata": {
      "needs_background": "light"
     },
     "output_type": "display_data"
    },
    {
     "name": "stdout",
     "output_type": "stream",
     "text": [
      "\n",
      "As evidenced by the more normally distributed values in the transformed series,\n",
      "using a Box-Cox transformation may prove useful prior to fitting your model.\n",
      "\n"
     ]
    }
   ],
   "source": [],
   "metadata": {
    "collapsed": false,
    "pycharm": {
     "name": "#%%\n"
    }
   }
  }
 ],
 "metadata": {
  "kernelspec": {
   "name": "pycharm-41f59cfe",
   "language": "python",
   "display_name": "PyCharm (power_emissions)"
  },
  "language_info": {
   "codemirror_mode": {
    "name": "ipython",
    "version": 2
   },
   "file_extension": ".py",
   "mimetype": "text/x-python",
   "name": "python",
   "nbconvert_exporter": "python",
   "pygments_lexer": "ipython2",
   "version": "2.7.6"
  }
 },
 "nbformat": 4,
 "nbformat_minor": 0
}