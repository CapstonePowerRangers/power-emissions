{
 "cells": [
  {
   "cell_type": "code",
   "execution_count": 23,
   "outputs": [
    {
     "name": "stdout",
     "output_type": "stream",
     "text": [
      "{'Cluster 0': ['ALB', 'AND', 'AGO', 'ARM', 'BHS', 'BHR', 'BEN', 'BMU', 'BOL', 'BIH', 'BWA', 'BRN', 'CMR', 'CPV', 'COG', 'CRI', 'CIV', 'CUB', 'CUW', 'COD', 'DJI', 'DMA', 'DOM', 'SLV', 'GNQ', 'FJI', 'PYF', 'GAB', 'GMB', 'GEO', 'GHA', 'GRL', 'GTM', 'HTI', 'HND', 'ISL', 'JAM', 'JOR', 'KIR', 'KGZ', 'LBN', 'LBY', 'MLT', 'MHL', 'MRT', 'MDA', 'MNG', 'MNE', 'MOZ', 'NAM', 'NRU', 'NCL', 'NIC', 'NGA', 'PRK', 'PLW', 'PSE', 'PAN', 'PRY', 'PRI', 'STP', 'SEN', 'SRB', 'SYC', 'SXM', 'SUR', 'SYR', 'TGO', 'TUN', 'TCA', 'TUV', 'URY', 'ASM', 'CYM', 'GIB', 'GUM', 'MAC', 'MCO', 'MNP', 'SMR', 'VIR'], 'Cluster 1': ['DZA', 'ARG', 'AUS', 'AUT', 'AZE', 'BGD', 'BLR', 'BEL', 'BRA', 'BGR', 'CAN', 'CHL', 'COL', 'HRV', 'CYP', 'CZE', 'DNK', 'ECU', 'EGY', 'EST', 'FIN', 'FRA', 'DEU', 'GRC', 'HKG', 'HUN', 'IND', 'IDN', 'IRN', 'IRQ', 'IRL', 'ISR', 'ITA', 'JPN', 'KAZ', 'KWT', 'LVA', 'LTU', 'LUX', 'MYS', 'MEX', 'MAR', 'NLD', 'NZL', 'MKD', 'NOR', 'OMN', 'PAK', 'PER', 'PHL', 'POL', 'PRT', 'QAT', 'ROU', 'RUS', 'SAU', 'SGP', 'SVK', 'SVN', 'ZAF', 'KOR', 'ESP', 'SWE', 'CHE', 'THA', 'TTO', 'TUR', 'TKM', 'UKR', 'ARE', 'GBR', 'UZB', 'VEN', 'VNM'], 'Cluster 2': ['CHN', 'USA'], 'Cluster 3': ['AFG', 'ATG', 'ABW', 'BRB', 'BLZ', 'BTN', 'VGB', 'BFA', 'BDI', 'KHM', 'CAF', 'TCD', 'COM', 'ERI', 'SWZ', 'ETH', 'FRO', 'GRD', 'GIN', 'GNB', 'GUY', 'ATA', 'KEN', 'LAO', 'LSO', 'LBR', 'LIE', 'MDG', 'MWI', 'MDV', 'MLI', 'MUS', 'MMR', 'NPL', 'CXR', 'NER', 'PNG', 'RWA', 'KNA', 'LCA', 'VCT', 'WSM', 'SLE', 'SLB', 'SOM', 'SSD', 'LKA', 'SDN', 'TJK', 'TZA', 'TLS', 'TON', 'UGA', 'VUT', 'YEM', 'ZMB', 'ZWE', 'AIA', 'BES', 'COK', 'GUF', 'GLP', 'MTQ', 'MYT', 'MSR', 'NIU', 'SHN', 'SPM', 'TWN', 'CHI', 'FSM', 'IMN', 'MAF', 'XKX']}\n"
     ]
    }
   ],
   "source": [
    "import pandas as pd\n",
    "\n",
    "from library.common import Core\n",
    "from pathlib import Path\n",
    "import json\n",
    "\n",
    "core = Core()\n",
    "cwd = Path.cwd()\n",
    "cluster_path = (cwd.parent/'data/processed/cluster_4.json').as_posix()\n",
    "\n",
    "\n",
    "with open(cluster_path, 'r') as cluster_data:\n",
    "    clustering = json.load(cluster_data)\n",
    "\n",
    "c_df = pd.DataFrame.from_dict(clustering, orient = 'columns')\n",
    "c_df = c_df[['iso_code', 'Cluster']]\n",
    "print(c_df.groupby('Cluster')['iso_code'].apply(list).to_dict())"
   ],
   "metadata": {
    "collapsed": false,
    "pycharm": {
     "name": "#%%\n"
    }
   }
  },
  {
   "cell_type": "code",
   "execution_count": null,
   "outputs": [],
   "source": [],
   "metadata": {
    "collapsed": false,
    "pycharm": {
     "name": "#%%\n"
    }
   }
  }
 ],
 "metadata": {
  "kernelspec": {
   "display_name": "Python 3",
   "language": "python",
   "name": "python3"
  },
  "language_info": {
   "codemirror_mode": {
    "name": "ipython",
    "version": 2
   },
   "file_extension": ".py",
   "mimetype": "text/x-python",
   "name": "python",
   "nbconvert_exporter": "python",
   "pygments_lexer": "ipython2",
   "version": "2.7.6"
  }
 },
 "nbformat": 4,
 "nbformat_minor": 0
}