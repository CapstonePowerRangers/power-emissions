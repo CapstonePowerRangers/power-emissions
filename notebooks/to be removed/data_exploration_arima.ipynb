{
 "cells": [
  {
   "cell_type": "code",
   "execution_count": 2,
   "metadata": {
    "collapsed": true
   },
   "outputs": [
    {
     "name": "stdout",
     "output_type": "stream",
     "text": [
      "Data loaded\n"
     ]
    }
   ],
   "source": [
    "from library.common import Database\n",
    "import pandas as pd\n",
    "\n",
    "db = Database()\n",
    "db_table = 'owid_co2_greenhouse_gas_emissions'\n",
    "owid_df = pd.read_sql(db_table, db.config)\n",
    "\n",
    "owid_df\n",
    "full_features = list(owid_df.columns)\n",
    "#drop continuents\n",
    "owid_df = owid_df.dropna(subset = ['iso_code']).copy()\n",
    "\n",
    "print(\"Data loaded\")"
   ]
  },
  {
   "cell_type": "code",
   "execution_count": 3,
   "outputs": [],
   "source": [
    "# selected = \\\n",
    "#     ['iso_code',\n",
    "#      'year',\n",
    "#      'co2',\n",
    "#      'consumption_co2',\n",
    "#      'co2_growth_abs',\n",
    "#      'trade_co2',\n",
    "#      'co2_per_gdp',\n",
    "#      'co2_per_unit_energy',\n",
    "#      'coal_co2',\n",
    "#      'cement_co2',\n",
    "#      'flaring_co2',\n",
    "#      'gas_co2',\n",
    "#      'oil_co2',\n",
    "#      'other_industry_co2',\n",
    "#      'population',\n",
    "#      'gdp',\n",
    "#      'primary_energy_consumption']\n",
    "\n",
    "selected = [\"iso_code\", \"year\",\"trade_co2\"]\n"
   ],
   "metadata": {
    "collapsed": false,
    "pycharm": {
     "name": "#%%\n"
    }
   }
  },
  {
   "cell_type": "code",
   "execution_count": 4,
   "outputs": [],
   "source": [
    "dataset = owid_df[selected].copy()\n",
    "\n",
    "dataset = dataset.fillna(0)\n",
    "global_df = dataset.groupby('year').sum().reset_index(drop = False)\n",
    "timeseries = global_df[:-2].copy()"
   ],
   "metadata": {
    "collapsed": false,
    "pycharm": {
     "name": "#%%\n"
    }
   }
  },
  {
   "cell_type": "code",
   "execution_count": 5,
   "outputs": [
    {
     "name": "stdout",
     "output_type": "stream",
     "text": [
      "trade_co2\n",
      "Performing stepwise search to minimize aic\n",
      " ARIMA(2,0,2)(0,0,0)[0]             : AIC=192355.601, Time=3.23 sec\n",
      " ARIMA(0,0,0)(0,0,0)[0]             : AIC=227493.055, Time=0.27 sec\n",
      " ARIMA(1,0,0)(0,0,0)[0]             : AIC=193296.585, Time=0.42 sec\n",
      " ARIMA(0,0,1)(0,0,0)[0]             : AIC=209637.350, Time=0.82 sec\n",
      " ARIMA(1,0,2)(0,0,0)[0]             : AIC=192360.700, Time=1.50 sec\n",
      " ARIMA(2,0,1)(0,0,0)[0]             : AIC=193178.856, Time=2.39 sec\n",
      " ARIMA(3,0,2)(0,0,0)[0]             : AIC=192374.076, Time=2.53 sec\n",
      " ARIMA(2,0,3)(0,0,0)[0]             : AIC=192296.718, Time=6.99 sec\n",
      " ARIMA(1,0,3)(0,0,0)[0]             : AIC=192357.318, Time=2.32 sec\n",
      " ARIMA(3,0,3)(0,0,0)[0]             : AIC=192295.045, Time=8.35 sec\n",
      " ARIMA(4,0,3)(0,0,0)[0]             : AIC=192272.104, Time=12.88 sec\n",
      " ARIMA(4,0,2)(0,0,0)[0]             : AIC=192277.597, Time=8.48 sec\n"
     ]
    },
    {
     "ename": "KeyboardInterrupt",
     "evalue": "",
     "output_type": "error",
     "traceback": [
      "\u001B[0;31m---------------------------------------------------------------------------\u001B[0m",
      "\u001B[0;31mKeyboardInterrupt\u001B[0m                         Traceback (most recent call last)",
      "\u001B[0;32m/var/folders/mq/db9ycln11xsdmvbmf1bcjz2r0000gn/T/ipykernel_45812/2012310944.py\u001B[0m in \u001B[0;36m<module>\u001B[0;34m\u001B[0m\n\u001B[1;32m     21\u001B[0m     \u001B[0mprint\u001B[0m\u001B[0;34m(\u001B[0m\u001B[0mfeature\u001B[0m\u001B[0;34m)\u001B[0m\u001B[0;34m\u001B[0m\u001B[0;34m\u001B[0m\u001B[0m\n\u001B[1;32m     22\u001B[0m     \u001B[0mseries\u001B[0m \u001B[0;34m=\u001B[0m \u001B[0mdataset\u001B[0m\u001B[0;34m[\u001B[0m\u001B[0mfeature\u001B[0m\u001B[0;34m]\u001B[0m\u001B[0;34m.\u001B[0m\u001B[0mto_numpy\u001B[0m\u001B[0;34m(\u001B[0m\u001B[0;34m)\u001B[0m\u001B[0;34m\u001B[0m\u001B[0;34m\u001B[0m\u001B[0m\n\u001B[0;32m---> 23\u001B[0;31m     \u001B[0mresult\u001B[0m\u001B[0;34m[\u001B[0m\u001B[0mfeature\u001B[0m\u001B[0;34m]\u001B[0m \u001B[0;34m=\u001B[0m \u001B[0mget_optimal_param\u001B[0m\u001B[0;34m(\u001B[0m\u001B[0mseries\u001B[0m\u001B[0;34m)\u001B[0m\u001B[0;34m\u001B[0m\u001B[0;34m\u001B[0m\u001B[0m\n\u001B[0m\u001B[1;32m     24\u001B[0m \u001B[0;34m\u001B[0m\u001B[0m\n\u001B[1;32m     25\u001B[0m \u001B[0mprint\u001B[0m\u001B[0;34m(\u001B[0m\u001B[0mresult\u001B[0m\u001B[0;34m)\u001B[0m\u001B[0;34m\u001B[0m\u001B[0;34m\u001B[0m\u001B[0m\n",
      "\u001B[0;32m/var/folders/mq/db9ycln11xsdmvbmf1bcjz2r0000gn/T/ipykernel_45812/2012310944.py\u001B[0m in \u001B[0;36mget_optimal_param\u001B[0;34m(timeseries)\u001B[0m\n\u001B[1;32m      3\u001B[0m \u001B[0;34m\u001B[0m\u001B[0m\n\u001B[1;32m      4\u001B[0m \u001B[0;32mdef\u001B[0m \u001B[0mget_optimal_param\u001B[0m\u001B[0;34m(\u001B[0m\u001B[0mtimeseries\u001B[0m\u001B[0;34m)\u001B[0m\u001B[0;34m:\u001B[0m\u001B[0;34m\u001B[0m\u001B[0;34m\u001B[0m\u001B[0m\n\u001B[0;32m----> 5\u001B[0;31m     stepwise_fit = pm.auto_arima(timeseries,\n\u001B[0m\u001B[1;32m      6\u001B[0m                                  \u001B[0mmax_p\u001B[0m\u001B[0;34m=\u001B[0m\u001B[0;36m20\u001B[0m\u001B[0;34m,\u001B[0m\u001B[0;34m\u001B[0m\u001B[0;34m\u001B[0m\u001B[0m\n\u001B[1;32m      7\u001B[0m                                  \u001B[0mmax_d\u001B[0m\u001B[0;34m=\u001B[0m\u001B[0;36m20\u001B[0m\u001B[0;34m,\u001B[0m\u001B[0;34m\u001B[0m\u001B[0;34m\u001B[0m\u001B[0m\n",
      "\u001B[0;32m/Library/Frameworks/Python.framework/Versions/3.10/lib/python3.10/site-packages/pmdarima/arima/auto.py\u001B[0m in \u001B[0;36mauto_arima\u001B[0;34m(y, X, start_p, d, start_q, max_p, max_d, max_q, start_P, D, start_Q, max_P, max_D, max_Q, max_order, m, seasonal, stationary, information_criterion, alpha, test, seasonal_test, stepwise, n_jobs, start_params, trend, method, maxiter, offset_test_args, seasonal_test_args, suppress_warnings, error_action, trace, random, random_state, n_fits, return_valid_fits, out_of_sample_size, scoring, scoring_args, with_intercept, sarimax_kwargs, **fit_args)\u001B[0m\n\u001B[1;32m    715\u001B[0m         )\n\u001B[1;32m    716\u001B[0m \u001B[0;34m\u001B[0m\u001B[0m\n\u001B[0;32m--> 717\u001B[0;31m     \u001B[0msorted_res\u001B[0m \u001B[0;34m=\u001B[0m \u001B[0msearch\u001B[0m\u001B[0;34m.\u001B[0m\u001B[0msolve\u001B[0m\u001B[0;34m(\u001B[0m\u001B[0;34m)\u001B[0m\u001B[0;34m\u001B[0m\u001B[0;34m\u001B[0m\u001B[0m\n\u001B[0m\u001B[1;32m    718\u001B[0m     \u001B[0;32mreturn\u001B[0m \u001B[0m_return_wrapper\u001B[0m\u001B[0;34m(\u001B[0m\u001B[0msorted_res\u001B[0m\u001B[0;34m,\u001B[0m \u001B[0mreturn_valid_fits\u001B[0m\u001B[0;34m,\u001B[0m \u001B[0mstart\u001B[0m\u001B[0;34m,\u001B[0m \u001B[0mtrace\u001B[0m\u001B[0;34m)\u001B[0m\u001B[0;34m\u001B[0m\u001B[0;34m\u001B[0m\u001B[0m\n\u001B[1;32m    719\u001B[0m \u001B[0;34m\u001B[0m\u001B[0m\n",
      "\u001B[0;32m/Library/Frameworks/Python.framework/Versions/3.10/lib/python3.10/site-packages/pmdarima/arima/_auto_solvers.py\u001B[0m in \u001B[0;36msolve\u001B[0;34m(self)\u001B[0m\n\u001B[1;32m    395\u001B[0m             \u001B[0;32mif\u001B[0m \u001B[0mp\u001B[0m \u001B[0;34m<\u001B[0m \u001B[0mmax_p\u001B[0m \u001B[0;32mand\u001B[0m\u001B[0;31m \u001B[0m\u001B[0;31m\\\u001B[0m\u001B[0;34m\u001B[0m\u001B[0;34m\u001B[0m\u001B[0m\n\u001B[1;32m    396\u001B[0m                     \u001B[0mself\u001B[0m\u001B[0;34m.\u001B[0m\u001B[0mk\u001B[0m \u001B[0;34m<\u001B[0m \u001B[0mself\u001B[0m\u001B[0;34m.\u001B[0m\u001B[0mmax_k\u001B[0m \u001B[0;32mand\u001B[0m\u001B[0;31m \u001B[0m\u001B[0;31m\\\u001B[0m\u001B[0;34m\u001B[0m\u001B[0;34m\u001B[0m\u001B[0m\n\u001B[0;32m--> 397\u001B[0;31m                     \u001B[0mself\u001B[0m\u001B[0;34m.\u001B[0m\u001B[0m_do_fit\u001B[0m\u001B[0;34m(\u001B[0m\u001B[0;34m(\u001B[0m\u001B[0mp\u001B[0m \u001B[0;34m+\u001B[0m \u001B[0;36m1\u001B[0m\u001B[0;34m,\u001B[0m \u001B[0md\u001B[0m\u001B[0;34m,\u001B[0m \u001B[0mq\u001B[0m\u001B[0;34m)\u001B[0m\u001B[0;34m,\u001B[0m \u001B[0;34m(\u001B[0m\u001B[0mP\u001B[0m\u001B[0;34m,\u001B[0m \u001B[0mD\u001B[0m\u001B[0;34m,\u001B[0m \u001B[0mQ\u001B[0m\u001B[0;34m,\u001B[0m \u001B[0mm\u001B[0m\u001B[0;34m)\u001B[0m\u001B[0;34m)\u001B[0m\u001B[0;34m:\u001B[0m\u001B[0;34m\u001B[0m\u001B[0;34m\u001B[0m\u001B[0m\n\u001B[0m\u001B[1;32m    398\u001B[0m                 \u001B[0mp\u001B[0m \u001B[0;34m+=\u001B[0m \u001B[0;36m1\u001B[0m\u001B[0;34m\u001B[0m\u001B[0;34m\u001B[0m\u001B[0m\n\u001B[1;32m    399\u001B[0m                 \u001B[0;32mcontinue\u001B[0m\u001B[0;34m\u001B[0m\u001B[0;34m\u001B[0m\u001B[0m\n",
      "\u001B[0;32m/Library/Frameworks/Python.framework/Versions/3.10/lib/python3.10/site-packages/pmdarima/arima/_auto_solvers.py\u001B[0m in \u001B[0;36m_do_fit\u001B[0;34m(self, order, seasonal_order, constant)\u001B[0m\n\u001B[1;32m    231\u001B[0m             \u001B[0mself\u001B[0m\u001B[0;34m.\u001B[0m\u001B[0mk\u001B[0m \u001B[0;34m+=\u001B[0m \u001B[0;36m1\u001B[0m\u001B[0;34m\u001B[0m\u001B[0;34m\u001B[0m\u001B[0m\n\u001B[1;32m    232\u001B[0m \u001B[0;34m\u001B[0m\u001B[0m\n\u001B[0;32m--> 233\u001B[0;31m             fit, fit_time, new_ic = self._fit_arima(\n\u001B[0m\u001B[1;32m    234\u001B[0m                 \u001B[0morder\u001B[0m\u001B[0;34m=\u001B[0m\u001B[0morder\u001B[0m\u001B[0;34m,\u001B[0m\u001B[0;34m\u001B[0m\u001B[0;34m\u001B[0m\u001B[0m\n\u001B[1;32m    235\u001B[0m                 \u001B[0mseasonal_order\u001B[0m\u001B[0;34m=\u001B[0m\u001B[0mseasonal_order\u001B[0m\u001B[0;34m,\u001B[0m\u001B[0;34m\u001B[0m\u001B[0;34m\u001B[0m\u001B[0m\n",
      "\u001B[0;32m/Library/Frameworks/Python.framework/Versions/3.10/lib/python3.10/site-packages/pmdarima/arima/_auto_solvers.py\u001B[0m in \u001B[0;36m_fit_candidate_model\u001B[0;34m(y, X, order, seasonal_order, start_params, trend, method, maxiter, fit_params, suppress_warnings, trace, error_action, out_of_sample_size, scoring, scoring_args, with_intercept, information_criterion, **kwargs)\u001B[0m\n\u001B[1;32m    504\u001B[0m \u001B[0;34m\u001B[0m\u001B[0m\n\u001B[1;32m    505\u001B[0m     \u001B[0;32mtry\u001B[0m\u001B[0;34m:\u001B[0m\u001B[0;34m\u001B[0m\u001B[0;34m\u001B[0m\u001B[0m\n\u001B[0;32m--> 506\u001B[0;31m         \u001B[0mfit\u001B[0m\u001B[0;34m.\u001B[0m\u001B[0mfit\u001B[0m\u001B[0;34m(\u001B[0m\u001B[0my\u001B[0m\u001B[0;34m,\u001B[0m \u001B[0mX\u001B[0m\u001B[0;34m=\u001B[0m\u001B[0mX\u001B[0m\u001B[0;34m,\u001B[0m \u001B[0;34m**\u001B[0m\u001B[0mfit_params\u001B[0m\u001B[0;34m)\u001B[0m\u001B[0;34m\u001B[0m\u001B[0;34m\u001B[0m\u001B[0m\n\u001B[0m\u001B[1;32m    507\u001B[0m \u001B[0;34m\u001B[0m\u001B[0m\n\u001B[1;32m    508\u001B[0m     \u001B[0;31m# for non-stationarity errors or singular matrices, return None\u001B[0m\u001B[0;34m\u001B[0m\u001B[0;34m\u001B[0m\u001B[0m\n",
      "\u001B[0;32m/Library/Frameworks/Python.framework/Versions/3.10/lib/python3.10/site-packages/pmdarima/arima/arima.py\u001B[0m in \u001B[0;36mfit\u001B[0;34m(self, y, X, **fit_args)\u001B[0m\n\u001B[1;32m    595\u001B[0m \u001B[0;34m\u001B[0m\u001B[0m\n\u001B[1;32m    596\u001B[0m         \u001B[0;31m# Internal call\u001B[0m\u001B[0;34m\u001B[0m\u001B[0;34m\u001B[0m\u001B[0m\n\u001B[0;32m--> 597\u001B[0;31m         \u001B[0mself\u001B[0m\u001B[0;34m.\u001B[0m\u001B[0m_fit\u001B[0m\u001B[0;34m(\u001B[0m\u001B[0my\u001B[0m\u001B[0;34m,\u001B[0m \u001B[0mX\u001B[0m\u001B[0;34m,\u001B[0m \u001B[0;34m**\u001B[0m\u001B[0mfit_args\u001B[0m\u001B[0;34m)\u001B[0m\u001B[0;34m\u001B[0m\u001B[0;34m\u001B[0m\u001B[0m\n\u001B[0m\u001B[1;32m    598\u001B[0m \u001B[0;34m\u001B[0m\u001B[0m\n\u001B[1;32m    599\u001B[0m         \u001B[0;31m# now make a forecast if we're validating to compute the\u001B[0m\u001B[0;34m\u001B[0m\u001B[0;34m\u001B[0m\u001B[0m\n",
      "\u001B[0;32m/Library/Frameworks/Python.framework/Versions/3.10/lib/python3.10/site-packages/pmdarima/arima/arima.py\u001B[0m in \u001B[0;36m_fit\u001B[0;34m(self, y, X, **fit_args)\u001B[0m\n\u001B[1;32m    516\u001B[0m             \u001B[0;32mwith\u001B[0m \u001B[0mwarnings\u001B[0m\u001B[0;34m.\u001B[0m\u001B[0mcatch_warnings\u001B[0m\u001B[0;34m(\u001B[0m\u001B[0mrecord\u001B[0m\u001B[0;34m=\u001B[0m\u001B[0;32mFalse\u001B[0m\u001B[0;34m)\u001B[0m\u001B[0;34m:\u001B[0m\u001B[0;34m\u001B[0m\u001B[0;34m\u001B[0m\u001B[0m\n\u001B[1;32m    517\u001B[0m                 \u001B[0mwarnings\u001B[0m\u001B[0;34m.\u001B[0m\u001B[0msimplefilter\u001B[0m\u001B[0;34m(\u001B[0m\u001B[0;34m'ignore'\u001B[0m\u001B[0;34m)\u001B[0m\u001B[0;34m\u001B[0m\u001B[0;34m\u001B[0m\u001B[0m\n\u001B[0;32m--> 518\u001B[0;31m                 \u001B[0mfit\u001B[0m\u001B[0;34m,\u001B[0m \u001B[0mself\u001B[0m\u001B[0;34m.\u001B[0m\u001B[0marima_res_\u001B[0m \u001B[0;34m=\u001B[0m \u001B[0m_fit_wrapper\u001B[0m\u001B[0;34m(\u001B[0m\u001B[0;34m)\u001B[0m\u001B[0;34m\u001B[0m\u001B[0;34m\u001B[0m\u001B[0m\n\u001B[0m\u001B[1;32m    519\u001B[0m         \u001B[0;32melse\u001B[0m\u001B[0;34m:\u001B[0m\u001B[0;34m\u001B[0m\u001B[0;34m\u001B[0m\u001B[0m\n\u001B[1;32m    520\u001B[0m             \u001B[0mfit\u001B[0m\u001B[0;34m,\u001B[0m \u001B[0mself\u001B[0m\u001B[0;34m.\u001B[0m\u001B[0marima_res_\u001B[0m \u001B[0;34m=\u001B[0m \u001B[0m_fit_wrapper\u001B[0m\u001B[0;34m(\u001B[0m\u001B[0;34m)\u001B[0m\u001B[0;34m\u001B[0m\u001B[0;34m\u001B[0m\u001B[0m\n",
      "\u001B[0;32m/Library/Frameworks/Python.framework/Versions/3.10/lib/python3.10/site-packages/pmdarima/arima/arima.py\u001B[0m in \u001B[0;36m_fit_wrapper\u001B[0;34m()\u001B[0m\n\u001B[1;32m    506\u001B[0m             \u001B[0mdisp\u001B[0m \u001B[0;34m=\u001B[0m \u001B[0mfit_args\u001B[0m\u001B[0;34m.\u001B[0m\u001B[0mpop\u001B[0m\u001B[0;34m(\u001B[0m\u001B[0;34m\"disp\"\u001B[0m\u001B[0;34m,\u001B[0m \u001B[0;36m0\u001B[0m\u001B[0;34m)\u001B[0m\u001B[0;34m\u001B[0m\u001B[0;34m\u001B[0m\u001B[0m\n\u001B[1;32m    507\u001B[0m \u001B[0;34m\u001B[0m\u001B[0m\n\u001B[0;32m--> 508\u001B[0;31m             return arima, arima.fit(start_params=start_params,\n\u001B[0m\u001B[1;32m    509\u001B[0m                                     \u001B[0mmethod\u001B[0m\u001B[0;34m=\u001B[0m\u001B[0mmethod\u001B[0m\u001B[0;34m,\u001B[0m\u001B[0;34m\u001B[0m\u001B[0;34m\u001B[0m\u001B[0m\n\u001B[1;32m    510\u001B[0m                                     \u001B[0mmaxiter\u001B[0m\u001B[0;34m=\u001B[0m\u001B[0m_maxiter\u001B[0m\u001B[0;34m,\u001B[0m\u001B[0;34m\u001B[0m\u001B[0;34m\u001B[0m\u001B[0m\n",
      "\u001B[0;32m/Library/Frameworks/Python.framework/Versions/3.10/lib/python3.10/site-packages/statsmodels/tsa/statespace/mlemodel.py\u001B[0m in \u001B[0;36mfit\u001B[0;34m(self, start_params, transformed, includes_fixed, cov_type, cov_kwds, method, maxiter, full_output, disp, callback, return_params, optim_score, optim_complex_step, optim_hessian, flags, low_memory, **kwargs)\u001B[0m\n\u001B[1;32m    702\u001B[0m                 \u001B[0mflags\u001B[0m\u001B[0;34m[\u001B[0m\u001B[0;34m'hessian_method'\u001B[0m\u001B[0;34m]\u001B[0m \u001B[0;34m=\u001B[0m \u001B[0moptim_hessian\u001B[0m\u001B[0;34m\u001B[0m\u001B[0;34m\u001B[0m\u001B[0m\n\u001B[1;32m    703\u001B[0m             \u001B[0mfargs\u001B[0m \u001B[0;34m=\u001B[0m \u001B[0;34m(\u001B[0m\u001B[0mflags\u001B[0m\u001B[0;34m,\u001B[0m\u001B[0;34m)\u001B[0m\u001B[0;34m\u001B[0m\u001B[0;34m\u001B[0m\u001B[0m\n\u001B[0;32m--> 704\u001B[0;31m             mlefit = super(MLEModel, self).fit(start_params, method=method,\n\u001B[0m\u001B[1;32m    705\u001B[0m                                                \u001B[0mfargs\u001B[0m\u001B[0;34m=\u001B[0m\u001B[0mfargs\u001B[0m\u001B[0;34m,\u001B[0m\u001B[0;34m\u001B[0m\u001B[0;34m\u001B[0m\u001B[0m\n\u001B[1;32m    706\u001B[0m                                                \u001B[0mmaxiter\u001B[0m\u001B[0;34m=\u001B[0m\u001B[0mmaxiter\u001B[0m\u001B[0;34m,\u001B[0m\u001B[0;34m\u001B[0m\u001B[0;34m\u001B[0m\u001B[0m\n",
      "\u001B[0;32m/Library/Frameworks/Python.framework/Versions/3.10/lib/python3.10/site-packages/statsmodels/base/model.py\u001B[0m in \u001B[0;36mfit\u001B[0;34m(self, start_params, method, maxiter, full_output, disp, fargs, callback, retall, skip_hessian, **kwargs)\u001B[0m\n\u001B[1;32m    561\u001B[0m \u001B[0;34m\u001B[0m\u001B[0m\n\u001B[1;32m    562\u001B[0m         \u001B[0moptimizer\u001B[0m \u001B[0;34m=\u001B[0m \u001B[0mOptimizer\u001B[0m\u001B[0;34m(\u001B[0m\u001B[0;34m)\u001B[0m\u001B[0;34m\u001B[0m\u001B[0;34m\u001B[0m\u001B[0m\n\u001B[0;32m--> 563\u001B[0;31m         xopt, retvals, optim_settings = optimizer._fit(f, score, start_params,\n\u001B[0m\u001B[1;32m    564\u001B[0m                                                        \u001B[0mfargs\u001B[0m\u001B[0;34m,\u001B[0m \u001B[0mkwargs\u001B[0m\u001B[0;34m,\u001B[0m\u001B[0;34m\u001B[0m\u001B[0;34m\u001B[0m\u001B[0m\n\u001B[1;32m    565\u001B[0m                                                        \u001B[0mhessian\u001B[0m\u001B[0;34m=\u001B[0m\u001B[0mhess\u001B[0m\u001B[0;34m,\u001B[0m\u001B[0;34m\u001B[0m\u001B[0;34m\u001B[0m\u001B[0m\n",
      "\u001B[0;32m/Library/Frameworks/Python.framework/Versions/3.10/lib/python3.10/site-packages/statsmodels/base/optimizer.py\u001B[0m in \u001B[0;36m_fit\u001B[0;34m(self, objective, gradient, start_params, fargs, kwargs, hessian, method, maxiter, full_output, disp, callback, retall)\u001B[0m\n\u001B[1;32m    239\u001B[0m \u001B[0;34m\u001B[0m\u001B[0m\n\u001B[1;32m    240\u001B[0m         \u001B[0mfunc\u001B[0m \u001B[0;34m=\u001B[0m \u001B[0mfit_funcs\u001B[0m\u001B[0;34m[\u001B[0m\u001B[0mmethod\u001B[0m\u001B[0;34m]\u001B[0m\u001B[0;34m\u001B[0m\u001B[0;34m\u001B[0m\u001B[0m\n\u001B[0;32m--> 241\u001B[0;31m         xopt, retvals = func(objective, gradient, start_params, fargs, kwargs,\n\u001B[0m\u001B[1;32m    242\u001B[0m                              \u001B[0mdisp\u001B[0m\u001B[0;34m=\u001B[0m\u001B[0mdisp\u001B[0m\u001B[0;34m,\u001B[0m \u001B[0mmaxiter\u001B[0m\u001B[0;34m=\u001B[0m\u001B[0mmaxiter\u001B[0m\u001B[0;34m,\u001B[0m \u001B[0mcallback\u001B[0m\u001B[0;34m=\u001B[0m\u001B[0mcallback\u001B[0m\u001B[0;34m,\u001B[0m\u001B[0;34m\u001B[0m\u001B[0;34m\u001B[0m\u001B[0m\n\u001B[1;32m    243\u001B[0m                              \u001B[0mretall\u001B[0m\u001B[0;34m=\u001B[0m\u001B[0mretall\u001B[0m\u001B[0;34m,\u001B[0m \u001B[0mfull_output\u001B[0m\u001B[0;34m=\u001B[0m\u001B[0mfull_output\u001B[0m\u001B[0;34m,\u001B[0m\u001B[0;34m\u001B[0m\u001B[0;34m\u001B[0m\u001B[0m\n",
      "\u001B[0;32m/Library/Frameworks/Python.framework/Versions/3.10/lib/python3.10/site-packages/statsmodels/base/optimizer.py\u001B[0m in \u001B[0;36m_fit_lbfgs\u001B[0;34m(f, score, start_params, fargs, kwargs, disp, maxiter, callback, retall, full_output, hess)\u001B[0m\n\u001B[1;32m    649\u001B[0m         \u001B[0mfunc\u001B[0m \u001B[0;34m=\u001B[0m \u001B[0mf\u001B[0m\u001B[0;34m\u001B[0m\u001B[0;34m\u001B[0m\u001B[0m\n\u001B[1;32m    650\u001B[0m \u001B[0;34m\u001B[0m\u001B[0m\n\u001B[0;32m--> 651\u001B[0;31m     retvals = optimize.fmin_l_bfgs_b(func, start_params, maxiter=maxiter,\n\u001B[0m\u001B[1;32m    652\u001B[0m                                      \u001B[0mcallback\u001B[0m\u001B[0;34m=\u001B[0m\u001B[0mcallback\u001B[0m\u001B[0;34m,\u001B[0m \u001B[0margs\u001B[0m\u001B[0;34m=\u001B[0m\u001B[0mfargs\u001B[0m\u001B[0;34m,\u001B[0m\u001B[0;34m\u001B[0m\u001B[0;34m\u001B[0m\u001B[0m\n\u001B[1;32m    653\u001B[0m                                      \u001B[0mbounds\u001B[0m\u001B[0;34m=\u001B[0m\u001B[0mbounds\u001B[0m\u001B[0;34m,\u001B[0m \u001B[0mdisp\u001B[0m\u001B[0;34m=\u001B[0m\u001B[0mdisp\u001B[0m\u001B[0;34m,\u001B[0m\u001B[0;34m\u001B[0m\u001B[0;34m\u001B[0m\u001B[0m\n",
      "\u001B[0;32m/Library/Frameworks/Python.framework/Versions/3.10/lib/python3.10/site-packages/scipy/optimize/lbfgsb.py\u001B[0m in \u001B[0;36mfmin_l_bfgs_b\u001B[0;34m(func, x0, fprime, args, approx_grad, bounds, m, factr, pgtol, epsilon, iprint, maxfun, maxiter, disp, callback, maxls)\u001B[0m\n\u001B[1;32m    195\u001B[0m             'maxls': maxls}\n\u001B[1;32m    196\u001B[0m \u001B[0;34m\u001B[0m\u001B[0m\n\u001B[0;32m--> 197\u001B[0;31m     res = _minimize_lbfgsb(fun, x0, args=args, jac=jac, bounds=bounds,\n\u001B[0m\u001B[1;32m    198\u001B[0m                            **opts)\n\u001B[1;32m    199\u001B[0m     d = {'grad': res['jac'],\n",
      "\u001B[0;32m/Library/Frameworks/Python.framework/Versions/3.10/lib/python3.10/site-packages/scipy/optimize/lbfgsb.py\u001B[0m in \u001B[0;36m_minimize_lbfgsb\u001B[0;34m(fun, x0, args, jac, bounds, disp, maxcor, ftol, gtol, eps, maxfun, maxiter, iprint, callback, maxls, finite_diff_rel_step, **unknown_options)\u001B[0m\n\u001B[1;32m    358\u001B[0m             \u001B[0;31m# until the completion of the current minimization iteration.\u001B[0m\u001B[0;34m\u001B[0m\u001B[0;34m\u001B[0m\u001B[0m\n\u001B[1;32m    359\u001B[0m             \u001B[0;31m# Overwrite f and g:\u001B[0m\u001B[0;34m\u001B[0m\u001B[0;34m\u001B[0m\u001B[0m\n\u001B[0;32m--> 360\u001B[0;31m             \u001B[0mf\u001B[0m\u001B[0;34m,\u001B[0m \u001B[0mg\u001B[0m \u001B[0;34m=\u001B[0m \u001B[0mfunc_and_grad\u001B[0m\u001B[0;34m(\u001B[0m\u001B[0mx\u001B[0m\u001B[0;34m)\u001B[0m\u001B[0;34m\u001B[0m\u001B[0;34m\u001B[0m\u001B[0m\n\u001B[0m\u001B[1;32m    361\u001B[0m         \u001B[0;32melif\u001B[0m \u001B[0mtask_str\u001B[0m\u001B[0;34m.\u001B[0m\u001B[0mstartswith\u001B[0m\u001B[0;34m(\u001B[0m\u001B[0;34mb'NEW_X'\u001B[0m\u001B[0;34m)\u001B[0m\u001B[0;34m:\u001B[0m\u001B[0;34m\u001B[0m\u001B[0;34m\u001B[0m\u001B[0m\n\u001B[1;32m    362\u001B[0m             \u001B[0;31m# new iteration\u001B[0m\u001B[0;34m\u001B[0m\u001B[0;34m\u001B[0m\u001B[0m\n",
      "\u001B[0;32m/Library/Frameworks/Python.framework/Versions/3.10/lib/python3.10/site-packages/scipy/optimize/_differentiable_functions.py\u001B[0m in \u001B[0;36mfun_and_grad\u001B[0;34m(self, x)\u001B[0m\n\u001B[1;32m    266\u001B[0m             \u001B[0mself\u001B[0m\u001B[0;34m.\u001B[0m\u001B[0m_update_x_impl\u001B[0m\u001B[0;34m(\u001B[0m\u001B[0mx\u001B[0m\u001B[0;34m)\u001B[0m\u001B[0;34m\u001B[0m\u001B[0;34m\u001B[0m\u001B[0m\n\u001B[1;32m    267\u001B[0m         \u001B[0mself\u001B[0m\u001B[0;34m.\u001B[0m\u001B[0m_update_fun\u001B[0m\u001B[0;34m(\u001B[0m\u001B[0;34m)\u001B[0m\u001B[0;34m\u001B[0m\u001B[0;34m\u001B[0m\u001B[0m\n\u001B[0;32m--> 268\u001B[0;31m         \u001B[0mself\u001B[0m\u001B[0;34m.\u001B[0m\u001B[0m_update_grad\u001B[0m\u001B[0;34m(\u001B[0m\u001B[0;34m)\u001B[0m\u001B[0;34m\u001B[0m\u001B[0;34m\u001B[0m\u001B[0m\n\u001B[0m\u001B[1;32m    269\u001B[0m         \u001B[0;32mreturn\u001B[0m \u001B[0mself\u001B[0m\u001B[0;34m.\u001B[0m\u001B[0mf\u001B[0m\u001B[0;34m,\u001B[0m \u001B[0mself\u001B[0m\u001B[0;34m.\u001B[0m\u001B[0mg\u001B[0m\u001B[0;34m\u001B[0m\u001B[0;34m\u001B[0m\u001B[0m\n\u001B[1;32m    270\u001B[0m \u001B[0;34m\u001B[0m\u001B[0m\n",
      "\u001B[0;32m/Library/Frameworks/Python.framework/Versions/3.10/lib/python3.10/site-packages/scipy/optimize/_differentiable_functions.py\u001B[0m in \u001B[0;36m_update_grad\u001B[0;34m(self)\u001B[0m\n\u001B[1;32m    236\u001B[0m     \u001B[0;32mdef\u001B[0m \u001B[0m_update_grad\u001B[0m\u001B[0;34m(\u001B[0m\u001B[0mself\u001B[0m\u001B[0;34m)\u001B[0m\u001B[0;34m:\u001B[0m\u001B[0;34m\u001B[0m\u001B[0;34m\u001B[0m\u001B[0m\n\u001B[1;32m    237\u001B[0m         \u001B[0;32mif\u001B[0m \u001B[0;32mnot\u001B[0m \u001B[0mself\u001B[0m\u001B[0;34m.\u001B[0m\u001B[0mg_updated\u001B[0m\u001B[0;34m:\u001B[0m\u001B[0;34m\u001B[0m\u001B[0;34m\u001B[0m\u001B[0m\n\u001B[0;32m--> 238\u001B[0;31m             \u001B[0mself\u001B[0m\u001B[0;34m.\u001B[0m\u001B[0m_update_grad_impl\u001B[0m\u001B[0;34m(\u001B[0m\u001B[0;34m)\u001B[0m\u001B[0;34m\u001B[0m\u001B[0;34m\u001B[0m\u001B[0m\n\u001B[0m\u001B[1;32m    239\u001B[0m             \u001B[0mself\u001B[0m\u001B[0;34m.\u001B[0m\u001B[0mg_updated\u001B[0m \u001B[0;34m=\u001B[0m \u001B[0;32mTrue\u001B[0m\u001B[0;34m\u001B[0m\u001B[0;34m\u001B[0m\u001B[0m\n\u001B[1;32m    240\u001B[0m \u001B[0;34m\u001B[0m\u001B[0m\n",
      "\u001B[0;32m/Library/Frameworks/Python.framework/Versions/3.10/lib/python3.10/site-packages/scipy/optimize/_differentiable_functions.py\u001B[0m in \u001B[0;36mupdate_grad\u001B[0;34m()\u001B[0m\n\u001B[1;32m    153\u001B[0m                 \u001B[0mself\u001B[0m\u001B[0;34m.\u001B[0m\u001B[0m_update_fun\u001B[0m\u001B[0;34m(\u001B[0m\u001B[0;34m)\u001B[0m\u001B[0;34m\u001B[0m\u001B[0;34m\u001B[0m\u001B[0m\n\u001B[1;32m    154\u001B[0m                 \u001B[0mself\u001B[0m\u001B[0;34m.\u001B[0m\u001B[0mngev\u001B[0m \u001B[0;34m+=\u001B[0m \u001B[0;36m1\u001B[0m\u001B[0;34m\u001B[0m\u001B[0;34m\u001B[0m\u001B[0m\n\u001B[0;32m--> 155\u001B[0;31m                 self.g = approx_derivative(fun_wrapped, self.x, f0=self.f,\n\u001B[0m\u001B[1;32m    156\u001B[0m                                            **finite_diff_options)\n\u001B[1;32m    157\u001B[0m \u001B[0;34m\u001B[0m\u001B[0m\n",
      "\u001B[0;32m/Library/Frameworks/Python.framework/Versions/3.10/lib/python3.10/site-packages/scipy/optimize/_numdiff.py\u001B[0m in \u001B[0;36mapprox_derivative\u001B[0;34m(fun, x0, method, rel_step, abs_step, f0, bounds, sparsity, as_linear_operator, args, kwargs)\u001B[0m\n\u001B[1;32m    484\u001B[0m \u001B[0;34m\u001B[0m\u001B[0m\n\u001B[1;32m    485\u001B[0m         \u001B[0;32mif\u001B[0m \u001B[0msparsity\u001B[0m \u001B[0;32mis\u001B[0m \u001B[0;32mNone\u001B[0m\u001B[0;34m:\u001B[0m\u001B[0;34m\u001B[0m\u001B[0;34m\u001B[0m\u001B[0m\n\u001B[0;32m--> 486\u001B[0;31m             return _dense_difference(fun_wrapped, x0, f0, h,\n\u001B[0m\u001B[1;32m    487\u001B[0m                                      use_one_sided, method)\n\u001B[1;32m    488\u001B[0m         \u001B[0;32melse\u001B[0m\u001B[0;34m:\u001B[0m\u001B[0;34m\u001B[0m\u001B[0;34m\u001B[0m\u001B[0m\n",
      "\u001B[0;32m/Library/Frameworks/Python.framework/Versions/3.10/lib/python3.10/site-packages/scipy/optimize/_numdiff.py\u001B[0m in \u001B[0;36m_dense_difference\u001B[0;34m(fun, x0, f0, h, use_one_sided, method)\u001B[0m\n\u001B[1;32m    555\u001B[0m             \u001B[0mx\u001B[0m \u001B[0;34m=\u001B[0m \u001B[0mx0\u001B[0m \u001B[0;34m+\u001B[0m \u001B[0mh_vecs\u001B[0m\u001B[0;34m[\u001B[0m\u001B[0mi\u001B[0m\u001B[0;34m]\u001B[0m\u001B[0;34m\u001B[0m\u001B[0;34m\u001B[0m\u001B[0m\n\u001B[1;32m    556\u001B[0m             \u001B[0mdx\u001B[0m \u001B[0;34m=\u001B[0m \u001B[0mx\u001B[0m\u001B[0;34m[\u001B[0m\u001B[0mi\u001B[0m\u001B[0;34m]\u001B[0m \u001B[0;34m-\u001B[0m \u001B[0mx0\u001B[0m\u001B[0;34m[\u001B[0m\u001B[0mi\u001B[0m\u001B[0;34m]\u001B[0m  \u001B[0;31m# Recompute dx as exactly representable number.\u001B[0m\u001B[0;34m\u001B[0m\u001B[0;34m\u001B[0m\u001B[0m\n\u001B[0;32m--> 557\u001B[0;31m             \u001B[0mdf\u001B[0m \u001B[0;34m=\u001B[0m \u001B[0mfun\u001B[0m\u001B[0;34m(\u001B[0m\u001B[0mx\u001B[0m\u001B[0;34m)\u001B[0m \u001B[0;34m-\u001B[0m \u001B[0mf0\u001B[0m\u001B[0;34m\u001B[0m\u001B[0;34m\u001B[0m\u001B[0m\n\u001B[0m\u001B[1;32m    558\u001B[0m         \u001B[0;32melif\u001B[0m \u001B[0mmethod\u001B[0m \u001B[0;34m==\u001B[0m \u001B[0;34m'3-point'\u001B[0m \u001B[0;32mand\u001B[0m \u001B[0muse_one_sided\u001B[0m\u001B[0;34m[\u001B[0m\u001B[0mi\u001B[0m\u001B[0;34m]\u001B[0m\u001B[0;34m:\u001B[0m\u001B[0;34m\u001B[0m\u001B[0;34m\u001B[0m\u001B[0m\n\u001B[1;32m    559\u001B[0m             \u001B[0mx1\u001B[0m \u001B[0;34m=\u001B[0m \u001B[0mx0\u001B[0m \u001B[0;34m+\u001B[0m \u001B[0mh_vecs\u001B[0m\u001B[0;34m[\u001B[0m\u001B[0mi\u001B[0m\u001B[0;34m]\u001B[0m\u001B[0;34m\u001B[0m\u001B[0;34m\u001B[0m\u001B[0m\n",
      "\u001B[0;32m/Library/Frameworks/Python.framework/Versions/3.10/lib/python3.10/site-packages/scipy/optimize/_numdiff.py\u001B[0m in \u001B[0;36mfun_wrapped\u001B[0;34m(x)\u001B[0m\n\u001B[1;32m    435\u001B[0m \u001B[0;34m\u001B[0m\u001B[0m\n\u001B[1;32m    436\u001B[0m     \u001B[0;32mdef\u001B[0m \u001B[0mfun_wrapped\u001B[0m\u001B[0;34m(\u001B[0m\u001B[0mx\u001B[0m\u001B[0;34m)\u001B[0m\u001B[0;34m:\u001B[0m\u001B[0;34m\u001B[0m\u001B[0;34m\u001B[0m\u001B[0m\n\u001B[0;32m--> 437\u001B[0;31m         \u001B[0mf\u001B[0m \u001B[0;34m=\u001B[0m \u001B[0mnp\u001B[0m\u001B[0;34m.\u001B[0m\u001B[0matleast_1d\u001B[0m\u001B[0;34m(\u001B[0m\u001B[0mfun\u001B[0m\u001B[0;34m(\u001B[0m\u001B[0mx\u001B[0m\u001B[0;34m,\u001B[0m \u001B[0;34m*\u001B[0m\u001B[0margs\u001B[0m\u001B[0;34m,\u001B[0m \u001B[0;34m**\u001B[0m\u001B[0mkwargs\u001B[0m\u001B[0;34m)\u001B[0m\u001B[0;34m)\u001B[0m\u001B[0;34m\u001B[0m\u001B[0;34m\u001B[0m\u001B[0m\n\u001B[0m\u001B[1;32m    438\u001B[0m         \u001B[0;32mif\u001B[0m \u001B[0mf\u001B[0m\u001B[0;34m.\u001B[0m\u001B[0mndim\u001B[0m \u001B[0;34m>\u001B[0m \u001B[0;36m1\u001B[0m\u001B[0;34m:\u001B[0m\u001B[0;34m\u001B[0m\u001B[0;34m\u001B[0m\u001B[0m\n\u001B[1;32m    439\u001B[0m             raise RuntimeError(\"`fun` return value has \"\n",
      "\u001B[0;32m/Library/Frameworks/Python.framework/Versions/3.10/lib/python3.10/site-packages/scipy/optimize/_differentiable_functions.py\u001B[0m in \u001B[0;36mfun_wrapped\u001B[0;34m(x)\u001B[0m\n\u001B[1;32m    132\u001B[0m             \u001B[0;31m# Overwriting results in undefined behaviour because\u001B[0m\u001B[0;34m\u001B[0m\u001B[0;34m\u001B[0m\u001B[0m\n\u001B[1;32m    133\u001B[0m             \u001B[0;31m# fun(self.x) will change self.x, with the two no longer linked.\u001B[0m\u001B[0;34m\u001B[0m\u001B[0;34m\u001B[0m\u001B[0m\n\u001B[0;32m--> 134\u001B[0;31m             \u001B[0;32mreturn\u001B[0m \u001B[0mfun\u001B[0m\u001B[0;34m(\u001B[0m\u001B[0mnp\u001B[0m\u001B[0;34m.\u001B[0m\u001B[0mcopy\u001B[0m\u001B[0;34m(\u001B[0m\u001B[0mx\u001B[0m\u001B[0;34m)\u001B[0m\u001B[0;34m,\u001B[0m \u001B[0;34m*\u001B[0m\u001B[0margs\u001B[0m\u001B[0;34m)\u001B[0m\u001B[0;34m\u001B[0m\u001B[0;34m\u001B[0m\u001B[0m\n\u001B[0m\u001B[1;32m    135\u001B[0m \u001B[0;34m\u001B[0m\u001B[0m\n\u001B[1;32m    136\u001B[0m         \u001B[0;32mdef\u001B[0m \u001B[0mupdate_fun\u001B[0m\u001B[0;34m(\u001B[0m\u001B[0;34m)\u001B[0m\u001B[0;34m:\u001B[0m\u001B[0;34m\u001B[0m\u001B[0;34m\u001B[0m\u001B[0m\n",
      "\u001B[0;32m/Library/Frameworks/Python.framework/Versions/3.10/lib/python3.10/site-packages/statsmodels/base/model.py\u001B[0m in \u001B[0;36mf\u001B[0;34m(params, *args)\u001B[0m\n\u001B[1;32m    529\u001B[0m \u001B[0;34m\u001B[0m\u001B[0m\n\u001B[1;32m    530\u001B[0m         \u001B[0;32mdef\u001B[0m \u001B[0mf\u001B[0m\u001B[0;34m(\u001B[0m\u001B[0mparams\u001B[0m\u001B[0;34m,\u001B[0m \u001B[0;34m*\u001B[0m\u001B[0margs\u001B[0m\u001B[0;34m)\u001B[0m\u001B[0;34m:\u001B[0m\u001B[0;34m\u001B[0m\u001B[0;34m\u001B[0m\u001B[0m\n\u001B[0;32m--> 531\u001B[0;31m             \u001B[0;32mreturn\u001B[0m \u001B[0;34m-\u001B[0m\u001B[0mself\u001B[0m\u001B[0;34m.\u001B[0m\u001B[0mloglike\u001B[0m\u001B[0;34m(\u001B[0m\u001B[0mparams\u001B[0m\u001B[0;34m,\u001B[0m \u001B[0;34m*\u001B[0m\u001B[0margs\u001B[0m\u001B[0;34m)\u001B[0m \u001B[0;34m/\u001B[0m \u001B[0mnobs\u001B[0m\u001B[0;34m\u001B[0m\u001B[0;34m\u001B[0m\u001B[0m\n\u001B[0m\u001B[1;32m    532\u001B[0m \u001B[0;34m\u001B[0m\u001B[0m\n\u001B[1;32m    533\u001B[0m         \u001B[0;32mif\u001B[0m \u001B[0mmethod\u001B[0m \u001B[0;34m==\u001B[0m \u001B[0;34m'newton'\u001B[0m\u001B[0;34m:\u001B[0m\u001B[0;34m\u001B[0m\u001B[0;34m\u001B[0m\u001B[0m\n",
      "\u001B[0;32m/Library/Frameworks/Python.framework/Versions/3.10/lib/python3.10/site-packages/statsmodels/tsa/statespace/mlemodel.py\u001B[0m in \u001B[0;36mloglike\u001B[0;34m(self, params, *args, **kwargs)\u001B[0m\n\u001B[1;32m    937\u001B[0m             \u001B[0mkwargs\u001B[0m\u001B[0;34m[\u001B[0m\u001B[0;34m'inversion_method'\u001B[0m\u001B[0;34m]\u001B[0m \u001B[0;34m=\u001B[0m \u001B[0mINVERT_UNIVARIATE\u001B[0m \u001B[0;34m|\u001B[0m \u001B[0mSOLVE_LU\u001B[0m\u001B[0;34m\u001B[0m\u001B[0;34m\u001B[0m\u001B[0m\n\u001B[1;32m    938\u001B[0m \u001B[0;34m\u001B[0m\u001B[0m\n\u001B[0;32m--> 939\u001B[0;31m         \u001B[0mloglike\u001B[0m \u001B[0;34m=\u001B[0m \u001B[0mself\u001B[0m\u001B[0;34m.\u001B[0m\u001B[0mssm\u001B[0m\u001B[0;34m.\u001B[0m\u001B[0mloglike\u001B[0m\u001B[0;34m(\u001B[0m\u001B[0mcomplex_step\u001B[0m\u001B[0;34m=\u001B[0m\u001B[0mcomplex_step\u001B[0m\u001B[0;34m,\u001B[0m \u001B[0;34m**\u001B[0m\u001B[0mkwargs\u001B[0m\u001B[0;34m)\u001B[0m\u001B[0;34m\u001B[0m\u001B[0;34m\u001B[0m\u001B[0m\n\u001B[0m\u001B[1;32m    940\u001B[0m \u001B[0;34m\u001B[0m\u001B[0m\n\u001B[1;32m    941\u001B[0m         \u001B[0;31m# Koopman, Shephard, and Doornik recommend maximizing the average\u001B[0m\u001B[0;34m\u001B[0m\u001B[0;34m\u001B[0m\u001B[0m\n",
      "\u001B[0;32m/Library/Frameworks/Python.framework/Versions/3.10/lib/python3.10/site-packages/statsmodels/tsa/statespace/kalman_filter.py\u001B[0m in \u001B[0;36mloglike\u001B[0;34m(self, **kwargs)\u001B[0m\n\u001B[1;32m    981\u001B[0m         kwargs.setdefault('conserve_memory',\n\u001B[1;32m    982\u001B[0m                           MEMORY_CONSERVE ^ MEMORY_NO_LIKELIHOOD)\n\u001B[0;32m--> 983\u001B[0;31m         \u001B[0mkfilter\u001B[0m \u001B[0;34m=\u001B[0m \u001B[0mself\u001B[0m\u001B[0;34m.\u001B[0m\u001B[0m_filter\u001B[0m\u001B[0;34m(\u001B[0m\u001B[0;34m**\u001B[0m\u001B[0mkwargs\u001B[0m\u001B[0;34m)\u001B[0m\u001B[0;34m\u001B[0m\u001B[0;34m\u001B[0m\u001B[0m\n\u001B[0m\u001B[1;32m    984\u001B[0m         loglikelihood_burn = kwargs.get('loglikelihood_burn',\n\u001B[1;32m    985\u001B[0m                                         self.loglikelihood_burn)\n",
      "\u001B[0;32m/Library/Frameworks/Python.framework/Versions/3.10/lib/python3.10/site-packages/statsmodels/tsa/statespace/kalman_filter.py\u001B[0m in \u001B[0;36m_filter\u001B[0;34m(self, filter_method, inversion_method, stability_method, conserve_memory, filter_timing, tolerance, loglikelihood_burn, complex_step)\u001B[0m\n\u001B[1;32m    904\u001B[0m \u001B[0;34m\u001B[0m\u001B[0m\n\u001B[1;32m    905\u001B[0m         \u001B[0;31m# Run the filter\u001B[0m\u001B[0;34m\u001B[0m\u001B[0;34m\u001B[0m\u001B[0m\n\u001B[0;32m--> 906\u001B[0;31m         \u001B[0mkfilter\u001B[0m\u001B[0;34m(\u001B[0m\u001B[0;34m)\u001B[0m\u001B[0;34m\u001B[0m\u001B[0;34m\u001B[0m\u001B[0m\n\u001B[0m\u001B[1;32m    907\u001B[0m \u001B[0;34m\u001B[0m\u001B[0m\n\u001B[1;32m    908\u001B[0m         \u001B[0;32mreturn\u001B[0m \u001B[0mkfilter\u001B[0m\u001B[0;34m\u001B[0m\u001B[0;34m\u001B[0m\u001B[0m\n",
      "\u001B[0;31mKeyboardInterrupt\u001B[0m: "
     ]
    }
   ],
   "source": [
    "import numpy as np\n",
    "import pmdarima as pm\n",
    "\n",
    "def get_optimal_param(timeseries):\n",
    "    stepwise_fit = pm.auto_arima(timeseries,\n",
    "                                 max_p=20,\n",
    "                                 max_d=20,\n",
    "                                 max_q=20,\n",
    "                                 seasonal=False,\n",
    "                                 error_action='ignore',\n",
    "                                 suppress_warnings=True,\n",
    "                                 trace =  True,\n",
    "                                 stepwise=True)  # set to stepwise\n",
    "    return stepwise_fit.get_params().get('order')\n",
    "\n",
    "# this is a dataset from R\n",
    "# wineind = load_wineind().astype(np.float64)\n",
    "\n",
    "result = dict()\n",
    "for feature in selected[2:]:\n",
    "    print(feature)\n",
    "    series = dataset[feature].to_numpy()\n",
    "    result[feature] = get_optimal_param(series)\n",
    "\n",
    "print(result)"
   ],
   "metadata": {
    "collapsed": false,
    "pycharm": {
     "name": "#%%\n"
    }
   }
  },
  {
   "cell_type": "raw",
   "source": [
    "\n",
    "print(__doc__)\n",
    "\n",
    "# Author: Taylor Smith <taylor.smith@alkaline-ml.com>\n",
    "\n",
    "import numpy as np\n",
    "import pmdarima as pm\n",
    "from pmdarima import model_selection\n",
    "from matplotlib import pyplot as plt\n",
    "\n",
    "print(\"pmdarima version: %s\" % pm.__version__)\n",
    "\n",
    "# Load the data and split it into separate pieces\n",
    "y = global_df[feature]\n",
    "est = pm.ARIMA(order=order,\n",
    "               # seasonal_order=(0, 1, 1, 12),\n",
    "               suppress_warnings=True)\n",
    "cv = model_selection.SlidingWindowForecastCV(window_size=5, step=2, h=4)\n",
    "predictions = model_selection.cross_val_predict(\n",
    "    est, y, cv=cv, verbose=2, averaging=\"median\")\n",
    "\n",
    "# plot the predictions over the original series\n",
    "x_axis = np.arange(y.shape[0])\n",
    "n_test = predictions.shape[0]\n",
    "plt.figure(figsize=(20, 10))\n",
    "plt.plot(x_axis, y, alpha=0.75, c='b')\n",
    "plt.plot(x_axis[-n_test:], predictions, alpha=0.5, c='r')  # Forecasts\n",
    "plt.title(f\"Cross-validated {feature}\")\n",
    "\n",
    "plt.show()"
   ],
   "metadata": {
    "collapsed": false,
    "pycharm": {
     "name": "#%% raw\n"
    }
   }
  },
  {
   "cell_type": "code",
   "execution_count": null,
   "outputs": [],
   "source": [
    "import json\n",
    "\n",
    "with open('arima_parametersX.json', 'w') as f:\n",
    "    json.dump(result, f)"
   ],
   "metadata": {
    "collapsed": false,
    "pycharm": {
     "name": "#%%\n"
    }
   }
  },
  {
   "cell_type": "code",
   "execution_count": null,
   "outputs": [],
   "source": [],
   "metadata": {
    "collapsed": false,
    "pycharm": {
     "name": "#%%\n"
    }
   }
  }
 ],
 "metadata": {
  "kernelspec": {
   "name": "pycharm-de7ddf0",
   "language": "python",
   "display_name": "PyCharm (projects)"
  },
  "language_info": {
   "codemirror_mode": {
    "name": "ipython",
    "version": 2
   },
   "file_extension": ".py",
   "mimetype": "text/x-python",
   "name": "python",
   "nbconvert_exporter": "python",
   "pygments_lexer": "ipython2",
   "version": "2.7.6"
  }
 },
 "nbformat": 4,
 "nbformat_minor": 0
}