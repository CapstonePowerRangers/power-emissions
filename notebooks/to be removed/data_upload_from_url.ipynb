{
 "cells": [
  {
   "cell_type": "code",
   "execution_count": 1,
   "metadata": {
    "collapsed": true
   },
   "outputs": [
    {
     "name": "stdout",
     "output_type": "stream",
     "text": [
      "Start uploading:  climatetrace\n",
      "Completed\n"
     ]
    }
   ],
   "source": [
    "from library.common import Database\n",
    "import pathlib\n",
    "import pandas as pd\n",
    "import numpy as np\n",
    "\n",
    "datasets = {'owid': {'url': r'https://github.com/owid/co2-data/raw/master/owid-co2-data.xlsx',\n",
    "                     'table': r'owid_CO2_Greenhouse_Gas_Emissions'.lower(),\n",
    "                     'format': 'xlsx'},\n",
    "            'oecd': {'url': r'https://stats.oecd.org/sdmx-json/data/DP_LIVE/.PATENT_ENV.../OECD?contentType=csv&detail=code&separator=comma&csv-lang=en',\n",
    "                      'table': r'oecd_Patents_on_environment_technologies'.lower(),\n",
    "                      'format': 'csv'},\n",
    "            'worldbank': {'url': r'https://www.bp.com/content/dam/bp/business-sites/en/global/corporate/xlsx/energy-economics/statistical-review/bp-stats-review-2021-consolidated-dataset-panel-format.xlsx',\n",
    "                          'table': r'bp_dataset'.lower(),\n",
    "                          'format': 'xlsx'},\n",
    "            'climatetrace': {'url': r'https://api.climatetrace.org/emissions_by_subsector_timeseries?interval=year&since=2015&to=2020&download=csv',\n",
    "                          'table': r'climatetrace_dataset'.lower(),\n",
    "                          'format': 'csv'}\n",
    "             }\n",
    "load_list = ['owid', 'oecd', 'worldbank', 'climatetrace']\n",
    "db = Database()\n",
    "\n",
    "for info in load_list:\n",
    "    data = datasets.get(info)\n",
    "    dataset_url =data.get('url')\n",
    "    table_name = data.get('table')\n",
    "    print(\"Start uploading: \", info)\n",
    "    data_format = data.get('format')\n",
    "    if data_format == 'xlsx':\n",
    "        df = pd.read_excel(dataset_url)\n",
    "    elif data_format == 'csv':\n",
    "            df = pd.read_csv(dataset_url)\n",
    "    df.to_sql(table_name, db.config, if_exists = 'replace', index = False, method = 'multi')\n",
    "print(\"Completed\")"
   ]
  },
  {
   "cell_type": "code",
   "execution_count": 1,
   "metadata": {
    "collapsed": false,
    "pycharm": {
     "name": "#%%\n"
    }
   },
   "outputs": [],
   "source": [
    "\n"
   ]
  }
 ],
 "metadata": {
  "kernelspec": {
   "display_name": "Python 3",
   "language": "python",
   "name": "python3"
  },
  "language_info": {
   "codemirror_mode": {
    "name": "ipython",
    "version": 3
   },
   "file_extension": ".py",
   "mimetype": "text/x-python",
   "name": "python",
   "nbconvert_exporter": "python",
   "pygments_lexer": "ipython3",
   "version": "3.9.1"
  }
 },
 "nbformat": 4,
 "nbformat_minor": 0
}