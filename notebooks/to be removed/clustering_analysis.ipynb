{
 "cells": [
  {
   "cell_type": "code",
   "execution_count": 6,
   "metadata": {},
   "outputs": [],
   "source": [
    "import pandas as pd\n",
    "import numpy as np\n",
    "from sklearn.model_selection import GridSearchCV\n",
    "from sklearn.cluster import KMeans\n",
    "import yellowbrick\n",
    "import pycaret\n"
   ]
  },
  {
   "cell_type": "code",
   "execution_count": 7,
   "metadata": {
    "collapsed": false,
    "jupyter": {
     "outputs_hidden": false
    },
    "pycharm": {
     "name": "#%%\n"
    }
   },
   "outputs": [
    {
     "name": "stdout",
     "output_type": "stream",
     "text": [
      "Data loaded\n"
     ]
    }
   ],
   "source": [
    "from library.common import Database, Core\n",
    "from pathlib import Path\n",
    "import pickle\n",
    "\n",
    "db = Database()\n",
    "db_table = 'owid_co2_greenhouse_gas_emissions'\n",
    "owid_df = pd.read_sql(db_table, db.config)\n",
    "print(\"Data loaded\")\n",
    "\n",
    "core = Core()\n",
    "# Clean up data\n",
    "# NULL in ISO CODE are regional data\n",
    "# Trim the dataset to remove regional and world aggregate\n",
    "owid_df = owid_df.dropna(subset = ['iso_code']).copy()\n",
    "owid_df = owid_df[~owid_df['iso_code'].isin(core.excluded_features)].copy()"
   ]
  },
  {
   "cell_type": "code",
   "execution_count": 8,
   "metadata": {
    "collapsed": false,
    "jupyter": {
     "outputs_hidden": false
    },
    "pycharm": {
     "name": "#%%\n"
    }
   },
   "outputs": [],
   "source": [
    "# get the end of the dataset\n",
    "\n",
    "param_dir = Path.cwd().parent/r'data/processed'\n",
    "full_path = param_dir/'params_forecast_params.pkl'\n",
    "full_path = full_path.as_posix()\n",
    "with open(full_path, 'rb') as pkl:\n",
    "    last = pickle.load(pkl)\n",
    "    last_year = list(last.values())[0]"
   ]
  },
  {
   "cell_type": "code",
   "execution_count": 9,
   "metadata": {
    "collapsed": false,
    "jupyter": {
     "outputs_hidden": false
    },
    "pycharm": {
     "name": "#%%\n"
    }
   },
   "outputs": [
    {
     "name": "stdout",
     "output_type": "stream",
     "text": [
      "Dataset prepared\n"
     ]
    }
   ],
   "source": [
    "# Process the data for analysis\n",
    "dataset = owid_df[owid_df['year'].eq(last_year)]\n",
    "dataset = dataset[core.base_features].copy()\n",
    "iso_code = dataset['iso_code']\n",
    "dataset = dataset[core.base_features[2:]]\n",
    "dataset = dataset.fillna(0).reset_index(drop = True)\n",
    "\n",
    "print('Dataset prepared')"
   ]
  },
  {
   "cell_type": "code",
   "execution_count": 10,
   "metadata": {
    "collapsed": false,
    "jupyter": {
     "outputs_hidden": false
    },
    "pycharm": {
     "name": "#%%\n"
    }
   },
   "outputs": [
    {
     "ename": "NameError",
     "evalue": "name 'models' is not defined",
     "output_type": "error",
     "traceback": [
      "\u001B[0;31m---------------------------------------------------------------------------\u001B[0m",
      "\u001B[0;31mNameError\u001B[0m                                 Traceback (most recent call last)",
      "\u001B[0;32m/var/folders/mq/db9ycln11xsdmvbmf1bcjz2r0000gn/T/ipykernel_78332/1516614323.py\u001B[0m in \u001B[0;36m<module>\u001B[0;34m\u001B[0m\n\u001B[1;32m     21\u001B[0m     \u001B[0mvisualizer\u001B[0m\u001B[0;34m.\u001B[0m\u001B[0mshow\u001B[0m\u001B[0;34m(\u001B[0m\u001B[0;34m)\u001B[0m\u001B[0;34m\u001B[0m\u001B[0;34m\u001B[0m\u001B[0m\n\u001B[1;32m     22\u001B[0m \u001B[0;34m\u001B[0m\u001B[0m\n\u001B[0;32m---> 23\u001B[0;31m \u001B[0;32mfor\u001B[0m \u001B[0mmodel\u001B[0m \u001B[0;32min\u001B[0m \u001B[0mmodels\u001B[0m\u001B[0;34m:\u001B[0m\u001B[0;34m\u001B[0m\u001B[0;34m\u001B[0m\u001B[0m\n\u001B[0m\u001B[1;32m     24\u001B[0m     \u001B[0mvisualize_model\u001B[0m\u001B[0;34m(\u001B[0m\u001B[0mX\u001B[0m\u001B[0;34m,\u001B[0m \u001B[0my\u001B[0m\u001B[0;34m,\u001B[0m \u001B[0mmodel\u001B[0m\u001B[0;34m)\u001B[0m\u001B[0;34m\u001B[0m\u001B[0;34m\u001B[0m\u001B[0m\n\u001B[1;32m     25\u001B[0m \u001B[0;34m\u001B[0m\u001B[0m\n",
      "\u001B[0;31mNameError\u001B[0m: name 'models' is not defined"
     ]
    }
   ],
   "source": [
    "from yellowbrick.classifier import ClassificationReport\n",
    "\n",
    "\n",
    "def visualize_model(X, y, estimator, **kwargs):\n",
    "    \"\"\"\n",
    "    Test various estimators.\n",
    "    \"\"\"\n",
    "    y = LabelEncoder().fit_transform(y)\n",
    "    model = Pipeline([\n",
    "        ('one_hot_encoder', OneHotEncoder()),\n",
    "        ('estimator', estimator)\n",
    "    ])\n",
    "\n",
    "    # Instantiate the classification model and visualizer\n",
    "    visualizer = ClassificationReport(\n",
    "        model, classes=['edible', 'poisonous'],\n",
    "        cmap=\"YlGn\", size=(600, 360), **kwargs\n",
    "    )\n",
    "    visualizer.fit(X, y)\n",
    "    visualizer.score(X, y)\n",
    "    visualizer.show()\n",
    "\n",
    "for model in models:\n",
    "    visualize_model(X, y, model)\n"
   ]
  },
  {
   "cell_type": "raw",
   "metadata": {
    "pycharm": {
     "name": "#%% raw\n"
    }
   },
   "source": [
    "print('Starting GRID Search')\n",
    "\n",
    "for c in list(dataset.columns):\n",
    "    print(c, type(c))\n",
    "\n",
    "models_dict = {}\n",
    "models_dict['kmeans'] = {'estimator': KMeans(random_state = 0),\n",
    "                         'param_grid': {'n_clusters' : [n for n in range(2,10,1)]}\n",
    "                         }\n",
    "\n",
    "models = [*models_dict]\n",
    "grid_search = GridSearchCV(estimator = KMeans(),\n",
    "                           param_grid = {'n_clusters': [n for n in range(2,100,1)],\n",
    "                                         'random_state' : [0]\n",
    "                                         },\n",
    "                           cv = 5, n_jobs = -1\n",
    "                           ).fit(dataset)\n",
    "\n",
    "print(grid_search.best_params_)"
   ]
  },
  {
   "cell_type": "raw",
   "metadata": {
    "pycharm": {
     "name": "#%% raw\n"
    }
   },
   "source": [
    "# KMeans(n_clusters = -1, random_state = 0, )\n",
    "\n",
    "for model in models:\n",
    "    print('Optimising ', model)\n",
    "\n",
    "    m = models_dict.get(model)\n",
    "    grid_search = GridSearchCV(estimator = m.get('estimator'),\n",
    "                               param_grid = m.get('param_grid'),\n",
    "                               n_jobs = -1, cv = 5).fit(dataset)\n",
    "    print(grid_search.cv_results_)\n",
    "\n",
    "print('Clustering COMPLETED')"
   ]
  }
 ],
 "metadata": {
  "interpreter": {
   "hash": "31f2aee4e71d21fbe5cf8b01ff0e069b9275f58929596ceb00d14d90e3e16cd6"
  },
  "kernelspec": {
   "display_name": "Python 3.9.1 64-bit",
   "language": "python",
   "name": "python3"
  },
  "language_info": {
   "codemirror_mode": {
    "name": "ipython",
    "version": 3
   },
   "file_extension": ".py",
   "mimetype": "text/x-python",
   "name": "python",
   "nbconvert_exporter": "python",
   "pygments_lexer": "ipython3",
   "version": "3.9.9"
  }
 },
 "nbformat": 4,
 "nbformat_minor": 4
}