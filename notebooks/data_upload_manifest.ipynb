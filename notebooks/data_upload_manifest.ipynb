{
 "cells": [
  {
   "cell_type": "code",
   "execution_count": 2,
   "metadata": {
    "pycharm": {
     "name": "#%%\n"
    }
   },
   "outputs": [
    {
     "name": "stdout",
     "output_type": "stream",
     "text": [
      "Processing master_data_20211202.csv\n",
      "Upload completed\n"
     ]
    }
   ],
   "source": [
    "from library.common import Database, clean_column_names\n",
    "import pathlib\n",
    "import pandas as pd\n",
    "import numpy as np\n",
    "\n",
    "path_to_data = r'data/raw/manifest'\n",
    "db = Database()\n",
    "manifest = 'manifest_20211202_2006.xlsx'\n",
    "\n",
    "# Get the path to raw data files\n",
    "tgt_path = pathlib.Path.cwd().parent.joinpath(path_to_data)\n",
    "\n",
    "# Get the path to manifest file to identify all the files to upload\n",
    "manifest_loc = tgt_path.joinpath(manifest)\n",
    "files_to_process = pd.read_excel(manifest_loc)\n",
    "\n",
    "# Iterate through each data file and upload to the database\n",
    "for i, f in files_to_process.iterrows():\n",
    "\n",
    "    print(f\"Processing {f[0]}\")\n",
    "    filename = f[0]\n",
    "    table = f[1].lower()\n",
    "    file_format = f[2]\n",
    "    skiprows = f[3]\n",
    "    load_data = f[4]\n",
    "\n",
    "\n",
    "    # Enforce naming convention and change all spaces and periods to underscores\n",
    "    table = table.replace(\".\", \"_\")\n",
    "    table = table.replace(\" \", \"_\")\n",
    "    table = table.strip()\n",
    "    full_path = tgt_path.joinpath(filename.strip())\n",
    "    write_to_db = False\n",
    "\n",
    "    # the data files will have a header on the first line or the fourth line\n",
    "    # Assume that the header is on the first line\n",
    "    if file_format == r\"csv\":\n",
    "        df = pd.read_csv(full_path, skiprows = skiprows)\n",
    "        write_to_db = True\n",
    "    elif file_format == r\"xlsx\":\n",
    "        df = pd.read_excel(full_path, skiprows = skiprows)\n",
    "        write_to_db == True\n",
    "    elif file_format == r\"xls\":\n",
    "        df = pd.read_excel(full_path, skiprows = skiprows)\n",
    "        write_to_db == True\n",
    "    else:\n",
    "        print(f'File {filename} is NOT processed')\n",
    "\n",
    "    if write_to_db:\n",
    "        # Remove unamed columns - since we don't know what they represent\n",
    "        # we cannot use it\n",
    "        unnamed_col = [s for s in df.columns if \"Unnamed\" in s]\n",
    "\n",
    "        if len(unnamed_col)>0:\n",
    "            df = df.drop(columns = unnamed_col)\n",
    "\n",
    "        # Clean column names to remove spaces and % and standardise to lower_case\n",
    "        df.columns = clean_column_names(df)\n",
    "        df.to_sql(table, db.config, if_exists = 'replace', index = False, method = 'multi')\n",
    "print(\"Upload completed\")"
   ]
  },
  {
   "cell_type": "code",
   "execution_count": 2,
   "outputs": [],
   "source": [],
   "metadata": {
    "collapsed": false,
    "pycharm": {
     "name": "#%%\n"
    }
   }
  }
 ],
 "metadata": {
  "kernelspec": {
   "display_name": "Python 3 (ipykernel)",
   "language": "python",
   "name": "python3"
  },
  "language_info": {
   "codemirror_mode": {
    "name": "ipython",
    "version": 3
   },
   "file_extension": ".py",
   "mimetype": "text/x-python",
   "name": "python",
   "nbconvert_exporter": "python",
   "pygments_lexer": "ipython3",
   "version": "3.8.12"
  },
  "toc-autonumbering": false
 },
 "nbformat": 4,
 "nbformat_minor": 4
}