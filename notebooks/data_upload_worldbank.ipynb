{
 "cells": [
  {
   "cell_type": "code",
   "execution_count": 6,
   "metadata": {
    "collapsed": true
   },
   "outputs": [
    {
     "name": "stdout",
     "output_type": "stream",
     "text": [
      "Start uploading\n",
      "API_EN_ATM_CO2E_PC_DS2_en_csv_v2_3159114\n",
      "Metadata_Country_API_EN_ATM_CO2E_PC_DS2_en_csv_v2_3159114\n",
      "Metadata_Indicator_API_EN_ATM_CO2E_PC_DS2_en_csv_v2_3159114\n",
      "Completed\n"
     ]
    }
   ],
   "source": [
    "from library.common import Database\n",
    "import pathlib\n",
    "import pandas as pd\n",
    "import numpy as np\n",
    "\n",
    "path_to_data = r'data/raw/data/worldbank'\n",
    "db = Database()\n",
    "\n",
    "print(\"Start uploading\")\n",
    "# Get the path to raw ddata files\n",
    "tgt_path = pathlib.Path.cwd().parent.joinpath(path_to_data)\n",
    "\n",
    "# Iterate through all hte files and ingest all the data files\n",
    "# and push it to the database\n",
    "for file in tgt_path.iterdir():\n",
    "    name_portion = file.stem\n",
    "    name_portion = name_portion.replace(\".\", \"_\")\n",
    "    suffix_portion = file.suffix\n",
    "    full_path = tgt_path.joinpath(file.name)\n",
    "    write_to_db = False\n",
    "\n",
    "    # the data files will have a header on the first line or the fourth line\n",
    "    # Assume that the header is on the first line\n",
    "    if suffix_portion == r\".csv\":\n",
    "        try:\n",
    "            df = pd.read_csv(full_path)\n",
    "            write_to_db = True\n",
    "        except:\n",
    "            # and if it does not work - then assume that it si in line 4\n",
    "            df = pd.read_csv(full_path, skiprows = 4)\n",
    "            write_to_db = True\n",
    "    elif (suffix_portion == r\".xlsx\") | (suffix_portion == \".xls\"):\n",
    "        df = pd.read_excel(full_path)\n",
    "        write_to_db == True\n",
    "    else:\n",
    "        print(f'File {file.name} is NOT processed')\n",
    "\n",
    "    if write_to_db:\n",
    "        print(name_portion)\n",
    "        df.to_sql(name_portion, db.config, if_exists = 'replace', index = False, method = 'multi')\n",
    "\n",
    "print(\"Completed\")"
   ]
  },
  {
   "cell_type": "code",
   "execution_count": 6,
   "metadata": {
    "collapsed": false,
    "pycharm": {
     "name": "#%%\n"
    }
   },
   "outputs": [],
   "source": [
    "\n"
   ]
  }
 ],
 "metadata": {
  "kernelspec": {
   "display_name": "Python 3",
   "language": "python",
   "name": "python3"
  },
  "language_info": {
   "codemirror_mode": {
    "name": "ipython",
    "version": 3
   },
   "file_extension": ".py",
   "mimetype": "text/x-python",
   "name": "python",
   "nbconvert_exporter": "python",
   "pygments_lexer": "ipython3",
   "version": "3.9.1"
  }
 },
 "nbformat": 4,
 "nbformat_minor": 0
}