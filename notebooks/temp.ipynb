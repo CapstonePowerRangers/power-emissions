{
 "cells": [
  {
   "cell_type": "code",
   "execution_count": 1,
   "metadata": {
    "collapsed": true
   },
   "outputs": [
    {
     "data": {
      "text/plain": "['iso_code',\n 'country',\n 'year',\n 'co2',\n 'consumption_co2',\n 'co2_growth_prct',\n 'co2_growth_abs',\n 'trade_co2',\n 'co2_per_capita',\n 'consumption_co2_per_capita',\n 'share_global_co2',\n 'cumulative_co2',\n 'share_global_cumulative_co2',\n 'co2_per_gdp',\n 'consumption_co2_per_gdp',\n 'co2_per_unit_energy',\n 'coal_co2',\n 'cement_co2',\n 'flaring_co2',\n 'gas_co2',\n 'oil_co2',\n 'other_industry_co2',\n 'cement_co2_per_capita',\n 'coal_co2_per_capita',\n 'flaring_co2_per_capita',\n 'gas_co2_per_capita',\n 'oil_co2_per_capita',\n 'other_co2_per_capita',\n 'trade_co2_share',\n 'share_global_cement_co2',\n 'share_global_coal_co2',\n 'share_global_flaring_co2',\n 'share_global_gas_co2',\n 'share_global_oil_co2',\n 'share_global_other_co2',\n 'cumulative_cement_co2',\n 'cumulative_coal_co2',\n 'cumulative_flaring_co2',\n 'cumulative_gas_co2',\n 'cumulative_oil_co2',\n 'cumulative_other_co2',\n 'share_global_cumulative_cement_co2',\n 'share_global_cumulative_coal_co2',\n 'share_global_cumulative_flaring_co2',\n 'share_global_cumulative_gas_co2',\n 'share_global_cumulative_oil_co2',\n 'share_global_cumulative_other_co2',\n 'total_ghg',\n 'ghg_per_capita',\n 'methane',\n 'methane_per_capita',\n 'nitrous_oxide',\n 'nitrous_oxide_per_capita',\n 'population',\n 'gdp',\n 'primary_energy_consumption',\n 'energy_per_capita',\n 'energy_per_gdp',\n 'un_population',\n 'current_gdp',\n 'constant_gdp',\n 'manufacturing_gdp',\n 'medium_to_high_tech_percent',\n 'export',\n 'import',\n 'real_gdp_growth_percent',\n 'urban_population_percent',\n 'merchandise_export',\n 'merchandise_import',\n 'manufacturer_export_share',\n 'manufacturer_export',\n 'co2_emission_electricity',\n 'co2_emission_building',\n 'co2_emission_manufacturing',\n 'co2_emission_other_fuel',\n 'co2_emission_fugitive',\n 'co2_emission_transport',\n 'co2_emission_energy_subtotal',\n 'co2_emission_bunkers',\n 'co2_emission_industrial_process',\n 'co2_emission_per_capita',\n 'constant_gdp_per_capita',\n 'manufacturing_percent',\n 'medium_to_high_tech_gdp',\n 'co2_emission_per_constant_gdp',\n 'trade_openness',\n 'share_of_merchandise_export',\n 'share_of_merchandise_import',\n 'industrial_gdp',\n 'co2_country_share_percent',\n 'manufacturing_country_share_percent',\n 'iea_primary_energy_consumption',\n 'renewable_energy_consumption',\n 'coal_consumption',\n 'oil_consumption',\n 'total_electricity_production',\n 'electricity_production_from_renewable',\n 'primary_energy_consumption_per_capita',\n 'fossil_energy_consumption_share',\n 'renewable_electricity_production_share',\n 'energy_intensity',\n 'renewable_energy_consumption_share',\n 'percent_of_environment_patent',\n 'region',\n 'income_group']"
     },
     "execution_count": 1,
     "metadata": {},
     "output_type": "execute_result"
    }
   ],
   "source": [
    "from library.common import Database\n",
    "import pandas as pd\n",
    "db = Database()\n",
    "df = pd.read_sql('master_dataset', db.config)\n"
   ]
  },
  {
   "cell_type": "code",
   "execution_count": 2,
   "outputs": [
    {
     "name": "stdout",
     "output_type": "stream",
     "text": [
      "['iso_code', 'country', 'year', 'co2', 'consumption_co2', 'co2_growth_prct', 'co2_growth_abs', 'trade_co2', 'co2_per_capita', 'consumption_co2_per_capita', 'share_global_co2', 'cumulative_co2', 'share_global_cumulative_co2', 'co2_per_gdp', 'consumption_co2_per_gdp', 'co2_per_unit_energy', 'coal_co2', 'cement_co2', 'flaring_co2', 'gas_co2', 'oil_co2', 'other_industry_co2', 'cement_co2_per_capita', 'coal_co2_per_capita', 'flaring_co2_per_capita', 'gas_co2_per_capita', 'oil_co2_per_capita', 'other_co2_per_capita', 'trade_co2_share', 'share_global_cement_co2', 'share_global_coal_co2', 'share_global_flaring_co2', 'share_global_gas_co2', 'share_global_oil_co2', 'share_global_other_co2', 'cumulative_cement_co2', 'cumulative_coal_co2', 'cumulative_flaring_co2', 'cumulative_gas_co2', 'cumulative_oil_co2', 'cumulative_other_co2', 'share_global_cumulative_cement_co2', 'share_global_cumulative_coal_co2', 'share_global_cumulative_flaring_co2', 'share_global_cumulative_gas_co2', 'share_global_cumulative_oil_co2', 'share_global_cumulative_other_co2', 'total_ghg', 'ghg_per_capita', 'methane', 'methane_per_capita', 'nitrous_oxide', 'nitrous_oxide_per_capita', 'population', 'gdp', 'primary_energy_consumption', 'energy_per_capita', 'energy_per_gdp', 'un_population', 'current_gdp', 'constant_gdp', 'manufacturing_gdp', 'medium_to_high_tech_percent', 'export', 'import', 'real_gdp_growth_percent', 'urban_population_percent', 'merchandise_export', 'merchandise_import', 'manufacturer_export_share', 'manufacturer_export', 'co2_emission_electricity', 'co2_emission_building', 'co2_emission_manufacturing', 'co2_emission_other_fuel', 'co2_emission_fugitive', 'co2_emission_transport', 'co2_emission_energy_subtotal', 'co2_emission_bunkers', 'co2_emission_industrial_process', 'co2_emission_per_capita', 'constant_gdp_per_capita', 'manufacturing_percent', 'medium_to_high_tech_gdp', 'co2_emission_per_constant_gdp', 'trade_openness', 'share_of_merchandise_export', 'share_of_merchandise_import', 'industrial_gdp', 'co2_country_share_percent', 'manufacturing_country_share_percent', 'iea_primary_energy_consumption', 'renewable_energy_consumption', 'coal_consumption', 'oil_consumption', 'total_electricity_production', 'electricity_production_from_renewable', 'primary_energy_consumption_per_capita', 'fossil_energy_consumption_share', 'renewable_electricity_production_share', 'energy_intensity', 'renewable_energy_consumption_share', 'percent_of_environment_patent', 'region', 'income_group']\n"
     ]
    }
   ],
   "source": [
    "\n",
    "print(list(df.columns))\n",
    "\n"
   ],
   "metadata": {
    "collapsed": false,
    "pycharm": {
     "name": "#%%\n"
    }
   }
  }
 ],
 "metadata": {
  "kernelspec": {
   "display_name": "Python 3",
   "language": "python",
   "name": "python3"
  },
  "language_info": {
   "codemirror_mode": {
    "name": "ipython",
    "version": 2
   },
   "file_extension": ".py",
   "mimetype": "text/x-python",
   "name": "python",
   "nbconvert_exporter": "python",
   "pygments_lexer": "ipython2",
   "version": "2.7.6"
  }
 },
 "nbformat": 4,
 "nbformat_minor": 0
}