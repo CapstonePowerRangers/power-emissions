{
 "cells": [
  {
   "cell_type": "code",
   "execution_count": 1,
   "metadata": {
    "collapsed": true
   },
   "outputs": [
    {
     "data": {
      "text/plain": "['Cluster 0', 'Cluster 1', 'Cluster 2', 'Global']"
     },
     "execution_count": 1,
     "metadata": {},
     "output_type": "execute_result"
    }
   ],
   "source": [
    "from library.common import Core\n",
    "\n",
    "core = Core()\n",
    "\n",
    "core.list_of_regions"
   ]
  },
  {
   "cell_type": "code",
   "execution_count": 2,
   "outputs": [
    {
     "data": {
      "text/plain": "{'Cluster 0': ['AFG',\n  'ALB',\n  'AND',\n  'AGO',\n  'ATG',\n  'ARM',\n  'ABW',\n  'BHS',\n  'BHR',\n  'BRB',\n  'BLZ',\n  'BEN',\n  'BMU',\n  'BTN',\n  'BOL',\n  'BIH',\n  'BWA',\n  'VGB',\n  'BRN',\n  'BFA',\n  'BDI',\n  'KHM',\n  'CMR',\n  'CPV',\n  'CAF',\n  'TCD',\n  'COM',\n  'COG',\n  'CRI',\n  'CIV',\n  'CUB',\n  'CUW',\n  'COD',\n  'DJI',\n  'DMA',\n  'DOM',\n  'SLV',\n  'GNQ',\n  'ERI',\n  'SWZ',\n  'ETH',\n  'FRO',\n  'FJI',\n  'PYF',\n  'GAB',\n  'GMB',\n  'GEO',\n  'GHA',\n  'GRL',\n  'GRD',\n  'GTM',\n  'GIN',\n  'GNB',\n  'GUY',\n  'HTI',\n  'HND',\n  'ISL',\n  'ATA',\n  'JAM',\n  'JOR',\n  'KEN',\n  'KIR',\n  'KGZ',\n  'LAO',\n  'LBN',\n  'LSO',\n  'LBR',\n  'LBY',\n  'LIE',\n  'MDG',\n  'MWI',\n  'MDV',\n  'MLI',\n  'MLT',\n  'MHL',\n  'MRT',\n  'MUS',\n  'MDA',\n  'MNG',\n  'MNE',\n  'MOZ',\n  'MMR',\n  'NAM',\n  'NRU',\n  'NPL',\n  'CXR',\n  'NCL',\n  'NIC',\n  'NER',\n  'NGA',\n  'PRK',\n  'PLW',\n  'PSE',\n  'PAN',\n  'PNG',\n  'PRY',\n  'PRI',\n  'RWA',\n  'KNA',\n  'LCA',\n  'VCT',\n  'WSM',\n  'STP',\n  'SEN',\n  'SRB',\n  'SYC',\n  'SLE',\n  'SXM',\n  'SLB',\n  'SOM',\n  'SSD',\n  'LKA',\n  'SDN',\n  'SUR',\n  'SYR',\n  'TJK',\n  'TZA',\n  'TLS',\n  'TGO',\n  'TON',\n  'TUN',\n  'TCA',\n  'TUV',\n  'UGA',\n  'URY',\n  'VUT',\n  'YEM',\n  'ZMB',\n  'ZWE',\n  'AIA',\n  'BES',\n  'COK',\n  'GUF',\n  'GLP',\n  'MTQ',\n  'MYT',\n  'MSR',\n  'NIU',\n  'SHN',\n  'SPM',\n  'TWN',\n  'ASM',\n  'CHI',\n  'CYM',\n  'FSM',\n  'GIB',\n  'GUM',\n  'IMN',\n  'MAC',\n  'MAF',\n  'MCO',\n  'MNP',\n  'SMR',\n  'VIR',\n  'XKX'],\n 'Cluster 1': ['CHN', 'USA'],\n 'Cluster 2': ['DZA',\n  'ARG',\n  'AUS',\n  'AUT',\n  'AZE',\n  'BGD',\n  'BLR',\n  'BEL',\n  'BRA',\n  'BGR',\n  'CAN',\n  'CHL',\n  'COL',\n  'HRV',\n  'CYP',\n  'CZE',\n  'DNK',\n  'ECU',\n  'EGY',\n  'EST',\n  'FIN',\n  'FRA',\n  'DEU',\n  'GRC',\n  'HKG',\n  'HUN',\n  'IND',\n  'IDN',\n  'IRN',\n  'IRQ',\n  'IRL',\n  'ISR',\n  'ITA',\n  'JPN',\n  'KAZ',\n  'KWT',\n  'LVA',\n  'LTU',\n  'LUX',\n  'MYS',\n  'MEX',\n  'MAR',\n  'NLD',\n  'NZL',\n  'MKD',\n  'NOR',\n  'OMN',\n  'PAK',\n  'PER',\n  'PHL',\n  'POL',\n  'PRT',\n  'QAT',\n  'ROU',\n  'RUS',\n  'SAU',\n  'SGP',\n  'SVK',\n  'SVN',\n  'ZAF',\n  'KOR',\n  'ESP',\n  'SWE',\n  'CHE',\n  'THA',\n  'TTO',\n  'TUR',\n  'TKM',\n  'UKR',\n  'ARE',\n  'GBR',\n  'UZB',\n  'VEN',\n  'VNM'],\n 'Global': ['WLD']}"
     },
     "execution_count": 2,
     "metadata": {},
     "output_type": "execute_result"
    }
   ],
   "source": [
    "core.regions"
   ],
   "metadata": {
    "collapsed": false,
    "pycharm": {
     "name": "#%%\n"
    }
   }
  },
  {
   "cell_type": "code",
   "execution_count": 2,
   "outputs": [],
   "source": [],
   "metadata": {
    "collapsed": false,
    "pycharm": {
     "name": "#%%\n"
    }
   }
  }
 ],
 "metadata": {
  "kernelspec": {
   "display_name": "Python 3",
   "language": "python",
   "name": "python3"
  },
  "language_info": {
   "codemirror_mode": {
    "name": "ipython",
    "version": 2
   },
   "file_extension": ".py",
   "mimetype": "text/x-python",
   "name": "python",
   "nbconvert_exporter": "python",
   "pygments_lexer": "ipython2",
   "version": "2.7.6"
  }
 },
 "nbformat": 4,
 "nbformat_minor": 0
}