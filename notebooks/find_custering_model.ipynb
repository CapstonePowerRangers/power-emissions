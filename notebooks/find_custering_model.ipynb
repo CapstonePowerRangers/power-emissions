{
 "cells": [
  {
   "cell_type": "markdown",
   "metadata": {},
   "source": [
    "# PyCaret 2 Clustering Example\n",
    "This notebook is created using PyCaret 2.0. Last updated : 31-07-2020"
   ]
  },
  {
   "cell_type": "code",
   "execution_count": 32,
   "metadata": {},
   "outputs": [
    {
     "data": {
      "text/plain": "'2.3.5'"
     },
     "execution_count": 32,
     "metadata": {},
     "output_type": "execute_result"
    }
   ],
   "source": [
    "# check version\n",
    "import pycaret.containers.models.clustering\n",
    "from pycaret.utils import version\n",
    "version()"
   ]
  },
  {
   "cell_type": "markdown",
   "metadata": {},
   "source": [
    "# 1. Loading Dataset"
   ]
  },
  {
   "cell_type": "code",
   "execution_count": 33,
   "metadata": {},
   "outputs": [],
   "source": [
    "from library.common import Database, Core\n",
    "from pathlib import Path\n",
    "import pandas as pd\n",
    "import sys\n",
    "\n",
    "core=Core()\n",
    "# all = set(core.all_features)\n",
    "# rel = set(core.relevant_features)\n",
    "#\n",
    "# print(all.difference(rel))"
   ]
  },
  {
   "cell_type": "code",
   "execution_count": 34,
   "outputs": [],
   "source": [
    "df = core.get_cluster_data(2018)\n",
    "\n",
    "# col_set = set(df.columns)\n",
    "#\n",
    "# col_set.difference(rel)\n"
   ],
   "metadata": {
    "collapsed": false,
    "pycharm": {
     "name": "#%%\n"
    }
   }
  },
  {
   "cell_type": "code",
   "execution_count": 35,
   "outputs": [
    {
     "name": "stdout",
     "output_type": "stream",
     "text": [
      "['AFG' 'ALB' 'DZA' 'AND' 'AGO' 'ATG' 'ARG' 'ARM' 'ABW' 'AUS' 'AUT' 'AZE'\n",
      " 'BHS' 'BHR' 'BGD' 'BRB' 'BLR' 'BEL' 'BLZ' 'BEN' 'BMU' 'BTN' 'BOL' 'BIH'\n",
      " 'BWA' 'BRA' 'VGB' 'BRN' 'BGR' 'BFA' 'BDI' 'KHM' 'CMR' 'CAN' 'CPV' 'CAF'\n",
      " 'TCD' 'CHL' 'CHN' 'COL' 'COM' 'COG' 'CRI' 'CIV' 'HRV' 'CUB' 'CUW' 'CYP'\n",
      " 'CZE' 'COD' 'DNK' 'DJI' 'DMA' 'DOM' 'ECU' 'EGY' 'SLV' 'GNQ' 'ERI' 'EST'\n",
      " 'SWZ' 'ETH' 'FRO' 'FJI' 'FIN' 'FRA' 'PYF' 'GAB' 'GMB' 'GEO' 'DEU' 'GHA'\n",
      " 'GRC' 'GRL' 'GRD' 'GTM' 'GIN' 'GNB' 'GUY' 'HTI' 'HND' 'HKG' 'HUN' 'ISL'\n",
      " 'IND' 'IDN' 'ATA' 'IRN' 'IRQ' 'IRL' 'ISR' 'ITA' 'JAM' 'JPN' 'JOR' 'KAZ'\n",
      " 'KEN' 'KIR' 'KWT' 'KGZ' 'LAO' 'LVA' 'LBN' 'LSO' 'LBR' 'LBY' 'LIE' 'LTU'\n",
      " 'LUX' 'MDG' 'MWI' 'MYS' 'MDV' 'MLI' 'MLT' 'MHL' 'MRT' 'MUS' 'MEX' 'MDA'\n",
      " 'MNG' 'MNE' 'MAR' 'MOZ' 'MMR' 'NAM' 'NRU' 'NPL' 'NLD' 'CXR' 'NCL' 'NZL'\n",
      " 'NIC' 'NER' 'NGA' 'PRK' 'MKD' 'NOR' 'OMN' 'PAK' 'PLW' 'PSE' 'PAN' 'PNG'\n",
      " 'PRY' 'PER' 'PHL' 'POL' 'PRT' 'PRI' 'QAT' 'ROU' 'RUS' 'RWA' 'KNA' 'LCA'\n",
      " 'VCT' 'WSM' 'STP' 'SAU' 'SEN' 'SRB' 'SYC' 'SLE' 'SGP' 'SXM' 'SVK' 'SVN'\n",
      " 'SLB' 'SOM' 'ZAF' 'KOR' 'SSD' 'ESP' 'LKA' 'SDN' 'SUR' 'SWE' 'CHE' 'SYR'\n",
      " 'TJK' 'TZA' 'THA' 'TLS' 'TGO' 'TON' 'TTO' 'TUN' 'TUR' 'TKM' 'TCA' 'TUV'\n",
      " 'UGA' 'UKR' 'ARE' 'GBR' 'USA' 'URY' 'UZB' 'VUT' 'VEN' 'VNM' 'YEM' 'ZMB'\n",
      " 'ZWE' 'AIA' 'BES' 'COK' 'GUF' 'GLP' 'MTQ' 'MYT' 'MSR' 'NIU' 'SHN' 'SPM'\n",
      " 'TWN' 'ASM' 'CHI' 'CYM' 'FSM' 'GIB' 'GUM' 'IMN' 'MAC' 'MAF' 'MCO' 'MNP'\n",
      " 'SMR' 'VIR' 'XKX']\n",
      "Data loaded\n"
     ]
    }
   ],
   "source": [
    "df = df[core.clustering_features]\n",
    "\n",
    "print(df.iso_code.unique())\n",
    "print(\"Data loaded\")"
   ],
   "metadata": {
    "collapsed": false,
    "pycharm": {
     "name": "#%%\n"
    }
   }
  },
  {
   "cell_type": "code",
   "execution_count": 36,
   "outputs": [
    {
     "data": {
      "text/plain": "       year iso_code      co2  consumption_co2  trade_co2  \\\n74     2018      AFG    8.345            0.000      0.000   \n171    2018      ALB    4.734            5.806      1.072   \n276    2018      DZA  161.487            0.000      0.000   \n303    2018      AND    0.495            0.000      0.000   \n381    2018      AGO   24.376            0.000      0.000   \n...     ...      ...      ...              ...        ...   \n23108  2018      MCO    0.000            0.000      0.000   \n23109  2018      MNP    0.000            0.000      0.000   \n23110  2018      SMR    0.000            0.000      0.000   \n23111  2018      VIR    0.000            0.000      0.000   \n23112  2018      XKX    0.000            0.000      0.000   \n\n       co2_per_unit_energy  coal_co2  gas_co2  oil_co2  population  \\\n74                    0.00     3.849    0.293    4.146  37171922.0   \n171                   0.00     0.473    0.150    3.331   2866376.0   \n276                   0.24     1.330   88.887   54.922  42228415.0   \n303                   0.00     0.000    0.000    0.495     77008.0   \n381                   0.00     0.000    1.608   12.963  30809787.0   \n...                    ...       ...      ...      ...         ...   \n23108                 0.00     0.000    0.000    0.000     38682.0   \n23109                 0.00     0.000    0.000    0.000     56889.0   \n23110                 0.00     0.000    0.000    0.000     33784.0   \n23111                 0.00     0.000    0.000    0.000    107001.0   \n23112                 0.00     0.000    0.000    0.000   1797085.0   \n\n                gdp  primary_energy_consumption   current_gdp  constant_gdp  \\\n74     6.759497e+10                       0.000  1.798697e+10  1.983560e+10   \n171    3.400911e+10                       0.000  1.514703e+10  1.270888e+10   \n276    5.903175e+11                     672.071  1.750000e+11  1.760000e+11   \n303    0.000000e+00                       0.000  3.218419e+09  2.948332e+09   \n381    1.759296e+11                       0.000  1.010000e+11  1.110000e+11   \n...             ...                         ...           ...           ...   \n23108  0.000000e+00                       0.000  7.194257e+09  6.623343e+09   \n23109  0.000000e+00                       0.000  1.302000e+09  1.168109e+09   \n23110  0.000000e+00                       0.000  1.655354e+09  1.481680e+09   \n23111  0.000000e+00                       0.000  3.984000e+09  3.824218e+09   \n23112  0.000000e+00                       0.000  7.942997e+09  7.252135e+09   \n\n       manufacturing_gdp  medium_to_high_tech_percent        export  \\\n74          9.318800e+08                     6.412409  0.000000e+00   \n171         9.312215e+08                     4.609023  4.785182e+09   \n276         7.436073e+09                     2.693262  4.523397e+10   \n303         1.161941e+08                     0.000000  0.000000e+00   \n381         6.214146e+09                     3.372698  4.138890e+10   \n...                  ...                          ...           ...   \n23108       2.633529e+08                     0.000000  0.000000e+00   \n23109       0.000000e+00                     0.000000  6.610000e+08   \n23110       5.353999e+08                     0.000000  2.757690e+09   \n23111       0.000000e+00                     0.000000  2.140000e+09   \n23112       8.993500e+08                     0.000000  2.288980e+09   \n\n             import  urban_population_percent  merchandise_export  \\\n74     0.000000e+00                    25.495        8.750000e+08   \n171    6.856195e+09                    60.319        2.870000e+09   \n276    5.632890e+10                    72.629        4.179700e+10   \n303    0.000000e+00                    88.062        1.290000e+08   \n381    2.588746e+10                    65.514        4.075800e+10   \n...             ...                       ...                 ...   \n23108  0.000000e+00                   100.000        0.000000e+00   \n23109  7.570000e+08                    91.618        5.000000e+06   \n23110  2.365267e+09                    97.226        0.000000e+00   \n23111  4.043000e+09                    95.721        0.000000e+00   \n23112  4.511362e+09                     0.000        0.000000e+00   \n\n       merchandise_import  manufacturer_export  co2_emission_electricity  \\\n74           7.407000e+09         2.985505e+07                     220.0   \n171          5.925000e+09         1.320998e+09                     140.0   \n276          4.633000e+10         0.000000e+00                   48550.0   \n303          1.609000e+09         1.187461e+08                       0.0   \n381          1.579800e+10         1.645340e+09                    7120.0   \n...                   ...                  ...                       ...   \n23108        0.000000e+00         0.000000e+00                       0.0   \n23109        5.910000e+08         0.000000e+00                       0.0   \n23110        0.000000e+00         0.000000e+00                       0.0   \n23111        0.000000e+00         0.000000e+00                       0.0   \n23112        0.000000e+00         0.000000e+00                       0.0   \n\n       co2_emission_other_fuel  co2_emission_transport  \\\n74                         0.0                  3730.0   \n171                      290.0                  2200.0   \n276                     4200.0                 45460.0   \n303                        0.0                     0.0   \n381                       30.0                  7000.0   \n...                        ...                     ...   \n23108                      0.0                     0.0   \n23109                      0.0                     0.0   \n23110                      0.0                     0.0   \n23111                      0.0                     0.0   \n23112                      0.0                     0.0   \n\n       co2_emission_industrial_process  medium_to_high_tech_gdp  \\\n74                                50.0             5.975596e+07   \n171                             1260.0             4.292021e+07   \n276                             9160.0             2.002730e+08   \n303                                0.0             0.000000e+00   \n381                              950.0             2.095844e+08   \n...                                ...                      ...   \n23108                              0.0             0.000000e+00   \n23109                              0.0             0.000000e+00   \n23110                              0.0             0.000000e+00   \n23111                              0.0             0.000000e+00   \n23112                              0.0             0.000000e+00   \n\n       industrial_gdp  iea_primary_energy_consumption  \\\n74       2.457079e+09                        0.000000   \n171      3.223896e+09                      115.114239   \n276      6.865545e+10                     2478.060305   \n303      0.000000e+00                        0.000000   \n381      4.858017e+10                      666.906455   \n...               ...                             ...   \n23108    9.444969e+08                        0.000000   \n23109    0.000000e+00                        0.000000   \n23110    0.000000e+00                        0.000000   \n23111    0.000000e+00                        0.000000   \n23112    2.092918e+09                      108.936290   \n\n       renewable_energy_consumption  coal_consumption  oil_consumption  \\\n74                         0.000000               0.0              0.0   \n171                       44.050074               0.0              0.0   \n276                        4.790090               0.0              0.0   \n303                        0.000000               0.0              0.0   \n381                      378.706162               0.0              0.0   \n...                             ...               ...              ...   \n23108                      0.000000               0.0              0.0   \n23109                      0.000000               0.0              0.0   \n23110                      0.000000               0.0              0.0   \n23111                      0.000000               0.0              0.0   \n23112                     29.306041               0.0              0.0   \n\n       total_electricity_production  electricity_production_from_renewable  \\\n74                              0.0                                    0.0   \n171                             0.0                                    0.0   \n276                             0.0                                    0.0   \n303                             0.0                                    0.0   \n381                             0.0                                    0.0   \n...                             ...                                    ...   \n23108                           0.0                                    0.0   \n23109                           0.0                                    0.0   \n23110                           0.0                                    0.0   \n23111                           0.0                                    0.0   \n23112                           0.0                                    0.0   \n\n       energy_intensity  percent_of_environment_patent  \n74             0.000000                           0.00  \n171            0.216341                          32.63  \n276            0.336292                          23.63  \n303            0.000000                           0.00  \n381            0.143503                           0.00  \n...                 ...                            ...  \n23108          0.000000                           0.00  \n23109          0.000000                           0.00  \n23110          0.000000                           0.00  \n23111          0.000000                           0.00  \n23112          0.358777                           0.00  \n\n[231 rows x 36 columns]",
      "text/html": "<div>\n<style scoped>\n    .dataframe tbody tr th:only-of-type {\n        vertical-align: middle;\n    }\n\n    .dataframe tbody tr th {\n        vertical-align: top;\n    }\n\n    .dataframe thead th {\n        text-align: right;\n    }\n</style>\n<table border=\"1\" class=\"dataframe\">\n  <thead>\n    <tr style=\"text-align: right;\">\n      <th></th>\n      <th>year</th>\n      <th>iso_code</th>\n      <th>co2</th>\n      <th>consumption_co2</th>\n      <th>trade_co2</th>\n      <th>co2_per_unit_energy</th>\n      <th>coal_co2</th>\n      <th>gas_co2</th>\n      <th>oil_co2</th>\n      <th>population</th>\n      <th>gdp</th>\n      <th>primary_energy_consumption</th>\n      <th>current_gdp</th>\n      <th>constant_gdp</th>\n      <th>manufacturing_gdp</th>\n      <th>medium_to_high_tech_percent</th>\n      <th>export</th>\n      <th>import</th>\n      <th>urban_population_percent</th>\n      <th>merchandise_export</th>\n      <th>merchandise_import</th>\n      <th>manufacturer_export</th>\n      <th>co2_emission_electricity</th>\n      <th>co2_emission_other_fuel</th>\n      <th>co2_emission_transport</th>\n      <th>co2_emission_industrial_process</th>\n      <th>medium_to_high_tech_gdp</th>\n      <th>industrial_gdp</th>\n      <th>iea_primary_energy_consumption</th>\n      <th>renewable_energy_consumption</th>\n      <th>coal_consumption</th>\n      <th>oil_consumption</th>\n      <th>total_electricity_production</th>\n      <th>electricity_production_from_renewable</th>\n      <th>energy_intensity</th>\n      <th>percent_of_environment_patent</th>\n    </tr>\n  </thead>\n  <tbody>\n    <tr>\n      <th>74</th>\n      <td>2018</td>\n      <td>AFG</td>\n      <td>8.345</td>\n      <td>0.000</td>\n      <td>0.000</td>\n      <td>0.00</td>\n      <td>3.849</td>\n      <td>0.293</td>\n      <td>4.146</td>\n      <td>37171922.0</td>\n      <td>6.759497e+10</td>\n      <td>0.000</td>\n      <td>1.798697e+10</td>\n      <td>1.983560e+10</td>\n      <td>9.318800e+08</td>\n      <td>6.412409</td>\n      <td>0.000000e+00</td>\n      <td>0.000000e+00</td>\n      <td>25.495</td>\n      <td>8.750000e+08</td>\n      <td>7.407000e+09</td>\n      <td>2.985505e+07</td>\n      <td>220.0</td>\n      <td>0.0</td>\n      <td>3730.0</td>\n      <td>50.0</td>\n      <td>5.975596e+07</td>\n      <td>2.457079e+09</td>\n      <td>0.000000</td>\n      <td>0.000000</td>\n      <td>0.0</td>\n      <td>0.0</td>\n      <td>0.0</td>\n      <td>0.0</td>\n      <td>0.000000</td>\n      <td>0.00</td>\n    </tr>\n    <tr>\n      <th>171</th>\n      <td>2018</td>\n      <td>ALB</td>\n      <td>4.734</td>\n      <td>5.806</td>\n      <td>1.072</td>\n      <td>0.00</td>\n      <td>0.473</td>\n      <td>0.150</td>\n      <td>3.331</td>\n      <td>2866376.0</td>\n      <td>3.400911e+10</td>\n      <td>0.000</td>\n      <td>1.514703e+10</td>\n      <td>1.270888e+10</td>\n      <td>9.312215e+08</td>\n      <td>4.609023</td>\n      <td>4.785182e+09</td>\n      <td>6.856195e+09</td>\n      <td>60.319</td>\n      <td>2.870000e+09</td>\n      <td>5.925000e+09</td>\n      <td>1.320998e+09</td>\n      <td>140.0</td>\n      <td>290.0</td>\n      <td>2200.0</td>\n      <td>1260.0</td>\n      <td>4.292021e+07</td>\n      <td>3.223896e+09</td>\n      <td>115.114239</td>\n      <td>44.050074</td>\n      <td>0.0</td>\n      <td>0.0</td>\n      <td>0.0</td>\n      <td>0.0</td>\n      <td>0.216341</td>\n      <td>32.63</td>\n    </tr>\n    <tr>\n      <th>276</th>\n      <td>2018</td>\n      <td>DZA</td>\n      <td>161.487</td>\n      <td>0.000</td>\n      <td>0.000</td>\n      <td>0.24</td>\n      <td>1.330</td>\n      <td>88.887</td>\n      <td>54.922</td>\n      <td>42228415.0</td>\n      <td>5.903175e+11</td>\n      <td>672.071</td>\n      <td>1.750000e+11</td>\n      <td>1.760000e+11</td>\n      <td>7.436073e+09</td>\n      <td>2.693262</td>\n      <td>4.523397e+10</td>\n      <td>5.632890e+10</td>\n      <td>72.629</td>\n      <td>4.179700e+10</td>\n      <td>4.633000e+10</td>\n      <td>0.000000e+00</td>\n      <td>48550.0</td>\n      <td>4200.0</td>\n      <td>45460.0</td>\n      <td>9160.0</td>\n      <td>2.002730e+08</td>\n      <td>6.865545e+10</td>\n      <td>2478.060305</td>\n      <td>4.790090</td>\n      <td>0.0</td>\n      <td>0.0</td>\n      <td>0.0</td>\n      <td>0.0</td>\n      <td>0.336292</td>\n      <td>23.63</td>\n    </tr>\n    <tr>\n      <th>303</th>\n      <td>2018</td>\n      <td>AND</td>\n      <td>0.495</td>\n      <td>0.000</td>\n      <td>0.000</td>\n      <td>0.00</td>\n      <td>0.000</td>\n      <td>0.000</td>\n      <td>0.495</td>\n      <td>77008.0</td>\n      <td>0.000000e+00</td>\n      <td>0.000</td>\n      <td>3.218419e+09</td>\n      <td>2.948332e+09</td>\n      <td>1.161941e+08</td>\n      <td>0.000000</td>\n      <td>0.000000e+00</td>\n      <td>0.000000e+00</td>\n      <td>88.062</td>\n      <td>1.290000e+08</td>\n      <td>1.609000e+09</td>\n      <td>1.187461e+08</td>\n      <td>0.0</td>\n      <td>0.0</td>\n      <td>0.0</td>\n      <td>0.0</td>\n      <td>0.000000e+00</td>\n      <td>0.000000e+00</td>\n      <td>0.000000</td>\n      <td>0.000000</td>\n      <td>0.0</td>\n      <td>0.0</td>\n      <td>0.0</td>\n      <td>0.0</td>\n      <td>0.000000</td>\n      <td>0.00</td>\n    </tr>\n    <tr>\n      <th>381</th>\n      <td>2018</td>\n      <td>AGO</td>\n      <td>24.376</td>\n      <td>0.000</td>\n      <td>0.000</td>\n      <td>0.00</td>\n      <td>0.000</td>\n      <td>1.608</td>\n      <td>12.963</td>\n      <td>30809787.0</td>\n      <td>1.759296e+11</td>\n      <td>0.000</td>\n      <td>1.010000e+11</td>\n      <td>1.110000e+11</td>\n      <td>6.214146e+09</td>\n      <td>3.372698</td>\n      <td>4.138890e+10</td>\n      <td>2.588746e+10</td>\n      <td>65.514</td>\n      <td>4.075800e+10</td>\n      <td>1.579800e+10</td>\n      <td>1.645340e+09</td>\n      <td>7120.0</td>\n      <td>30.0</td>\n      <td>7000.0</td>\n      <td>950.0</td>\n      <td>2.095844e+08</td>\n      <td>4.858017e+10</td>\n      <td>666.906455</td>\n      <td>378.706162</td>\n      <td>0.0</td>\n      <td>0.0</td>\n      <td>0.0</td>\n      <td>0.0</td>\n      <td>0.143503</td>\n      <td>0.00</td>\n    </tr>\n    <tr>\n      <th>...</th>\n      <td>...</td>\n      <td>...</td>\n      <td>...</td>\n      <td>...</td>\n      <td>...</td>\n      <td>...</td>\n      <td>...</td>\n      <td>...</td>\n      <td>...</td>\n      <td>...</td>\n      <td>...</td>\n      <td>...</td>\n      <td>...</td>\n      <td>...</td>\n      <td>...</td>\n      <td>...</td>\n      <td>...</td>\n      <td>...</td>\n      <td>...</td>\n      <td>...</td>\n      <td>...</td>\n      <td>...</td>\n      <td>...</td>\n      <td>...</td>\n      <td>...</td>\n      <td>...</td>\n      <td>...</td>\n      <td>...</td>\n      <td>...</td>\n      <td>...</td>\n      <td>...</td>\n      <td>...</td>\n      <td>...</td>\n      <td>...</td>\n      <td>...</td>\n      <td>...</td>\n    </tr>\n    <tr>\n      <th>23108</th>\n      <td>2018</td>\n      <td>MCO</td>\n      <td>0.000</td>\n      <td>0.000</td>\n      <td>0.000</td>\n      <td>0.00</td>\n      <td>0.000</td>\n      <td>0.000</td>\n      <td>0.000</td>\n      <td>38682.0</td>\n      <td>0.000000e+00</td>\n      <td>0.000</td>\n      <td>7.194257e+09</td>\n      <td>6.623343e+09</td>\n      <td>2.633529e+08</td>\n      <td>0.000000</td>\n      <td>0.000000e+00</td>\n      <td>0.000000e+00</td>\n      <td>100.000</td>\n      <td>0.000000e+00</td>\n      <td>0.000000e+00</td>\n      <td>0.000000e+00</td>\n      <td>0.0</td>\n      <td>0.0</td>\n      <td>0.0</td>\n      <td>0.0</td>\n      <td>0.000000e+00</td>\n      <td>9.444969e+08</td>\n      <td>0.000000</td>\n      <td>0.000000</td>\n      <td>0.0</td>\n      <td>0.0</td>\n      <td>0.0</td>\n      <td>0.0</td>\n      <td>0.000000</td>\n      <td>0.00</td>\n    </tr>\n    <tr>\n      <th>23109</th>\n      <td>2018</td>\n      <td>MNP</td>\n      <td>0.000</td>\n      <td>0.000</td>\n      <td>0.000</td>\n      <td>0.00</td>\n      <td>0.000</td>\n      <td>0.000</td>\n      <td>0.000</td>\n      <td>56889.0</td>\n      <td>0.000000e+00</td>\n      <td>0.000</td>\n      <td>1.302000e+09</td>\n      <td>1.168109e+09</td>\n      <td>0.000000e+00</td>\n      <td>0.000000</td>\n      <td>6.610000e+08</td>\n      <td>7.570000e+08</td>\n      <td>91.618</td>\n      <td>5.000000e+06</td>\n      <td>5.910000e+08</td>\n      <td>0.000000e+00</td>\n      <td>0.0</td>\n      <td>0.0</td>\n      <td>0.0</td>\n      <td>0.0</td>\n      <td>0.000000e+00</td>\n      <td>0.000000e+00</td>\n      <td>0.000000</td>\n      <td>0.000000</td>\n      <td>0.0</td>\n      <td>0.0</td>\n      <td>0.0</td>\n      <td>0.0</td>\n      <td>0.000000</td>\n      <td>0.00</td>\n    </tr>\n    <tr>\n      <th>23110</th>\n      <td>2018</td>\n      <td>SMR</td>\n      <td>0.000</td>\n      <td>0.000</td>\n      <td>0.000</td>\n      <td>0.00</td>\n      <td>0.000</td>\n      <td>0.000</td>\n      <td>0.000</td>\n      <td>33784.0</td>\n      <td>0.000000e+00</td>\n      <td>0.000</td>\n      <td>1.655354e+09</td>\n      <td>1.481680e+09</td>\n      <td>5.353999e+08</td>\n      <td>0.000000</td>\n      <td>2.757690e+09</td>\n      <td>2.365267e+09</td>\n      <td>97.226</td>\n      <td>0.000000e+00</td>\n      <td>0.000000e+00</td>\n      <td>0.000000e+00</td>\n      <td>0.0</td>\n      <td>0.0</td>\n      <td>0.0</td>\n      <td>0.0</td>\n      <td>0.000000e+00</td>\n      <td>0.000000e+00</td>\n      <td>0.000000</td>\n      <td>0.000000</td>\n      <td>0.0</td>\n      <td>0.0</td>\n      <td>0.0</td>\n      <td>0.0</td>\n      <td>0.000000</td>\n      <td>0.00</td>\n    </tr>\n    <tr>\n      <th>23111</th>\n      <td>2018</td>\n      <td>VIR</td>\n      <td>0.000</td>\n      <td>0.000</td>\n      <td>0.000</td>\n      <td>0.00</td>\n      <td>0.000</td>\n      <td>0.000</td>\n      <td>0.000</td>\n      <td>107001.0</td>\n      <td>0.000000e+00</td>\n      <td>0.000</td>\n      <td>3.984000e+09</td>\n      <td>3.824218e+09</td>\n      <td>0.000000e+00</td>\n      <td>0.000000</td>\n      <td>2.140000e+09</td>\n      <td>4.043000e+09</td>\n      <td>95.721</td>\n      <td>0.000000e+00</td>\n      <td>0.000000e+00</td>\n      <td>0.000000e+00</td>\n      <td>0.0</td>\n      <td>0.0</td>\n      <td>0.0</td>\n      <td>0.0</td>\n      <td>0.000000e+00</td>\n      <td>0.000000e+00</td>\n      <td>0.000000</td>\n      <td>0.000000</td>\n      <td>0.0</td>\n      <td>0.0</td>\n      <td>0.0</td>\n      <td>0.0</td>\n      <td>0.000000</td>\n      <td>0.00</td>\n    </tr>\n    <tr>\n      <th>23112</th>\n      <td>2018</td>\n      <td>XKX</td>\n      <td>0.000</td>\n      <td>0.000</td>\n      <td>0.000</td>\n      <td>0.00</td>\n      <td>0.000</td>\n      <td>0.000</td>\n      <td>0.000</td>\n      <td>1797085.0</td>\n      <td>0.000000e+00</td>\n      <td>0.000</td>\n      <td>7.942997e+09</td>\n      <td>7.252135e+09</td>\n      <td>8.993500e+08</td>\n      <td>0.000000</td>\n      <td>2.288980e+09</td>\n      <td>4.511362e+09</td>\n      <td>0.000</td>\n      <td>0.000000e+00</td>\n      <td>0.000000e+00</td>\n      <td>0.000000e+00</td>\n      <td>0.0</td>\n      <td>0.0</td>\n      <td>0.0</td>\n      <td>0.0</td>\n      <td>0.000000e+00</td>\n      <td>2.092918e+09</td>\n      <td>108.936290</td>\n      <td>29.306041</td>\n      <td>0.0</td>\n      <td>0.0</td>\n      <td>0.0</td>\n      <td>0.0</td>\n      <td>0.358777</td>\n      <td>0.00</td>\n    </tr>\n  </tbody>\n</table>\n<p>231 rows × 36 columns</p>\n</div>"
     },
     "execution_count": 36,
     "metadata": {},
     "output_type": "execute_result"
    }
   ],
   "source": [
    "df"
   ],
   "metadata": {
    "collapsed": false,
    "pycharm": {
     "name": "#%%\n"
    }
   }
  },
  {
   "cell_type": "markdown",
   "metadata": {},
   "source": [
    "# 2. Initialize Setup"
   ]
  },
  {
   "cell_type": "code",
   "execution_count": 37,
   "metadata": {},
   "outputs": [],
   "source": [
    "from pycaret.clustering import *\n",
    "clu = setup(\n",
    "    df, ignore_features = ['iso_code', 'year'],\n",
    "    imputation_type = 'iterative',\n",
    "    normalize = True,\n",
    "    normalize_method = 'maxabs',\n",
    "    session_id=123,\n",
    "    log_experiment=True,\n",
    "    log_plots = True,\n",
    "    experiment_name='capstone',\n",
    "    silent = True,\n",
    "    verbose = False,\n",
    "    profile = False)\n",
    "\n"
   ]
  },
  {
   "cell_type": "markdown",
   "metadata": {},
   "source": [
    "# 3. Create Model"
   ]
  },
  {
   "cell_type": "code",
   "execution_count": 38,
   "outputs": [],
   "source": [
    "list_of_models = list(models().index)\n",
    "no_nodes_list = ['ap', 'meanshift', 'dbscan', 'optics']"
   ],
   "metadata": {
    "collapsed": false,
    "pycharm": {
     "name": "#%%\n"
    }
   }
  },
  {
   "cell_type": "code",
   "execution_count": 39,
   "outputs": [
    {
     "data": {
      "text/plain": "   Silhouette  Calinski-Harabasz  Davies-Bouldin  Homogeneity  Rand Index  \\\n0     -0.5171             0.4517          2.7946            0           0   \n\n   Completeness  \n0             0  ",
      "text/html": "<div>\n<style scoped>\n    .dataframe tbody tr th:only-of-type {\n        vertical-align: middle;\n    }\n\n    .dataframe tbody tr th {\n        vertical-align: top;\n    }\n\n    .dataframe thead th {\n        text-align: right;\n    }\n</style>\n<table border=\"1\" class=\"dataframe\">\n  <thead>\n    <tr style=\"text-align: right;\">\n      <th></th>\n      <th>Silhouette</th>\n      <th>Calinski-Harabasz</th>\n      <th>Davies-Bouldin</th>\n      <th>Homogeneity</th>\n      <th>Rand Index</th>\n      <th>Completeness</th>\n    </tr>\n  </thead>\n  <tbody>\n    <tr>\n      <th>0</th>\n      <td>-0.5171</td>\n      <td>0.4517</td>\n      <td>2.7946</td>\n      <td>0</td>\n      <td>0</td>\n      <td>0</td>\n    </tr>\n  </tbody>\n</table>\n</div>"
     },
     "metadata": {},
     "output_type": "display_data"
    },
    {
     "name": "stdout",
     "output_type": "stream",
     "text": [
      "     model n_clusters  Silhouette  Calinski-Harabasz  Davies-Bouldin  \\\n",
      "0   kmeans          2      0.8305           101.9580          0.4875   \n",
      "0   kmeans          3      0.3904           132.5922          0.9302   \n",
      "0   kmeans          4      0.3291           127.0468          0.9913   \n",
      "0   kmeans          5      0.3531           120.3690          1.0055   \n",
      "0   kmeans          6      0.3529           116.5374          0.7895   \n",
      "..     ...        ...         ...                ...             ...   \n",
      "0   kmodes          9     -0.5015             0.4044          3.2639   \n",
      "0   kmodes         10     -0.5118             0.3844          3.1283   \n",
      "0   kmodes         11     -0.5105             0.3647          3.0111   \n",
      "0   kmodes         12     -0.5114             0.4572          2.9200   \n",
      "0   kmodes         13     -0.5171             0.4517          2.7946   \n",
      "\n",
      "    Homogeneity  Rand Index  Completeness  \n",
      "0             0           0             0  \n",
      "0             0           0             0  \n",
      "0             0           0             0  \n",
      "0             0           0             0  \n",
      "0             0           0             0  \n",
      "..          ...         ...           ...  \n",
      "0             0           0             0  \n",
      "0             0           0             0  \n",
      "0             0           0             0  \n",
      "0             0           0             0  \n",
      "0             0           0             0  \n",
      "\n",
      "[64 rows x 8 columns]\n"
     ]
    }
   ],
   "source": [
    "result = pd.DataFrame()\n",
    "for m in list_of_models:\n",
    "\n",
    "    if m in no_nodes_list:\n",
    "        model = create_model(m)\n",
    "        model_result = pull()\n",
    "        model_result['model'] = m\n",
    "        model_result['n_clusters'] = None\n",
    "        result = result.append(model_result)\n",
    "    else:\n",
    "        for n in range(2,14):\n",
    "            model = create_model(m, num_clusters = n)\n",
    "            model_result = pull()\n",
    "            model_result['model'] = m\n",
    "            model_result['n_clusters'] = n\n",
    "            result = result.append(model_result)\n",
    "\n",
    "result = result[[\n",
    "    'model', 'n_clusters', 'Silhouette',\n",
    "    'Calinski-Harabasz', 'Davies-Bouldin', 'Homogeneity',\n",
    "    'Rand Index', 'Completeness']]\n",
    "\n",
    "print(result)"
   ],
   "metadata": {
    "collapsed": false,
    "pycharm": {
     "name": "#%%\n"
    }
   }
  },
  {
   "cell_type": "markdown",
   "source": [
    "## Silhouette Coefficient\n",
    "The Silhouette Coefficient is defined for each sample and is composed of two scores(shown in below), and a higher Silhouette Coefficient score relates to a model with better defined clusters.\n",
    "a: The mean distance between a sample and all other points in the same class. This score measure the closeness of points in the same cluster.\n",
    "b: The mean distance between a sample and all other points in the next nearest cluster. This score measure the distance of points of different clusters.\n",
    "\n",
    "### Advantages\n",
    "1. The score is bounded between -1 for incorrect clustering and +1 for highly dense clustering. Scores around zero indicate overlapping clusters.\n",
    "The score is higher when clusters are dense and well separated, which relates to a standard concept of a cluster.\n",
    "### Drawbacks\n",
    "1. The Silhouette Coefficient is generally higher for convex clusters than other concepts of clusters, such as density based clusters like those obtained through DBSCAN.\n",
    "2. High computational complexity: O(n²)"
   ],
   "metadata": {
    "collapsed": false,
    "pycharm": {
     "name": "#%% md\n"
    }
   }
  },
  {
   "cell_type": "markdown",
   "source": [
    "## Calinski-Harabasz Index\n",
    "The Calinski-Harabasz index also known as the Variance Ratio Criterion, is the ratio of the sum of between-clusters dispersion and of inter-cluster dispersion for all clusters, the higher the score , the better the performances.\n",
    "\n",
    "### Advantages\n",
    "1. The score is higher when clusters are dense and well separated, which relates to a standard concept of a cluster.\n",
    "2. The score is fast to compute.\n",
    "### Drawbacks\n",
    "1. The Calinski-Harabasz index is generally higher for convex clusters than other concepts of clusters, such as density based clusters like those obtained through DBSCAN."
   ],
   "metadata": {
    "collapsed": false,
    "pycharm": {
     "name": "#%% md\n"
    }
   }
  },
  {
   "cell_type": "markdown",
   "source": [
    "## Davies-Bouldin Index\n",
    "This index signifies the average ‘similarity’ between clusters, where the similarity is a measure that compares the distance between clusters with the size of the clusters themselves. A lower Davies-Bouldin index relates to a model with better separation between the clusters.\n",
    "\n",
    "### Advantages\n",
    "1. The computation of Davies-Bouldin is simpler than that of Silhouette scores.\n",
    "2. The index is computed only quantities and features inherent to the dataset.\n",
    "### Drawbacks\n",
    "1. The usage of centroid distance limits the distance metric to Euclidean space.\n",
    "2. The Davies-Boulding index is generally higher for convex clusters than other concepts of clusters, such as density based clusters like those obtained from DBSCAN."
   ],
   "metadata": {
    "collapsed": false,
    "pycharm": {
     "name": "#%% md\n"
    }
   }
  },
  {
   "cell_type": "code",
   "execution_count": 40,
   "outputs": [
    {
     "name": "stdout",
     "output_type": "stream",
     "text": [
      "model                     sc\n",
      "n_clusters                 2\n",
      "Silhouette            0.8424\n",
      "Calinski-Harabasz    63.5991\n",
      "Davies-Bouldin        0.1088\n",
      "Homogeneity                0\n",
      "Rand Index                 0\n",
      "Completeness               0\n",
      "Name: 14, dtype: object\n",
      "model                  kmeans\n",
      "n_clusters                  3\n",
      "Silhouette             0.3904\n",
      "Calinski-Harabasz    132.5922\n",
      "Davies-Bouldin         0.9302\n",
      "Homogeneity                 0\n",
      "Rand Index                  0\n",
      "Completeness                0\n",
      "Name: 1, dtype: object\n",
      "model                     sc\n",
      "n_clusters                 3\n",
      "Silhouette            0.8043\n",
      "Calinski-Harabasz    61.0775\n",
      "Davies-Bouldin        0.1256\n",
      "Homogeneity                0\n",
      "Rand Index                 0\n",
      "Completeness               0\n",
      "Name: 15, dtype: object\n"
     ]
    }
   ],
   "source": [
    "display = result.reset_index(drop = True)\n",
    "\n",
    "print(display.iloc[display['Silhouette'].idxmax()])\n",
    "print(display.iloc[display['Calinski-Harabasz'].idxmax()])\n",
    "display = display[display['Calinski-Harabasz'].gt(0)]\n",
    "print(display.iloc[display['Davies-Bouldin'].idxmin()])\n"
   ],
   "metadata": {
    "collapsed": false,
    "pycharm": {
     "name": "#%%\n"
    }
   }
  },
  {
   "cell_type": "code",
   "execution_count": 41,
   "outputs": [
    {
     "data": {
      "text/plain": "   Silhouette  Calinski-Harabasz  Davies-Bouldin  Homogeneity  Rand Index  \\\n0      0.8305            101.958          0.4875            0           0   \n\n   Completeness  \n0             0  ",
      "text/html": "<div>\n<style scoped>\n    .dataframe tbody tr th:only-of-type {\n        vertical-align: middle;\n    }\n\n    .dataframe tbody tr th {\n        vertical-align: top;\n    }\n\n    .dataframe thead th {\n        text-align: right;\n    }\n</style>\n<table border=\"1\" class=\"dataframe\">\n  <thead>\n    <tr style=\"text-align: right;\">\n      <th></th>\n      <th>Silhouette</th>\n      <th>Calinski-Harabasz</th>\n      <th>Davies-Bouldin</th>\n      <th>Homogeneity</th>\n      <th>Rand Index</th>\n      <th>Completeness</th>\n    </tr>\n  </thead>\n  <tbody>\n    <tr>\n      <th>0</th>\n      <td>0.8305</td>\n      <td>101.958</td>\n      <td>0.4875</td>\n      <td>0</td>\n      <td>0</td>\n      <td>0</td>\n    </tr>\n  </tbody>\n</table>\n</div>"
     },
     "metadata": {},
     "output_type": "display_data"
    }
   ],
   "source": [
    "eval_model = create_model('kmeans', num_clusters = 2)\n",
    "eval_results = assign_model(eval_model)\n",
    "c2 = eval_results.copy()"
   ],
   "metadata": {
    "collapsed": false,
    "pycharm": {
     "name": "#%%\n"
    }
   }
  },
  {
   "cell_type": "code",
   "execution_count": 42,
   "outputs": [
    {
     "data": {
      "text/plain": "       year iso_code      co2  consumption_co2  trade_co2  \\\n74     2018      AFG    8.345            0.000      0.000   \n171    2018      ALB    4.734            5.806      1.072   \n276    2018      DZA  161.487            0.000      0.000   \n303    2018      AND    0.495            0.000      0.000   \n381    2018      AGO   24.376            0.000      0.000   \n...     ...      ...      ...              ...        ...   \n23108  2018      MCO    0.000            0.000      0.000   \n23109  2018      MNP    0.000            0.000      0.000   \n23110  2018      SMR    0.000            0.000      0.000   \n23111  2018      VIR    0.000            0.000      0.000   \n23112  2018      XKX    0.000            0.000      0.000   \n\n       co2_per_unit_energy  coal_co2  gas_co2  oil_co2  population  ...  \\\n74                    0.00     3.849    0.293    4.146  37171922.0  ...   \n171                   0.00     0.473    0.150    3.331   2866376.0  ...   \n276                   0.24     1.330   88.887   54.922  42228415.0  ...   \n303                   0.00     0.000    0.000    0.495     77008.0  ...   \n381                   0.00     0.000    1.608   12.963  30809787.0  ...   \n...                    ...       ...      ...      ...         ...  ...   \n23108                 0.00     0.000    0.000    0.000     38682.0  ...   \n23109                 0.00     0.000    0.000    0.000     56889.0  ...   \n23110                 0.00     0.000    0.000    0.000     33784.0  ...   \n23111                 0.00     0.000    0.000    0.000    107001.0  ...   \n23112                 0.00     0.000    0.000    0.000   1797085.0  ...   \n\n       industrial_gdp  iea_primary_energy_consumption  \\\n74       2.457079e+09                        0.000000   \n171      3.223896e+09                      115.114239   \n276      6.865545e+10                     2478.060305   \n303      0.000000e+00                        0.000000   \n381      4.858017e+10                      666.906455   \n...               ...                             ...   \n23108    9.444969e+08                        0.000000   \n23109    0.000000e+00                        0.000000   \n23110    0.000000e+00                        0.000000   \n23111    0.000000e+00                        0.000000   \n23112    2.092918e+09                      108.936290   \n\n       renewable_energy_consumption  coal_consumption  oil_consumption  \\\n74                         0.000000               0.0              0.0   \n171                       44.050074               0.0              0.0   \n276                        4.790090               0.0              0.0   \n303                        0.000000               0.0              0.0   \n381                      378.706162               0.0              0.0   \n...                             ...               ...              ...   \n23108                      0.000000               0.0              0.0   \n23109                      0.000000               0.0              0.0   \n23110                      0.000000               0.0              0.0   \n23111                      0.000000               0.0              0.0   \n23112                     29.306041               0.0              0.0   \n\n       total_electricity_production  electricity_production_from_renewable  \\\n74                              0.0                                    0.0   \n171                             0.0                                    0.0   \n276                             0.0                                    0.0   \n303                             0.0                                    0.0   \n381                             0.0                                    0.0   \n...                             ...                                    ...   \n23108                           0.0                                    0.0   \n23109                           0.0                                    0.0   \n23110                           0.0                                    0.0   \n23111                           0.0                                    0.0   \n23112                           0.0                                    0.0   \n\n       energy_intensity  percent_of_environment_patent    Cluster  \n74             0.000000                           0.00  Cluster 0  \n171            0.216341                          32.63  Cluster 0  \n276            0.336292                          23.63  Cluster 0  \n303            0.000000                           0.00  Cluster 0  \n381            0.143503                           0.00  Cluster 0  \n...                 ...                            ...        ...  \n23108          0.000000                           0.00  Cluster 0  \n23109          0.000000                           0.00  Cluster 0  \n23110          0.000000                           0.00  Cluster 0  \n23111          0.000000                           0.00  Cluster 0  \n23112          0.358777                           0.00  Cluster 0  \n\n[231 rows x 37 columns]",
      "text/html": "<div>\n<style scoped>\n    .dataframe tbody tr th:only-of-type {\n        vertical-align: middle;\n    }\n\n    .dataframe tbody tr th {\n        vertical-align: top;\n    }\n\n    .dataframe thead th {\n        text-align: right;\n    }\n</style>\n<table border=\"1\" class=\"dataframe\">\n  <thead>\n    <tr style=\"text-align: right;\">\n      <th></th>\n      <th>year</th>\n      <th>iso_code</th>\n      <th>co2</th>\n      <th>consumption_co2</th>\n      <th>trade_co2</th>\n      <th>co2_per_unit_energy</th>\n      <th>coal_co2</th>\n      <th>gas_co2</th>\n      <th>oil_co2</th>\n      <th>population</th>\n      <th>...</th>\n      <th>industrial_gdp</th>\n      <th>iea_primary_energy_consumption</th>\n      <th>renewable_energy_consumption</th>\n      <th>coal_consumption</th>\n      <th>oil_consumption</th>\n      <th>total_electricity_production</th>\n      <th>electricity_production_from_renewable</th>\n      <th>energy_intensity</th>\n      <th>percent_of_environment_patent</th>\n      <th>Cluster</th>\n    </tr>\n  </thead>\n  <tbody>\n    <tr>\n      <th>74</th>\n      <td>2018</td>\n      <td>AFG</td>\n      <td>8.345</td>\n      <td>0.000</td>\n      <td>0.000</td>\n      <td>0.00</td>\n      <td>3.849</td>\n      <td>0.293</td>\n      <td>4.146</td>\n      <td>37171922.0</td>\n      <td>...</td>\n      <td>2.457079e+09</td>\n      <td>0.000000</td>\n      <td>0.000000</td>\n      <td>0.0</td>\n      <td>0.0</td>\n      <td>0.0</td>\n      <td>0.0</td>\n      <td>0.000000</td>\n      <td>0.00</td>\n      <td>Cluster 0</td>\n    </tr>\n    <tr>\n      <th>171</th>\n      <td>2018</td>\n      <td>ALB</td>\n      <td>4.734</td>\n      <td>5.806</td>\n      <td>1.072</td>\n      <td>0.00</td>\n      <td>0.473</td>\n      <td>0.150</td>\n      <td>3.331</td>\n      <td>2866376.0</td>\n      <td>...</td>\n      <td>3.223896e+09</td>\n      <td>115.114239</td>\n      <td>44.050074</td>\n      <td>0.0</td>\n      <td>0.0</td>\n      <td>0.0</td>\n      <td>0.0</td>\n      <td>0.216341</td>\n      <td>32.63</td>\n      <td>Cluster 0</td>\n    </tr>\n    <tr>\n      <th>276</th>\n      <td>2018</td>\n      <td>DZA</td>\n      <td>161.487</td>\n      <td>0.000</td>\n      <td>0.000</td>\n      <td>0.24</td>\n      <td>1.330</td>\n      <td>88.887</td>\n      <td>54.922</td>\n      <td>42228415.0</td>\n      <td>...</td>\n      <td>6.865545e+10</td>\n      <td>2478.060305</td>\n      <td>4.790090</td>\n      <td>0.0</td>\n      <td>0.0</td>\n      <td>0.0</td>\n      <td>0.0</td>\n      <td>0.336292</td>\n      <td>23.63</td>\n      <td>Cluster 0</td>\n    </tr>\n    <tr>\n      <th>303</th>\n      <td>2018</td>\n      <td>AND</td>\n      <td>0.495</td>\n      <td>0.000</td>\n      <td>0.000</td>\n      <td>0.00</td>\n      <td>0.000</td>\n      <td>0.000</td>\n      <td>0.495</td>\n      <td>77008.0</td>\n      <td>...</td>\n      <td>0.000000e+00</td>\n      <td>0.000000</td>\n      <td>0.000000</td>\n      <td>0.0</td>\n      <td>0.0</td>\n      <td>0.0</td>\n      <td>0.0</td>\n      <td>0.000000</td>\n      <td>0.00</td>\n      <td>Cluster 0</td>\n    </tr>\n    <tr>\n      <th>381</th>\n      <td>2018</td>\n      <td>AGO</td>\n      <td>24.376</td>\n      <td>0.000</td>\n      <td>0.000</td>\n      <td>0.00</td>\n      <td>0.000</td>\n      <td>1.608</td>\n      <td>12.963</td>\n      <td>30809787.0</td>\n      <td>...</td>\n      <td>4.858017e+10</td>\n      <td>666.906455</td>\n      <td>378.706162</td>\n      <td>0.0</td>\n      <td>0.0</td>\n      <td>0.0</td>\n      <td>0.0</td>\n      <td>0.143503</td>\n      <td>0.00</td>\n      <td>Cluster 0</td>\n    </tr>\n    <tr>\n      <th>...</th>\n      <td>...</td>\n      <td>...</td>\n      <td>...</td>\n      <td>...</td>\n      <td>...</td>\n      <td>...</td>\n      <td>...</td>\n      <td>...</td>\n      <td>...</td>\n      <td>...</td>\n      <td>...</td>\n      <td>...</td>\n      <td>...</td>\n      <td>...</td>\n      <td>...</td>\n      <td>...</td>\n      <td>...</td>\n      <td>...</td>\n      <td>...</td>\n      <td>...</td>\n      <td>...</td>\n    </tr>\n    <tr>\n      <th>23108</th>\n      <td>2018</td>\n      <td>MCO</td>\n      <td>0.000</td>\n      <td>0.000</td>\n      <td>0.000</td>\n      <td>0.00</td>\n      <td>0.000</td>\n      <td>0.000</td>\n      <td>0.000</td>\n      <td>38682.0</td>\n      <td>...</td>\n      <td>9.444969e+08</td>\n      <td>0.000000</td>\n      <td>0.000000</td>\n      <td>0.0</td>\n      <td>0.0</td>\n      <td>0.0</td>\n      <td>0.0</td>\n      <td>0.000000</td>\n      <td>0.00</td>\n      <td>Cluster 0</td>\n    </tr>\n    <tr>\n      <th>23109</th>\n      <td>2018</td>\n      <td>MNP</td>\n      <td>0.000</td>\n      <td>0.000</td>\n      <td>0.000</td>\n      <td>0.00</td>\n      <td>0.000</td>\n      <td>0.000</td>\n      <td>0.000</td>\n      <td>56889.0</td>\n      <td>...</td>\n      <td>0.000000e+00</td>\n      <td>0.000000</td>\n      <td>0.000000</td>\n      <td>0.0</td>\n      <td>0.0</td>\n      <td>0.0</td>\n      <td>0.0</td>\n      <td>0.000000</td>\n      <td>0.00</td>\n      <td>Cluster 0</td>\n    </tr>\n    <tr>\n      <th>23110</th>\n      <td>2018</td>\n      <td>SMR</td>\n      <td>0.000</td>\n      <td>0.000</td>\n      <td>0.000</td>\n      <td>0.00</td>\n      <td>0.000</td>\n      <td>0.000</td>\n      <td>0.000</td>\n      <td>33784.0</td>\n      <td>...</td>\n      <td>0.000000e+00</td>\n      <td>0.000000</td>\n      <td>0.000000</td>\n      <td>0.0</td>\n      <td>0.0</td>\n      <td>0.0</td>\n      <td>0.0</td>\n      <td>0.000000</td>\n      <td>0.00</td>\n      <td>Cluster 0</td>\n    </tr>\n    <tr>\n      <th>23111</th>\n      <td>2018</td>\n      <td>VIR</td>\n      <td>0.000</td>\n      <td>0.000</td>\n      <td>0.000</td>\n      <td>0.00</td>\n      <td>0.000</td>\n      <td>0.000</td>\n      <td>0.000</td>\n      <td>107001.0</td>\n      <td>...</td>\n      <td>0.000000e+00</td>\n      <td>0.000000</td>\n      <td>0.000000</td>\n      <td>0.0</td>\n      <td>0.0</td>\n      <td>0.0</td>\n      <td>0.0</td>\n      <td>0.000000</td>\n      <td>0.00</td>\n      <td>Cluster 0</td>\n    </tr>\n    <tr>\n      <th>23112</th>\n      <td>2018</td>\n      <td>XKX</td>\n      <td>0.000</td>\n      <td>0.000</td>\n      <td>0.000</td>\n      <td>0.00</td>\n      <td>0.000</td>\n      <td>0.000</td>\n      <td>0.000</td>\n      <td>1797085.0</td>\n      <td>...</td>\n      <td>2.092918e+09</td>\n      <td>108.936290</td>\n      <td>29.306041</td>\n      <td>0.0</td>\n      <td>0.0</td>\n      <td>0.0</td>\n      <td>0.0</td>\n      <td>0.358777</td>\n      <td>0.00</td>\n      <td>Cluster 0</td>\n    </tr>\n  </tbody>\n</table>\n<p>231 rows × 37 columns</p>\n</div>"
     },
     "execution_count": 42,
     "metadata": {},
     "output_type": "execute_result"
    }
   ],
   "source": [
    "eval_results"
   ],
   "metadata": {
    "collapsed": false,
    "pycharm": {
     "name": "#%%\n"
    }
   }
  },
  {
   "cell_type": "code",
   "execution_count": 43,
   "outputs": [
    {
     "data": {
      "application/vnd.plotly.v1+json": {
       "config": {
        "plotlyServerURL": "https://plot.ly"
       },
       "data": [
        {
         "customdata": [
          [
           null
          ],
          [
           null
          ],
          [
           null
          ],
          [
           null
          ],
          [
           null
          ],
          [
           null
          ],
          [
           null
          ],
          [
           null
          ],
          [
           null
          ],
          [
           null
          ],
          [
           null
          ],
          [
           null
          ],
          [
           null
          ],
          [
           null
          ],
          [
           null
          ],
          [
           null
          ],
          [
           null
          ],
          [
           null
          ],
          [
           null
          ],
          [
           null
          ],
          [
           null
          ],
          [
           null
          ],
          [
           null
          ],
          [
           null
          ],
          [
           null
          ],
          [
           null
          ],
          [
           null
          ],
          [
           null
          ],
          [
           null
          ],
          [
           null
          ],
          [
           null
          ],
          [
           null
          ],
          [
           null
          ],
          [
           null
          ],
          [
           null
          ],
          [
           null
          ],
          [
           null
          ],
          [
           null
          ],
          [
           null
          ],
          [
           null
          ],
          [
           null
          ],
          [
           null
          ],
          [
           null
          ],
          [
           null
          ],
          [
           null
          ],
          [
           null
          ],
          [
           null
          ],
          [
           null
          ],
          [
           null
          ],
          [
           null
          ],
          [
           null
          ],
          [
           null
          ],
          [
           null
          ],
          [
           null
          ],
          [
           null
          ],
          [
           4.734
          ],
          [
           null
          ],
          [
           null
          ],
          [
           null
          ],
          [
           null
          ],
          [
           null
          ],
          [
           null
          ],
          [
           null
          ],
          [
           null
          ],
          [
           null
          ],
          [
           null
          ],
          [
           null
          ],
          [
           null
          ],
          [
           null
          ],
          [
           null
          ],
          [
           null
          ],
          [
           null
          ],
          [
           null
          ],
          [
           null
          ],
          [
           null
          ],
          [
           null
          ],
          [
           null
          ],
          [
           null
          ],
          [
           null
          ],
          [
           null
          ],
          [
           null
          ],
          [
           null
          ],
          [
           null
          ],
          [
           null
          ],
          [
           null
          ],
          [
           null
          ],
          [
           null
          ],
          [
           null
          ],
          [
           null
          ],
          [
           null
          ],
          [
           null
          ],
          [
           null
          ],
          [
           null
          ],
          [
           null
          ],
          [
           null
          ],
          [
           null
          ],
          [
           null
          ],
          [
           null
          ],
          [
           null
          ],
          [
           null
          ],
          [
           null
          ],
          [
           null
          ],
          [
           null
          ],
          [
           null
          ],
          [
           null
          ],
          [
           null
          ],
          [
           null
          ],
          [
           null
          ],
          [
           null
          ],
          [
           null
          ],
          [
           null
          ],
          [
           null
          ],
          [
           null
          ],
          [
           null
          ],
          [
           null
          ],
          [
           null
          ],
          [
           null
          ],
          [
           null
          ],
          [
           null
          ],
          [
           null
          ],
          [
           null
          ],
          [
           null
          ],
          [
           null
          ],
          [
           null
          ],
          [
           null
          ],
          [
           null
          ],
          [
           null
          ],
          [
           null
          ],
          [
           null
          ],
          [
           null
          ],
          [
           null
          ],
          [
           null
          ],
          [
           null
          ],
          [
           null
          ],
          [
           null
          ],
          [
           null
          ],
          [
           null
          ],
          [
           null
          ],
          [
           null
          ],
          [
           null
          ],
          [
           null
          ],
          [
           null
          ],
          [
           null
          ],
          [
           null
          ],
          [
           null
          ],
          [
           null
          ],
          [
           null
          ],
          [
           null
          ],
          [
           null
          ],
          [
           null
          ],
          [
           null
          ],
          [
           null
          ],
          [
           null
          ],
          [
           null
          ],
          [
           null
          ],
          [
           null
          ],
          [
           null
          ],
          [
           null
          ],
          [
           null
          ],
          [
           null
          ],
          [
           null
          ],
          [
           null
          ],
          [
           null
          ],
          [
           null
          ],
          [
           null
          ],
          [
           null
          ],
          [
           null
          ],
          [
           null
          ],
          [
           null
          ],
          [
           null
          ],
          [
           null
          ],
          [
           null
          ],
          [
           null
          ],
          [
           null
          ],
          [
           null
          ],
          [
           null
          ],
          [
           null
          ],
          [
           null
          ],
          [
           null
          ],
          [
           null
          ],
          [
           null
          ],
          [
           null
          ],
          [
           null
          ],
          [
           null
          ],
          [
           null
          ],
          [
           null
          ],
          [
           null
          ],
          [
           null
          ],
          [
           null
          ],
          [
           null
          ],
          [
           null
          ],
          [
           null
          ],
          [
           null
          ],
          [
           null
          ],
          [
           null
          ],
          [
           null
          ],
          [
           null
          ],
          [
           null
          ],
          [
           null
          ],
          [
           null
          ],
          [
           null
          ],
          [
           null
          ],
          [
           null
          ],
          [
           null
          ],
          [
           null
          ],
          [
           null
          ],
          [
           null
          ],
          [
           null
          ],
          [
           null
          ],
          [
           null
          ],
          [
           null
          ],
          [
           null
          ],
          [
           null
          ],
          [
           null
          ],
          [
           null
          ],
          [
           null
          ],
          [
           null
          ],
          [
           null
          ],
          [
           8.345
          ],
          [
           null
          ],
          [
           null
          ],
          [
           null
          ],
          [
           null
          ],
          [
           null
          ],
          [
           null
          ],
          [
           null
          ],
          [
           null
          ],
          [
           null
          ],
          [
           null
          ]
         ],
         "hovertemplate": "Cluster=Cluster 0<br>0=%{x}<br>1=%{y}<br>2=%{z}<br>Feature=%{customdata[0]}<extra></extra>",
         "legendgroup": "Cluster 0",
         "marker": {
          "color": "#636efa",
          "opacity": 0.7,
          "symbol": "circle"
         },
         "mode": "markers",
         "name": "Cluster 0",
         "scene": "scene",
         "showlegend": true,
         "type": "scatter3d",
         "x": [
          -6.38381814956665,
          -74.32327270507812,
          -80.38887023925781,
          -67.44969177246094,
          107.04135131835938,
          -1.8928312063217163,
          -116.39479064941406,
          -157.7694091796875,
          -34.93519973754883,
          -102.67208862304688,
          -17.781511306762695,
          54.741722106933594,
          -60.494422912597656,
          10.417116165161133,
          -52.46774673461914,
          63.221073150634766,
          -26.3148136138916,
          106.73043823242188,
          -45.022666931152344,
          -36.740867614746094,
          -65.66191101074219,
          -99.57719421386719,
          -85.58577728271484,
          11.611319541931152,
          84.14815521240234,
          101.92117309570312,
          37.216609954833984,
          -23.01934242248535,
          61.13816833496094,
          48.08870315551758,
          157.4097442626953,
          -31.608543395996094,
          56.668338775634766,
          12.954809188842773,
          -82.56769561767578,
          -96.23030853271484,
          -13.000921249389648,
          43.69011306762695,
          133.68043518066406,
          -117.74507141113281,
          -25.04421615600586,
          -9.253002166748047,
          118.4126205444336,
          -20.198719024658203,
          -49.34531021118164,
          -85.48524475097656,
          -31.093250274658203,
          -76.08623504638672,
          -60.52458572387695,
          -10.14278793334961,
          -122.2698974609375,
          -128.738037109375,
          -74.26980590820312,
          93.76033020019531,
          -85.08580780029297,
          -12.795931816101074,
          21.146526336669922,
          -180.25440979003906,
          90.23855590820312,
          -64.25680541992188,
          -2.9660489559173584,
          -0.011316991411149502,
          -61.0212287902832,
          -46.32330322265625,
          -31.695951461791992,
          -31.420753479003906,
          -22.82084846496582,
          19.752567291259766,
          -34.262794494628906,
          9.574119567871094,
          -0.23530831933021545,
          102.65412139892578,
          41.50218200683594,
          110.2387466430664,
          58.88966751098633,
          98.45635223388672,
          -78.73507690429688,
          74.59684753417969,
          140.90907287597656,
          -37.973899841308594,
          137.2692108154297,
          77.23326873779297,
          81.38349914550781,
          -45.61185836791992,
          68.95135498046875,
          32.195377349853516,
          -43.89175033569336,
          9.131208419799805,
          23.472509384155273,
          4.787322044372559,
          -5.047926902770996,
          14.659013748168945,
          -80.4734115600586,
          -6.232081413269043,
          17.249353408813477,
          -144.49607849121094,
          29.042814254760742,
          -89.91854095458984,
          19.204004287719727,
          -116.92598724365234,
          27.765039443969727,
          -107.62943267822266,
          -109.6788101196289,
          74.9151840209961,
          83.9839096069336,
          -21.967580795288086,
          -144.7261962890625,
          -55.60087585449219,
          -26.859521865844727,
          119.06637573242188,
          -29.235246658325195,
          8.540964126586914,
          -99.83860778808594,
          116.7602767944336,
          85.58457946777344,
          113.9278793334961,
          27.877399444580078,
          16.19219398498535,
          -18.120567321777344,
          -50.096946716308594,
          41.599769592285156,
          100.38416290283203,
          21.380102157592773,
          -114.48735809326172,
          -23.76746940612793,
          -18.951526641845703,
          -30.338998794555664,
          47.847347259521484,
          76.0279769897461,
          -60.2332763671875,
          48.2081298828125,
          -3.1688342094421387,
          -87.2096939086914,
          -67.16358184814453,
          -94.48783874511719,
          116.00203704833984,
          69.58670043945312,
          74.71331787109375,
          -62.5611457824707,
          -43.468013763427734,
          -30.65272331237793,
          113.52550506591797,
          -2.8453497886657715,
          57.50978088378906,
          -8.075639724731445,
          -67.82855224609375,
          120.41098022460938,
          41.57259750366211,
          36.70857620239258,
          -83.79056549072266,
          -4.781463623046875,
          61.32305908203125,
          -92.29894256591797,
          -104.86703491210938,
          -47.82367706298828,
          47.229248046875,
          13.606382369995117,
          9.267261505126953,
          67.65007781982422,
          -29.632858276367188,
          29.70113182067871,
          68.12324523925781,
          -60.119598388671875,
          72.80829620361328,
          72.0999755859375,
          -2.8870837688446045,
          -43.7396240234375,
          27.085979461669922,
          -30.265579223632812,
          37.59208297729492,
          120.14753723144531,
          -1.9546452760696411,
          -60.35995101928711,
          -140.48585510253906,
          -97.62055969238281,
          5.122973918914795,
          -68.81498718261719,
          -49.073856353759766,
          12.333250045776367,
          0.3128993809223175,
          100.89281463623047,
          -72.84512329101562,
          -10.687429428100586,
          86.973876953125,
          -66.14485168457031,
          -22.90606689453125,
          -67.47090148925781,
          -98.26473236083984,
          33.103492736816406,
          66.31790161132812,
          79.78905487060547,
          -36.8886604309082,
          -13.396296501159668,
          -26.689285278320312,
          -61.13386154174805,
          64.21853637695312,
          43.02481460571289,
          143.01393127441406,
          40.583282470703125,
          30.55621337890625,
          105.25506591796875,
          53.2928581237793,
          27.640731811523438,
          -39.002227783203125,
          37.81649398803711,
          -118.31504821777344,
          90.78840637207031,
          112.09078979492188,
          -8.024358749389648,
          144.93508911132812,
          90.37581634521484,
          4.81026029586792,
          -77.80996704101562,
          -32.14787292480469,
          -29.40085220336914,
          62.793514251708984,
          4.335757255554199,
          100.33926391601562,
          37.61591339111328,
          0.5268547534942627,
          58.50259780883789,
          86.31440734863281,
          -17.272079467773438,
          -64.8720703125,
          -26.20387077331543,
          -40.49760818481445,
          -112.4244155883789,
          -91.83680725097656,
          17.032146453857422
         ],
         "y": [
          -0.4549572467803955,
          -94.24412536621094,
          -106.00635528564453,
          -36.61946487426758,
          -5.496166229248047,
          -66.54916381835938,
          -55.718910217285156,
          -85.90911865234375,
          24.69077491760254,
          -64.66912078857422,
          40.15422821044922,
          -36.67998123168945,
          9.59018325805664,
          66.79981994628906,
          -134.9242401123047,
          101.9339599609375,
          4.744865894317627,
          -59.09101104736328,
          112.19349670410156,
          -35.43326187133789,
          146.5183868408203,
          -71.33566284179688,
          -41.502281188964844,
          28.2086238861084,
          7.486940383911133,
          -60.05166244506836,
          38.54558563232422,
          24.298315048217773,
          -14.802446365356445,
          20.507266998291016,
          -34.92435073852539,
          69.35012817382812,
          60.59998321533203,
          14.738862991333008,
          -9.060057640075684,
          60.829227447509766,
          59.08204650878906,
          28.093299865722656,
          -0.5241928100585938,
          16.833518981933594,
          -105.56253814697266,
          110.63065338134766,
          -56.01030731201172,
          -98.07868957519531,
          18.776578903198242,
          94.83071899414062,
          26.883567810058594,
          43.06109619140625,
          -61.2574348449707,
          157.88963317871094,
          4.23848295211792,
          8.727396965026855,
          -42.00086975097656,
          -95.33118438720703,
          -11.596144676208496,
          -80.8487319946289,
          53.82270812988281,
          -33.82152557373047,
          110.5635986328125,
          91.26494598388672,
          95.7119369506836,
          133.45529174804688,
          129.9039306640625,
          114.41239929199219,
          83.49751281738281,
          112.33856964111328,
          142.18975830078125,
          117.86372375488281,
          143.63951110839844,
          -133.13449096679688,
          135.74795532226562,
          15.104694366455078,
          9.787517547607422,
          -30.12952423095703,
          50.07440948486328,
          4.715203762054443,
          -15.139104843139648,
          54.260032653808594,
          8.65686321258545,
          81.87825012207031,
          -28.989614486694336,
          -20.33988380432129,
          23.48666763305664,
          95.69860076904297,
          -65.18033599853516,
          -12.771336555480957,
          -97.9278335571289,
          114.09544372558594,
          14.062102317810059,
          -17.666606903076172,
          -37.67220687866211,
          -104.21351623535156,
          101.04412841796875,
          96.39887237548828,
          73.00332641601562,
          -48.79200744628906,
          -19.13190269470215,
          39.8916130065918,
          75.49484252929688,
          -134.7908172607422,
          -1.1639034748077393,
          -75.98860931396484,
          101.70313262939453,
          -1.0780646800994873,
          -42.99251174926758,
          -18.148361206054688,
          -23.198081970214844,
          -137.59523010253906,
          -113.13616943359375,
          15.682087898254395,
          -40.4248161315918,
          10.366020202636719,
          -122.46141815185547,
          29.136808395385742,
          -25.58503532409668,
          -1.717147707939148,
          38.64107894897461,
          104.12874603271484,
          24.087472915649414,
          -61.587955474853516,
          -91.08088684082031,
          -37.82742691040039,
          41.82491683959961,
          -86.43719482421875,
          -65.35741424560547,
          82.53927612304688,
          -4.378476142883301,
          8.649800300598145,
          12.444618225097656,
          -60.99675369262695,
          10.113852500915527,
          -64.65839385986328,
          -62.60028076171875,
          -83.90227508544922,
          29.224246978759766,
          86.8432846069336,
          -48.15066146850586,
          -56.79874038696289,
          123.58299255371094,
          -27.664201736450195,
          39.112030029296875,
          45.184654235839844,
          -23.76076889038086,
          -20.168540954589844,
          41.87506103515625,
          0.29247382283210754,
          -18.09402847290039,
          -39.14743423461914,
          46.591922760009766,
          31.112852096557617,
          13.411078453063965,
          -47.983760833740234,
          -101.5075454711914,
          -38.257991790771484,
          -30.359277725219727,
          -108.98290252685547,
          -52.33137130737305,
          125.6104965209961,
          130.04808044433594,
          -65.63416290283203,
          158.6608123779297,
          94.57713317871094,
          61.56938934326172,
          -122.70137786865234,
          56.56862258911133,
          -10.491732597351074,
          -10.222189903259277,
          -13.417405128479004,
          -107.03492736816406,
          110.89839935302734,
          52.244415283203125,
          21.43682861328125,
          109.65128326416016,
          -112.27957916259766,
          -14.885208129882812,
          -103.32884216308594,
          -67.29978942871094,
          -90.35198974609375,
          40.80510711669922,
          -93.1920394897461,
          27.157928466796875,
          -28.89517593383789,
          87.96702575683594,
          -43.496826171875,
          -100.75282287597656,
          112.62037658691406,
          54.86526107788086,
          -72.70374298095703,
          -83.35953521728516,
          35.403926849365234,
          -12.073787689208984,
          13.911393165588379,
          54.623512268066406,
          -101.60511779785156,
          -38.37385940551758,
          -24.75368881225586,
          87.82218170166016,
          14.249752044677734,
          -51.459808349609375,
          -22.310827255249023,
          -26.698530197143555,
          -75.6553726196289,
          -10.066081047058105,
          -73.6806869506836,
          -129.36830139160156,
          50.019737243652344,
          2.8099231719970703,
          -24.555620193481445,
          75.187744140625,
          -79.70333862304688,
          -76.71310424804688,
          -45.83280563354492,
          9.702044486999512,
          26.088581085205078,
          -80.03678131103516,
          -108.72901916503906,
          47.93730926513672,
          -39.37977981567383,
          59.104591369628906,
          27.207048416137695,
          3.2762603759765625,
          -23.131912231445312,
          66.0091323852539,
          43.09596633911133,
          49.118099212646484,
          -133.903076171875,
          -26.959135055541992,
          -43.94678497314453,
          119.94915008544922
         ],
         "z": [
          85.47303009033203,
          51.92512130737305,
          17.296077728271484,
          12.26121711730957,
          -91.8796615600586,
          -64.1205062866211,
          34.96926498413086,
          -13.373494148254395,
          94.4761734008789,
          106.0865707397461,
          118.58845520019531,
          19.724193572998047,
          136.87994384765625,
          103.99778747558594,
          3.9906296730041504,
          24.824569702148438,
          10.509915351867676,
          16.210344314575195,
          -33.56718444824219,
          -121.73802185058594,
          -0.9220351576805115,
          53.51862335205078,
          42.19568634033203,
          93.4492416381836,
          47.74635696411133,
          -51.07026672363281,
          -25.77591896057129,
          -142.88833618164062,
          -17.62013816833496,
          40.501304626464844,
          28.55100440979004,
          3.3912007808685303,
          24.957502365112305,
          -22.453786849975586,
          -1.9796429872512817,
          -50.1058349609375,
          31.63343048095703,
          7.738311290740967,
          -114.98160552978516,
          -70.43192291259766,
          -79.62612915039062,
          111.62117767333984,
          -23.316213607788086,
          35.658138275146484,
          -16.80535316467285,
          13.415104866027832,
          42.75313186645508,
          -76.57298278808594,
          66.1556396484375,
          4.635195732116699,
          53.364166259765625,
          5.506298065185547,
          -158.64852905273438,
          34.35626983642578,
          76.73604583740234,
          -104.35843658447266,
          65.70419311523438,
          54.34705352783203,
          -19.03614044189453,
          88.67549896240234,
          75.1288833618164,
          70.20208740234375,
          84.76496887207031,
          115.39513397216797,
          103.17350006103516,
          82.75865936279297,
          98.34396362304688,
          94.32621002197266,
          61.91267395019531,
          62.844078063964844,
          -45.41297149658203,
          -65.300537109375,
          102.64248657226562,
          -119.61930847167969,
          80.451416015625,
          -126.71023559570312,
          -88.42591094970703,
          -11.654256820678711,
          -77.72354125976562,
          66.08634185791016,
          -91.89124298095703,
          -105.76850128173828,
          -101.73998260498047,
          -50.258949279785156,
          21.01236915588379,
          -121.0938491821289,
          -33.07748031616211,
          -57.844207763671875,
          54.43053436279297,
          18.90622901916504,
          -98.972900390625,
          -81.00077819824219,
          -36.99742889404297,
          -9.3977689743042,
          14.330940246582031,
          12.49406623840332,
          118.35594940185547,
          -4.045970916748047,
          -110.04589080810547,
          -3.8478269577026367,
          4.5657267570495605,
          -28.710905075073242,
          -29.936086654663086,
          -77.97217559814453,
          -3.868875741958618,
          116.06556701660156,
          -33.580020904541016,
          -35.93791580200195,
          -115.09701538085938,
          -29.847366333007812,
          2.9984700679779053,
          124.70486450195312,
          48.06183624267578,
          -98.03269958496094,
          -50.431427001953125,
          63.345794677734375,
          -128.95018005371094,
          1.5671484470367432,
          -17.89876365661621,
          -83.87921142578125,
          50.43433380126953,
          95.24092102050781,
          133.07904052734375,
          7.312184810638428,
          40.79106140136719,
          -88.51335144042969,
          -32.203548431396484,
          136.4771728515625,
          -30.30368423461914,
          31.637535095214844,
          -43.73688507080078,
          91.49853515625,
          12.12651252746582,
          -6.259319305419922,
          -46.637760162353516,
          17.832204818725586,
          -66.87884521484375,
          -33.53116226196289,
          -85.31488037109375,
          33.35222625732422,
          6.99937629699707,
          41.58161544799805,
          -48.68706512451172,
          46.72515869140625,
          -72.18244934082031,
          44.456809997558594,
          -60.63345718383789,
          -28.078174591064453,
          103.9970474243164,
          107.96636962890625,
          -49.36809158325195,
          68.45179748535156,
          -26.333404541015625,
          -51.70228576660156,
          65.66045379638672,
          24.527175903320312,
          5.450396537780762,
          -84.7295150756836,
          -18.70905303955078,
          -33.613224029541016,
          -17.69106101989746,
          -34.81076431274414,
          -11.923503875732422,
          5.292718410491943,
          -56.94999313354492,
          -17.99286460876465,
          -67.68351745605469,
          -30.26541519165039,
          81.1905517578125,
          -80.1602783203125,
          -30.458723068237305,
          -94.44575500488281,
          52.89992141723633,
          -18.29901695251465,
          107.91921997070312,
          -41.03445053100586,
          -41.47263717651367,
          -106.23286437988281,
          -3.5738532543182373,
          -134.46669006347656,
          -6.83254337310791,
          97.62834167480469,
          19.448139190673828,
          37.570068359375,
          -56.776241302490234,
          49.974037170410156,
          20.391151428222656,
          -71.34622955322266,
          -1.9850353002548218,
          117.78614044189453,
          19.753036499023438,
          -95.79348754882812,
          81.8763198852539,
          -1.625308871269226,
          -25.832204818725586,
          100.34680938720703,
          70.9141616821289,
          24.07697296142578,
          -97.47806549072266,
          80.3548355102539,
          -25.131561279296875,
          124.44192504882812,
          -71.69361877441406,
          7.603583335876465,
          -23.78265953063965,
          -23.63332176208496,
          89.99349975585938,
          19.744518280029297,
          151.14666748046875,
          36.62864685058594,
          -10.177789688110352,
          -27.555641174316406,
          -127.07437896728516,
          -54.708091735839844,
          -143.29437255859375,
          -73.86631774902344,
          -32.545005798339844,
          -83.2612075805664,
          -71.90818786621094,
          19.031349182128906,
          75.91962432861328,
          65.6395492553711,
          -122.32117462158203,
          -35.193817138671875,
          -30.329683303833008,
          -78.87554168701172,
          17.96232032775879,
          -15.877595901489258,
          28.029640197753906
         ]
        },
        {
         "customdata": [
          [
           null
          ],
          [
           null
          ]
         ],
         "hovertemplate": "Cluster=Cluster 1<br>0=%{x}<br>1=%{y}<br>2=%{z}<br>Feature=%{customdata[0]}<extra></extra>",
         "legendgroup": "Cluster 1",
         "marker": {
          "color": "#EF553B",
          "opacity": 0.7,
          "symbol": "circle"
         },
         "mode": "markers",
         "name": "Cluster 1",
         "scene": "scene",
         "showlegend": true,
         "type": "scatter3d",
         "x": [
          -141.68319702148438,
          0.7677657008171082
         ],
         "y": [
          53.77932357788086,
          -59.92430877685547
         ],
         "z": [
          30.377628326416016,
          -150.11488342285156
         ]
        }
       ],
       "layout": {
        "height": 800,
        "legend": {
         "title": {
          "text": "Cluster"
         },
         "tracegroupgap": 0
        },
        "scene": {
         "domain": {
          "x": [
           0.0,
           1.0
          ],
          "y": [
           0.0,
           1.0
          ]
         },
         "xaxis": {
          "title": {
           "text": "0"
          }
         },
         "yaxis": {
          "title": {
           "text": "1"
          }
         },
         "zaxis": {
          "title": {
           "text": "2"
          }
         }
        },
        "template": {
         "data": {
          "bar": [
           {
            "error_x": {
             "color": "#2a3f5f"
            },
            "error_y": {
             "color": "#2a3f5f"
            },
            "marker": {
             "line": {
              "color": "#E5ECF6",
              "width": 0.5
             }
            },
            "type": "bar"
           }
          ],
          "barpolar": [
           {
            "marker": {
             "line": {
              "color": "#E5ECF6",
              "width": 0.5
             }
            },
            "type": "barpolar"
           }
          ],
          "carpet": [
           {
            "aaxis": {
             "endlinecolor": "#2a3f5f",
             "gridcolor": "white",
             "linecolor": "white",
             "minorgridcolor": "white",
             "startlinecolor": "#2a3f5f"
            },
            "baxis": {
             "endlinecolor": "#2a3f5f",
             "gridcolor": "white",
             "linecolor": "white",
             "minorgridcolor": "white",
             "startlinecolor": "#2a3f5f"
            },
            "type": "carpet"
           }
          ],
          "choropleth": [
           {
            "colorbar": {
             "outlinewidth": 0,
             "ticks": ""
            },
            "type": "choropleth"
           }
          ],
          "contour": [
           {
            "colorbar": {
             "outlinewidth": 0,
             "ticks": ""
            },
            "colorscale": [
             [
              0.0,
              "#0d0887"
             ],
             [
              0.1111111111111111,
              "#46039f"
             ],
             [
              0.2222222222222222,
              "#7201a8"
             ],
             [
              0.3333333333333333,
              "#9c179e"
             ],
             [
              0.4444444444444444,
              "#bd3786"
             ],
             [
              0.5555555555555556,
              "#d8576b"
             ],
             [
              0.6666666666666666,
              "#ed7953"
             ],
             [
              0.7777777777777778,
              "#fb9f3a"
             ],
             [
              0.8888888888888888,
              "#fdca26"
             ],
             [
              1.0,
              "#f0f921"
             ]
            ],
            "type": "contour"
           }
          ],
          "contourcarpet": [
           {
            "colorbar": {
             "outlinewidth": 0,
             "ticks": ""
            },
            "type": "contourcarpet"
           }
          ],
          "heatmap": [
           {
            "colorbar": {
             "outlinewidth": 0,
             "ticks": ""
            },
            "colorscale": [
             [
              0.0,
              "#0d0887"
             ],
             [
              0.1111111111111111,
              "#46039f"
             ],
             [
              0.2222222222222222,
              "#7201a8"
             ],
             [
              0.3333333333333333,
              "#9c179e"
             ],
             [
              0.4444444444444444,
              "#bd3786"
             ],
             [
              0.5555555555555556,
              "#d8576b"
             ],
             [
              0.6666666666666666,
              "#ed7953"
             ],
             [
              0.7777777777777778,
              "#fb9f3a"
             ],
             [
              0.8888888888888888,
              "#fdca26"
             ],
             [
              1.0,
              "#f0f921"
             ]
            ],
            "type": "heatmap"
           }
          ],
          "heatmapgl": [
           {
            "colorbar": {
             "outlinewidth": 0,
             "ticks": ""
            },
            "colorscale": [
             [
              0.0,
              "#0d0887"
             ],
             [
              0.1111111111111111,
              "#46039f"
             ],
             [
              0.2222222222222222,
              "#7201a8"
             ],
             [
              0.3333333333333333,
              "#9c179e"
             ],
             [
              0.4444444444444444,
              "#bd3786"
             ],
             [
              0.5555555555555556,
              "#d8576b"
             ],
             [
              0.6666666666666666,
              "#ed7953"
             ],
             [
              0.7777777777777778,
              "#fb9f3a"
             ],
             [
              0.8888888888888888,
              "#fdca26"
             ],
             [
              1.0,
              "#f0f921"
             ]
            ],
            "type": "heatmapgl"
           }
          ],
          "histogram": [
           {
            "marker": {
             "colorbar": {
              "outlinewidth": 0,
              "ticks": ""
             }
            },
            "type": "histogram"
           }
          ],
          "histogram2d": [
           {
            "colorbar": {
             "outlinewidth": 0,
             "ticks": ""
            },
            "colorscale": [
             [
              0.0,
              "#0d0887"
             ],
             [
              0.1111111111111111,
              "#46039f"
             ],
             [
              0.2222222222222222,
              "#7201a8"
             ],
             [
              0.3333333333333333,
              "#9c179e"
             ],
             [
              0.4444444444444444,
              "#bd3786"
             ],
             [
              0.5555555555555556,
              "#d8576b"
             ],
             [
              0.6666666666666666,
              "#ed7953"
             ],
             [
              0.7777777777777778,
              "#fb9f3a"
             ],
             [
              0.8888888888888888,
              "#fdca26"
             ],
             [
              1.0,
              "#f0f921"
             ]
            ],
            "type": "histogram2d"
           }
          ],
          "histogram2dcontour": [
           {
            "colorbar": {
             "outlinewidth": 0,
             "ticks": ""
            },
            "colorscale": [
             [
              0.0,
              "#0d0887"
             ],
             [
              0.1111111111111111,
              "#46039f"
             ],
             [
              0.2222222222222222,
              "#7201a8"
             ],
             [
              0.3333333333333333,
              "#9c179e"
             ],
             [
              0.4444444444444444,
              "#bd3786"
             ],
             [
              0.5555555555555556,
              "#d8576b"
             ],
             [
              0.6666666666666666,
              "#ed7953"
             ],
             [
              0.7777777777777778,
              "#fb9f3a"
             ],
             [
              0.8888888888888888,
              "#fdca26"
             ],
             [
              1.0,
              "#f0f921"
             ]
            ],
            "type": "histogram2dcontour"
           }
          ],
          "mesh3d": [
           {
            "colorbar": {
             "outlinewidth": 0,
             "ticks": ""
            },
            "type": "mesh3d"
           }
          ],
          "parcoords": [
           {
            "line": {
             "colorbar": {
              "outlinewidth": 0,
              "ticks": ""
             }
            },
            "type": "parcoords"
           }
          ],
          "pie": [
           {
            "automargin": true,
            "type": "pie"
           }
          ],
          "scatter": [
           {
            "marker": {
             "colorbar": {
              "outlinewidth": 0,
              "ticks": ""
             }
            },
            "type": "scatter"
           }
          ],
          "scatter3d": [
           {
            "line": {
             "colorbar": {
              "outlinewidth": 0,
              "ticks": ""
             }
            },
            "marker": {
             "colorbar": {
              "outlinewidth": 0,
              "ticks": ""
             }
            },
            "type": "scatter3d"
           }
          ],
          "scattercarpet": [
           {
            "marker": {
             "colorbar": {
              "outlinewidth": 0,
              "ticks": ""
             }
            },
            "type": "scattercarpet"
           }
          ],
          "scattergeo": [
           {
            "marker": {
             "colorbar": {
              "outlinewidth": 0,
              "ticks": ""
             }
            },
            "type": "scattergeo"
           }
          ],
          "scattergl": [
           {
            "marker": {
             "colorbar": {
              "outlinewidth": 0,
              "ticks": ""
             }
            },
            "type": "scattergl"
           }
          ],
          "scattermapbox": [
           {
            "marker": {
             "colorbar": {
              "outlinewidth": 0,
              "ticks": ""
             }
            },
            "type": "scattermapbox"
           }
          ],
          "scatterpolar": [
           {
            "marker": {
             "colorbar": {
              "outlinewidth": 0,
              "ticks": ""
             }
            },
            "type": "scatterpolar"
           }
          ],
          "scatterpolargl": [
           {
            "marker": {
             "colorbar": {
              "outlinewidth": 0,
              "ticks": ""
             }
            },
            "type": "scatterpolargl"
           }
          ],
          "scatterternary": [
           {
            "marker": {
             "colorbar": {
              "outlinewidth": 0,
              "ticks": ""
             }
            },
            "type": "scatterternary"
           }
          ],
          "surface": [
           {
            "colorbar": {
             "outlinewidth": 0,
             "ticks": ""
            },
            "colorscale": [
             [
              0.0,
              "#0d0887"
             ],
             [
              0.1111111111111111,
              "#46039f"
             ],
             [
              0.2222222222222222,
              "#7201a8"
             ],
             [
              0.3333333333333333,
              "#9c179e"
             ],
             [
              0.4444444444444444,
              "#bd3786"
             ],
             [
              0.5555555555555556,
              "#d8576b"
             ],
             [
              0.6666666666666666,
              "#ed7953"
             ],
             [
              0.7777777777777778,
              "#fb9f3a"
             ],
             [
              0.8888888888888888,
              "#fdca26"
             ],
             [
              1.0,
              "#f0f921"
             ]
            ],
            "type": "surface"
           }
          ],
          "table": [
           {
            "cells": {
             "fill": {
              "color": "#EBF0F8"
             },
             "line": {
              "color": "white"
             }
            },
            "header": {
             "fill": {
              "color": "#C8D4E3"
             },
             "line": {
              "color": "white"
             }
            },
            "type": "table"
           }
          ]
         },
         "layout": {
          "annotationdefaults": {
           "arrowcolor": "#2a3f5f",
           "arrowhead": 0,
           "arrowwidth": 1
          },
          "autotypenumbers": "strict",
          "coloraxis": {
           "colorbar": {
            "outlinewidth": 0,
            "ticks": ""
           }
          },
          "colorscale": {
           "diverging": [
            [
             0,
             "#8e0152"
            ],
            [
             0.1,
             "#c51b7d"
            ],
            [
             0.2,
             "#de77ae"
            ],
            [
             0.3,
             "#f1b6da"
            ],
            [
             0.4,
             "#fde0ef"
            ],
            [
             0.5,
             "#f7f7f7"
            ],
            [
             0.6,
             "#e6f5d0"
            ],
            [
             0.7,
             "#b8e186"
            ],
            [
             0.8,
             "#7fbc41"
            ],
            [
             0.9,
             "#4d9221"
            ],
            [
             1,
             "#276419"
            ]
           ],
           "sequential": [
            [
             0.0,
             "#0d0887"
            ],
            [
             0.1111111111111111,
             "#46039f"
            ],
            [
             0.2222222222222222,
             "#7201a8"
            ],
            [
             0.3333333333333333,
             "#9c179e"
            ],
            [
             0.4444444444444444,
             "#bd3786"
            ],
            [
             0.5555555555555556,
             "#d8576b"
            ],
            [
             0.6666666666666666,
             "#ed7953"
            ],
            [
             0.7777777777777778,
             "#fb9f3a"
            ],
            [
             0.8888888888888888,
             "#fdca26"
            ],
            [
             1.0,
             "#f0f921"
            ]
           ],
           "sequentialminus": [
            [
             0.0,
             "#0d0887"
            ],
            [
             0.1111111111111111,
             "#46039f"
            ],
            [
             0.2222222222222222,
             "#7201a8"
            ],
            [
             0.3333333333333333,
             "#9c179e"
            ],
            [
             0.4444444444444444,
             "#bd3786"
            ],
            [
             0.5555555555555556,
             "#d8576b"
            ],
            [
             0.6666666666666666,
             "#ed7953"
            ],
            [
             0.7777777777777778,
             "#fb9f3a"
            ],
            [
             0.8888888888888888,
             "#fdca26"
            ],
            [
             1.0,
             "#f0f921"
            ]
           ]
          },
          "colorway": [
           "#636efa",
           "#EF553B",
           "#00cc96",
           "#ab63fa",
           "#FFA15A",
           "#19d3f3",
           "#FF6692",
           "#B6E880",
           "#FF97FF",
           "#FECB52"
          ],
          "font": {
           "color": "#2a3f5f"
          },
          "geo": {
           "bgcolor": "white",
           "lakecolor": "white",
           "landcolor": "#E5ECF6",
           "showlakes": true,
           "showland": true,
           "subunitcolor": "white"
          },
          "hoverlabel": {
           "align": "left"
          },
          "hovermode": "closest",
          "mapbox": {
           "style": "light"
          },
          "paper_bgcolor": "white",
          "plot_bgcolor": "#E5ECF6",
          "polar": {
           "angularaxis": {
            "gridcolor": "white",
            "linecolor": "white",
            "ticks": ""
           },
           "bgcolor": "#E5ECF6",
           "radialaxis": {
            "gridcolor": "white",
            "linecolor": "white",
            "ticks": ""
           }
          },
          "scene": {
           "xaxis": {
            "backgroundcolor": "#E5ECF6",
            "gridcolor": "white",
            "gridwidth": 2,
            "linecolor": "white",
            "showbackground": true,
            "ticks": "",
            "zerolinecolor": "white"
           },
           "yaxis": {
            "backgroundcolor": "#E5ECF6",
            "gridcolor": "white",
            "gridwidth": 2,
            "linecolor": "white",
            "showbackground": true,
            "ticks": "",
            "zerolinecolor": "white"
           },
           "zaxis": {
            "backgroundcolor": "#E5ECF6",
            "gridcolor": "white",
            "gridwidth": 2,
            "linecolor": "white",
            "showbackground": true,
            "ticks": "",
            "zerolinecolor": "white"
           }
          },
          "shapedefaults": {
           "line": {
            "color": "#2a3f5f"
           }
          },
          "ternary": {
           "aaxis": {
            "gridcolor": "white",
            "linecolor": "white",
            "ticks": ""
           },
           "baxis": {
            "gridcolor": "white",
            "linecolor": "white",
            "ticks": ""
           },
           "bgcolor": "#E5ECF6",
           "caxis": {
            "gridcolor": "white",
            "linecolor": "white",
            "ticks": ""
           }
          },
          "title": {
           "x": 0.05
          },
          "xaxis": {
           "automargin": true,
           "gridcolor": "white",
           "linecolor": "white",
           "ticks": "",
           "title": {
            "standoff": 15
           },
           "zerolinecolor": "white",
           "zerolinewidth": 2
          },
          "yaxis": {
           "automargin": true,
           "gridcolor": "white",
           "linecolor": "white",
           "ticks": "",
           "title": {
            "standoff": 15
           },
           "zerolinecolor": "white",
           "zerolinewidth": 2
          }
         }
        },
        "title": {
         "text": "3d TSNE Plot for Clusters"
        },
        "width": 900
       }
      },
      "text/html": "<div>                            <div id=\"d9e7d0e0-31da-4314-ae8b-dbf125a8437c\" class=\"plotly-graph-div\" style=\"height:800px; width:900px;\"></div>            <script type=\"text/javascript\">                require([\"plotly\"], function(Plotly) {                    window.PLOTLYENV=window.PLOTLYENV || {};                                    if (document.getElementById(\"d9e7d0e0-31da-4314-ae8b-dbf125a8437c\")) {                    Plotly.newPlot(                        \"d9e7d0e0-31da-4314-ae8b-dbf125a8437c\",                        [{\"customdata\": [[null], [null], [null], [null], [null], [null], [null], [null], [null], [null], [null], [null], [null], [null], [null], [null], [null], [null], [null], [null], [null], [null], [null], [null], [null], [null], [null], [null], [null], [null], [null], [null], [null], [null], [null], [null], [null], [null], [null], [null], [null], [null], [null], [null], [null], [null], [null], [null], [null], [null], [null], [null], [null], [null], [null], [4.734], [null], [null], [null], [null], [null], [null], [null], [null], [null], [null], [null], [null], [null], [null], [null], [null], [null], [null], [null], [null], [null], [null], [null], [null], [null], [null], [null], [null], [null], [null], [null], [null], [null], [null], [null], [null], [null], [null], [null], [null], [null], [null], [null], [null], [null], [null], [null], [null], [null], [null], [null], [null], [null], [null], [null], [null], [null], [null], [null], [null], [null], [null], [null], [null], [null], [null], [null], [null], [null], [null], [null], [null], [null], [null], [null], [null], [null], [null], [null], [null], [null], [null], [null], [null], [null], [null], [null], [null], [null], [null], [null], [null], [null], [null], [null], [null], [null], [null], [null], [null], [null], [null], [null], [null], [null], [null], [null], [null], [null], [null], [null], [null], [null], [null], [null], [null], [null], [null], [null], [null], [null], [null], [null], [null], [null], [null], [null], [null], [null], [null], [null], [null], [null], [null], [null], [null], [null], [null], [null], [null], [null], [null], [null], [null], [null], [null], [null], [null], [null], [null], [null], [null], [null], [null], [null], [null], [null], [null], [null], [null], [null], [null], [8.345], [null], [null], [null], [null], [null], [null], [null], [null], [null], [null]], \"hovertemplate\": \"Cluster=Cluster 0<br>0=%{x}<br>1=%{y}<br>2=%{z}<br>Feature=%{customdata[0]}<extra></extra>\", \"legendgroup\": \"Cluster 0\", \"marker\": {\"color\": \"#636efa\", \"opacity\": 0.7, \"symbol\": \"circle\"}, \"mode\": \"markers\", \"name\": \"Cluster 0\", \"scene\": \"scene\", \"showlegend\": true, \"type\": \"scatter3d\", \"x\": [-6.38381814956665, -74.32327270507812, -80.38887023925781, -67.44969177246094, 107.04135131835938, -1.8928312063217163, -116.39479064941406, -157.7694091796875, -34.93519973754883, -102.67208862304688, -17.781511306762695, 54.741722106933594, -60.494422912597656, 10.417116165161133, -52.46774673461914, 63.221073150634766, -26.3148136138916, 106.73043823242188, -45.022666931152344, -36.740867614746094, -65.66191101074219, -99.57719421386719, -85.58577728271484, 11.611319541931152, 84.14815521240234, 101.92117309570312, 37.216609954833984, -23.01934242248535, 61.13816833496094, 48.08870315551758, 157.4097442626953, -31.608543395996094, 56.668338775634766, 12.954809188842773, -82.56769561767578, -96.23030853271484, -13.000921249389648, 43.69011306762695, 133.68043518066406, -117.74507141113281, -25.04421615600586, -9.253002166748047, 118.4126205444336, -20.198719024658203, -49.34531021118164, -85.48524475097656, -31.093250274658203, -76.08623504638672, -60.52458572387695, -10.14278793334961, -122.2698974609375, -128.738037109375, -74.26980590820312, 93.76033020019531, -85.08580780029297, -12.795931816101074, 21.146526336669922, -180.25440979003906, 90.23855590820312, -64.25680541992188, -2.9660489559173584, -0.011316991411149502, -61.0212287902832, -46.32330322265625, -31.695951461791992, -31.420753479003906, -22.82084846496582, 19.752567291259766, -34.262794494628906, 9.574119567871094, -0.23530831933021545, 102.65412139892578, 41.50218200683594, 110.2387466430664, 58.88966751098633, 98.45635223388672, -78.73507690429688, 74.59684753417969, 140.90907287597656, -37.973899841308594, 137.2692108154297, 77.23326873779297, 81.38349914550781, -45.61185836791992, 68.95135498046875, 32.195377349853516, -43.89175033569336, 9.131208419799805, 23.472509384155273, 4.787322044372559, -5.047926902770996, 14.659013748168945, -80.4734115600586, -6.232081413269043, 17.249353408813477, -144.49607849121094, 29.042814254760742, -89.91854095458984, 19.204004287719727, -116.92598724365234, 27.765039443969727, -107.62943267822266, -109.6788101196289, 74.9151840209961, 83.9839096069336, -21.967580795288086, -144.7261962890625, -55.60087585449219, -26.859521865844727, 119.06637573242188, -29.235246658325195, 8.540964126586914, -99.83860778808594, 116.7602767944336, 85.58457946777344, 113.9278793334961, 27.877399444580078, 16.19219398498535, -18.120567321777344, -50.096946716308594, 41.599769592285156, 100.38416290283203, 21.380102157592773, -114.48735809326172, -23.76746940612793, -18.951526641845703, -30.338998794555664, 47.847347259521484, 76.0279769897461, -60.2332763671875, 48.2081298828125, -3.1688342094421387, -87.2096939086914, -67.16358184814453, -94.48783874511719, 116.00203704833984, 69.58670043945312, 74.71331787109375, -62.5611457824707, -43.468013763427734, -30.65272331237793, 113.52550506591797, -2.8453497886657715, 57.50978088378906, -8.075639724731445, -67.82855224609375, 120.41098022460938, 41.57259750366211, 36.70857620239258, -83.79056549072266, -4.781463623046875, 61.32305908203125, -92.29894256591797, -104.86703491210938, -47.82367706298828, 47.229248046875, 13.606382369995117, 9.267261505126953, 67.65007781982422, -29.632858276367188, 29.70113182067871, 68.12324523925781, -60.119598388671875, 72.80829620361328, 72.0999755859375, -2.8870837688446045, -43.7396240234375, 27.085979461669922, -30.265579223632812, 37.59208297729492, 120.14753723144531, -1.9546452760696411, -60.35995101928711, -140.48585510253906, -97.62055969238281, 5.122973918914795, -68.81498718261719, -49.073856353759766, 12.333250045776367, 0.3128993809223175, 100.89281463623047, -72.84512329101562, -10.687429428100586, 86.973876953125, -66.14485168457031, -22.90606689453125, -67.47090148925781, -98.26473236083984, 33.103492736816406, 66.31790161132812, 79.78905487060547, -36.8886604309082, -13.396296501159668, -26.689285278320312, -61.13386154174805, 64.21853637695312, 43.02481460571289, 143.01393127441406, 40.583282470703125, 30.55621337890625, 105.25506591796875, 53.2928581237793, 27.640731811523438, -39.002227783203125, 37.81649398803711, -118.31504821777344, 90.78840637207031, 112.09078979492188, -8.024358749389648, 144.93508911132812, 90.37581634521484, 4.81026029586792, -77.80996704101562, -32.14787292480469, -29.40085220336914, 62.793514251708984, 4.335757255554199, 100.33926391601562, 37.61591339111328, 0.5268547534942627, 58.50259780883789, 86.31440734863281, -17.272079467773438, -64.8720703125, -26.20387077331543, -40.49760818481445, -112.4244155883789, -91.83680725097656, 17.032146453857422], \"y\": [-0.4549572467803955, -94.24412536621094, -106.00635528564453, -36.61946487426758, -5.496166229248047, -66.54916381835938, -55.718910217285156, -85.90911865234375, 24.69077491760254, -64.66912078857422, 40.15422821044922, -36.67998123168945, 9.59018325805664, 66.79981994628906, -134.9242401123047, 101.9339599609375, 4.744865894317627, -59.09101104736328, 112.19349670410156, -35.43326187133789, 146.5183868408203, -71.33566284179688, -41.502281188964844, 28.2086238861084, 7.486940383911133, -60.05166244506836, 38.54558563232422, 24.298315048217773, -14.802446365356445, 20.507266998291016, -34.92435073852539, 69.35012817382812, 60.59998321533203, 14.738862991333008, -9.060057640075684, 60.829227447509766, 59.08204650878906, 28.093299865722656, -0.5241928100585938, 16.833518981933594, -105.56253814697266, 110.63065338134766, -56.01030731201172, -98.07868957519531, 18.776578903198242, 94.83071899414062, 26.883567810058594, 43.06109619140625, -61.2574348449707, 157.88963317871094, 4.23848295211792, 8.727396965026855, -42.00086975097656, -95.33118438720703, -11.596144676208496, -80.8487319946289, 53.82270812988281, -33.82152557373047, 110.5635986328125, 91.26494598388672, 95.7119369506836, 133.45529174804688, 129.9039306640625, 114.41239929199219, 83.49751281738281, 112.33856964111328, 142.18975830078125, 117.86372375488281, 143.63951110839844, -133.13449096679688, 135.74795532226562, 15.104694366455078, 9.787517547607422, -30.12952423095703, 50.07440948486328, 4.715203762054443, -15.139104843139648, 54.260032653808594, 8.65686321258545, 81.87825012207031, -28.989614486694336, -20.33988380432129, 23.48666763305664, 95.69860076904297, -65.18033599853516, -12.771336555480957, -97.9278335571289, 114.09544372558594, 14.062102317810059, -17.666606903076172, -37.67220687866211, -104.21351623535156, 101.04412841796875, 96.39887237548828, 73.00332641601562, -48.79200744628906, -19.13190269470215, 39.8916130065918, 75.49484252929688, -134.7908172607422, -1.1639034748077393, -75.98860931396484, 101.70313262939453, -1.0780646800994873, -42.99251174926758, -18.148361206054688, -23.198081970214844, -137.59523010253906, -113.13616943359375, 15.682087898254395, -40.4248161315918, 10.366020202636719, -122.46141815185547, 29.136808395385742, -25.58503532409668, -1.717147707939148, 38.64107894897461, 104.12874603271484, 24.087472915649414, -61.587955474853516, -91.08088684082031, -37.82742691040039, 41.82491683959961, -86.43719482421875, -65.35741424560547, 82.53927612304688, -4.378476142883301, 8.649800300598145, 12.444618225097656, -60.99675369262695, 10.113852500915527, -64.65839385986328, -62.60028076171875, -83.90227508544922, 29.224246978759766, 86.8432846069336, -48.15066146850586, -56.79874038696289, 123.58299255371094, -27.664201736450195, 39.112030029296875, 45.184654235839844, -23.76076889038086, -20.168540954589844, 41.87506103515625, 0.29247382283210754, -18.09402847290039, -39.14743423461914, 46.591922760009766, 31.112852096557617, 13.411078453063965, -47.983760833740234, -101.5075454711914, -38.257991790771484, -30.359277725219727, -108.98290252685547, -52.33137130737305, 125.6104965209961, 130.04808044433594, -65.63416290283203, 158.6608123779297, 94.57713317871094, 61.56938934326172, -122.70137786865234, 56.56862258911133, -10.491732597351074, -10.222189903259277, -13.417405128479004, -107.03492736816406, 110.89839935302734, 52.244415283203125, 21.43682861328125, 109.65128326416016, -112.27957916259766, -14.885208129882812, -103.32884216308594, -67.29978942871094, -90.35198974609375, 40.80510711669922, -93.1920394897461, 27.157928466796875, -28.89517593383789, 87.96702575683594, -43.496826171875, -100.75282287597656, 112.62037658691406, 54.86526107788086, -72.70374298095703, -83.35953521728516, 35.403926849365234, -12.073787689208984, 13.911393165588379, 54.623512268066406, -101.60511779785156, -38.37385940551758, -24.75368881225586, 87.82218170166016, 14.249752044677734, -51.459808349609375, -22.310827255249023, -26.698530197143555, -75.6553726196289, -10.066081047058105, -73.6806869506836, -129.36830139160156, 50.019737243652344, 2.8099231719970703, -24.555620193481445, 75.187744140625, -79.70333862304688, -76.71310424804688, -45.83280563354492, 9.702044486999512, 26.088581085205078, -80.03678131103516, -108.72901916503906, 47.93730926513672, -39.37977981567383, 59.104591369628906, 27.207048416137695, 3.2762603759765625, -23.131912231445312, 66.0091323852539, 43.09596633911133, 49.118099212646484, -133.903076171875, -26.959135055541992, -43.94678497314453, 119.94915008544922], \"z\": [85.47303009033203, 51.92512130737305, 17.296077728271484, 12.26121711730957, -91.8796615600586, -64.1205062866211, 34.96926498413086, -13.373494148254395, 94.4761734008789, 106.0865707397461, 118.58845520019531, 19.724193572998047, 136.87994384765625, 103.99778747558594, 3.9906296730041504, 24.824569702148438, 10.509915351867676, 16.210344314575195, -33.56718444824219, -121.73802185058594, -0.9220351576805115, 53.51862335205078, 42.19568634033203, 93.4492416381836, 47.74635696411133, -51.07026672363281, -25.77591896057129, -142.88833618164062, -17.62013816833496, 40.501304626464844, 28.55100440979004, 3.3912007808685303, 24.957502365112305, -22.453786849975586, -1.9796429872512817, -50.1058349609375, 31.63343048095703, 7.738311290740967, -114.98160552978516, -70.43192291259766, -79.62612915039062, 111.62117767333984, -23.316213607788086, 35.658138275146484, -16.80535316467285, 13.415104866027832, 42.75313186645508, -76.57298278808594, 66.1556396484375, 4.635195732116699, 53.364166259765625, 5.506298065185547, -158.64852905273438, 34.35626983642578, 76.73604583740234, -104.35843658447266, 65.70419311523438, 54.34705352783203, -19.03614044189453, 88.67549896240234, 75.1288833618164, 70.20208740234375, 84.76496887207031, 115.39513397216797, 103.17350006103516, 82.75865936279297, 98.34396362304688, 94.32621002197266, 61.91267395019531, 62.844078063964844, -45.41297149658203, -65.300537109375, 102.64248657226562, -119.61930847167969, 80.451416015625, -126.71023559570312, -88.42591094970703, -11.654256820678711, -77.72354125976562, 66.08634185791016, -91.89124298095703, -105.76850128173828, -101.73998260498047, -50.258949279785156, 21.01236915588379, -121.0938491821289, -33.07748031616211, -57.844207763671875, 54.43053436279297, 18.90622901916504, -98.972900390625, -81.00077819824219, -36.99742889404297, -9.3977689743042, 14.330940246582031, 12.49406623840332, 118.35594940185547, -4.045970916748047, -110.04589080810547, -3.8478269577026367, 4.5657267570495605, -28.710905075073242, -29.936086654663086, -77.97217559814453, -3.868875741958618, 116.06556701660156, -33.580020904541016, -35.93791580200195, -115.09701538085938, -29.847366333007812, 2.9984700679779053, 124.70486450195312, 48.06183624267578, -98.03269958496094, -50.431427001953125, 63.345794677734375, -128.95018005371094, 1.5671484470367432, -17.89876365661621, -83.87921142578125, 50.43433380126953, 95.24092102050781, 133.07904052734375, 7.312184810638428, 40.79106140136719, -88.51335144042969, -32.203548431396484, 136.4771728515625, -30.30368423461914, 31.637535095214844, -43.73688507080078, 91.49853515625, 12.12651252746582, -6.259319305419922, -46.637760162353516, 17.832204818725586, -66.87884521484375, -33.53116226196289, -85.31488037109375, 33.35222625732422, 6.99937629699707, 41.58161544799805, -48.68706512451172, 46.72515869140625, -72.18244934082031, 44.456809997558594, -60.63345718383789, -28.078174591064453, 103.9970474243164, 107.96636962890625, -49.36809158325195, 68.45179748535156, -26.333404541015625, -51.70228576660156, 65.66045379638672, 24.527175903320312, 5.450396537780762, -84.7295150756836, -18.70905303955078, -33.613224029541016, -17.69106101989746, -34.81076431274414, -11.923503875732422, 5.292718410491943, -56.94999313354492, -17.99286460876465, -67.68351745605469, -30.26541519165039, 81.1905517578125, -80.1602783203125, -30.458723068237305, -94.44575500488281, 52.89992141723633, -18.29901695251465, 107.91921997070312, -41.03445053100586, -41.47263717651367, -106.23286437988281, -3.5738532543182373, -134.46669006347656, -6.83254337310791, 97.62834167480469, 19.448139190673828, 37.570068359375, -56.776241302490234, 49.974037170410156, 20.391151428222656, -71.34622955322266, -1.9850353002548218, 117.78614044189453, 19.753036499023438, -95.79348754882812, 81.8763198852539, -1.625308871269226, -25.832204818725586, 100.34680938720703, 70.9141616821289, 24.07697296142578, -97.47806549072266, 80.3548355102539, -25.131561279296875, 124.44192504882812, -71.69361877441406, 7.603583335876465, -23.78265953063965, -23.63332176208496, 89.99349975585938, 19.744518280029297, 151.14666748046875, 36.62864685058594, -10.177789688110352, -27.555641174316406, -127.07437896728516, -54.708091735839844, -143.29437255859375, -73.86631774902344, -32.545005798339844, -83.2612075805664, -71.90818786621094, 19.031349182128906, 75.91962432861328, 65.6395492553711, -122.32117462158203, -35.193817138671875, -30.329683303833008, -78.87554168701172, 17.96232032775879, -15.877595901489258, 28.029640197753906]}, {\"customdata\": [[null], [null]], \"hovertemplate\": \"Cluster=Cluster 1<br>0=%{x}<br>1=%{y}<br>2=%{z}<br>Feature=%{customdata[0]}<extra></extra>\", \"legendgroup\": \"Cluster 1\", \"marker\": {\"color\": \"#EF553B\", \"opacity\": 0.7, \"symbol\": \"circle\"}, \"mode\": \"markers\", \"name\": \"Cluster 1\", \"scene\": \"scene\", \"showlegend\": true, \"type\": \"scatter3d\", \"x\": [-141.68319702148438, 0.7677657008171082], \"y\": [53.77932357788086, -59.92430877685547], \"z\": [30.377628326416016, -150.11488342285156]}],                        {\"height\": 800, \"legend\": {\"title\": {\"text\": \"Cluster\"}, \"tracegroupgap\": 0}, \"scene\": {\"domain\": {\"x\": [0.0, 1.0], \"y\": [0.0, 1.0]}, \"xaxis\": {\"title\": {\"text\": \"0\"}}, \"yaxis\": {\"title\": {\"text\": \"1\"}}, \"zaxis\": {\"title\": {\"text\": \"2\"}}}, \"template\": {\"data\": {\"bar\": [{\"error_x\": {\"color\": \"#2a3f5f\"}, \"error_y\": {\"color\": \"#2a3f5f\"}, \"marker\": {\"line\": {\"color\": \"#E5ECF6\", \"width\": 0.5}}, \"type\": \"bar\"}], \"barpolar\": [{\"marker\": {\"line\": {\"color\": \"#E5ECF6\", \"width\": 0.5}}, \"type\": \"barpolar\"}], \"carpet\": [{\"aaxis\": {\"endlinecolor\": \"#2a3f5f\", \"gridcolor\": \"white\", \"linecolor\": \"white\", \"minorgridcolor\": \"white\", \"startlinecolor\": \"#2a3f5f\"}, \"baxis\": {\"endlinecolor\": \"#2a3f5f\", \"gridcolor\": \"white\", \"linecolor\": \"white\", \"minorgridcolor\": \"white\", \"startlinecolor\": \"#2a3f5f\"}, \"type\": \"carpet\"}], \"choropleth\": [{\"colorbar\": {\"outlinewidth\": 0, \"ticks\": \"\"}, \"type\": \"choropleth\"}], \"contour\": [{\"colorbar\": {\"outlinewidth\": 0, \"ticks\": \"\"}, \"colorscale\": [[0.0, \"#0d0887\"], [0.1111111111111111, \"#46039f\"], [0.2222222222222222, \"#7201a8\"], [0.3333333333333333, \"#9c179e\"], [0.4444444444444444, \"#bd3786\"], [0.5555555555555556, \"#d8576b\"], [0.6666666666666666, \"#ed7953\"], [0.7777777777777778, \"#fb9f3a\"], [0.8888888888888888, \"#fdca26\"], [1.0, \"#f0f921\"]], \"type\": \"contour\"}], \"contourcarpet\": [{\"colorbar\": {\"outlinewidth\": 0, \"ticks\": \"\"}, \"type\": \"contourcarpet\"}], \"heatmap\": [{\"colorbar\": {\"outlinewidth\": 0, \"ticks\": \"\"}, \"colorscale\": [[0.0, \"#0d0887\"], [0.1111111111111111, \"#46039f\"], [0.2222222222222222, \"#7201a8\"], [0.3333333333333333, \"#9c179e\"], [0.4444444444444444, \"#bd3786\"], [0.5555555555555556, \"#d8576b\"], [0.6666666666666666, \"#ed7953\"], [0.7777777777777778, \"#fb9f3a\"], [0.8888888888888888, \"#fdca26\"], [1.0, \"#f0f921\"]], \"type\": \"heatmap\"}], \"heatmapgl\": [{\"colorbar\": {\"outlinewidth\": 0, \"ticks\": \"\"}, \"colorscale\": [[0.0, \"#0d0887\"], [0.1111111111111111, \"#46039f\"], [0.2222222222222222, \"#7201a8\"], [0.3333333333333333, \"#9c179e\"], [0.4444444444444444, \"#bd3786\"], [0.5555555555555556, \"#d8576b\"], [0.6666666666666666, \"#ed7953\"], [0.7777777777777778, \"#fb9f3a\"], [0.8888888888888888, \"#fdca26\"], [1.0, \"#f0f921\"]], \"type\": \"heatmapgl\"}], \"histogram\": [{\"marker\": {\"colorbar\": {\"outlinewidth\": 0, \"ticks\": \"\"}}, \"type\": \"histogram\"}], \"histogram2d\": [{\"colorbar\": {\"outlinewidth\": 0, \"ticks\": \"\"}, \"colorscale\": [[0.0, \"#0d0887\"], [0.1111111111111111, \"#46039f\"], [0.2222222222222222, \"#7201a8\"], [0.3333333333333333, \"#9c179e\"], [0.4444444444444444, \"#bd3786\"], [0.5555555555555556, \"#d8576b\"], [0.6666666666666666, \"#ed7953\"], [0.7777777777777778, \"#fb9f3a\"], [0.8888888888888888, \"#fdca26\"], [1.0, \"#f0f921\"]], \"type\": \"histogram2d\"}], \"histogram2dcontour\": [{\"colorbar\": {\"outlinewidth\": 0, \"ticks\": \"\"}, \"colorscale\": [[0.0, \"#0d0887\"], [0.1111111111111111, \"#46039f\"], [0.2222222222222222, \"#7201a8\"], [0.3333333333333333, \"#9c179e\"], [0.4444444444444444, \"#bd3786\"], [0.5555555555555556, \"#d8576b\"], [0.6666666666666666, \"#ed7953\"], [0.7777777777777778, \"#fb9f3a\"], [0.8888888888888888, \"#fdca26\"], [1.0, \"#f0f921\"]], \"type\": \"histogram2dcontour\"}], \"mesh3d\": [{\"colorbar\": {\"outlinewidth\": 0, \"ticks\": \"\"}, \"type\": \"mesh3d\"}], \"parcoords\": [{\"line\": {\"colorbar\": {\"outlinewidth\": 0, \"ticks\": \"\"}}, \"type\": \"parcoords\"}], \"pie\": [{\"automargin\": true, \"type\": \"pie\"}], \"scatter\": [{\"marker\": {\"colorbar\": {\"outlinewidth\": 0, \"ticks\": \"\"}}, \"type\": \"scatter\"}], \"scatter3d\": [{\"line\": {\"colorbar\": {\"outlinewidth\": 0, \"ticks\": \"\"}}, \"marker\": {\"colorbar\": {\"outlinewidth\": 0, \"ticks\": \"\"}}, \"type\": \"scatter3d\"}], \"scattercarpet\": [{\"marker\": {\"colorbar\": {\"outlinewidth\": 0, \"ticks\": \"\"}}, \"type\": \"scattercarpet\"}], \"scattergeo\": [{\"marker\": {\"colorbar\": {\"outlinewidth\": 0, \"ticks\": \"\"}}, \"type\": \"scattergeo\"}], \"scattergl\": [{\"marker\": {\"colorbar\": {\"outlinewidth\": 0, \"ticks\": \"\"}}, \"type\": \"scattergl\"}], \"scattermapbox\": [{\"marker\": {\"colorbar\": {\"outlinewidth\": 0, \"ticks\": \"\"}}, \"type\": \"scattermapbox\"}], \"scatterpolar\": [{\"marker\": {\"colorbar\": {\"outlinewidth\": 0, \"ticks\": \"\"}}, \"type\": \"scatterpolar\"}], \"scatterpolargl\": [{\"marker\": {\"colorbar\": {\"outlinewidth\": 0, \"ticks\": \"\"}}, \"type\": \"scatterpolargl\"}], \"scatterternary\": [{\"marker\": {\"colorbar\": {\"outlinewidth\": 0, \"ticks\": \"\"}}, \"type\": \"scatterternary\"}], \"surface\": [{\"colorbar\": {\"outlinewidth\": 0, \"ticks\": \"\"}, \"colorscale\": [[0.0, \"#0d0887\"], [0.1111111111111111, \"#46039f\"], [0.2222222222222222, \"#7201a8\"], [0.3333333333333333, \"#9c179e\"], [0.4444444444444444, \"#bd3786\"], [0.5555555555555556, \"#d8576b\"], [0.6666666666666666, \"#ed7953\"], [0.7777777777777778, \"#fb9f3a\"], [0.8888888888888888, \"#fdca26\"], [1.0, \"#f0f921\"]], \"type\": \"surface\"}], \"table\": [{\"cells\": {\"fill\": {\"color\": \"#EBF0F8\"}, \"line\": {\"color\": \"white\"}}, \"header\": {\"fill\": {\"color\": \"#C8D4E3\"}, \"line\": {\"color\": \"white\"}}, \"type\": \"table\"}]}, \"layout\": {\"annotationdefaults\": {\"arrowcolor\": \"#2a3f5f\", \"arrowhead\": 0, \"arrowwidth\": 1}, \"autotypenumbers\": \"strict\", \"coloraxis\": {\"colorbar\": {\"outlinewidth\": 0, \"ticks\": \"\"}}, \"colorscale\": {\"diverging\": [[0, \"#8e0152\"], [0.1, \"#c51b7d\"], [0.2, \"#de77ae\"], [0.3, \"#f1b6da\"], [0.4, \"#fde0ef\"], [0.5, \"#f7f7f7\"], [0.6, \"#e6f5d0\"], [0.7, \"#b8e186\"], [0.8, \"#7fbc41\"], [0.9, \"#4d9221\"], [1, \"#276419\"]], \"sequential\": [[0.0, \"#0d0887\"], [0.1111111111111111, \"#46039f\"], [0.2222222222222222, \"#7201a8\"], [0.3333333333333333, \"#9c179e\"], [0.4444444444444444, \"#bd3786\"], [0.5555555555555556, \"#d8576b\"], [0.6666666666666666, \"#ed7953\"], [0.7777777777777778, \"#fb9f3a\"], [0.8888888888888888, \"#fdca26\"], [1.0, \"#f0f921\"]], \"sequentialminus\": [[0.0, \"#0d0887\"], [0.1111111111111111, \"#46039f\"], [0.2222222222222222, \"#7201a8\"], [0.3333333333333333, \"#9c179e\"], [0.4444444444444444, \"#bd3786\"], [0.5555555555555556, \"#d8576b\"], [0.6666666666666666, \"#ed7953\"], [0.7777777777777778, \"#fb9f3a\"], [0.8888888888888888, \"#fdca26\"], [1.0, \"#f0f921\"]]}, \"colorway\": [\"#636efa\", \"#EF553B\", \"#00cc96\", \"#ab63fa\", \"#FFA15A\", \"#19d3f3\", \"#FF6692\", \"#B6E880\", \"#FF97FF\", \"#FECB52\"], \"font\": {\"color\": \"#2a3f5f\"}, \"geo\": {\"bgcolor\": \"white\", \"lakecolor\": \"white\", \"landcolor\": \"#E5ECF6\", \"showlakes\": true, \"showland\": true, \"subunitcolor\": \"white\"}, \"hoverlabel\": {\"align\": \"left\"}, \"hovermode\": \"closest\", \"mapbox\": {\"style\": \"light\"}, \"paper_bgcolor\": \"white\", \"plot_bgcolor\": \"#E5ECF6\", \"polar\": {\"angularaxis\": {\"gridcolor\": \"white\", \"linecolor\": \"white\", \"ticks\": \"\"}, \"bgcolor\": \"#E5ECF6\", \"radialaxis\": {\"gridcolor\": \"white\", \"linecolor\": \"white\", \"ticks\": \"\"}}, \"scene\": {\"xaxis\": {\"backgroundcolor\": \"#E5ECF6\", \"gridcolor\": \"white\", \"gridwidth\": 2, \"linecolor\": \"white\", \"showbackground\": true, \"ticks\": \"\", \"zerolinecolor\": \"white\"}, \"yaxis\": {\"backgroundcolor\": \"#E5ECF6\", \"gridcolor\": \"white\", \"gridwidth\": 2, \"linecolor\": \"white\", \"showbackground\": true, \"ticks\": \"\", \"zerolinecolor\": \"white\"}, \"zaxis\": {\"backgroundcolor\": \"#E5ECF6\", \"gridcolor\": \"white\", \"gridwidth\": 2, \"linecolor\": \"white\", \"showbackground\": true, \"ticks\": \"\", \"zerolinecolor\": \"white\"}}, \"shapedefaults\": {\"line\": {\"color\": \"#2a3f5f\"}}, \"ternary\": {\"aaxis\": {\"gridcolor\": \"white\", \"linecolor\": \"white\", \"ticks\": \"\"}, \"baxis\": {\"gridcolor\": \"white\", \"linecolor\": \"white\", \"ticks\": \"\"}, \"bgcolor\": \"#E5ECF6\", \"caxis\": {\"gridcolor\": \"white\", \"linecolor\": \"white\", \"ticks\": \"\"}}, \"title\": {\"x\": 0.05}, \"xaxis\": {\"automargin\": true, \"gridcolor\": \"white\", \"linecolor\": \"white\", \"ticks\": \"\", \"title\": {\"standoff\": 15}, \"zerolinecolor\": \"white\", \"zerolinewidth\": 2}, \"yaxis\": {\"automargin\": true, \"gridcolor\": \"white\", \"linecolor\": \"white\", \"ticks\": \"\", \"title\": {\"standoff\": 15}, \"zerolinecolor\": \"white\", \"zerolinewidth\": 2}}}, \"title\": {\"text\": \"3d TSNE Plot for Clusters\"}, \"width\": 900},                        {\"responsive\": true}                    ).then(function(){\n                            \nvar gd = document.getElementById('d9e7d0e0-31da-4314-ae8b-dbf125a8437c');\nvar x = new MutationObserver(function (mutations, observer) {{\n        var display = window.getComputedStyle(gd).display;\n        if (!display || display === 'none') {{\n            console.log([gd, 'removed!']);\n            Plotly.purge(gd);\n            observer.disconnect();\n        }}\n}});\n\n// Listen for the removal of the full notebook cells\nvar notebookContainer = gd.closest('#notebook-container');\nif (notebookContainer) {{\n    x.observe(notebookContainer, {childList: true});\n}}\n\n// Listen for the clearing of the current output cell\nvar outputEl = gd.closest('.output');\nif (outputEl) {{\n    x.observe(outputEl, {childList: true});\n}}\n\n                        })                };                });            </script>        </div>"
     },
     "metadata": {},
     "output_type": "display_data"
    }
   ],
   "source": [
    "\n",
    "plot_model(eval_model, plot = 'tsne')\n"
   ],
   "metadata": {
    "collapsed": false,
    "pycharm": {
     "name": "#%%\n"
    }
   }
  },
  {
   "cell_type": "code",
   "execution_count": 44,
   "outputs": [
    {
     "data": {
      "text/plain": "   Silhouette  Calinski-Harabasz  Davies-Bouldin  Homogeneity  Rand Index  \\\n0      0.3904           132.5922          0.9302            0           0   \n\n   Completeness  \n0             0  ",
      "text/html": "<div>\n<style scoped>\n    .dataframe tbody tr th:only-of-type {\n        vertical-align: middle;\n    }\n\n    .dataframe tbody tr th {\n        vertical-align: top;\n    }\n\n    .dataframe thead th {\n        text-align: right;\n    }\n</style>\n<table border=\"1\" class=\"dataframe\">\n  <thead>\n    <tr style=\"text-align: right;\">\n      <th></th>\n      <th>Silhouette</th>\n      <th>Calinski-Harabasz</th>\n      <th>Davies-Bouldin</th>\n      <th>Homogeneity</th>\n      <th>Rand Index</th>\n      <th>Completeness</th>\n    </tr>\n  </thead>\n  <tbody>\n    <tr>\n      <th>0</th>\n      <td>0.3904</td>\n      <td>132.5922</td>\n      <td>0.9302</td>\n      <td>0</td>\n      <td>0</td>\n      <td>0</td>\n    </tr>\n  </tbody>\n</table>\n</div>"
     },
     "metadata": {},
     "output_type": "display_data"
    }
   ],
   "source": [
    "eval_model = create_model('kmeans', num_clusters = 3)\n",
    "eval_results = assign_model(eval_model)\n",
    "c3 = eval_results.copy()"
   ],
   "metadata": {
    "collapsed": false,
    "pycharm": {
     "name": "#%%\n"
    }
   }
  },
  {
   "cell_type": "code",
   "execution_count": 45,
   "outputs": [
    {
     "data": {
      "text/plain": "       year iso_code      co2  consumption_co2  trade_co2  \\\n74     2018      AFG    8.345            0.000      0.000   \n171    2018      ALB    4.734            5.806      1.072   \n276    2018      DZA  161.487            0.000      0.000   \n303    2018      AND    0.495            0.000      0.000   \n381    2018      AGO   24.376            0.000      0.000   \n...     ...      ...      ...              ...        ...   \n23108  2018      MCO    0.000            0.000      0.000   \n23109  2018      MNP    0.000            0.000      0.000   \n23110  2018      SMR    0.000            0.000      0.000   \n23111  2018      VIR    0.000            0.000      0.000   \n23112  2018      XKX    0.000            0.000      0.000   \n\n       co2_per_unit_energy  coal_co2  gas_co2  oil_co2  population  ...  \\\n74                    0.00     3.849    0.293    4.146  37171922.0  ...   \n171                   0.00     0.473    0.150    3.331   2866376.0  ...   \n276                   0.24     1.330   88.887   54.922  42228415.0  ...   \n303                   0.00     0.000    0.000    0.495     77008.0  ...   \n381                   0.00     0.000    1.608   12.963  30809787.0  ...   \n...                    ...       ...      ...      ...         ...  ...   \n23108                 0.00     0.000    0.000    0.000     38682.0  ...   \n23109                 0.00     0.000    0.000    0.000     56889.0  ...   \n23110                 0.00     0.000    0.000    0.000     33784.0  ...   \n23111                 0.00     0.000    0.000    0.000    107001.0  ...   \n23112                 0.00     0.000    0.000    0.000   1797085.0  ...   \n\n       industrial_gdp  iea_primary_energy_consumption  \\\n74       2.457079e+09                        0.000000   \n171      3.223896e+09                      115.114239   \n276      6.865545e+10                     2478.060305   \n303      0.000000e+00                        0.000000   \n381      4.858017e+10                      666.906455   \n...               ...                             ...   \n23108    9.444969e+08                        0.000000   \n23109    0.000000e+00                        0.000000   \n23110    0.000000e+00                        0.000000   \n23111    0.000000e+00                        0.000000   \n23112    2.092918e+09                      108.936290   \n\n       renewable_energy_consumption  coal_consumption  oil_consumption  \\\n74                         0.000000               0.0              0.0   \n171                       44.050074               0.0              0.0   \n276                        4.790090               0.0              0.0   \n303                        0.000000               0.0              0.0   \n381                      378.706162               0.0              0.0   \n...                             ...               ...              ...   \n23108                      0.000000               0.0              0.0   \n23109                      0.000000               0.0              0.0   \n23110                      0.000000               0.0              0.0   \n23111                      0.000000               0.0              0.0   \n23112                     29.306041               0.0              0.0   \n\n       total_electricity_production  electricity_production_from_renewable  \\\n74                              0.0                                    0.0   \n171                             0.0                                    0.0   \n276                             0.0                                    0.0   \n303                             0.0                                    0.0   \n381                             0.0                                    0.0   \n...                             ...                                    ...   \n23108                           0.0                                    0.0   \n23109                           0.0                                    0.0   \n23110                           0.0                                    0.0   \n23111                           0.0                                    0.0   \n23112                           0.0                                    0.0   \n\n       energy_intensity  percent_of_environment_patent    Cluster  \n74             0.000000                           0.00  Cluster 0  \n171            0.216341                          32.63  Cluster 0  \n276            0.336292                          23.63  Cluster 2  \n303            0.000000                           0.00  Cluster 0  \n381            0.143503                           0.00  Cluster 0  \n...                 ...                            ...        ...  \n23108          0.000000                           0.00  Cluster 0  \n23109          0.000000                           0.00  Cluster 0  \n23110          0.000000                           0.00  Cluster 0  \n23111          0.000000                           0.00  Cluster 0  \n23112          0.358777                           0.00  Cluster 0  \n\n[231 rows x 37 columns]",
      "text/html": "<div>\n<style scoped>\n    .dataframe tbody tr th:only-of-type {\n        vertical-align: middle;\n    }\n\n    .dataframe tbody tr th {\n        vertical-align: top;\n    }\n\n    .dataframe thead th {\n        text-align: right;\n    }\n</style>\n<table border=\"1\" class=\"dataframe\">\n  <thead>\n    <tr style=\"text-align: right;\">\n      <th></th>\n      <th>year</th>\n      <th>iso_code</th>\n      <th>co2</th>\n      <th>consumption_co2</th>\n      <th>trade_co2</th>\n      <th>co2_per_unit_energy</th>\n      <th>coal_co2</th>\n      <th>gas_co2</th>\n      <th>oil_co2</th>\n      <th>population</th>\n      <th>...</th>\n      <th>industrial_gdp</th>\n      <th>iea_primary_energy_consumption</th>\n      <th>renewable_energy_consumption</th>\n      <th>coal_consumption</th>\n      <th>oil_consumption</th>\n      <th>total_electricity_production</th>\n      <th>electricity_production_from_renewable</th>\n      <th>energy_intensity</th>\n      <th>percent_of_environment_patent</th>\n      <th>Cluster</th>\n    </tr>\n  </thead>\n  <tbody>\n    <tr>\n      <th>74</th>\n      <td>2018</td>\n      <td>AFG</td>\n      <td>8.345</td>\n      <td>0.000</td>\n      <td>0.000</td>\n      <td>0.00</td>\n      <td>3.849</td>\n      <td>0.293</td>\n      <td>4.146</td>\n      <td>37171922.0</td>\n      <td>...</td>\n      <td>2.457079e+09</td>\n      <td>0.000000</td>\n      <td>0.000000</td>\n      <td>0.0</td>\n      <td>0.0</td>\n      <td>0.0</td>\n      <td>0.0</td>\n      <td>0.000000</td>\n      <td>0.00</td>\n      <td>Cluster 0</td>\n    </tr>\n    <tr>\n      <th>171</th>\n      <td>2018</td>\n      <td>ALB</td>\n      <td>4.734</td>\n      <td>5.806</td>\n      <td>1.072</td>\n      <td>0.00</td>\n      <td>0.473</td>\n      <td>0.150</td>\n      <td>3.331</td>\n      <td>2866376.0</td>\n      <td>...</td>\n      <td>3.223896e+09</td>\n      <td>115.114239</td>\n      <td>44.050074</td>\n      <td>0.0</td>\n      <td>0.0</td>\n      <td>0.0</td>\n      <td>0.0</td>\n      <td>0.216341</td>\n      <td>32.63</td>\n      <td>Cluster 0</td>\n    </tr>\n    <tr>\n      <th>276</th>\n      <td>2018</td>\n      <td>DZA</td>\n      <td>161.487</td>\n      <td>0.000</td>\n      <td>0.000</td>\n      <td>0.24</td>\n      <td>1.330</td>\n      <td>88.887</td>\n      <td>54.922</td>\n      <td>42228415.0</td>\n      <td>...</td>\n      <td>6.865545e+10</td>\n      <td>2478.060305</td>\n      <td>4.790090</td>\n      <td>0.0</td>\n      <td>0.0</td>\n      <td>0.0</td>\n      <td>0.0</td>\n      <td>0.336292</td>\n      <td>23.63</td>\n      <td>Cluster 2</td>\n    </tr>\n    <tr>\n      <th>303</th>\n      <td>2018</td>\n      <td>AND</td>\n      <td>0.495</td>\n      <td>0.000</td>\n      <td>0.000</td>\n      <td>0.00</td>\n      <td>0.000</td>\n      <td>0.000</td>\n      <td>0.495</td>\n      <td>77008.0</td>\n      <td>...</td>\n      <td>0.000000e+00</td>\n      <td>0.000000</td>\n      <td>0.000000</td>\n      <td>0.0</td>\n      <td>0.0</td>\n      <td>0.0</td>\n      <td>0.0</td>\n      <td>0.000000</td>\n      <td>0.00</td>\n      <td>Cluster 0</td>\n    </tr>\n    <tr>\n      <th>381</th>\n      <td>2018</td>\n      <td>AGO</td>\n      <td>24.376</td>\n      <td>0.000</td>\n      <td>0.000</td>\n      <td>0.00</td>\n      <td>0.000</td>\n      <td>1.608</td>\n      <td>12.963</td>\n      <td>30809787.0</td>\n      <td>...</td>\n      <td>4.858017e+10</td>\n      <td>666.906455</td>\n      <td>378.706162</td>\n      <td>0.0</td>\n      <td>0.0</td>\n      <td>0.0</td>\n      <td>0.0</td>\n      <td>0.143503</td>\n      <td>0.00</td>\n      <td>Cluster 0</td>\n    </tr>\n    <tr>\n      <th>...</th>\n      <td>...</td>\n      <td>...</td>\n      <td>...</td>\n      <td>...</td>\n      <td>...</td>\n      <td>...</td>\n      <td>...</td>\n      <td>...</td>\n      <td>...</td>\n      <td>...</td>\n      <td>...</td>\n      <td>...</td>\n      <td>...</td>\n      <td>...</td>\n      <td>...</td>\n      <td>...</td>\n      <td>...</td>\n      <td>...</td>\n      <td>...</td>\n      <td>...</td>\n      <td>...</td>\n    </tr>\n    <tr>\n      <th>23108</th>\n      <td>2018</td>\n      <td>MCO</td>\n      <td>0.000</td>\n      <td>0.000</td>\n      <td>0.000</td>\n      <td>0.00</td>\n      <td>0.000</td>\n      <td>0.000</td>\n      <td>0.000</td>\n      <td>38682.0</td>\n      <td>...</td>\n      <td>9.444969e+08</td>\n      <td>0.000000</td>\n      <td>0.000000</td>\n      <td>0.0</td>\n      <td>0.0</td>\n      <td>0.0</td>\n      <td>0.0</td>\n      <td>0.000000</td>\n      <td>0.00</td>\n      <td>Cluster 0</td>\n    </tr>\n    <tr>\n      <th>23109</th>\n      <td>2018</td>\n      <td>MNP</td>\n      <td>0.000</td>\n      <td>0.000</td>\n      <td>0.000</td>\n      <td>0.00</td>\n      <td>0.000</td>\n      <td>0.000</td>\n      <td>0.000</td>\n      <td>56889.0</td>\n      <td>...</td>\n      <td>0.000000e+00</td>\n      <td>0.000000</td>\n      <td>0.000000</td>\n      <td>0.0</td>\n      <td>0.0</td>\n      <td>0.0</td>\n      <td>0.0</td>\n      <td>0.000000</td>\n      <td>0.00</td>\n      <td>Cluster 0</td>\n    </tr>\n    <tr>\n      <th>23110</th>\n      <td>2018</td>\n      <td>SMR</td>\n      <td>0.000</td>\n      <td>0.000</td>\n      <td>0.000</td>\n      <td>0.00</td>\n      <td>0.000</td>\n      <td>0.000</td>\n      <td>0.000</td>\n      <td>33784.0</td>\n      <td>...</td>\n      <td>0.000000e+00</td>\n      <td>0.000000</td>\n      <td>0.000000</td>\n      <td>0.0</td>\n      <td>0.0</td>\n      <td>0.0</td>\n      <td>0.0</td>\n      <td>0.000000</td>\n      <td>0.00</td>\n      <td>Cluster 0</td>\n    </tr>\n    <tr>\n      <th>23111</th>\n      <td>2018</td>\n      <td>VIR</td>\n      <td>0.000</td>\n      <td>0.000</td>\n      <td>0.000</td>\n      <td>0.00</td>\n      <td>0.000</td>\n      <td>0.000</td>\n      <td>0.000</td>\n      <td>107001.0</td>\n      <td>...</td>\n      <td>0.000000e+00</td>\n      <td>0.000000</td>\n      <td>0.000000</td>\n      <td>0.0</td>\n      <td>0.0</td>\n      <td>0.0</td>\n      <td>0.0</td>\n      <td>0.000000</td>\n      <td>0.00</td>\n      <td>Cluster 0</td>\n    </tr>\n    <tr>\n      <th>23112</th>\n      <td>2018</td>\n      <td>XKX</td>\n      <td>0.000</td>\n      <td>0.000</td>\n      <td>0.000</td>\n      <td>0.00</td>\n      <td>0.000</td>\n      <td>0.000</td>\n      <td>0.000</td>\n      <td>1797085.0</td>\n      <td>...</td>\n      <td>2.092918e+09</td>\n      <td>108.936290</td>\n      <td>29.306041</td>\n      <td>0.0</td>\n      <td>0.0</td>\n      <td>0.0</td>\n      <td>0.0</td>\n      <td>0.358777</td>\n      <td>0.00</td>\n      <td>Cluster 0</td>\n    </tr>\n  </tbody>\n</table>\n<p>231 rows × 37 columns</p>\n</div>"
     },
     "execution_count": 45,
     "metadata": {},
     "output_type": "execute_result"
    }
   ],
   "source": [
    "eval_results"
   ],
   "metadata": {
    "collapsed": false,
    "pycharm": {
     "name": "#%%\n"
    }
   }
  },
  {
   "cell_type": "code",
   "execution_count": 46,
   "outputs": [
    {
     "data": {
      "application/vnd.plotly.v1+json": {
       "config": {
        "plotlyServerURL": "https://plot.ly"
       },
       "data": [
        {
         "customdata": [
          [
           null
          ],
          [
           null
          ],
          [
           null
          ],
          [
           null
          ],
          [
           null
          ],
          [
           null
          ],
          [
           null
          ],
          [
           null
          ],
          [
           null
          ],
          [
           null
          ],
          [
           null
          ],
          [
           null
          ],
          [
           null
          ],
          [
           null
          ],
          [
           null
          ],
          [
           null
          ],
          [
           null
          ],
          [
           null
          ],
          [
           null
          ],
          [
           null
          ],
          [
           null
          ],
          [
           null
          ],
          [
           null
          ],
          [
           null
          ],
          [
           null
          ],
          [
           null
          ],
          [
           null
          ],
          [
           null
          ],
          [
           null
          ],
          [
           null
          ],
          [
           null
          ],
          [
           null
          ],
          [
           null
          ],
          [
           null
          ],
          [
           null
          ],
          [
           null
          ],
          [
           null
          ],
          [
           null
          ],
          [
           null
          ],
          [
           null
          ],
          [
           null
          ],
          [
           null
          ],
          [
           null
          ],
          [
           null
          ],
          [
           null
          ],
          [
           null
          ],
          [
           null
          ],
          [
           null
          ],
          [
           null
          ],
          [
           null
          ],
          [
           null
          ],
          [
           null
          ],
          [
           null
          ],
          [
           null
          ],
          [
           null
          ],
          [
           null
          ],
          [
           null
          ],
          [
           null
          ],
          [
           null
          ],
          [
           null
          ],
          [
           null
          ],
          [
           null
          ],
          [
           null
          ],
          [
           null
          ],
          [
           null
          ],
          [
           null
          ],
          [
           null
          ],
          [
           null
          ],
          [
           null
          ],
          [
           null
          ],
          [
           null
          ],
          [
           null
          ],
          [
           null
          ],
          [
           null
          ],
          [
           null
          ],
          [
           null
          ],
          [
           null
          ],
          [
           null
          ],
          [
           null
          ],
          [
           null
          ],
          [
           null
          ],
          [
           null
          ],
          [
           null
          ],
          [
           null
          ],
          [
           null
          ],
          [
           null
          ],
          [
           null
          ],
          [
           null
          ],
          [
           null
          ],
          [
           null
          ],
          [
           null
          ],
          [
           null
          ],
          [
           null
          ],
          [
           null
          ],
          [
           null
          ],
          [
           null
          ],
          [
           null
          ],
          [
           null
          ],
          [
           null
          ],
          [
           null
          ],
          [
           null
          ],
          [
           null
          ],
          [
           null
          ],
          [
           null
          ],
          [
           null
          ],
          [
           null
          ],
          [
           null
          ],
          [
           null
          ],
          [
           null
          ],
          [
           null
          ],
          [
           null
          ],
          [
           null
          ],
          [
           null
          ],
          [
           null
          ],
          [
           null
          ],
          [
           null
          ],
          [
           null
          ],
          [
           null
          ],
          [
           null
          ],
          [
           null
          ],
          [
           null
          ],
          [
           null
          ],
          [
           null
          ],
          [
           null
          ],
          [
           null
          ],
          [
           null
          ],
          [
           null
          ],
          [
           null
          ],
          [
           null
          ],
          [
           null
          ],
          [
           null
          ],
          [
           null
          ],
          [
           null
          ],
          [
           null
          ],
          [
           null
          ],
          [
           null
          ],
          [
           null
          ],
          [
           null
          ],
          [
           null
          ],
          [
           null
          ],
          [
           null
          ],
          [
           null
          ],
          [
           null
          ],
          [
           null
          ],
          [
           null
          ],
          [
           8.345
          ],
          [
           null
          ],
          [
           null
          ],
          [
           null
          ],
          [
           null
          ],
          [
           null
          ],
          [
           null
          ],
          [
           null
          ],
          [
           null
          ],
          [
           null
          ]
         ],
         "hovertemplate": "Cluster=Cluster 0<br>0=%{x}<br>1=%{y}<br>2=%{z}<br>Feature=%{customdata[0]}<extra></extra>",
         "legendgroup": "Cluster 0",
         "marker": {
          "color": "#636efa",
          "opacity": 0.7,
          "symbol": "circle"
         },
         "mode": "markers",
         "name": "Cluster 0",
         "scene": "scene",
         "showlegend": true,
         "type": "scatter3d",
         "x": [
          -6.38381814956665,
          118.4126205444336,
          -49.34531021118164,
          -85.48524475097656,
          -31.093250274658203,
          -76.08623504638672,
          -74.26980590820312,
          93.76033020019531,
          61.13816833496094,
          -23.01934242248535,
          37.216609954833984,
          107.04135131835938,
          -34.93519973754883,
          -102.67208862304688,
          -17.781511306762695,
          54.741722106933594,
          10.417116165161133,
          101.92117309570312,
          63.221073150634766,
          -26.3148136138916,
          -9.253002166748047,
          -117.74507141113281,
          133.68043518066406,
          43.69011306762695,
          -67.47090148925781,
          30.55621337890625,
          33.103492736816406,
          66.31790161132812,
          79.78905487060547,
          -36.8886604309082,
          -13.396296501159668,
          64.21853637695312,
          43.02481460571289,
          106.73043823242188,
          40.583282470703125,
          120.14753723144531,
          116.7602767944336,
          68.95135498046875,
          48.08870315551758,
          -31.608543395996094,
          56.668338775634766,
          12.954809188842773,
          -96.23030853271484,
          -13.000921249389648,
          113.9278793334961,
          -45.022666931152344,
          -65.66191101074219,
          11.611319541931152,
          -46.32330322265625,
          -31.695951461791992,
          -31.420753479003906,
          -22.82084846496582,
          19.752567291259766,
          -34.262794494628906,
          9.574119567871094,
          -0.23530831933021545,
          102.65412139892578,
          -61.0212287902832,
          41.50218200683594,
          58.88966751098633,
          98.45635223388672,
          -78.73507690429688,
          74.59684753417969,
          140.90907287597656,
          -37.973899841308594,
          137.2692108154297,
          77.23326873779297,
          81.38349914550781,
          110.2387466430664,
          86.973876953125,
          -0.011316991411149502,
          -64.25680541992188,
          84.14815521240234,
          21.146526336669922,
          9.131208419799805,
          23.472509384155273,
          4.787322044372559,
          -80.4734115600586,
          -6.232081413269043,
          17.249353408813477,
          29.042814254760742,
          -2.9660489559173584,
          -89.91854095458984,
          27.765039443969727,
          74.9151840209961,
          83.9839096069336,
          -21.967580795288086,
          119.06637573242188,
          8.540964126586914,
          32.195377349853516,
          -45.61185836791992,
          90.23855590820312,
          19.204004287719727,
          -10.687429428100586,
          85.58457946777344,
          17.032146453857422,
          72.0999755859375,
          90.37581634521484,
          -2.8870837688446045,
          -43.7396240234375,
          112.09078979492188,
          57.50978088378906,
          -2.8453497886657715,
          90.78840637207031,
          -118.31504821777344,
          37.81649398803711,
          -60.35995101928711,
          47.847347259521484,
          105.25506591796875,
          -1.9546452760696411,
          27.877399444580078,
          -62.5611457824707,
          74.71331787109375,
          -18.951526641845703,
          -30.338998794555664,
          76.0279769897461,
          -30.65272331237793,
          21.380102157592773,
          100.38416290283203,
          4.81026029586792,
          41.599769592285156,
          -3.1688342094421387,
          100.89281463623047,
          -94.48783874511719,
          -18.120567321777344,
          16.19219398498535,
          69.58670043945312,
          48.2081298828125,
          -77.80996704101562,
          27.085979461669922,
          -32.14787292480469,
          13.606382369995117,
          27.640731811523438,
          47.229248046875,
          -26.20387077331543,
          -64.8720703125,
          -22.90606689453125,
          61.32305908203125,
          -4.781463623046875,
          -17.272079467773438,
          36.70857620239258,
          67.65007781982422,
          86.31440734863281,
          58.50259780883789,
          0.5268547534942627,
          37.61591339111328,
          120.41098022460938,
          12.333250045776367,
          -8.075639724731445,
          100.33926391601562,
          68.12324523925781,
          4.335757255554199,
          -60.119598388671875,
          41.57259750366211,
          72.80829620361328
         ],
         "y": [
          -0.4549572467803955,
          -56.01030731201172,
          18.776578903198242,
          94.83071899414062,
          26.883567810058594,
          43.06109619140625,
          -42.00086975097656,
          -95.33118438720703,
          -14.802446365356445,
          24.298315048217773,
          38.54558563232422,
          -5.496166229248047,
          24.69077491760254,
          -64.66912078857422,
          40.15422821044922,
          -36.67998123168945,
          66.79981994628906,
          -60.05166244506836,
          101.9339599609375,
          4.744865894317627,
          110.63065338134766,
          16.833518981933594,
          -0.5241928100585938,
          28.093299865722656,
          54.86526107788086,
          -22.310827255249023,
          -83.35953521728516,
          35.403926849365234,
          -12.073787689208984,
          13.911393165588379,
          54.623512268066406,
          -24.75368881225586,
          87.82218170166016,
          -59.09101104736328,
          -51.459808349609375,
          52.244415283203125,
          29.136808395385742,
          -65.18033599853516,
          20.507266998291016,
          69.35012817382812,
          60.59998321533203,
          14.738862991333008,
          60.829227447509766,
          59.08204650878906,
          -1.717147707939148,
          112.19349670410156,
          146.5183868408203,
          28.2086238861084,
          114.41239929199219,
          83.49751281738281,
          112.33856964111328,
          142.18975830078125,
          117.86372375488281,
          143.63951110839844,
          -133.13449096679688,
          135.74795532226562,
          15.104694366455078,
          129.9039306640625,
          9.787517547607422,
          50.07440948486328,
          4.715203762054443,
          -15.139104843139648,
          54.260032653808594,
          8.65686321258545,
          81.87825012207031,
          -28.989614486694336,
          -20.33988380432129,
          23.48666763305664,
          -30.12952423095703,
          -43.496826171875,
          133.45529174804688,
          91.26494598388672,
          7.486940383911133,
          53.82270812988281,
          114.09544372558594,
          14.062102317810059,
          -17.666606903076172,
          101.04412841796875,
          96.39887237548828,
          73.00332641601562,
          -19.13190269470215,
          95.7119369506836,
          39.8916130065918,
          -1.1639034748077393,
          -1.0780646800994873,
          -42.99251174926758,
          -18.148361206054688,
          15.682087898254395,
          10.366020202636719,
          -12.771336555480957,
          95.69860076904297,
          110.5635986328125,
          75.49484252929688,
          87.96702575683594,
          -25.58503532409668,
          119.94915008544922,
          56.56862258911133,
          -76.71310424804688,
          -10.491732597351074,
          -10.222189903259277,
          -24.555620193481445,
          -20.168540954589844,
          -23.76076889038086,
          2.8099231719970703,
          50.019737243652344,
          -129.36830139160156,
          109.65128326416016,
          8.649800300598145,
          -26.698530197143555,
          21.43682861328125,
          38.64107894897461,
          123.58299255371094,
          -56.79874038696289,
          82.53927612304688,
          -4.378476142883301,
          12.444618225097656,
          39.112030029296875,
          41.82491683959961,
          -37.82742691040039,
          -45.83280563354492,
          -91.08088684082031,
          -64.65839385986328,
          27.157928466796875,
          29.224246978759766,
          24.087472915649414,
          104.12874603271484,
          -48.15066146850586,
          10.113852500915527,
          9.702044486999512,
          -13.417405128479004,
          26.088581085205078,
          -52.33137130737305,
          -10.066081047058105,
          -108.98290252685547,
          49.118099212646484,
          43.09596633911133,
          112.62037658691406,
          -47.983760833740234,
          13.411078453063965,
          66.0091323852539,
          46.591922760009766,
          130.04808044433594,
          -23.131912231445312,
          3.2762603759765625,
          27.207048416137695,
          59.104591369628906,
          -18.09402847290039,
          40.80510711669922,
          41.87506103515625,
          -39.37977981567383,
          94.57713317871094,
          47.93730926513672,
          61.56938934326172,
          -39.14743423461914,
          -122.70137786865234
         ],
         "z": [
          85.47303009033203,
          -23.316213607788086,
          -16.80535316467285,
          13.415104866027832,
          42.75313186645508,
          -76.57298278808594,
          -158.64852905273438,
          34.35626983642578,
          -17.62013816833496,
          -142.88833618164062,
          -25.77591896057129,
          -91.8796615600586,
          94.4761734008789,
          106.0865707397461,
          118.58845520019531,
          19.724193572998047,
          103.99778747558594,
          -51.07026672363281,
          24.824569702148438,
          10.509915351867676,
          111.62117767333984,
          -70.43192291259766,
          -114.98160552978516,
          7.738311290740967,
          20.391151428222656,
          80.3548355102539,
          -1.9850353002548218,
          117.78614044189453,
          19.753036499023438,
          -95.79348754882812,
          81.8763198852539,
          100.34680938720703,
          70.9141616821289,
          16.210344314575195,
          -97.47806549072266,
          -30.458723068237305,
          -98.03269958496094,
          21.01236915588379,
          40.501304626464844,
          3.3912007808685303,
          24.957502365112305,
          -22.453786849975586,
          -50.1058349609375,
          31.63343048095703,
          63.345794677734375,
          -33.56718444824219,
          -0.9220351576805115,
          93.4492416381836,
          115.39513397216797,
          103.17350006103516,
          82.75865936279297,
          98.34396362304688,
          94.32621002197266,
          61.91267395019531,
          62.844078063964844,
          -45.41297149658203,
          -65.300537109375,
          84.76496887207031,
          102.64248657226562,
          80.451416015625,
          -126.71023559570312,
          -88.42591094970703,
          -11.654256820678711,
          -77.72354125976562,
          66.08634185791016,
          -91.89124298095703,
          -105.76850128173828,
          -101.73998260498047,
          -119.61930847167969,
          37.570068359375,
          70.20208740234375,
          88.67549896240234,
          47.74635696411133,
          65.70419311523438,
          -57.844207763671875,
          54.43053436279297,
          18.90622901916504,
          -36.99742889404297,
          -9.3977689743042,
          14.330940246582031,
          118.35594940185547,
          75.1288833618164,
          -4.045970916748047,
          4.5657267570495605,
          -77.97217559814453,
          -3.868875741958618,
          116.06556701660156,
          -29.847366333007812,
          124.70486450195312,
          -121.0938491821289,
          -50.258949279785156,
          -19.03614044189453,
          -110.04589080810547,
          19.448139190673828,
          -50.431427001953125,
          28.029640197753906,
          -56.94999313354492,
          -10.177789688110352,
          -17.99286460876465,
          -67.68351745605469,
          19.744518280029297,
          46.72515869140625,
          -48.68706512451172,
          89.99349975585938,
          -23.63332176208496,
          -23.78265953063965,
          52.89992141723633,
          136.4771728515625,
          -25.131561279296875,
          -94.44575500488281,
          -128.95018005371094,
          -85.31488037109375,
          -33.53116226196289,
          -88.51335144042969,
          -32.203548431396484,
          -30.30368423461914,
          6.99937629699707,
          133.07904052734375,
          95.24092102050781,
          -27.555641174316406,
          50.43433380126953,
          91.49853515625,
          -6.83254337310791,
          -46.637760162353516,
          -17.89876365661621,
          1.5671484470367432,
          -66.87884521484375,
          -43.73688507080078,
          -127.07437896728516,
          -30.26541519165039,
          -54.708091735839844,
          5.450396537780762,
          -71.69361877441406,
          24.527175903320312,
          -30.329683303833008,
          -35.193817138671875,
          49.974037170410156,
          68.45179748535156,
          -49.36809158325195,
          -122.32117462158203,
          103.9970474243164,
          -18.70905303955078,
          65.6395492553711,
          75.91962432861328,
          19.031349182128906,
          -71.90818786621094,
          -60.63345718383789,
          -3.5738532543182373,
          -72.18244934082031,
          -83.2612075805664,
          -34.81076431274414,
          -32.545005798339844,
          -11.923503875732422,
          -28.078174591064453,
          5.292718410491943
         ]
        },
        {
         "customdata": [
          [
           null
          ],
          [
           null
          ]
         ],
         "hovertemplate": "Cluster=Cluster 1<br>0=%{x}<br>1=%{y}<br>2=%{z}<br>Feature=%{customdata[0]}<extra></extra>",
         "legendgroup": "Cluster 1",
         "marker": {
          "color": "#EF553B",
          "opacity": 0.7,
          "symbol": "circle"
         },
         "mode": "markers",
         "name": "Cluster 1",
         "scene": "scene",
         "showlegend": true,
         "type": "scatter3d",
         "x": [
          -141.68319702148438,
          0.7677657008171082
         ],
         "y": [
          53.77932357788086,
          -59.92430877685547
         ],
         "z": [
          30.377628326416016,
          -150.11488342285156
         ]
        },
        {
         "customdata": [
          [
           null
          ],
          [
           null
          ],
          [
           null
          ],
          [
           null
          ],
          [
           null
          ],
          [
           null
          ],
          [
           null
          ],
          [
           null
          ],
          [
           null
          ],
          [
           null
          ],
          [
           null
          ],
          [
           null
          ],
          [
           null
          ],
          [
           null
          ],
          [
           null
          ],
          [
           null
          ],
          [
           null
          ],
          [
           null
          ],
          [
           null
          ],
          [
           null
          ],
          [
           null
          ],
          [
           null
          ],
          [
           null
          ],
          [
           null
          ],
          [
           null
          ],
          [
           null
          ],
          [
           null
          ],
          [
           null
          ],
          [
           null
          ],
          [
           null
          ],
          [
           null
          ],
          [
           null
          ],
          [
           null
          ],
          [
           null
          ],
          [
           null
          ],
          [
           null
          ],
          [
           null
          ],
          [
           null
          ],
          [
           null
          ],
          [
           null
          ],
          [
           null
          ],
          [
           null
          ],
          [
           null
          ],
          [
           null
          ],
          [
           null
          ],
          [
           null
          ],
          [
           null
          ],
          [
           null
          ],
          [
           null
          ],
          [
           null
          ],
          [
           null
          ],
          [
           null
          ],
          [
           4.734
          ],
          [
           null
          ],
          [
           null
          ],
          [
           null
          ],
          [
           null
          ],
          [
           null
          ],
          [
           null
          ],
          [
           null
          ],
          [
           null
          ],
          [
           null
          ],
          [
           null
          ],
          [
           null
          ],
          [
           null
          ],
          [
           null
          ],
          [
           null
          ],
          [
           null
          ],
          [
           null
          ],
          [
           null
          ],
          [
           null
          ],
          [
           null
          ],
          [
           null
          ],
          [
           null
          ]
         ],
         "hovertemplate": "Cluster=Cluster 2<br>0=%{x}<br>1=%{y}<br>2=%{z}<br>Feature=%{customdata[0]}<extra></extra>",
         "legendgroup": "Cluster 2",
         "marker": {
          "color": "#00cc96",
          "opacity": 0.7,
          "symbol": "circle"
         },
         "mode": "markers",
         "name": "Cluster 2",
         "scene": "scene",
         "showlegend": true,
         "type": "scatter3d",
         "x": [
          -55.60087585449219,
          29.70113182067871,
          -114.48735809326172,
          -67.82855224609375,
          -144.49607849121094,
          -30.265579223632812,
          -29.632858276367188,
          -99.83860778808594,
          -83.79056549072266,
          -43.89175033569336,
          -116.92598724365234,
          -50.096946716308594,
          113.52550506591797,
          -107.62943267822266,
          -109.6788101196289,
          -29.235246658325195,
          -92.29894256591797,
          -104.86703491210938,
          -47.82367706298828,
          -26.859521865844727,
          9.267261505126953,
          -144.7261962890625,
          -72.84512329101562,
          14.659013748168945,
          144.93508911132812,
          -20.198719024658203,
          -25.04421615600586,
          -29.40085220336914,
          -91.83680725097656,
          -82.56769561767578,
          157.4097442626953,
          -40.49760818481445,
          -112.4244155883789,
          143.01393127441406,
          -8.024358749389648,
          62.793514251708984,
          -26.689285278320312,
          53.2928581237793,
          -140.48585510253906,
          -97.62055969238281,
          5.122973918914795,
          -98.26473236083984,
          -68.81498718261719,
          -49.073856353759766,
          -66.14485168457031,
          0.3128993809223175,
          -61.13386154174805,
          -23.76746940612793,
          -60.52458572387695,
          -122.2698974609375,
          -5.047926902770996,
          -180.25440979003906,
          -12.795931816101074,
          -85.08580780029297,
          -60.2332763671875,
          -85.58577728271484,
          -99.57719421386719,
          -36.740867614746094,
          -87.2096939086914,
          116.00203704833984,
          -10.14278793334961,
          -52.46774673461914,
          37.59208297729492,
          -157.7694091796875,
          -116.39479064941406,
          -1.8928312063217163,
          -67.44969177246094,
          -80.38887023925781,
          -74.32327270507812,
          -60.494422912597656,
          -39.002227783203125,
          -128.738037109375,
          -43.468013763427734,
          -67.16358184814453
         ],
         "y": [
          -137.59523010253906,
          158.6608123779297,
          -86.43719482421875,
          0.29247382283210754,
          -48.79200744628906,
          -107.03492736816406,
          -65.63416290283203,
          -122.46141815185547,
          31.112852096557617,
          -97.9278335571289,
          -134.7908172607422,
          -61.587955474853516,
          45.184654235839844,
          -75.98860931396484,
          101.70313262939453,
          -40.4248161315918,
          -101.5075454711914,
          -38.257991790771484,
          -30.359277725219727,
          -113.13616943359375,
          125.6104965209961,
          -23.198081970214844,
          -28.89517593383789,
          -104.21351623535156,
          -79.70333862304688,
          -98.07868957519531,
          -105.56253814697266,
          -80.03678131103516,
          -43.94678497314453,
          -9.060057640075684,
          -34.92435073852539,
          -133.903076171875,
          -26.959135055541992,
          14.249752044677734,
          75.187744140625,
          -108.72901916503906,
          -101.60511779785156,
          -75.6553726196289,
          -112.27957916259766,
          -14.885208129882812,
          -103.32884216308594,
          -72.70374298095703,
          -67.29978942871094,
          -90.35198974609375,
          -100.75282287597656,
          -93.1920394897461,
          -38.37385940551758,
          -65.35741424560547,
          -61.2574348449707,
          4.23848295211792,
          -37.67220687866211,
          -33.82152557373047,
          -80.8487319946289,
          -11.596144676208496,
          -60.99675369262695,
          -41.502281188964844,
          -71.33566284179688,
          -35.43326187133789,
          -62.60028076171875,
          86.8432846069336,
          157.88963317871094,
          -134.9242401123047,
          110.89839935302734,
          -85.90911865234375,
          -55.718910217285156,
          -66.54916381835938,
          -36.61946487426758,
          -106.00635528564453,
          -94.24412536621094,
          9.59018325805664,
          -73.6806869506836,
          8.727396965026855,
          -27.664201736450195,
          -83.90227508544922
         ],
         "z": [
          -35.93791580200195,
          -17.69106101989746,
          7.312184810638428,
          44.456809997558594,
          12.49406623840332,
          81.1905517578125,
          -33.613224029541016,
          48.06183624267578,
          107.96636962890625,
          -33.07748031616211,
          -3.8478269577026367,
          -83.87921142578125,
          41.58161544799805,
          -28.710905075073242,
          -29.936086654663086,
          2.9984700679779053,
          -26.333404541015625,
          -51.70228576660156,
          65.66045379638672,
          -115.09701538085938,
          -84.7295150756836,
          -33.580020904541016,
          97.62834167480469,
          -81.00077819824219,
          36.62864685058594,
          35.658138275146484,
          -79.62612915039062,
          -143.29437255859375,
          -15.877595901489258,
          -1.9796429872512817,
          28.55100440979004,
          -78.87554168701172,
          17.96232032775879,
          24.07697296142578,
          151.14666748046875,
          -73.86631774902344,
          -1.625308871269226,
          124.44192504882812,
          -18.29901695251465,
          107.91921997070312,
          -41.03445053100586,
          -71.34622955322266,
          -41.47263717651367,
          -106.23286437988281,
          -56.776241302490234,
          -134.46669006347656,
          -25.832204818725586,
          40.79106140136719,
          66.1556396484375,
          53.364166259765625,
          -98.972900390625,
          54.34705352783203,
          -104.35843658447266,
          76.73604583740234,
          31.637535095214844,
          42.19568634033203,
          53.51862335205078,
          -121.73802185058594,
          12.12651252746582,
          17.832204818725586,
          4.635195732116699,
          3.9906296730041504,
          -80.1602783203125,
          -13.373494148254395,
          34.96926498413086,
          -64.1205062866211,
          12.26121711730957,
          17.296077728271484,
          51.92512130737305,
          136.87994384765625,
          7.603583335876465,
          5.506298065185547,
          33.35222625732422,
          -6.259319305419922
         ]
        }
       ],
       "layout": {
        "height": 800,
        "legend": {
         "title": {
          "text": "Cluster"
         },
         "tracegroupgap": 0
        },
        "scene": {
         "domain": {
          "x": [
           0.0,
           1.0
          ],
          "y": [
           0.0,
           1.0
          ]
         },
         "xaxis": {
          "title": {
           "text": "0"
          }
         },
         "yaxis": {
          "title": {
           "text": "1"
          }
         },
         "zaxis": {
          "title": {
           "text": "2"
          }
         }
        },
        "template": {
         "data": {
          "bar": [
           {
            "error_x": {
             "color": "#2a3f5f"
            },
            "error_y": {
             "color": "#2a3f5f"
            },
            "marker": {
             "line": {
              "color": "#E5ECF6",
              "width": 0.5
             }
            },
            "type": "bar"
           }
          ],
          "barpolar": [
           {
            "marker": {
             "line": {
              "color": "#E5ECF6",
              "width": 0.5
             }
            },
            "type": "barpolar"
           }
          ],
          "carpet": [
           {
            "aaxis": {
             "endlinecolor": "#2a3f5f",
             "gridcolor": "white",
             "linecolor": "white",
             "minorgridcolor": "white",
             "startlinecolor": "#2a3f5f"
            },
            "baxis": {
             "endlinecolor": "#2a3f5f",
             "gridcolor": "white",
             "linecolor": "white",
             "minorgridcolor": "white",
             "startlinecolor": "#2a3f5f"
            },
            "type": "carpet"
           }
          ],
          "choropleth": [
           {
            "colorbar": {
             "outlinewidth": 0,
             "ticks": ""
            },
            "type": "choropleth"
           }
          ],
          "contour": [
           {
            "colorbar": {
             "outlinewidth": 0,
             "ticks": ""
            },
            "colorscale": [
             [
              0.0,
              "#0d0887"
             ],
             [
              0.1111111111111111,
              "#46039f"
             ],
             [
              0.2222222222222222,
              "#7201a8"
             ],
             [
              0.3333333333333333,
              "#9c179e"
             ],
             [
              0.4444444444444444,
              "#bd3786"
             ],
             [
              0.5555555555555556,
              "#d8576b"
             ],
             [
              0.6666666666666666,
              "#ed7953"
             ],
             [
              0.7777777777777778,
              "#fb9f3a"
             ],
             [
              0.8888888888888888,
              "#fdca26"
             ],
             [
              1.0,
              "#f0f921"
             ]
            ],
            "type": "contour"
           }
          ],
          "contourcarpet": [
           {
            "colorbar": {
             "outlinewidth": 0,
             "ticks": ""
            },
            "type": "contourcarpet"
           }
          ],
          "heatmap": [
           {
            "colorbar": {
             "outlinewidth": 0,
             "ticks": ""
            },
            "colorscale": [
             [
              0.0,
              "#0d0887"
             ],
             [
              0.1111111111111111,
              "#46039f"
             ],
             [
              0.2222222222222222,
              "#7201a8"
             ],
             [
              0.3333333333333333,
              "#9c179e"
             ],
             [
              0.4444444444444444,
              "#bd3786"
             ],
             [
              0.5555555555555556,
              "#d8576b"
             ],
             [
              0.6666666666666666,
              "#ed7953"
             ],
             [
              0.7777777777777778,
              "#fb9f3a"
             ],
             [
              0.8888888888888888,
              "#fdca26"
             ],
             [
              1.0,
              "#f0f921"
             ]
            ],
            "type": "heatmap"
           }
          ],
          "heatmapgl": [
           {
            "colorbar": {
             "outlinewidth": 0,
             "ticks": ""
            },
            "colorscale": [
             [
              0.0,
              "#0d0887"
             ],
             [
              0.1111111111111111,
              "#46039f"
             ],
             [
              0.2222222222222222,
              "#7201a8"
             ],
             [
              0.3333333333333333,
              "#9c179e"
             ],
             [
              0.4444444444444444,
              "#bd3786"
             ],
             [
              0.5555555555555556,
              "#d8576b"
             ],
             [
              0.6666666666666666,
              "#ed7953"
             ],
             [
              0.7777777777777778,
              "#fb9f3a"
             ],
             [
              0.8888888888888888,
              "#fdca26"
             ],
             [
              1.0,
              "#f0f921"
             ]
            ],
            "type": "heatmapgl"
           }
          ],
          "histogram": [
           {
            "marker": {
             "colorbar": {
              "outlinewidth": 0,
              "ticks": ""
             }
            },
            "type": "histogram"
           }
          ],
          "histogram2d": [
           {
            "colorbar": {
             "outlinewidth": 0,
             "ticks": ""
            },
            "colorscale": [
             [
              0.0,
              "#0d0887"
             ],
             [
              0.1111111111111111,
              "#46039f"
             ],
             [
              0.2222222222222222,
              "#7201a8"
             ],
             [
              0.3333333333333333,
              "#9c179e"
             ],
             [
              0.4444444444444444,
              "#bd3786"
             ],
             [
              0.5555555555555556,
              "#d8576b"
             ],
             [
              0.6666666666666666,
              "#ed7953"
             ],
             [
              0.7777777777777778,
              "#fb9f3a"
             ],
             [
              0.8888888888888888,
              "#fdca26"
             ],
             [
              1.0,
              "#f0f921"
             ]
            ],
            "type": "histogram2d"
           }
          ],
          "histogram2dcontour": [
           {
            "colorbar": {
             "outlinewidth": 0,
             "ticks": ""
            },
            "colorscale": [
             [
              0.0,
              "#0d0887"
             ],
             [
              0.1111111111111111,
              "#46039f"
             ],
             [
              0.2222222222222222,
              "#7201a8"
             ],
             [
              0.3333333333333333,
              "#9c179e"
             ],
             [
              0.4444444444444444,
              "#bd3786"
             ],
             [
              0.5555555555555556,
              "#d8576b"
             ],
             [
              0.6666666666666666,
              "#ed7953"
             ],
             [
              0.7777777777777778,
              "#fb9f3a"
             ],
             [
              0.8888888888888888,
              "#fdca26"
             ],
             [
              1.0,
              "#f0f921"
             ]
            ],
            "type": "histogram2dcontour"
           }
          ],
          "mesh3d": [
           {
            "colorbar": {
             "outlinewidth": 0,
             "ticks": ""
            },
            "type": "mesh3d"
           }
          ],
          "parcoords": [
           {
            "line": {
             "colorbar": {
              "outlinewidth": 0,
              "ticks": ""
             }
            },
            "type": "parcoords"
           }
          ],
          "pie": [
           {
            "automargin": true,
            "type": "pie"
           }
          ],
          "scatter": [
           {
            "marker": {
             "colorbar": {
              "outlinewidth": 0,
              "ticks": ""
             }
            },
            "type": "scatter"
           }
          ],
          "scatter3d": [
           {
            "line": {
             "colorbar": {
              "outlinewidth": 0,
              "ticks": ""
             }
            },
            "marker": {
             "colorbar": {
              "outlinewidth": 0,
              "ticks": ""
             }
            },
            "type": "scatter3d"
           }
          ],
          "scattercarpet": [
           {
            "marker": {
             "colorbar": {
              "outlinewidth": 0,
              "ticks": ""
             }
            },
            "type": "scattercarpet"
           }
          ],
          "scattergeo": [
           {
            "marker": {
             "colorbar": {
              "outlinewidth": 0,
              "ticks": ""
             }
            },
            "type": "scattergeo"
           }
          ],
          "scattergl": [
           {
            "marker": {
             "colorbar": {
              "outlinewidth": 0,
              "ticks": ""
             }
            },
            "type": "scattergl"
           }
          ],
          "scattermapbox": [
           {
            "marker": {
             "colorbar": {
              "outlinewidth": 0,
              "ticks": ""
             }
            },
            "type": "scattermapbox"
           }
          ],
          "scatterpolar": [
           {
            "marker": {
             "colorbar": {
              "outlinewidth": 0,
              "ticks": ""
             }
            },
            "type": "scatterpolar"
           }
          ],
          "scatterpolargl": [
           {
            "marker": {
             "colorbar": {
              "outlinewidth": 0,
              "ticks": ""
             }
            },
            "type": "scatterpolargl"
           }
          ],
          "scatterternary": [
           {
            "marker": {
             "colorbar": {
              "outlinewidth": 0,
              "ticks": ""
             }
            },
            "type": "scatterternary"
           }
          ],
          "surface": [
           {
            "colorbar": {
             "outlinewidth": 0,
             "ticks": ""
            },
            "colorscale": [
             [
              0.0,
              "#0d0887"
             ],
             [
              0.1111111111111111,
              "#46039f"
             ],
             [
              0.2222222222222222,
              "#7201a8"
             ],
             [
              0.3333333333333333,
              "#9c179e"
             ],
             [
              0.4444444444444444,
              "#bd3786"
             ],
             [
              0.5555555555555556,
              "#d8576b"
             ],
             [
              0.6666666666666666,
              "#ed7953"
             ],
             [
              0.7777777777777778,
              "#fb9f3a"
             ],
             [
              0.8888888888888888,
              "#fdca26"
             ],
             [
              1.0,
              "#f0f921"
             ]
            ],
            "type": "surface"
           }
          ],
          "table": [
           {
            "cells": {
             "fill": {
              "color": "#EBF0F8"
             },
             "line": {
              "color": "white"
             }
            },
            "header": {
             "fill": {
              "color": "#C8D4E3"
             },
             "line": {
              "color": "white"
             }
            },
            "type": "table"
           }
          ]
         },
         "layout": {
          "annotationdefaults": {
           "arrowcolor": "#2a3f5f",
           "arrowhead": 0,
           "arrowwidth": 1
          },
          "autotypenumbers": "strict",
          "coloraxis": {
           "colorbar": {
            "outlinewidth": 0,
            "ticks": ""
           }
          },
          "colorscale": {
           "diverging": [
            [
             0,
             "#8e0152"
            ],
            [
             0.1,
             "#c51b7d"
            ],
            [
             0.2,
             "#de77ae"
            ],
            [
             0.3,
             "#f1b6da"
            ],
            [
             0.4,
             "#fde0ef"
            ],
            [
             0.5,
             "#f7f7f7"
            ],
            [
             0.6,
             "#e6f5d0"
            ],
            [
             0.7,
             "#b8e186"
            ],
            [
             0.8,
             "#7fbc41"
            ],
            [
             0.9,
             "#4d9221"
            ],
            [
             1,
             "#276419"
            ]
           ],
           "sequential": [
            [
             0.0,
             "#0d0887"
            ],
            [
             0.1111111111111111,
             "#46039f"
            ],
            [
             0.2222222222222222,
             "#7201a8"
            ],
            [
             0.3333333333333333,
             "#9c179e"
            ],
            [
             0.4444444444444444,
             "#bd3786"
            ],
            [
             0.5555555555555556,
             "#d8576b"
            ],
            [
             0.6666666666666666,
             "#ed7953"
            ],
            [
             0.7777777777777778,
             "#fb9f3a"
            ],
            [
             0.8888888888888888,
             "#fdca26"
            ],
            [
             1.0,
             "#f0f921"
            ]
           ],
           "sequentialminus": [
            [
             0.0,
             "#0d0887"
            ],
            [
             0.1111111111111111,
             "#46039f"
            ],
            [
             0.2222222222222222,
             "#7201a8"
            ],
            [
             0.3333333333333333,
             "#9c179e"
            ],
            [
             0.4444444444444444,
             "#bd3786"
            ],
            [
             0.5555555555555556,
             "#d8576b"
            ],
            [
             0.6666666666666666,
             "#ed7953"
            ],
            [
             0.7777777777777778,
             "#fb9f3a"
            ],
            [
             0.8888888888888888,
             "#fdca26"
            ],
            [
             1.0,
             "#f0f921"
            ]
           ]
          },
          "colorway": [
           "#636efa",
           "#EF553B",
           "#00cc96",
           "#ab63fa",
           "#FFA15A",
           "#19d3f3",
           "#FF6692",
           "#B6E880",
           "#FF97FF",
           "#FECB52"
          ],
          "font": {
           "color": "#2a3f5f"
          },
          "geo": {
           "bgcolor": "white",
           "lakecolor": "white",
           "landcolor": "#E5ECF6",
           "showlakes": true,
           "showland": true,
           "subunitcolor": "white"
          },
          "hoverlabel": {
           "align": "left"
          },
          "hovermode": "closest",
          "mapbox": {
           "style": "light"
          },
          "paper_bgcolor": "white",
          "plot_bgcolor": "#E5ECF6",
          "polar": {
           "angularaxis": {
            "gridcolor": "white",
            "linecolor": "white",
            "ticks": ""
           },
           "bgcolor": "#E5ECF6",
           "radialaxis": {
            "gridcolor": "white",
            "linecolor": "white",
            "ticks": ""
           }
          },
          "scene": {
           "xaxis": {
            "backgroundcolor": "#E5ECF6",
            "gridcolor": "white",
            "gridwidth": 2,
            "linecolor": "white",
            "showbackground": true,
            "ticks": "",
            "zerolinecolor": "white"
           },
           "yaxis": {
            "backgroundcolor": "#E5ECF6",
            "gridcolor": "white",
            "gridwidth": 2,
            "linecolor": "white",
            "showbackground": true,
            "ticks": "",
            "zerolinecolor": "white"
           },
           "zaxis": {
            "backgroundcolor": "#E5ECF6",
            "gridcolor": "white",
            "gridwidth": 2,
            "linecolor": "white",
            "showbackground": true,
            "ticks": "",
            "zerolinecolor": "white"
           }
          },
          "shapedefaults": {
           "line": {
            "color": "#2a3f5f"
           }
          },
          "ternary": {
           "aaxis": {
            "gridcolor": "white",
            "linecolor": "white",
            "ticks": ""
           },
           "baxis": {
            "gridcolor": "white",
            "linecolor": "white",
            "ticks": ""
           },
           "bgcolor": "#E5ECF6",
           "caxis": {
            "gridcolor": "white",
            "linecolor": "white",
            "ticks": ""
           }
          },
          "title": {
           "x": 0.05
          },
          "xaxis": {
           "automargin": true,
           "gridcolor": "white",
           "linecolor": "white",
           "ticks": "",
           "title": {
            "standoff": 15
           },
           "zerolinecolor": "white",
           "zerolinewidth": 2
          },
          "yaxis": {
           "automargin": true,
           "gridcolor": "white",
           "linecolor": "white",
           "ticks": "",
           "title": {
            "standoff": 15
           },
           "zerolinecolor": "white",
           "zerolinewidth": 2
          }
         }
        },
        "title": {
         "text": "3d TSNE Plot for Clusters"
        },
        "width": 900
       }
      },
      "text/html": "<div>                            <div id=\"0ca49111-98cd-40c2-9612-1ef8e134ad80\" class=\"plotly-graph-div\" style=\"height:800px; width:900px;\"></div>            <script type=\"text/javascript\">                require([\"plotly\"], function(Plotly) {                    window.PLOTLYENV=window.PLOTLYENV || {};                                    if (document.getElementById(\"0ca49111-98cd-40c2-9612-1ef8e134ad80\")) {                    Plotly.newPlot(                        \"0ca49111-98cd-40c2-9612-1ef8e134ad80\",                        [{\"customdata\": [[null], [null], [null], [null], [null], [null], [null], [null], [null], [null], [null], [null], [null], [null], [null], [null], [null], [null], [null], [null], [null], [null], [null], [null], [null], [null], [null], [null], [null], [null], [null], [null], [null], [null], [null], [null], [null], [null], [null], [null], [null], [null], [null], [null], [null], [null], [null], [null], [null], [null], [null], [null], [null], [null], [null], [null], [null], [null], [null], [null], [null], [null], [null], [null], [null], [null], [null], [null], [null], [null], [null], [null], [null], [null], [null], [null], [null], [null], [null], [null], [null], [null], [null], [null], [null], [null], [null], [null], [null], [null], [null], [null], [null], [null], [null], [null], [null], [null], [null], [null], [null], [null], [null], [null], [null], [null], [null], [null], [null], [null], [null], [null], [null], [null], [null], [null], [null], [null], [null], [null], [null], [null], [null], [null], [null], [null], [null], [null], [null], [null], [null], [null], [null], [null], [null], [null], [null], [null], [null], [null], [null], [null], [null], [null], [null], [8.345], [null], [null], [null], [null], [null], [null], [null], [null], [null]], \"hovertemplate\": \"Cluster=Cluster 0<br>0=%{x}<br>1=%{y}<br>2=%{z}<br>Feature=%{customdata[0]}<extra></extra>\", \"legendgroup\": \"Cluster 0\", \"marker\": {\"color\": \"#636efa\", \"opacity\": 0.7, \"symbol\": \"circle\"}, \"mode\": \"markers\", \"name\": \"Cluster 0\", \"scene\": \"scene\", \"showlegend\": true, \"type\": \"scatter3d\", \"x\": [-6.38381814956665, 118.4126205444336, -49.34531021118164, -85.48524475097656, -31.093250274658203, -76.08623504638672, -74.26980590820312, 93.76033020019531, 61.13816833496094, -23.01934242248535, 37.216609954833984, 107.04135131835938, -34.93519973754883, -102.67208862304688, -17.781511306762695, 54.741722106933594, 10.417116165161133, 101.92117309570312, 63.221073150634766, -26.3148136138916, -9.253002166748047, -117.74507141113281, 133.68043518066406, 43.69011306762695, -67.47090148925781, 30.55621337890625, 33.103492736816406, 66.31790161132812, 79.78905487060547, -36.8886604309082, -13.396296501159668, 64.21853637695312, 43.02481460571289, 106.73043823242188, 40.583282470703125, 120.14753723144531, 116.7602767944336, 68.95135498046875, 48.08870315551758, -31.608543395996094, 56.668338775634766, 12.954809188842773, -96.23030853271484, -13.000921249389648, 113.9278793334961, -45.022666931152344, -65.66191101074219, 11.611319541931152, -46.32330322265625, -31.695951461791992, -31.420753479003906, -22.82084846496582, 19.752567291259766, -34.262794494628906, 9.574119567871094, -0.23530831933021545, 102.65412139892578, -61.0212287902832, 41.50218200683594, 58.88966751098633, 98.45635223388672, -78.73507690429688, 74.59684753417969, 140.90907287597656, -37.973899841308594, 137.2692108154297, 77.23326873779297, 81.38349914550781, 110.2387466430664, 86.973876953125, -0.011316991411149502, -64.25680541992188, 84.14815521240234, 21.146526336669922, 9.131208419799805, 23.472509384155273, 4.787322044372559, -80.4734115600586, -6.232081413269043, 17.249353408813477, 29.042814254760742, -2.9660489559173584, -89.91854095458984, 27.765039443969727, 74.9151840209961, 83.9839096069336, -21.967580795288086, 119.06637573242188, 8.540964126586914, 32.195377349853516, -45.61185836791992, 90.23855590820312, 19.204004287719727, -10.687429428100586, 85.58457946777344, 17.032146453857422, 72.0999755859375, 90.37581634521484, -2.8870837688446045, -43.7396240234375, 112.09078979492188, 57.50978088378906, -2.8453497886657715, 90.78840637207031, -118.31504821777344, 37.81649398803711, -60.35995101928711, 47.847347259521484, 105.25506591796875, -1.9546452760696411, 27.877399444580078, -62.5611457824707, 74.71331787109375, -18.951526641845703, -30.338998794555664, 76.0279769897461, -30.65272331237793, 21.380102157592773, 100.38416290283203, 4.81026029586792, 41.599769592285156, -3.1688342094421387, 100.89281463623047, -94.48783874511719, -18.120567321777344, 16.19219398498535, 69.58670043945312, 48.2081298828125, -77.80996704101562, 27.085979461669922, -32.14787292480469, 13.606382369995117, 27.640731811523438, 47.229248046875, -26.20387077331543, -64.8720703125, -22.90606689453125, 61.32305908203125, -4.781463623046875, -17.272079467773438, 36.70857620239258, 67.65007781982422, 86.31440734863281, 58.50259780883789, 0.5268547534942627, 37.61591339111328, 120.41098022460938, 12.333250045776367, -8.075639724731445, 100.33926391601562, 68.12324523925781, 4.335757255554199, -60.119598388671875, 41.57259750366211, 72.80829620361328], \"y\": [-0.4549572467803955, -56.01030731201172, 18.776578903198242, 94.83071899414062, 26.883567810058594, 43.06109619140625, -42.00086975097656, -95.33118438720703, -14.802446365356445, 24.298315048217773, 38.54558563232422, -5.496166229248047, 24.69077491760254, -64.66912078857422, 40.15422821044922, -36.67998123168945, 66.79981994628906, -60.05166244506836, 101.9339599609375, 4.744865894317627, 110.63065338134766, 16.833518981933594, -0.5241928100585938, 28.093299865722656, 54.86526107788086, -22.310827255249023, -83.35953521728516, 35.403926849365234, -12.073787689208984, 13.911393165588379, 54.623512268066406, -24.75368881225586, 87.82218170166016, -59.09101104736328, -51.459808349609375, 52.244415283203125, 29.136808395385742, -65.18033599853516, 20.507266998291016, 69.35012817382812, 60.59998321533203, 14.738862991333008, 60.829227447509766, 59.08204650878906, -1.717147707939148, 112.19349670410156, 146.5183868408203, 28.2086238861084, 114.41239929199219, 83.49751281738281, 112.33856964111328, 142.18975830078125, 117.86372375488281, 143.63951110839844, -133.13449096679688, 135.74795532226562, 15.104694366455078, 129.9039306640625, 9.787517547607422, 50.07440948486328, 4.715203762054443, -15.139104843139648, 54.260032653808594, 8.65686321258545, 81.87825012207031, -28.989614486694336, -20.33988380432129, 23.48666763305664, -30.12952423095703, -43.496826171875, 133.45529174804688, 91.26494598388672, 7.486940383911133, 53.82270812988281, 114.09544372558594, 14.062102317810059, -17.666606903076172, 101.04412841796875, 96.39887237548828, 73.00332641601562, -19.13190269470215, 95.7119369506836, 39.8916130065918, -1.1639034748077393, -1.0780646800994873, -42.99251174926758, -18.148361206054688, 15.682087898254395, 10.366020202636719, -12.771336555480957, 95.69860076904297, 110.5635986328125, 75.49484252929688, 87.96702575683594, -25.58503532409668, 119.94915008544922, 56.56862258911133, -76.71310424804688, -10.491732597351074, -10.222189903259277, -24.555620193481445, -20.168540954589844, -23.76076889038086, 2.8099231719970703, 50.019737243652344, -129.36830139160156, 109.65128326416016, 8.649800300598145, -26.698530197143555, 21.43682861328125, 38.64107894897461, 123.58299255371094, -56.79874038696289, 82.53927612304688, -4.378476142883301, 12.444618225097656, 39.112030029296875, 41.82491683959961, -37.82742691040039, -45.83280563354492, -91.08088684082031, -64.65839385986328, 27.157928466796875, 29.224246978759766, 24.087472915649414, 104.12874603271484, -48.15066146850586, 10.113852500915527, 9.702044486999512, -13.417405128479004, 26.088581085205078, -52.33137130737305, -10.066081047058105, -108.98290252685547, 49.118099212646484, 43.09596633911133, 112.62037658691406, -47.983760833740234, 13.411078453063965, 66.0091323852539, 46.591922760009766, 130.04808044433594, -23.131912231445312, 3.2762603759765625, 27.207048416137695, 59.104591369628906, -18.09402847290039, 40.80510711669922, 41.87506103515625, -39.37977981567383, 94.57713317871094, 47.93730926513672, 61.56938934326172, -39.14743423461914, -122.70137786865234], \"z\": [85.47303009033203, -23.316213607788086, -16.80535316467285, 13.415104866027832, 42.75313186645508, -76.57298278808594, -158.64852905273438, 34.35626983642578, -17.62013816833496, -142.88833618164062, -25.77591896057129, -91.8796615600586, 94.4761734008789, 106.0865707397461, 118.58845520019531, 19.724193572998047, 103.99778747558594, -51.07026672363281, 24.824569702148438, 10.509915351867676, 111.62117767333984, -70.43192291259766, -114.98160552978516, 7.738311290740967, 20.391151428222656, 80.3548355102539, -1.9850353002548218, 117.78614044189453, 19.753036499023438, -95.79348754882812, 81.8763198852539, 100.34680938720703, 70.9141616821289, 16.210344314575195, -97.47806549072266, -30.458723068237305, -98.03269958496094, 21.01236915588379, 40.501304626464844, 3.3912007808685303, 24.957502365112305, -22.453786849975586, -50.1058349609375, 31.63343048095703, 63.345794677734375, -33.56718444824219, -0.9220351576805115, 93.4492416381836, 115.39513397216797, 103.17350006103516, 82.75865936279297, 98.34396362304688, 94.32621002197266, 61.91267395019531, 62.844078063964844, -45.41297149658203, -65.300537109375, 84.76496887207031, 102.64248657226562, 80.451416015625, -126.71023559570312, -88.42591094970703, -11.654256820678711, -77.72354125976562, 66.08634185791016, -91.89124298095703, -105.76850128173828, -101.73998260498047, -119.61930847167969, 37.570068359375, 70.20208740234375, 88.67549896240234, 47.74635696411133, 65.70419311523438, -57.844207763671875, 54.43053436279297, 18.90622901916504, -36.99742889404297, -9.3977689743042, 14.330940246582031, 118.35594940185547, 75.1288833618164, -4.045970916748047, 4.5657267570495605, -77.97217559814453, -3.868875741958618, 116.06556701660156, -29.847366333007812, 124.70486450195312, -121.0938491821289, -50.258949279785156, -19.03614044189453, -110.04589080810547, 19.448139190673828, -50.431427001953125, 28.029640197753906, -56.94999313354492, -10.177789688110352, -17.99286460876465, -67.68351745605469, 19.744518280029297, 46.72515869140625, -48.68706512451172, 89.99349975585938, -23.63332176208496, -23.78265953063965, 52.89992141723633, 136.4771728515625, -25.131561279296875, -94.44575500488281, -128.95018005371094, -85.31488037109375, -33.53116226196289, -88.51335144042969, -32.203548431396484, -30.30368423461914, 6.99937629699707, 133.07904052734375, 95.24092102050781, -27.555641174316406, 50.43433380126953, 91.49853515625, -6.83254337310791, -46.637760162353516, -17.89876365661621, 1.5671484470367432, -66.87884521484375, -43.73688507080078, -127.07437896728516, -30.26541519165039, -54.708091735839844, 5.450396537780762, -71.69361877441406, 24.527175903320312, -30.329683303833008, -35.193817138671875, 49.974037170410156, 68.45179748535156, -49.36809158325195, -122.32117462158203, 103.9970474243164, -18.70905303955078, 65.6395492553711, 75.91962432861328, 19.031349182128906, -71.90818786621094, -60.63345718383789, -3.5738532543182373, -72.18244934082031, -83.2612075805664, -34.81076431274414, -32.545005798339844, -11.923503875732422, -28.078174591064453, 5.292718410491943]}, {\"customdata\": [[null], [null]], \"hovertemplate\": \"Cluster=Cluster 1<br>0=%{x}<br>1=%{y}<br>2=%{z}<br>Feature=%{customdata[0]}<extra></extra>\", \"legendgroup\": \"Cluster 1\", \"marker\": {\"color\": \"#EF553B\", \"opacity\": 0.7, \"symbol\": \"circle\"}, \"mode\": \"markers\", \"name\": \"Cluster 1\", \"scene\": \"scene\", \"showlegend\": true, \"type\": \"scatter3d\", \"x\": [-141.68319702148438, 0.7677657008171082], \"y\": [53.77932357788086, -59.92430877685547], \"z\": [30.377628326416016, -150.11488342285156]}, {\"customdata\": [[null], [null], [null], [null], [null], [null], [null], [null], [null], [null], [null], [null], [null], [null], [null], [null], [null], [null], [null], [null], [null], [null], [null], [null], [null], [null], [null], [null], [null], [null], [null], [null], [null], [null], [null], [null], [null], [null], [null], [null], [null], [null], [null], [null], [null], [null], [null], [null], [null], [null], [null], [null], [4.734], [null], [null], [null], [null], [null], [null], [null], [null], [null], [null], [null], [null], [null], [null], [null], [null], [null], [null], [null], [null], [null]], \"hovertemplate\": \"Cluster=Cluster 2<br>0=%{x}<br>1=%{y}<br>2=%{z}<br>Feature=%{customdata[0]}<extra></extra>\", \"legendgroup\": \"Cluster 2\", \"marker\": {\"color\": \"#00cc96\", \"opacity\": 0.7, \"symbol\": \"circle\"}, \"mode\": \"markers\", \"name\": \"Cluster 2\", \"scene\": \"scene\", \"showlegend\": true, \"type\": \"scatter3d\", \"x\": [-55.60087585449219, 29.70113182067871, -114.48735809326172, -67.82855224609375, -144.49607849121094, -30.265579223632812, -29.632858276367188, -99.83860778808594, -83.79056549072266, -43.89175033569336, -116.92598724365234, -50.096946716308594, 113.52550506591797, -107.62943267822266, -109.6788101196289, -29.235246658325195, -92.29894256591797, -104.86703491210938, -47.82367706298828, -26.859521865844727, 9.267261505126953, -144.7261962890625, -72.84512329101562, 14.659013748168945, 144.93508911132812, -20.198719024658203, -25.04421615600586, -29.40085220336914, -91.83680725097656, -82.56769561767578, 157.4097442626953, -40.49760818481445, -112.4244155883789, 143.01393127441406, -8.024358749389648, 62.793514251708984, -26.689285278320312, 53.2928581237793, -140.48585510253906, -97.62055969238281, 5.122973918914795, -98.26473236083984, -68.81498718261719, -49.073856353759766, -66.14485168457031, 0.3128993809223175, -61.13386154174805, -23.76746940612793, -60.52458572387695, -122.2698974609375, -5.047926902770996, -180.25440979003906, -12.795931816101074, -85.08580780029297, -60.2332763671875, -85.58577728271484, -99.57719421386719, -36.740867614746094, -87.2096939086914, 116.00203704833984, -10.14278793334961, -52.46774673461914, 37.59208297729492, -157.7694091796875, -116.39479064941406, -1.8928312063217163, -67.44969177246094, -80.38887023925781, -74.32327270507812, -60.494422912597656, -39.002227783203125, -128.738037109375, -43.468013763427734, -67.16358184814453], \"y\": [-137.59523010253906, 158.6608123779297, -86.43719482421875, 0.29247382283210754, -48.79200744628906, -107.03492736816406, -65.63416290283203, -122.46141815185547, 31.112852096557617, -97.9278335571289, -134.7908172607422, -61.587955474853516, 45.184654235839844, -75.98860931396484, 101.70313262939453, -40.4248161315918, -101.5075454711914, -38.257991790771484, -30.359277725219727, -113.13616943359375, 125.6104965209961, -23.198081970214844, -28.89517593383789, -104.21351623535156, -79.70333862304688, -98.07868957519531, -105.56253814697266, -80.03678131103516, -43.94678497314453, -9.060057640075684, -34.92435073852539, -133.903076171875, -26.959135055541992, 14.249752044677734, 75.187744140625, -108.72901916503906, -101.60511779785156, -75.6553726196289, -112.27957916259766, -14.885208129882812, -103.32884216308594, -72.70374298095703, -67.29978942871094, -90.35198974609375, -100.75282287597656, -93.1920394897461, -38.37385940551758, -65.35741424560547, -61.2574348449707, 4.23848295211792, -37.67220687866211, -33.82152557373047, -80.8487319946289, -11.596144676208496, -60.99675369262695, -41.502281188964844, -71.33566284179688, -35.43326187133789, -62.60028076171875, 86.8432846069336, 157.88963317871094, -134.9242401123047, 110.89839935302734, -85.90911865234375, -55.718910217285156, -66.54916381835938, -36.61946487426758, -106.00635528564453, -94.24412536621094, 9.59018325805664, -73.6806869506836, 8.727396965026855, -27.664201736450195, -83.90227508544922], \"z\": [-35.93791580200195, -17.69106101989746, 7.312184810638428, 44.456809997558594, 12.49406623840332, 81.1905517578125, -33.613224029541016, 48.06183624267578, 107.96636962890625, -33.07748031616211, -3.8478269577026367, -83.87921142578125, 41.58161544799805, -28.710905075073242, -29.936086654663086, 2.9984700679779053, -26.333404541015625, -51.70228576660156, 65.66045379638672, -115.09701538085938, -84.7295150756836, -33.580020904541016, 97.62834167480469, -81.00077819824219, 36.62864685058594, 35.658138275146484, -79.62612915039062, -143.29437255859375, -15.877595901489258, -1.9796429872512817, 28.55100440979004, -78.87554168701172, 17.96232032775879, 24.07697296142578, 151.14666748046875, -73.86631774902344, -1.625308871269226, 124.44192504882812, -18.29901695251465, 107.91921997070312, -41.03445053100586, -71.34622955322266, -41.47263717651367, -106.23286437988281, -56.776241302490234, -134.46669006347656, -25.832204818725586, 40.79106140136719, 66.1556396484375, 53.364166259765625, -98.972900390625, 54.34705352783203, -104.35843658447266, 76.73604583740234, 31.637535095214844, 42.19568634033203, 53.51862335205078, -121.73802185058594, 12.12651252746582, 17.832204818725586, 4.635195732116699, 3.9906296730041504, -80.1602783203125, -13.373494148254395, 34.96926498413086, -64.1205062866211, 12.26121711730957, 17.296077728271484, 51.92512130737305, 136.87994384765625, 7.603583335876465, 5.506298065185547, 33.35222625732422, -6.259319305419922]}],                        {\"height\": 800, \"legend\": {\"title\": {\"text\": \"Cluster\"}, \"tracegroupgap\": 0}, \"scene\": {\"domain\": {\"x\": [0.0, 1.0], \"y\": [0.0, 1.0]}, \"xaxis\": {\"title\": {\"text\": \"0\"}}, \"yaxis\": {\"title\": {\"text\": \"1\"}}, \"zaxis\": {\"title\": {\"text\": \"2\"}}}, \"template\": {\"data\": {\"bar\": [{\"error_x\": {\"color\": \"#2a3f5f\"}, \"error_y\": {\"color\": \"#2a3f5f\"}, \"marker\": {\"line\": {\"color\": \"#E5ECF6\", \"width\": 0.5}}, \"type\": \"bar\"}], \"barpolar\": [{\"marker\": {\"line\": {\"color\": \"#E5ECF6\", \"width\": 0.5}}, \"type\": \"barpolar\"}], \"carpet\": [{\"aaxis\": {\"endlinecolor\": \"#2a3f5f\", \"gridcolor\": \"white\", \"linecolor\": \"white\", \"minorgridcolor\": \"white\", \"startlinecolor\": \"#2a3f5f\"}, \"baxis\": {\"endlinecolor\": \"#2a3f5f\", \"gridcolor\": \"white\", \"linecolor\": \"white\", \"minorgridcolor\": \"white\", \"startlinecolor\": \"#2a3f5f\"}, \"type\": \"carpet\"}], \"choropleth\": [{\"colorbar\": {\"outlinewidth\": 0, \"ticks\": \"\"}, \"type\": \"choropleth\"}], \"contour\": [{\"colorbar\": {\"outlinewidth\": 0, \"ticks\": \"\"}, \"colorscale\": [[0.0, \"#0d0887\"], [0.1111111111111111, \"#46039f\"], [0.2222222222222222, \"#7201a8\"], [0.3333333333333333, \"#9c179e\"], [0.4444444444444444, \"#bd3786\"], [0.5555555555555556, \"#d8576b\"], [0.6666666666666666, \"#ed7953\"], [0.7777777777777778, \"#fb9f3a\"], [0.8888888888888888, \"#fdca26\"], [1.0, \"#f0f921\"]], \"type\": \"contour\"}], \"contourcarpet\": [{\"colorbar\": {\"outlinewidth\": 0, \"ticks\": \"\"}, \"type\": \"contourcarpet\"}], \"heatmap\": [{\"colorbar\": {\"outlinewidth\": 0, \"ticks\": \"\"}, \"colorscale\": [[0.0, \"#0d0887\"], [0.1111111111111111, \"#46039f\"], [0.2222222222222222, \"#7201a8\"], [0.3333333333333333, \"#9c179e\"], [0.4444444444444444, \"#bd3786\"], [0.5555555555555556, \"#d8576b\"], [0.6666666666666666, \"#ed7953\"], [0.7777777777777778, \"#fb9f3a\"], [0.8888888888888888, \"#fdca26\"], [1.0, \"#f0f921\"]], \"type\": \"heatmap\"}], \"heatmapgl\": [{\"colorbar\": {\"outlinewidth\": 0, \"ticks\": \"\"}, \"colorscale\": [[0.0, \"#0d0887\"], [0.1111111111111111, \"#46039f\"], [0.2222222222222222, \"#7201a8\"], [0.3333333333333333, \"#9c179e\"], [0.4444444444444444, \"#bd3786\"], [0.5555555555555556, \"#d8576b\"], [0.6666666666666666, \"#ed7953\"], [0.7777777777777778, \"#fb9f3a\"], [0.8888888888888888, \"#fdca26\"], [1.0, \"#f0f921\"]], \"type\": \"heatmapgl\"}], \"histogram\": [{\"marker\": {\"colorbar\": {\"outlinewidth\": 0, \"ticks\": \"\"}}, \"type\": \"histogram\"}], \"histogram2d\": [{\"colorbar\": {\"outlinewidth\": 0, \"ticks\": \"\"}, \"colorscale\": [[0.0, \"#0d0887\"], [0.1111111111111111, \"#46039f\"], [0.2222222222222222, \"#7201a8\"], [0.3333333333333333, \"#9c179e\"], [0.4444444444444444, \"#bd3786\"], [0.5555555555555556, \"#d8576b\"], [0.6666666666666666, \"#ed7953\"], [0.7777777777777778, \"#fb9f3a\"], [0.8888888888888888, \"#fdca26\"], [1.0, \"#f0f921\"]], \"type\": \"histogram2d\"}], \"histogram2dcontour\": [{\"colorbar\": {\"outlinewidth\": 0, \"ticks\": \"\"}, \"colorscale\": [[0.0, \"#0d0887\"], [0.1111111111111111, \"#46039f\"], [0.2222222222222222, \"#7201a8\"], [0.3333333333333333, \"#9c179e\"], [0.4444444444444444, \"#bd3786\"], [0.5555555555555556, \"#d8576b\"], [0.6666666666666666, \"#ed7953\"], [0.7777777777777778, \"#fb9f3a\"], [0.8888888888888888, \"#fdca26\"], [1.0, \"#f0f921\"]], \"type\": \"histogram2dcontour\"}], \"mesh3d\": [{\"colorbar\": {\"outlinewidth\": 0, \"ticks\": \"\"}, \"type\": \"mesh3d\"}], \"parcoords\": [{\"line\": {\"colorbar\": {\"outlinewidth\": 0, \"ticks\": \"\"}}, \"type\": \"parcoords\"}], \"pie\": [{\"automargin\": true, \"type\": \"pie\"}], \"scatter\": [{\"marker\": {\"colorbar\": {\"outlinewidth\": 0, \"ticks\": \"\"}}, \"type\": \"scatter\"}], \"scatter3d\": [{\"line\": {\"colorbar\": {\"outlinewidth\": 0, \"ticks\": \"\"}}, \"marker\": {\"colorbar\": {\"outlinewidth\": 0, \"ticks\": \"\"}}, \"type\": \"scatter3d\"}], \"scattercarpet\": [{\"marker\": {\"colorbar\": {\"outlinewidth\": 0, \"ticks\": \"\"}}, \"type\": \"scattercarpet\"}], \"scattergeo\": [{\"marker\": {\"colorbar\": {\"outlinewidth\": 0, \"ticks\": \"\"}}, \"type\": \"scattergeo\"}], \"scattergl\": [{\"marker\": {\"colorbar\": {\"outlinewidth\": 0, \"ticks\": \"\"}}, \"type\": \"scattergl\"}], \"scattermapbox\": [{\"marker\": {\"colorbar\": {\"outlinewidth\": 0, \"ticks\": \"\"}}, \"type\": \"scattermapbox\"}], \"scatterpolar\": [{\"marker\": {\"colorbar\": {\"outlinewidth\": 0, \"ticks\": \"\"}}, \"type\": \"scatterpolar\"}], \"scatterpolargl\": [{\"marker\": {\"colorbar\": {\"outlinewidth\": 0, \"ticks\": \"\"}}, \"type\": \"scatterpolargl\"}], \"scatterternary\": [{\"marker\": {\"colorbar\": {\"outlinewidth\": 0, \"ticks\": \"\"}}, \"type\": \"scatterternary\"}], \"surface\": [{\"colorbar\": {\"outlinewidth\": 0, \"ticks\": \"\"}, \"colorscale\": [[0.0, \"#0d0887\"], [0.1111111111111111, \"#46039f\"], [0.2222222222222222, \"#7201a8\"], [0.3333333333333333, \"#9c179e\"], [0.4444444444444444, \"#bd3786\"], [0.5555555555555556, \"#d8576b\"], [0.6666666666666666, \"#ed7953\"], [0.7777777777777778, \"#fb9f3a\"], [0.8888888888888888, \"#fdca26\"], [1.0, \"#f0f921\"]], \"type\": \"surface\"}], \"table\": [{\"cells\": {\"fill\": {\"color\": \"#EBF0F8\"}, \"line\": {\"color\": \"white\"}}, \"header\": {\"fill\": {\"color\": \"#C8D4E3\"}, \"line\": {\"color\": \"white\"}}, \"type\": \"table\"}]}, \"layout\": {\"annotationdefaults\": {\"arrowcolor\": \"#2a3f5f\", \"arrowhead\": 0, \"arrowwidth\": 1}, \"autotypenumbers\": \"strict\", \"coloraxis\": {\"colorbar\": {\"outlinewidth\": 0, \"ticks\": \"\"}}, \"colorscale\": {\"diverging\": [[0, \"#8e0152\"], [0.1, \"#c51b7d\"], [0.2, \"#de77ae\"], [0.3, \"#f1b6da\"], [0.4, \"#fde0ef\"], [0.5, \"#f7f7f7\"], [0.6, \"#e6f5d0\"], [0.7, \"#b8e186\"], [0.8, \"#7fbc41\"], [0.9, \"#4d9221\"], [1, \"#276419\"]], \"sequential\": [[0.0, \"#0d0887\"], [0.1111111111111111, \"#46039f\"], [0.2222222222222222, \"#7201a8\"], [0.3333333333333333, \"#9c179e\"], [0.4444444444444444, \"#bd3786\"], [0.5555555555555556, \"#d8576b\"], [0.6666666666666666, \"#ed7953\"], [0.7777777777777778, \"#fb9f3a\"], [0.8888888888888888, \"#fdca26\"], [1.0, \"#f0f921\"]], \"sequentialminus\": [[0.0, \"#0d0887\"], [0.1111111111111111, \"#46039f\"], [0.2222222222222222, \"#7201a8\"], [0.3333333333333333, \"#9c179e\"], [0.4444444444444444, \"#bd3786\"], [0.5555555555555556, \"#d8576b\"], [0.6666666666666666, \"#ed7953\"], [0.7777777777777778, \"#fb9f3a\"], [0.8888888888888888, \"#fdca26\"], [1.0, \"#f0f921\"]]}, \"colorway\": [\"#636efa\", \"#EF553B\", \"#00cc96\", \"#ab63fa\", \"#FFA15A\", \"#19d3f3\", \"#FF6692\", \"#B6E880\", \"#FF97FF\", \"#FECB52\"], \"font\": {\"color\": \"#2a3f5f\"}, \"geo\": {\"bgcolor\": \"white\", \"lakecolor\": \"white\", \"landcolor\": \"#E5ECF6\", \"showlakes\": true, \"showland\": true, \"subunitcolor\": \"white\"}, \"hoverlabel\": {\"align\": \"left\"}, \"hovermode\": \"closest\", \"mapbox\": {\"style\": \"light\"}, \"paper_bgcolor\": \"white\", \"plot_bgcolor\": \"#E5ECF6\", \"polar\": {\"angularaxis\": {\"gridcolor\": \"white\", \"linecolor\": \"white\", \"ticks\": \"\"}, \"bgcolor\": \"#E5ECF6\", \"radialaxis\": {\"gridcolor\": \"white\", \"linecolor\": \"white\", \"ticks\": \"\"}}, \"scene\": {\"xaxis\": {\"backgroundcolor\": \"#E5ECF6\", \"gridcolor\": \"white\", \"gridwidth\": 2, \"linecolor\": \"white\", \"showbackground\": true, \"ticks\": \"\", \"zerolinecolor\": \"white\"}, \"yaxis\": {\"backgroundcolor\": \"#E5ECF6\", \"gridcolor\": \"white\", \"gridwidth\": 2, \"linecolor\": \"white\", \"showbackground\": true, \"ticks\": \"\", \"zerolinecolor\": \"white\"}, \"zaxis\": {\"backgroundcolor\": \"#E5ECF6\", \"gridcolor\": \"white\", \"gridwidth\": 2, \"linecolor\": \"white\", \"showbackground\": true, \"ticks\": \"\", \"zerolinecolor\": \"white\"}}, \"shapedefaults\": {\"line\": {\"color\": \"#2a3f5f\"}}, \"ternary\": {\"aaxis\": {\"gridcolor\": \"white\", \"linecolor\": \"white\", \"ticks\": \"\"}, \"baxis\": {\"gridcolor\": \"white\", \"linecolor\": \"white\", \"ticks\": \"\"}, \"bgcolor\": \"#E5ECF6\", \"caxis\": {\"gridcolor\": \"white\", \"linecolor\": \"white\", \"ticks\": \"\"}}, \"title\": {\"x\": 0.05}, \"xaxis\": {\"automargin\": true, \"gridcolor\": \"white\", \"linecolor\": \"white\", \"ticks\": \"\", \"title\": {\"standoff\": 15}, \"zerolinecolor\": \"white\", \"zerolinewidth\": 2}, \"yaxis\": {\"automargin\": true, \"gridcolor\": \"white\", \"linecolor\": \"white\", \"ticks\": \"\", \"title\": {\"standoff\": 15}, \"zerolinecolor\": \"white\", \"zerolinewidth\": 2}}}, \"title\": {\"text\": \"3d TSNE Plot for Clusters\"}, \"width\": 900},                        {\"responsive\": true}                    ).then(function(){\n                            \nvar gd = document.getElementById('0ca49111-98cd-40c2-9612-1ef8e134ad80');\nvar x = new MutationObserver(function (mutations, observer) {{\n        var display = window.getComputedStyle(gd).display;\n        if (!display || display === 'none') {{\n            console.log([gd, 'removed!']);\n            Plotly.purge(gd);\n            observer.disconnect();\n        }}\n}});\n\n// Listen for the removal of the full notebook cells\nvar notebookContainer = gd.closest('#notebook-container');\nif (notebookContainer) {{\n    x.observe(notebookContainer, {childList: true});\n}}\n\n// Listen for the clearing of the current output cell\nvar outputEl = gd.closest('.output');\nif (outputEl) {{\n    x.observe(outputEl, {childList: true});\n}}\n\n                        })                };                });            </script>        </div>"
     },
     "metadata": {},
     "output_type": "display_data"
    }
   ],
   "source": [
    "plot_model(eval_model, plot = 'tsne')"
   ],
   "metadata": {
    "collapsed": false,
    "pycharm": {
     "name": "#%%\n"
    }
   }
  },
  {
   "cell_type": "code",
   "execution_count": 47,
   "outputs": [
    {
     "name": "stdout",
     "output_type": "stream",
     "text": [
      "DONE\n"
     ]
    }
   ],
   "source": [
    "c2.to_json('cluster_2.json')\n",
    "c3.to_json('cluster_3.json')\n",
    "print('DONE')"
   ],
   "metadata": {
    "collapsed": false,
    "pycharm": {
     "name": "#%%\n"
    }
   }
  }
 ],
 "metadata": {
  "kernelspec": {
   "name": "pycharm-41f59cfe",
   "language": "python",
   "display_name": "PyCharm (power_emissions)"
  },
  "language_info": {
   "codemirror_mode": {
    "name": "ipython",
    "version": 3
   },
   "file_extension": ".py",
   "mimetype": "text/x-python",
   "name": "python",
   "nbconvert_exporter": "python",
   "pygments_lexer": "ipython3",
   "version": "3.9.9"
  }
 },
 "nbformat": 4,
 "nbformat_minor": 2
}