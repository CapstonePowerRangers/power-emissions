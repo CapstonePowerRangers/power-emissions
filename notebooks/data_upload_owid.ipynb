{
 "cells": [
  {
   "cell_type": "code",
   "execution_count": 1,
   "metadata": {
    "collapsed": true
   },
   "outputs": [
    {
     "name": "stdout",
     "output_type": "stream",
     "text": [
      "Start uploading\n",
      "Completed\n"
     ]
    }
   ],
   "source": [
    "from library.common import Database\n",
    "import pathlib\n",
    "import pandas as pd\n",
    "import numpy as np\n",
    "\n",
    "path_to_dataset = \\\n",
    "    r'https://github.com/owid/co2-data/raw/master/owid-co2-data.xlsx'\n",
    "\n",
    "db = Database()\n",
    "print(\"Start uploading\")\n",
    "name_of_dataset = \"owid_CO2_Greenhouse_Gas_Emissions\"\n",
    "df = pd.read_excel(path_to_dataset)\n",
    "df.to_sql(name_of_dataset, db.config, if_exists = 'replace', index = False, method = 'multi')\n",
    "\n",
    "print(\"Completed\")"
   ]
  },
  {
   "cell_type": "code",
   "execution_count": null,
   "metadata": {
    "collapsed": false,
    "pycharm": {
     "name": "#%%\n"
    }
   },
   "outputs": [],
   "source": [
    "\n"
   ]
  }
 ],
 "metadata": {
  "kernelspec": {
   "display_name": "Python 3",
   "language": "python",
   "name": "python3"
  },
  "language_info": {
   "codemirror_mode": {
    "name": "ipython",
    "version": 3
   },
   "file_extension": ".py",
   "mimetype": "text/x-python",
   "name": "python",
   "nbconvert_exporter": "python",
   "pygments_lexer": "ipython3",
   "version": "3.9.1"
  }
 },
 "nbformat": 4,
 "nbformat_minor": 0
}
