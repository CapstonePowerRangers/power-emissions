{
 "cells": [
  {
   "cell_type": "code",
   "execution_count": 1,
   "metadata": {
    "collapsed": true
   },
   "outputs": [
    {
     "name": "stdout",
     "output_type": "stream",
     "text": [
      "API_NY_GDP_MKTP_KD_ZG_DS2_en_csv_v2_3052565\n",
      "API_NY_GDP_MKTP_CD_DS2_en_csv_v2_3011433\n",
      "API_NV_IND_MANF_CD_DS2_en_csv_v2_3016827\n",
      "API_EG_ELC_COAL_ZS_DS2_en_csv_v2_3016366\n",
      "API_NE_IMP_GNFS_CD_DS2_en_csv_v2_3052632\n",
      "API_EG_USE_ELEC_KH_PC_DS2_en_csv_v2_3012285\n",
      "API_NV_MNF_TECH_ZS_UN_DS2_en_csv_v2_3016843\n",
      "co2_energy_electricity and heat\n",
      "co2_energy_fugitive emission\n",
      "co2_bunker fuel\n",
      "co2_energy_transportation\n",
      "API_NY_GDP_MKTP_KD_DS2_en_csv_v2_3011565\n",
      "API_NE_EXP_GNFS_CD_DS2_en_csv_v2_3052968\n",
      "co2_total excluding LUCF\n",
      "API_EN_ATM_PM25_MC_M3_DS2_en_csv_v2_3016460\n",
      "co2_energy_total\n",
      "co2_land use change\n",
      "API_SP_POP_TOTL_DS2_en_csv_v2_3011530\n",
      "API_EN_ATM_GHGT_KT_CE_DS2_en_csv_v2_3015419\n",
      "co2_industrial process\n",
      "API_EG_ELC_NGAS_ZS_DS2_en_csv_v2_3016373\n",
      "co2_energy_other fuel consumption\n",
      "API_EG_USE_PCAP_KG_OE_DS2_en_csv_v2_3052915\n",
      "API_EG_ELC_PETR_ZS_DS2_en_csv_v2_3016377\n",
      "co2_energy_manufacturing\n",
      "API_EG_ELC_NUCL_ZS_DS2_en_csv_v2_3016375\n",
      "API_EN_ATM_CO2E_KT_DS2_en_csv_v2_3011692\n",
      "co2_energy_building\n",
      "File Capstone data sources.docx is NOT processed\n"
     ]
    }
   ],
   "source": [
    "from library.common import Database\n",
    "import pathlib\n",
    "import pandas as pd\n",
    "import numpy as np\n",
    "\n",
    "path_to_data = r'data/raw/data'\n",
    "db = Database()\n",
    "\n",
    "# Get the path to raw ddata files\n",
    "tgt_path = pathlib.Path.cwd().parent.joinpath(path_to_data)\n",
    "\n",
    "# Iterate through all hte files and ingest all the data files\n",
    "# and push it to the database\n",
    "for file in tgt_path.iterdir():\n",
    "    name_portion = file.stem\n",
    "    name_portion = name_portion.replace(\".\", \"_\")\n",
    "    suffix_portion = file.suffix\n",
    "    full_path = tgt_path.joinpath(file.name)\n",
    "    write_to_db = False\n",
    "    \n",
    "    # the data files will have a header on the first line or the fourth line\n",
    "    # Assume that the header is on the first line\n",
    "    if suffix_portion == r\".csv\":\n",
    "        try:\n",
    "            df = pd.read_csv(full_path)\n",
    "            write_to_db = True\n",
    "        except:\n",
    "            # and if it does not work - then assume that it si in line 4\n",
    "            df = pd.read_csv(full_path, skiprows = 4)\n",
    "            write_to_db = True\n",
    "    elif (suffix_portion == r\".xlsx\") | (suffix_portion == \".xls\"):\n",
    "        df = pd.read_excel(full_path)\n",
    "        write_to_db == True\n",
    "    else:\n",
    "        print(f'File {file.name} is NOT processed')\n",
    "\n",
    "    if write_to_db:\n",
    "        print(name_portion)\n",
    "        df.to_sql(name_portion, db.config, if_exists = 'replace', index = False, method = 'multi')\n"
   ]
  },
  {
   "cell_type": "code",
   "execution_count": null,
   "metadata": {
    "collapsed": false,
    "pycharm": {
     "name": "#%%\n"
    }
   },
   "outputs": [],
   "source": []
  }
 ],
 "metadata": {
  "kernelspec": {
   "display_name": "Python 3",
   "language": "python",
   "name": "python3"
  },
  "language_info": {
   "codemirror_mode": {
    "name": "ipython",
    "version": 3
   },
   "file_extension": ".py",
   "mimetype": "text/x-python",
   "name": "python",
   "nbconvert_exporter": "python",
   "pygments_lexer": "ipython3",
   "version": "3.9.1"
  }
 },
 "nbformat": 4,
 "nbformat_minor": 0
}