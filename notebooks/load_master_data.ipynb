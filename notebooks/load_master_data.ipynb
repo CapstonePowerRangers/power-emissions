{
 "cells": [
  {
   "cell_type": "code",
   "execution_count": 1,
   "metadata": {
    "collapsed": true,
    "pycharm": {
     "name": "#%%\n"
    }
   },
   "outputs": [
    {
     "name": "stdout",
     "output_type": "stream",
     "text": [
      "Data loaded from DATABASE\n"
     ]
    }
   ],
   "source": [
    "from library.common import Core, Database\n",
    "import pandas as pd\n",
    "\n",
    "def clean_column_names(df):\n",
    "    _new_col = []\n",
    "    for _col in df.columns:\n",
    "        _col = _col.lower()\n",
    "        _col = _col.replace(' ', '_')\n",
    "        _col = _col.replace(r'%', \"_pct\")\n",
    "        _new_col.append(_col)\n",
    "    return _new_col\n",
    "\n",
    "db = Database()\n",
    "core = Core()\n",
    "\n",
    "db_table = 'consolidated_data_csv'\n",
    "csv = pd.read_sql(db_table, db.config)\n",
    "csv.columns = clean_column_names(csv)\n",
    "csv = csv.rename({'year': 'csv_year'}, axis = 1)\n",
    "csv_list = list(csv.country_code.unique())\n",
    "\n",
    "db_table = 'owid_co2_greenhouse_gas_emissions'\n",
    "owid = pd.read_sql(db_table, db.engine)\n",
    "owid_list = list(owid.iso_code.unique())\n",
    "owid.columns = clean_column_names(owid)\n",
    "\n",
    "print('Data loaded from DATABASE')"
   ]
  },
  {
   "cell_type": "code",
   "execution_count": null,
   "outputs": [
    {
     "name": "stdout",
     "output_type": "stream",
     "text": [
      "(25204, 58) (20798, 58)\n",
      "(13298, 51) (12383, 51)\n",
      "Data manipulation COMPLETED\n"
     ]
    }
   ],
   "source": [
    "final_list = set(csv_list).intersection(set(owid_list))\n",
    "\n",
    "o_df = owid[owid.iso_code.isin(final_list)].copy()\n",
    "print(owid.shape, o_df.shape)\n",
    "c_df = csv[csv.country_code.isin(final_list)].copy()\n",
    "print(csv.shape, c_df.shape)\n",
    "\n",
    "\n",
    "c_key = ['country_code', 'csv_year']\n",
    "o_key = ['iso_code', 'year']\n",
    "\n",
    "final_df = o_df.merge(c_df, how = 'left',  left_on= o_key, right_on= c_key, validate = '1:1').fillna(0)\n",
    "final_df = final_df.drop(labels = ['country_code', 'csv_year', 'country_name'], axis = 1)\n",
    "\n",
    "print(\"Data manipulation COMPLETED\")\n",
    "\n",
    "table = 'master_data_source'\n",
    "final_df.to_sql(table, db.config, index = False, if_exists = 'replace')\n",
    "print(\"MASTER DATA loaded to database\")"
   ],
   "metadata": {
    "collapsed": false,
    "pycharm": {
     "name": "#%%\n"
    }
   }
  }
 ],
 "metadata": {
  "kernelspec": {
   "display_name": "Python 3",
   "language": "python",
   "name": "python3"
  },
  "language_info": {
   "codemirror_mode": {
    "name": "ipython",
    "version": 2
   },
   "file_extension": ".py",
   "mimetype": "text/x-python",
   "name": "python",
   "nbconvert_exporter": "python",
   "pygments_lexer": "ipython2",
   "version": "2.7.6"
  }
 },
 "nbformat": 4,
 "nbformat_minor": 0
}