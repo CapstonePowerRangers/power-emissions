{
 "cells": [
  {
   "cell_type": "code",
   "execution_count": 2,
   "metadata": {
    "pycharm": {
     "name": "#%%\n"
    }
   },
   "outputs": [
    {
     "name": "stdout",
     "output_type": "stream",
     "text": [
      "API_EG_ELC_COAL_ZS\n",
      "API_EG_ELC_NGAS_ZS\n",
      "API_EG_ELC_NUCL_ZS\n",
      "API_EG_ELC_PETR_ZS\n",
      "API_EG_FEC_RNEW_ZS_DS2\n",
      "API_EG_USE_ELEC_KH_PC\n",
      "API_EG_USE_PCAP_KG_OE\n",
      "API_EN_ATM_CO2E_KT\n",
      "API_EN_ATM_GHGT_KT_CE\n",
      "API_EN_ATM_PM25_MC_M3\n",
      "API_NE_EXP_GNFS_CD\n",
      "API_NE_IMP_GNFS_CD\n",
      "API_NV_IND_MANF_CD\n",
      "API_NV_IND_TOTL_CD\n",
      "API_NV_MNF_TECH_ZS_UN\n",
      "API_NY_GDP_MKTP_CD\n",
      "API_NY_GDP_MKTP_KD_ZG\n",
      "API_NY_GDP_MKTP_KD\n",
      "API_SP_POP_TOTL\n",
      "API_SP_URB_TOTL_IN_ZS\n",
      "API_TM_VAL_MRCH_CD_WT\n",
      "API_TX_VAL_MANF_ZS_UN\n",
      "API_TX_VAL_MRCH_CD_WT\n",
      "GDP_CD_UN\n",
      "GDP_KD_UN\n",
      "Manufacturing_VA_CD_UN\n",
      "co2_bunker_fuel\n",
      "co2_energy_building\n",
      "co2_energy_electricity_and_heat\n",
      "co2_energy_fugitive_emission\n",
      "co2_energy_manufacturing\n",
      "co2_energy_other_fuel_consumption\n",
      "co2_energy_total\n",
      "co2_energy_transportation\n",
      "co2_industrial_process\n",
      "co2_land_use_change\n",
      "co2_total_excluding_LUCF\n"
     ]
    }
   ],
   "source": [
    "from library.common import Database\n",
    "import pathlib\n",
    "import pandas as pd\n",
    "import numpy as np\n",
    "\n",
    "path_to_data = r'data/raw/data/noskip'\n",
    "db = Database()\n",
    "manifest = 'manifest_20211114_1706.xlsx'\n",
    "\n",
    "# Get the path to raw ddata files\n",
    "tgt_path = pathlib.Path.cwd().parent.joinpath(path_to_data)\n",
    "\n",
    "# Get the path to manifest file to identify all the files to upload\n",
    "manifest_loc = tgt_path.joinpath(manifest)\n",
    "files_to_process = pd.read_excel(manifest_loc)\n",
    "\n",
    "# Iterate through each data file and upload to the database\n",
    "for i, f in files_to_process.iterrows():\n",
    "    filename = f[0]\n",
    "    table = f[1]\n",
    "    file_format = f[2]\n",
    "    skiprows = f[3]\n",
    "\n",
    "    # Enforce naming convention and change all spaces and periods to underscores\n",
    "    table = table.replace(\".\", \"_\")\n",
    "    table = table.replace(\" \", \"_\")\n",
    "\n",
    "    full_path = tgt_path.joinpath(filename)\n",
    "    write_to_db = False\n",
    "    \n",
    "    # the data files will have a header on the first line or the fourth line\n",
    "    # Assume that the header is on the first line\n",
    "    if file_format == r\"csv\":\n",
    "        try:\n",
    "            df = pd.read_csv(full_path)\n",
    "            write_to_db = True\n",
    "        except:\n",
    "            # and if it does not work - then assume that it si in line 4\n",
    "            df = pd.read_csv(full_path, skiprows = 4)\n",
    "            write_to_db = True\n",
    "    elif (file_format == r\".xlsx\"):\n",
    "        df = pd.read_excel(full_path)\n",
    "        write_to_db == True\n",
    "    else:\n",
    "        print(f'File {filename} is NOT processed')\n",
    "\n",
    "    if write_to_db:\n",
    "        print(table)\n",
    "        df.to_sql(table, db.config, if_exists = 'replace', index = False, method = 'multi')\n"
   ]
  }
 ],
 "metadata": {
  "kernelspec": {
   "display_name": "Python 3 (ipykernel)",
   "language": "python",
   "name": "python3"
  },
  "language_info": {
   "codemirror_mode": {
    "name": "ipython",
    "version": 3
   },
   "file_extension": ".py",
   "mimetype": "text/x-python",
   "name": "python",
   "nbconvert_exporter": "python",
   "pygments_lexer": "ipython3",
   "version": "3.8.12"
  },
  "toc-autonumbering": false
 },
 "nbformat": 4,
 "nbformat_minor": 4
}