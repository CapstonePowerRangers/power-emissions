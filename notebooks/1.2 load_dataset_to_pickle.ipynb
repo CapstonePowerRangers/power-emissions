{
 "cells": [
  {
   "cell_type": "code",
   "execution_count": null,
   "outputs": [],
   "source": [
    "'''\n",
    "1.2 load_dataset_to_pickle\n",
    "\n",
    "Reads the master data table from the database and saves it a pickle to reduce\n",
    "date retrieval time.\n",
    "\n",
    "Koon Leong Ho\n",
    "'''"
   ],
   "metadata": {
    "collapsed": false,
    "pycharm": {
     "name": "#%%\n"
    }
   }
  },
  {
   "cell_type": "code",
   "execution_count": 1,
   "metadata": {
    "collapsed": true,
    "pycharm": {
     "name": "#%%\n"
    }
   },
   "outputs": [],
   "source": [
    "from library.common import Database, Core\n",
    "from pathlib import Path\n",
    "import pandas as pd\n",
    "import pickle\n",
    "\n",
    "cwd = Path.cwd()\n",
    "db = Database()\n",
    "\n",
    "df = pd.read_sql('master_dataset', db.config)\n",
    "processed_path = cwd.parent/'data'/'processed'\n",
    "full_path = processed_path/'master_dataset.pkl'\n",
    "full_path = full_path.as_posix()\n",
    "df.to_pickle(full_path)\n",
    "\n"
   ]
  }
 ],
 "metadata": {
  "kernelspec": {
   "display_name": "Python 3",
   "language": "python",
   "name": "python3"
  },
  "language_info": {
   "codemirror_mode": {
    "name": "ipython",
    "version": 2
   },
   "file_extension": ".py",
   "mimetype": "text/x-python",
   "name": "python",
   "nbconvert_exporter": "python",
   "pygments_lexer": "ipython2",
   "version": "2.7.6"
  }
 },
 "nbformat": 4,
 "nbformat_minor": 0
}