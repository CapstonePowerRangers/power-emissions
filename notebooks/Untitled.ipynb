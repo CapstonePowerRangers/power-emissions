{
 "cells": [
  {
   "cell_type": "code",
   "id": "7ac52c06-9ac2-4b54-a72a-24a46d1ac872",
   "metadata": {
    "pycharm": {
     "name": "#%%\n"
    }
   },
   "source": [
    "from library.common import Core\n",
    "\n",
    "core = Core()\n",
    "df = core.dataset"
   ],
   "execution_count": 10,
   "outputs": []
  },
  {
   "cell_type": "code",
   "execution_count": 11,
   "outputs": [
    {
     "data": {
      "text/plain": "      iso_code      country  year    co2  consumption_co2  co2_growth_prct  \\\n0          AFG  Afghanistan  1949  0.015              NaN              NaN   \n1          AFG  Afghanistan  1950  0.084              NaN            475.0   \n2          AFG  Afghanistan  1951  0.092              NaN              8.7   \n3          AFG  Afghanistan  1952  0.092              NaN              NaN   \n4          AFG  Afghanistan  1953  0.106              NaN             16.0   \n...        ...          ...   ...    ...              ...              ...   \n23136      MCO         None  2020    NaN              NaN              NaN   \n23137      MNP         None  2020    NaN              NaN              NaN   \n23138      SMR         None  2020    NaN              NaN              NaN   \n23139      VIR         None  2020    NaN              NaN              NaN   \n23140      XKX         None  2020    NaN              NaN              NaN   \n\n       co2_growth_abs  trade_co2  co2_per_capita  consumption_co2_per_capita  \\\n0                 NaN        NaN           0.002                         NaN   \n1               0.070        NaN           0.011                         NaN   \n2               0.007        NaN           0.012                         NaN   \n3                 NaN        NaN           0.012                         NaN   \n4               0.015        NaN           0.013                         NaN   \n...               ...        ...             ...                         ...   \n23136             NaN        NaN             NaN                         NaN   \n23137             NaN        NaN             NaN                         NaN   \n23138             NaN        NaN             NaN                         NaN   \n23139             NaN        NaN             NaN                         NaN   \n23140             NaN        NaN             NaN                         NaN   \n\n       ...  total_electricity_production  \\\n0      ...                           NaN   \n1      ...                           NaN   \n2      ...                           NaN   \n3      ...                           NaN   \n4      ...                           NaN   \n...    ...                           ...   \n23136  ...                           NaN   \n23137  ...                           NaN   \n23138  ...                           NaN   \n23139  ...                           NaN   \n23140  ...                           NaN   \n\n       electricity_production_from_renewable  \\\n0                                        NaN   \n1                                        NaN   \n2                                        NaN   \n3                                        NaN   \n4                                        NaN   \n...                                      ...   \n23136                                    NaN   \n23137                                    NaN   \n23138                                    NaN   \n23139                                    NaN   \n23140                                    NaN   \n\n       primary_energy_consumption_per_capita  fossil_energy_consumption_share  \\\n0                                        NaN                              NaN   \n1                                        NaN                              NaN   \n2                                        NaN                              NaN   \n3                                        NaN                              NaN   \n4                                        NaN                              NaN   \n...                                      ...                              ...   \n23136                                    NaN                              NaN   \n23137                                    NaN                              NaN   \n23138                                    NaN                              NaN   \n23139                                    NaN                              NaN   \n23140                            1354.948815                              NaN   \n\n       renewable_electricity_production_share  energy_intensity  \\\n0                                         NaN               NaN   \n1                                         NaN               NaN   \n2                                         NaN               NaN   \n3                                         NaN               NaN   \n4                                         NaN               NaN   \n...                                       ...               ...   \n23136                                     NaN               NaN   \n23137                                     NaN               NaN   \n23138                                     NaN               NaN   \n23139                                     NaN               NaN   \n23140                                     NaN          0.339329   \n\n       renewable_energy_consumption_share  percent_of_environment_patent  \\\n0                                     NaN                            NaN   \n1                                     NaN                            NaN   \n2                                     NaN                            NaN   \n3                                     NaN                            NaN   \n4                                     NaN                            NaN   \n...                                   ...                            ...   \n23136                                 NaN                            NaN   \n23137                                 NaN                            NaN   \n23138                                 NaN                            NaN   \n23139                              3.3918                            NaN   \n23140                             26.9020                            NaN   \n\n                          region         income_group  \n0                           None                 None  \n1                           None                 None  \n2                           None                 None  \n3                           None                 None  \n4                           None                 None  \n...                          ...                  ...  \n23136      Europe & Central Asia          High income  \n23137        East Asia & Pacific          High income  \n23138      Europe & Central Asia          High income  \n23139  Latin America & Caribbean          High income  \n23140      Europe & Central Asia  Upper middle income  \n\n[22870 rows x 104 columns]",
      "text/html": "<div>\n<style scoped>\n    .dataframe tbody tr th:only-of-type {\n        vertical-align: middle;\n    }\n\n    .dataframe tbody tr th {\n        vertical-align: top;\n    }\n\n    .dataframe thead th {\n        text-align: right;\n    }\n</style>\n<table border=\"1\" class=\"dataframe\">\n  <thead>\n    <tr style=\"text-align: right;\">\n      <th></th>\n      <th>iso_code</th>\n      <th>country</th>\n      <th>year</th>\n      <th>co2</th>\n      <th>consumption_co2</th>\n      <th>co2_growth_prct</th>\n      <th>co2_growth_abs</th>\n      <th>trade_co2</th>\n      <th>co2_per_capita</th>\n      <th>consumption_co2_per_capita</th>\n      <th>...</th>\n      <th>total_electricity_production</th>\n      <th>electricity_production_from_renewable</th>\n      <th>primary_energy_consumption_per_capita</th>\n      <th>fossil_energy_consumption_share</th>\n      <th>renewable_electricity_production_share</th>\n      <th>energy_intensity</th>\n      <th>renewable_energy_consumption_share</th>\n      <th>percent_of_environment_patent</th>\n      <th>region</th>\n      <th>income_group</th>\n    </tr>\n  </thead>\n  <tbody>\n    <tr>\n      <th>0</th>\n      <td>AFG</td>\n      <td>Afghanistan</td>\n      <td>1949</td>\n      <td>0.015</td>\n      <td>NaN</td>\n      <td>NaN</td>\n      <td>NaN</td>\n      <td>NaN</td>\n      <td>0.002</td>\n      <td>NaN</td>\n      <td>...</td>\n      <td>NaN</td>\n      <td>NaN</td>\n      <td>NaN</td>\n      <td>NaN</td>\n      <td>NaN</td>\n      <td>NaN</td>\n      <td>NaN</td>\n      <td>NaN</td>\n      <td>None</td>\n      <td>None</td>\n    </tr>\n    <tr>\n      <th>1</th>\n      <td>AFG</td>\n      <td>Afghanistan</td>\n      <td>1950</td>\n      <td>0.084</td>\n      <td>NaN</td>\n      <td>475.0</td>\n      <td>0.070</td>\n      <td>NaN</td>\n      <td>0.011</td>\n      <td>NaN</td>\n      <td>...</td>\n      <td>NaN</td>\n      <td>NaN</td>\n      <td>NaN</td>\n      <td>NaN</td>\n      <td>NaN</td>\n      <td>NaN</td>\n      <td>NaN</td>\n      <td>NaN</td>\n      <td>None</td>\n      <td>None</td>\n    </tr>\n    <tr>\n      <th>2</th>\n      <td>AFG</td>\n      <td>Afghanistan</td>\n      <td>1951</td>\n      <td>0.092</td>\n      <td>NaN</td>\n      <td>8.7</td>\n      <td>0.007</td>\n      <td>NaN</td>\n      <td>0.012</td>\n      <td>NaN</td>\n      <td>...</td>\n      <td>NaN</td>\n      <td>NaN</td>\n      <td>NaN</td>\n      <td>NaN</td>\n      <td>NaN</td>\n      <td>NaN</td>\n      <td>NaN</td>\n      <td>NaN</td>\n      <td>None</td>\n      <td>None</td>\n    </tr>\n    <tr>\n      <th>3</th>\n      <td>AFG</td>\n      <td>Afghanistan</td>\n      <td>1952</td>\n      <td>0.092</td>\n      <td>NaN</td>\n      <td>NaN</td>\n      <td>NaN</td>\n      <td>NaN</td>\n      <td>0.012</td>\n      <td>NaN</td>\n      <td>...</td>\n      <td>NaN</td>\n      <td>NaN</td>\n      <td>NaN</td>\n      <td>NaN</td>\n      <td>NaN</td>\n      <td>NaN</td>\n      <td>NaN</td>\n      <td>NaN</td>\n      <td>None</td>\n      <td>None</td>\n    </tr>\n    <tr>\n      <th>4</th>\n      <td>AFG</td>\n      <td>Afghanistan</td>\n      <td>1953</td>\n      <td>0.106</td>\n      <td>NaN</td>\n      <td>16.0</td>\n      <td>0.015</td>\n      <td>NaN</td>\n      <td>0.013</td>\n      <td>NaN</td>\n      <td>...</td>\n      <td>NaN</td>\n      <td>NaN</td>\n      <td>NaN</td>\n      <td>NaN</td>\n      <td>NaN</td>\n      <td>NaN</td>\n      <td>NaN</td>\n      <td>NaN</td>\n      <td>None</td>\n      <td>None</td>\n    </tr>\n    <tr>\n      <th>...</th>\n      <td>...</td>\n      <td>...</td>\n      <td>...</td>\n      <td>...</td>\n      <td>...</td>\n      <td>...</td>\n      <td>...</td>\n      <td>...</td>\n      <td>...</td>\n      <td>...</td>\n      <td>...</td>\n      <td>...</td>\n      <td>...</td>\n      <td>...</td>\n      <td>...</td>\n      <td>...</td>\n      <td>...</td>\n      <td>...</td>\n      <td>...</td>\n      <td>...</td>\n      <td>...</td>\n    </tr>\n    <tr>\n      <th>23136</th>\n      <td>MCO</td>\n      <td>None</td>\n      <td>2020</td>\n      <td>NaN</td>\n      <td>NaN</td>\n      <td>NaN</td>\n      <td>NaN</td>\n      <td>NaN</td>\n      <td>NaN</td>\n      <td>NaN</td>\n      <td>...</td>\n      <td>NaN</td>\n      <td>NaN</td>\n      <td>NaN</td>\n      <td>NaN</td>\n      <td>NaN</td>\n      <td>NaN</td>\n      <td>NaN</td>\n      <td>NaN</td>\n      <td>Europe &amp; Central Asia</td>\n      <td>High income</td>\n    </tr>\n    <tr>\n      <th>23137</th>\n      <td>MNP</td>\n      <td>None</td>\n      <td>2020</td>\n      <td>NaN</td>\n      <td>NaN</td>\n      <td>NaN</td>\n      <td>NaN</td>\n      <td>NaN</td>\n      <td>NaN</td>\n      <td>NaN</td>\n      <td>...</td>\n      <td>NaN</td>\n      <td>NaN</td>\n      <td>NaN</td>\n      <td>NaN</td>\n      <td>NaN</td>\n      <td>NaN</td>\n      <td>NaN</td>\n      <td>NaN</td>\n      <td>East Asia &amp; Pacific</td>\n      <td>High income</td>\n    </tr>\n    <tr>\n      <th>23138</th>\n      <td>SMR</td>\n      <td>None</td>\n      <td>2020</td>\n      <td>NaN</td>\n      <td>NaN</td>\n      <td>NaN</td>\n      <td>NaN</td>\n      <td>NaN</td>\n      <td>NaN</td>\n      <td>NaN</td>\n      <td>...</td>\n      <td>NaN</td>\n      <td>NaN</td>\n      <td>NaN</td>\n      <td>NaN</td>\n      <td>NaN</td>\n      <td>NaN</td>\n      <td>NaN</td>\n      <td>NaN</td>\n      <td>Europe &amp; Central Asia</td>\n      <td>High income</td>\n    </tr>\n    <tr>\n      <th>23139</th>\n      <td>VIR</td>\n      <td>None</td>\n      <td>2020</td>\n      <td>NaN</td>\n      <td>NaN</td>\n      <td>NaN</td>\n      <td>NaN</td>\n      <td>NaN</td>\n      <td>NaN</td>\n      <td>NaN</td>\n      <td>...</td>\n      <td>NaN</td>\n      <td>NaN</td>\n      <td>NaN</td>\n      <td>NaN</td>\n      <td>NaN</td>\n      <td>NaN</td>\n      <td>3.3918</td>\n      <td>NaN</td>\n      <td>Latin America &amp; Caribbean</td>\n      <td>High income</td>\n    </tr>\n    <tr>\n      <th>23140</th>\n      <td>XKX</td>\n      <td>None</td>\n      <td>2020</td>\n      <td>NaN</td>\n      <td>NaN</td>\n      <td>NaN</td>\n      <td>NaN</td>\n      <td>NaN</td>\n      <td>NaN</td>\n      <td>NaN</td>\n      <td>...</td>\n      <td>NaN</td>\n      <td>NaN</td>\n      <td>1354.948815</td>\n      <td>NaN</td>\n      <td>NaN</td>\n      <td>0.339329</td>\n      <td>26.9020</td>\n      <td>NaN</td>\n      <td>Europe &amp; Central Asia</td>\n      <td>Upper middle income</td>\n    </tr>\n  </tbody>\n</table>\n<p>22870 rows × 104 columns</p>\n</div>"
     },
     "execution_count": 11,
     "metadata": {},
     "output_type": "execute_result"
    }
   ],
   "source": [
    "df"
   ],
   "metadata": {
    "collapsed": false,
    "pycharm": {
     "name": "#%%\n"
    }
   }
  },
  {
   "cell_type": "code",
   "execution_count": 16,
   "outputs": [
    {
     "data": {
      "text/plain": "['iso_code',\n 'co2',\n 'consumption_co2',\n 'co2_growth_prct',\n 'co2_growth_abs',\n 'trade_co2',\n 'co2_per_capita',\n 'consumption_co2_per_capita',\n 'share_global_co2',\n 'cumulative_co2',\n 'share_global_cumulative_co2',\n 'co2_per_gdp',\n 'consumption_co2_per_gdp',\n 'co2_per_unit_energy',\n 'coal_co2',\n 'cement_co2',\n 'flaring_co2',\n 'gas_co2',\n 'oil_co2',\n 'other_industry_co2',\n 'cement_co2_per_capita',\n 'coal_co2_per_capita',\n 'flaring_co2_per_capita',\n 'gas_co2_per_capita',\n 'oil_co2_per_capita',\n 'other_co2_per_capita',\n 'trade_co2_share',\n 'share_global_cement_co2',\n 'share_global_coal_co2',\n 'share_global_flaring_co2',\n 'share_global_gas_co2',\n 'share_global_oil_co2',\n 'share_global_other_co2',\n 'cumulative_cement_co2',\n 'cumulative_coal_co2',\n 'cumulative_flaring_co2',\n 'cumulative_gas_co2',\n 'cumulative_oil_co2',\n 'cumulative_other_co2',\n 'share_global_cumulative_cement_co2',\n 'share_global_cumulative_coal_co2',\n 'share_global_cumulative_flaring_co2',\n 'share_global_cumulative_gas_co2',\n 'share_global_cumulative_oil_co2',\n 'share_global_cumulative_other_co2',\n 'total_ghg',\n 'ghg_per_capita',\n 'methane',\n 'methane_per_capita',\n 'nitrous_oxide',\n 'nitrous_oxide_per_capita',\n 'gdp',\n 'primary_energy_consumption',\n 'energy_per_capita',\n 'energy_per_gdp',\n 'population',\n 'current_gdp',\n 'constant_gdp',\n 'manufacturing_gdp',\n 'medium_to_high_tech_percent',\n 'export',\n 'import',\n 'real_gdp_growth_percent',\n 'urban_population_percent',\n 'merchandise_export',\n 'merchandise_import',\n 'manufacturer_export_share',\n 'manufacturer_export',\n 'co2_emission_electricity',\n 'co2_emission_building',\n 'co2_emission_manufacturing',\n 'co2_emission_other_fuel',\n 'co2_emission_fugitive',\n 'co2_emission_transport',\n 'co2_emission_energy_subtotal',\n 'co2_emission_bunkers',\n 'co2_emission_industrial_process',\n 'co2_emission_per_capita',\n 'constant_gdp_per_capita',\n 'manufacturing_percent',\n 'medium_to_high_tech_gdp',\n 'co2_emission_per_constant_gdp',\n 'trade_openness',\n 'share_of_merchandise_export',\n 'share_of_merchandise_import',\n 'industrial_gdp',\n 'co2_country_share_percent',\n 'manufacturing_country_share_percent',\n 'iea_primary_energy_consumption',\n 'renewable_energy_consumption',\n 'coal_consumption',\n 'oil_consumption',\n 'total_electricity_production',\n 'electricity_production_from_renewable',\n 'primary_energy_consumption_per_capita',\n 'fossil_energy_consumption_share',\n 'renewable_electricity_production_share',\n 'energy_intensity',\n 'renewable_energy_consumption_share',\n 'percent_of_environment_patent']"
     },
     "execution_count": 16,
     "metadata": {},
     "output_type": "execute_result"
    }
   ],
   "source": [
    "y_df = df.loc[df.year.eq(2018),]\n",
    "c_df = df.loc[df.iso_code.isin(['CHN', 'USA']),]\n",
    "col = y_df = df.loc[df.year.eq(2018),]\n",
    "c_df = df.loc[df.iso_code.isin(['CHN', 'USA']),]\n",
    "\n",
    "c = c_df.columns\n",
    "\n",
    "features  = []\n",
    "features.append(c[0])\n",
    "features.extend(c[3:-2])\n",
    "features\n"
   ],
   "metadata": {
    "collapsed": false,
    "pycharm": {
     "name": "#%%\n"
    }
   }
  },
  {
   "cell_type": "code",
   "execution_count": 18,
   "outputs": [],
   "source": [
    "import altair as alt\n"
   ],
   "metadata": {
    "collapsed": false,
    "pycharm": {
     "name": "#%%\n"
    }
   }
  },
  {
   "cell_type": "markdown",
   "source": [],
   "metadata": {
    "collapsed": false,
    "pycharm": {
     "name": "#%% md\n"
    }
   }
  }
 ],
 "metadata": {
  "kernelspec": {
   "display_name": "Python 3 (ipykernel)",
   "language": "python",
   "name": "python3"
  },
  "language_info": {
   "codemirror_mode": {
    "name": "ipython",
    "version": 3
   },
   "file_extension": ".py",
   "mimetype": "text/x-python",
   "name": "python",
   "nbconvert_exporter": "python",
   "pygments_lexer": "ipython3",
   "version": "3.8.12"
  }
 },
 "nbformat": 4,
 "nbformat_minor": 5
}