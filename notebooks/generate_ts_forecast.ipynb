{
 "cells": [
  {
   "cell_type": "code",
   "execution_count": 1,
   "metadata": {
    "collapsed": true,
    "pycharm": {
     "name": "#%%\n"
    }
   },
   "outputs": [],
   "source": [
    "import re\n",
    "import pickle\n",
    "import json\n",
    "import pandas as pd\n",
    "\n",
    "from library.common import Core\n",
    "from pathlib import Path\n",
    "cwd = Path.cwd()\n",
    "prediction_horizon = 5\n",
    "core = Core()\n",
    "models = core.all_features"
   ]
  },
  {
   "cell_type": "code",
   "execution_count": 2,
   "outputs": [],
   "source": [
    "models_path = cwd.parent/'models'\n",
    "models = list(models_path.glob('*.pkl'))"
   ],
   "metadata": {
    "collapsed": false,
    "pycharm": {
     "name": "#%%\n"
    }
   }
  },
  {
   "cell_type": "code",
   "execution_count": 3,
   "outputs": [],
   "source": [
    "root_dir = cwd.parent\n",
    "data_file= r'data/processed/params_forecast_params.json'\n",
    "last_data_year_file = root_dir/data_file\n",
    "file_path = last_data_year_file.as_posix()"
   ],
   "metadata": {
    "collapsed": false,
    "pycharm": {
     "name": "#%%\n"
    }
   }
  },
  {
   "cell_type": "code",
   "execution_count": 4,
   "outputs": [
    {
     "name": "stdout",
     "output_type": "stream",
     "text": [
      "FORECAST LABELS:  [2021, 2022, 2023, 2024, 2025]\n"
     ]
    }
   ],
   "source": [
    "\n",
    "with open(file_path, 'r') as datapoint:\n",
    "    last_data_year = json.load(datapoint)\n",
    "\n",
    "year_labels = [n for n in range(last_data_year.get('last_period') + 1,\n",
    "                                last_data_year.get('last_period') + 1 +\n",
    "                                prediction_horizon, 1)]\n",
    "print('FORECAST LABELS: ', year_labels)"
   ],
   "metadata": {
    "collapsed": false,
    "pycharm": {
     "name": "#%%\n"
    }
   }
  },
  {
   "cell_type": "code",
   "execution_count": 5,
   "outputs": [
    {
     "name": "stdout",
     "output_type": "stream",
     "text": [
      "Cluster 0 trade_openness\n",
      "Forecast  [4399.42991989 4399.42991989 4399.42991989 4399.42991989 4399.42991989]\n",
      "Cluster 0 renewable_energy\n",
      "Forecast  [4904.56719227 4904.56719227 4904.56719227 4904.56719227 4904.56719227]\n",
      "Cluster 1 renewable_energy\n",
      "Forecast  [19.12396333 19.7277683  20.33157327 20.93537825 21.53918322]\n",
      "Cluster 2 renewable_energy\n",
      "Forecast  [1261.29904932 1299.80045405 1338.30185878 1376.80326352 1415.30466825]\n",
      "Cluster 2 trade_openness\n",
      "Forecast  [6307.6906624  6392.70829232 6477.72592224 6562.74355216 6647.76118209]\n",
      "Cluster 1 trade_openness\n",
      "Forecast  [58.72092823 59.54038443 60.35984064 61.17929684 61.99875305]\n"
     ]
    }
   ],
   "source": [
    "# regex = r\"-([^-]\\w*[^-])-([^-]\\w*[^\\.])\"\n",
    "regex = r\"model-(Cluster [0-9])-([a-zA-Z]*_[a-zA-Z]*)\"\n",
    "\n",
    "forecasts = []\n",
    "for model in models:\n",
    "    # print('Processing:', model)\n",
    "    fname = model.name\n",
    "    matches = re.search(regex, fname)\n",
    "\n",
    "    if matches:\n",
    "        region = matches.group(1)\n",
    "        feature = matches.group(2)\n",
    "\n",
    "        print(region, feature)\n",
    "\n",
    "        with open(model.as_posix(), 'rb') as pkl:\n",
    "            optimal = pickle.load(pkl)\n",
    "\n",
    "            f = optimal.predict(prediction_horizon)\n",
    "            print('Forecast ', f)\n",
    "            fc = zip(year_labels, f)\n",
    "            forecast_df = pd.DataFrame(fc)\n",
    "            forecast_df.columns = ['year', 'forecasts']\n",
    "            forecasts.append([region, feature, forecast_df.to_numpy()])\n"
   ],
   "metadata": {
    "collapsed": false,
    "pycharm": {
     "name": "#%%\n"
    }
   }
  },
  {
   "cell_type": "code",
   "execution_count": 6,
   "outputs": [
    {
     "name": "stdout",
     "output_type": "stream",
     "text": [
      "Done with Forecasts\n"
     ]
    }
   ],
   "source": [
    "fc_path = cwd.parent/r'data/processed/ts_forecast.pkl'\n",
    "with open(fc_path, 'wb') as pkl:\n",
    "    pickle.dump(forecasts, pkl)\n",
    "\n",
    "print(\"Done with Forecasts\")"
   ],
   "metadata": {
    "collapsed": false,
    "pycharm": {
     "name": "#%%\n"
    }
   }
  },
  {
   "cell_type": "code",
   "execution_count": 10,
   "outputs": [
    {
     "name": "stdout",
     "output_type": "stream",
     "text": [
      "[['Cluster 0', 'trade_openness', array([[2021.        , 4399.42991989],\n",
      "       [2022.        , 4399.42991989],\n",
      "       [2023.        , 4399.42991989],\n",
      "       [2024.        , 4399.42991989],\n",
      "       [2025.        , 4399.42991989]])], ['Cluster 0', 'renewable_energy', array([[2021.        , 4904.56719227],\n",
      "       [2022.        , 4904.56719227],\n",
      "       [2023.        , 4904.56719227],\n",
      "       [2024.        , 4904.56719227],\n",
      "       [2025.        , 4904.56719227]])], ['Cluster 1', 'renewable_energy', array([[2021.        ,   19.12396333],\n",
      "       [2022.        ,   19.7277683 ],\n",
      "       [2023.        ,   20.33157327],\n",
      "       [2024.        ,   20.93537825],\n",
      "       [2025.        ,   21.53918322]])], ['Cluster 2', 'renewable_energy', array([[2021.        , 1261.29904932],\n",
      "       [2022.        , 1299.80045405],\n",
      "       [2023.        , 1338.30185878],\n",
      "       [2024.        , 1376.80326352],\n",
      "       [2025.        , 1415.30466825]])], ['Cluster 2', 'trade_openness', array([[2021.        , 6307.6906624 ],\n",
      "       [2022.        , 6392.70829232],\n",
      "       [2023.        , 6477.72592224],\n",
      "       [2024.        , 6562.74355216],\n",
      "       [2025.        , 6647.76118209]])], ['Cluster 1', 'trade_openness', array([[2021.        ,   58.72092823],\n",
      "       [2022.        ,   59.54038443],\n",
      "       [2023.        ,   60.35984064],\n",
      "       [2024.        ,   61.17929684],\n",
      "       [2025.        ,   61.99875305]])]]\n"
     ]
    }
   ],
   "source": [
    "from pathlib import Path\n",
    "cwd = Path.cwd()\n",
    "fc_path = cwd.parent/r'data/processed/ts_forecast.pkl'\n",
    "with open(fc_path, 'rb') as fc_file:\n",
    "    read_fc = pickle.load(fc_file)\n",
    "print(read_fc)"
   ],
   "metadata": {
    "collapsed": false,
    "pycharm": {
     "name": "#%%\n"
    }
   }
  },
  {
   "cell_type": "code",
   "execution_count": 7,
   "outputs": [],
   "source": [],
   "metadata": {
    "collapsed": false,
    "pycharm": {
     "name": "#%%\n"
    }
   }
  }
 ],
 "metadata": {
  "kernelspec": {
   "display_name": "Python 3",
   "language": "python",
   "name": "python3"
  },
  "language_info": {
   "codemirror_mode": {
    "name": "ipython",
    "version": 3
   },
   "file_extension": ".py",
   "mimetype": "text/x-python",
   "name": "python",
   "nbconvert_exporter": "python",
   "pygments_lexer": "ipython3",
   "version": "3.9.9"
  }
 },
 "nbformat": 4,
 "nbformat_minor": 0
}