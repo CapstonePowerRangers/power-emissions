{
 "cells": [
  {
   "cell_type": "code",
   "execution_count": 1,
   "metadata": {
    "collapsed": true,
    "pycharm": {
     "name": "#%%\n"
    }
   },
   "outputs": [],
   "source": [
    "import re\n",
    "import pickle\n",
    "import json\n",
    "import pandas as pd\n",
    "\n",
    "from library.common import Core\n",
    "from pathlib import Path\n",
    "cwd = Path.cwd()\n",
    "prediction_horizon = 5\n",
    "core = Core()\n",
    "models = core.all_features"
   ]
  },
  {
   "cell_type": "code",
   "execution_count": 2,
   "outputs": [],
   "source": [
    "models_path = cwd.parent/'models'\n",
    "models = list(models_path.glob('*.pkl'))"
   ],
   "metadata": {
    "collapsed": false,
    "pycharm": {
     "name": "#%%\n"
    }
   }
  },
  {
   "cell_type": "code",
   "execution_count": 3,
   "outputs": [],
   "source": [
    "root_dir = cwd.parent\n",
    "data_file= r'data/processed/params_forecast_params.json'\n",
    "last_data_year_file = root_dir/data_file\n",
    "file_path = last_data_year_file.as_posix()"
   ],
   "metadata": {
    "collapsed": false,
    "pycharm": {
     "name": "#%%\n"
    }
   }
  },
  {
   "cell_type": "code",
   "execution_count": 4,
   "outputs": [
    {
     "name": "stdout",
     "output_type": "stream",
     "text": [
      "FORECAST LABELS:  [2021, 2022, 2023, 2024, 2025]\n"
     ]
    }
   ],
   "source": [
    "\n",
    "with open(file_path, 'r') as datapoint:\n",
    "    last_data_year = json.load(datapoint)\n",
    "\n",
    "year_labels = [n for n in range(last_data_year.get('last_period') + 1,\n",
    "                                last_data_year.get('last_period') + 1 +\n",
    "                                prediction_horizon, 1)]\n",
    "print('FORECAST LABELS: ', year_labels)"
   ],
   "metadata": {
    "collapsed": false,
    "pycharm": {
     "name": "#%%\n"
    }
   }
  },
  {
   "cell_type": "code",
   "execution_count": 5,
   "outputs": [
    {
     "name": "stdout",
     "output_type": "stream",
     "text": [
      "Cluster 0 trade_openness\n",
      "/Users/koonleong/Documents/UM/UMMADS/Courses - Current/SIADS697-Capstone/power_emissions/models/model-Cluster 0-trade_openness.pkl\n",
      "Forecast  [4399.42991989 4399.42991989 4399.42991989 4399.42991989 4399.42991989]\n",
      "Cluster 2 manufacturing_percent\n",
      "/Users/koonleong/Documents/UM/UMMADS/Courses - Current/SIADS697-Capstone/power_emissions/models/model-Cluster 2-manufacturing_percent.pkl\n",
      "Forecast  [1035.57626875 1027.38277684 1019.18928492 1010.99579301 1002.80230109]\n",
      "Cluster 2 co2\n",
      "/Users/koonleong/Documents/UM/UMMADS/Courses - Current/SIADS697-Capstone/power_emissions/models/model-Cluster 2-co2.pkl\n",
      "Forecast  [16736.47064652 16643.82962381 16578.09211072 16516.86187941\n",
      " 16456.38677594]\n",
      "Global population\n",
      "/Users/koonleong/Documents/UM/UMMADS/Courses - Current/SIADS697-Capstone/power_emissions/models/model-Global-population.pkl\n",
      "Forecast  [7.83405760e+09 7.91361755e+09 7.99317749e+09 8.07273744e+09\n",
      " 8.15229738e+09]\n",
      "Cluster 0 constant_gdp_per_capita\n",
      "/Users/koonleong/Documents/UM/UMMADS/Courses - Current/SIADS697-Capstone/power_emissions/models/model-Cluster 0-constant_gdp_per_capita.pkl\n",
      "Forecast  [657322.19499449 657322.19499449 657322.19499449 657322.19499449\n",
      " 657322.19499449]\n",
      "Cluster 0 co2\n",
      "/Users/koonleong/Documents/UM/UMMADS/Courses - Current/SIADS697-Capstone/power_emissions/models/model-Cluster 0-co2.pkl\n",
      "Forecast  [1440.33401378 1461.91602757 1483.49804135 1505.08005513 1526.66206892]\n",
      "Global trade_openness\n",
      "/Users/koonleong/Documents/UM/UMMADS/Courses - Current/SIADS697-Capstone/power_emissions/models/model-Global-trade_openness.pkl\n",
      "Forecast  [12014.91701698 12014.91701698 12014.91701698 12014.91701698\n",
      " 12014.91701698]\n",
      "Cluster 0 manufacturing_percent\n",
      "/Users/koonleong/Documents/UM/UMMADS/Courses - Current/SIADS697-Capstone/power_emissions/models/model-Cluster 0-manufacturing_percent.pkl\n",
      "Forecast  [1302.71322236 1302.71322236 1302.71322236 1302.71322236 1302.71322236]\n",
      "Cluster 2 energy_intensity\n",
      "/Users/koonleong/Documents/UM/UMMADS/Courses - Current/SIADS697-Capstone/power_emissions/models/model-Cluster 2-energy_intensity.pkl\n",
      "Forecast  [15.74446776 15.40422467 15.08491162 14.77649189 14.47374175]\n",
      "Cluster 1 constant_gdp_per_capita\n",
      "/Users/koonleong/Documents/UM/UMMADS/Courses - Current/SIADS697-Capstone/power_emissions/models/model-Cluster 1-constant_gdp_per_capita.pkl\n",
      "Forecast  [69808.93178095 70676.8442826  71544.75678425 72412.66928591\n",
      " 73280.58178756]\n",
      "Cluster 0 renewable_energy_consumption_share\n",
      "/Users/koonleong/Documents/UM/UMMADS/Courses - Current/SIADS697-Capstone/power_emissions/models/model-Cluster 0-renewable_energy_consumption_share.pkl\n",
      "Forecast  [4904.56719227 4904.56719227 4904.56719227 4904.56719227 4904.56719227]\n",
      "Cluster 1 co2\n",
      "/Users/koonleong/Documents/UM/UMMADS/Courses - Current/SIADS697-Capstone/power_emissions/models/model-Cluster 1-co2.pkl\n",
      "Forecast  [15584.9383753  15757.94009523 15674.71697256 15914.34740749\n",
      " 16318.2959502 ]\n",
      "Cluster 1 renewable_energy_consumption_share\n",
      "/Users/koonleong/Documents/UM/UMMADS/Courses - Current/SIADS697-Capstone/power_emissions/models/model-Cluster 1-renewable_energy_consumption_share.pkl\n",
      "Forecast  [19.12396333 19.7277683  20.33157327 20.93537825 21.53918322]\n",
      "Cluster 1 manufacturing_percent\n",
      "/Users/koonleong/Documents/UM/UMMADS/Courses - Current/SIADS697-Capstone/power_emissions/models/model-Cluster 1-manufacturing_percent.pkl\n",
      "Forecast  [37.02778291 37.02778291 37.02778291 37.02778291 37.02778291]\n",
      "Cluster 0 population\n",
      "/Users/koonleong/Documents/UM/UMMADS/Courses - Current/SIADS697-Capstone/power_emissions/models/model-Cluster 0-population.pkl\n",
      "Forecast  [1.59740457e+09 1.63147062e+09 1.66553668e+09 1.69960273e+09\n",
      " 1.73366878e+09]\n",
      "Cluster 1 energy_intensity\n",
      "/Users/koonleong/Documents/UM/UMMADS/Courses - Current/SIADS697-Capstone/power_emissions/models/model-Cluster 1-energy_intensity.pkl\n",
      "Forecast  [0.33660707 0.33108474 0.32556241 0.32004008 0.31451774]\n",
      "Cluster 2 renewable_energy_consumption_share\n",
      "/Users/koonleong/Documents/UM/UMMADS/Courses - Current/SIADS697-Capstone/power_emissions/models/model-Cluster 2-renewable_energy_consumption_share.pkl\n",
      "Forecast  [1261.29904932 1299.80045405 1338.30185878 1376.80326352 1415.30466825]\n",
      "Cluster 2 constant_gdp_per_capita\n",
      "/Users/koonleong/Documents/UM/UMMADS/Courses - Current/SIADS697-Capstone/power_emissions/models/model-Cluster 2-constant_gdp_per_capita.pkl\n",
      "Forecast  [1695454.96119609 1710596.93960462 1725738.91801315 1740880.89642168\n",
      " 1756022.87483021]\n",
      "Cluster 1 population\n",
      "/Users/koonleong/Documents/UM/UMMADS/Courses - Current/SIADS697-Capstone/power_emissions/models/model-Cluster 1-population.pkl\n",
      "Forecast  [1.73714729e+09 1.74269846e+09 1.74824963e+09 1.75380080e+09\n",
      " 1.75935197e+09]\n",
      "Global manufacturing_percent\n",
      "/Users/koonleong/Documents/UM/UMMADS/Courses - Current/SIADS697-Capstone/power_emissions/models/model-Global-manufacturing_percent.pkl\n",
      "Forecast  [2368.90279242 2354.29481891 2339.6868454  2325.07887189 2310.47089837]\n",
      "Global constant_gdp_per_capita\n",
      "/Users/koonleong/Documents/UM/UMMADS/Courses - Current/SIADS697-Capstone/power_emissions/models/model-Global-constant_gdp_per_capita.pkl\n",
      "Forecast  [2406576.19706135 2406576.19706135 2406576.19706135 2406576.19706135\n",
      " 2406576.19706135]\n",
      "Cluster 0 energy_intensity\n",
      "/Users/koonleong/Documents/UM/UMMADS/Courses - Current/SIADS697-Capstone/power_emissions/models/model-Cluster 0-energy_intensity.pkl\n",
      "Forecast  [18.79566758 18.31726725 17.83886693 17.3604666  16.88206628]\n",
      "Global energy_intensity\n",
      "/Users/koonleong/Documents/UM/UMMADS/Courses - Current/SIADS697-Capstone/power_emissions/models/model-Global-energy_intensity.pkl\n",
      "Forecast  [34.91333598 34.08554964 33.25776331 32.42997697 31.60219064]\n",
      "Cluster 2 trade_openness\n",
      "/Users/koonleong/Documents/UM/UMMADS/Courses - Current/SIADS697-Capstone/power_emissions/models/model-Cluster 2-trade_openness.pkl\n",
      "Forecast  [6307.6906624  6392.70829232 6477.72592224 6562.74355216 6647.76118209]\n",
      "Global renewable_energy_consumption_share\n",
      "/Users/koonleong/Documents/UM/UMMADS/Courses - Current/SIADS697-Capstone/power_emissions/models/model-Global-renewable_energy_consumption_share.pkl\n",
      "Forecast  [6145.88499522 6145.88499522 6145.88499522 6145.88499522 6145.88499522]\n",
      "Cluster 2 population\n",
      "/Users/koonleong/Documents/UM/UMMADS/Courses - Current/SIADS697-Capstone/power_emissions/models/model-Cluster 2-population.pkl\n",
      "Forecast  [4.49890440e+09 4.53779552e+09 4.57628066e+09 4.61437278e+09\n",
      " 4.65207568e+09]\n",
      "Global co2\n",
      "/Users/koonleong/Documents/UM/UMMADS/Courses - Current/SIADS697-Capstone/power_emissions/models/model-Global-co2.pkl\n",
      "Forecast  [33649.52396328 33946.97642881 33823.94388659 33850.03567423\n",
      " 34459.79376551]\n",
      "Cluster 1 trade_openness\n",
      "/Users/koonleong/Documents/UM/UMMADS/Courses - Current/SIADS697-Capstone/power_emissions/models/model-Cluster 1-trade_openness.pkl\n",
      "Forecast  [58.72092823 59.54038443 60.35984064 61.17929684 61.99875305]\n"
     ]
    }
   ],
   "source": [
    "# regex = r\"-([^-]\\w*[^-])-([^-]\\w*[^\\.])\"\n",
    "regex = r\"model-([a-zA-Z0-9|\\s]*)-([\\w\\d]*_{0,1}[\\w\\d]*)\"\n",
    "\n",
    "forecasts = []\n",
    "for model in models:\n",
    "    # print('Processing:', model)\n",
    "    fname = model.name\n",
    "    matches = re.search(regex, fname)\n",
    "\n",
    "    if matches:\n",
    "        region = matches.group(1)\n",
    "        feature = matches.group(2)\n",
    "\n",
    "        print(region, feature)\n",
    "        print(model.as_posix())\n",
    "\n",
    "        with open(model.as_posix(), 'rb') as pkl:\n",
    "            optimal = pickle.load(pkl)\n",
    "\n",
    "            f = optimal.predict(prediction_horizon)\n",
    "            print('Forecast ', f)\n",
    "            fc = zip(year_labels, f)\n",
    "            forecast_df = pd.DataFrame(fc)\n",
    "            forecast_df.columns = ['year', 'forecasts']\n",
    "            forecasts.append([region, feature, forecast_df.to_numpy()])\n"
   ],
   "metadata": {
    "collapsed": false,
    "pycharm": {
     "name": "#%%\n"
    }
   }
  },
  {
   "cell_type": "code",
   "execution_count": 6,
   "outputs": [
    {
     "name": "stdout",
     "output_type": "stream",
     "text": [
      "Done with Forecasts\n"
     ]
    }
   ],
   "source": [
    "fc_path = cwd.parent/r'data/processed/ts_forecast.pkl'\n",
    "with open(fc_path, 'wb') as pkl:\n",
    "    pickle.dump(forecasts, pkl)\n",
    "\n",
    "print(\"Done with Forecasts\")"
   ],
   "metadata": {
    "collapsed": false,
    "pycharm": {
     "name": "#%%\n"
    }
   }
  },
  {
   "cell_type": "code",
   "execution_count": 7,
   "outputs": [
    {
     "name": "stdout",
     "output_type": "stream",
     "text": [
      "[['Cluster 0', 'trade_openness', array([[2021.        , 4399.42991989],\n",
      "       [2022.        , 4399.42991989],\n",
      "       [2023.        , 4399.42991989],\n",
      "       [2024.        , 4399.42991989],\n",
      "       [2025.        , 4399.42991989]])], ['Cluster 2', 'manufacturing_percent', array([[2021.        , 1035.57626875],\n",
      "       [2022.        , 1027.38277684],\n",
      "       [2023.        , 1019.18928492],\n",
      "       [2024.        , 1010.99579301],\n",
      "       [2025.        , 1002.80230109]])], ['Cluster 2', 'co2', array([[ 2021.        , 16736.47064652],\n",
      "       [ 2022.        , 16643.82962381],\n",
      "       [ 2023.        , 16578.09211072],\n",
      "       [ 2024.        , 16516.86187941],\n",
      "       [ 2025.        , 16456.38677594]])], ['Global', 'population', array([[2.02100000e+03, 7.83405760e+09],\n",
      "       [2.02200000e+03, 7.91361755e+09],\n",
      "       [2.02300000e+03, 7.99317749e+09],\n",
      "       [2.02400000e+03, 8.07273744e+09],\n",
      "       [2.02500000e+03, 8.15229738e+09]])], ['Cluster 0', 'constant_gdp_per_capita', array([[  2021.        , 657322.19499449],\n",
      "       [  2022.        , 657322.19499449],\n",
      "       [  2023.        , 657322.19499449],\n",
      "       [  2024.        , 657322.19499449],\n",
      "       [  2025.        , 657322.19499449]])], ['Cluster 0', 'co2', array([[2021.        , 1440.33401378],\n",
      "       [2022.        , 1461.91602757],\n",
      "       [2023.        , 1483.49804135],\n",
      "       [2024.        , 1505.08005513],\n",
      "       [2025.        , 1526.66206892]])], ['Global', 'trade_openness', array([[ 2021.        , 12014.91701698],\n",
      "       [ 2022.        , 12014.91701698],\n",
      "       [ 2023.        , 12014.91701698],\n",
      "       [ 2024.        , 12014.91701698],\n",
      "       [ 2025.        , 12014.91701698]])], ['Cluster 0', 'manufacturing_percent', array([[2021.        , 1302.71322236],\n",
      "       [2022.        , 1302.71322236],\n",
      "       [2023.        , 1302.71322236],\n",
      "       [2024.        , 1302.71322236],\n",
      "       [2025.        , 1302.71322236]])], ['Cluster 2', 'energy_intensity', array([[2021.        ,   15.74446776],\n",
      "       [2022.        ,   15.40422467],\n",
      "       [2023.        ,   15.08491162],\n",
      "       [2024.        ,   14.77649189],\n",
      "       [2025.        ,   14.47374175]])], ['Cluster 1', 'constant_gdp_per_capita', array([[ 2021.        , 69808.93178095],\n",
      "       [ 2022.        , 70676.8442826 ],\n",
      "       [ 2023.        , 71544.75678425],\n",
      "       [ 2024.        , 72412.66928591],\n",
      "       [ 2025.        , 73280.58178756]])], ['Cluster 0', 'renewable_energy_consumption_share', array([[2021.        , 4904.56719227],\n",
      "       [2022.        , 4904.56719227],\n",
      "       [2023.        , 4904.56719227],\n",
      "       [2024.        , 4904.56719227],\n",
      "       [2025.        , 4904.56719227]])], ['Cluster 1', 'co2', array([[ 2021.        , 15584.9383753 ],\n",
      "       [ 2022.        , 15757.94009523],\n",
      "       [ 2023.        , 15674.71697256],\n",
      "       [ 2024.        , 15914.34740749],\n",
      "       [ 2025.        , 16318.2959502 ]])], ['Cluster 1', 'renewable_energy_consumption_share', array([[2021.        ,   19.12396333],\n",
      "       [2022.        ,   19.7277683 ],\n",
      "       [2023.        ,   20.33157327],\n",
      "       [2024.        ,   20.93537825],\n",
      "       [2025.        ,   21.53918322]])], ['Cluster 1', 'manufacturing_percent', array([[2021.        ,   37.02778291],\n",
      "       [2022.        ,   37.02778291],\n",
      "       [2023.        ,   37.02778291],\n",
      "       [2024.        ,   37.02778291],\n",
      "       [2025.        ,   37.02778291]])], ['Cluster 0', 'population', array([[2.02100000e+03, 1.59740457e+09],\n",
      "       [2.02200000e+03, 1.63147062e+09],\n",
      "       [2.02300000e+03, 1.66553668e+09],\n",
      "       [2.02400000e+03, 1.69960273e+09],\n",
      "       [2.02500000e+03, 1.73366878e+09]])], ['Cluster 1', 'energy_intensity', array([[2.02100000e+03, 3.36607075e-01],\n",
      "       [2.02200000e+03, 3.31084742e-01],\n",
      "       [2.02300000e+03, 3.25562409e-01],\n",
      "       [2.02400000e+03, 3.20040076e-01],\n",
      "       [2.02500000e+03, 3.14517743e-01]])], ['Cluster 2', 'renewable_energy_consumption_share', array([[2021.        , 1261.29904932],\n",
      "       [2022.        , 1299.80045405],\n",
      "       [2023.        , 1338.30185878],\n",
      "       [2024.        , 1376.80326352],\n",
      "       [2025.        , 1415.30466825]])], ['Cluster 2', 'constant_gdp_per_capita', array([[   2021.        , 1695454.96119609],\n",
      "       [   2022.        , 1710596.93960462],\n",
      "       [   2023.        , 1725738.91801315],\n",
      "       [   2024.        , 1740880.89642168],\n",
      "       [   2025.        , 1756022.87483021]])], ['Cluster 1', 'population', array([[2.02100000e+03, 1.73714729e+09],\n",
      "       [2.02200000e+03, 1.74269846e+09],\n",
      "       [2.02300000e+03, 1.74824963e+09],\n",
      "       [2.02400000e+03, 1.75380080e+09],\n",
      "       [2.02500000e+03, 1.75935197e+09]])], ['Global', 'manufacturing_percent', array([[2021.        , 2368.90279242],\n",
      "       [2022.        , 2354.29481891],\n",
      "       [2023.        , 2339.6868454 ],\n",
      "       [2024.        , 2325.07887189],\n",
      "       [2025.        , 2310.47089837]])], ['Global', 'constant_gdp_per_capita', array([[2.0210000e+03, 2.4065762e+06],\n",
      "       [2.0220000e+03, 2.4065762e+06],\n",
      "       [2.0230000e+03, 2.4065762e+06],\n",
      "       [2.0240000e+03, 2.4065762e+06],\n",
      "       [2.0250000e+03, 2.4065762e+06]])], ['Cluster 0', 'energy_intensity', array([[2021.        ,   18.79566758],\n",
      "       [2022.        ,   18.31726725],\n",
      "       [2023.        ,   17.83886693],\n",
      "       [2024.        ,   17.3604666 ],\n",
      "       [2025.        ,   16.88206628]])], ['Global', 'energy_intensity', array([[2021.        ,   34.91333598],\n",
      "       [2022.        ,   34.08554964],\n",
      "       [2023.        ,   33.25776331],\n",
      "       [2024.        ,   32.42997697],\n",
      "       [2025.        ,   31.60219064]])], ['Cluster 2', 'trade_openness', array([[2021.        , 6307.6906624 ],\n",
      "       [2022.        , 6392.70829232],\n",
      "       [2023.        , 6477.72592224],\n",
      "       [2024.        , 6562.74355216],\n",
      "       [2025.        , 6647.76118209]])], ['Global', 'renewable_energy_consumption_share', array([[2021.        , 6145.88499522],\n",
      "       [2022.        , 6145.88499522],\n",
      "       [2023.        , 6145.88499522],\n",
      "       [2024.        , 6145.88499522],\n",
      "       [2025.        , 6145.88499522]])], ['Cluster 2', 'population', array([[2.02100000e+03, 4.49890440e+09],\n",
      "       [2.02200000e+03, 4.53779552e+09],\n",
      "       [2.02300000e+03, 4.57628066e+09],\n",
      "       [2.02400000e+03, 4.61437278e+09],\n",
      "       [2.02500000e+03, 4.65207568e+09]])], ['Global', 'co2', array([[ 2021.        , 33649.52396328],\n",
      "       [ 2022.        , 33946.97642881],\n",
      "       [ 2023.        , 33823.94388659],\n",
      "       [ 2024.        , 33850.03567423],\n",
      "       [ 2025.        , 34459.79376551]])], ['Cluster 1', 'trade_openness', array([[2021.        ,   58.72092823],\n",
      "       [2022.        ,   59.54038443],\n",
      "       [2023.        ,   60.35984064],\n",
      "       [2024.        ,   61.17929684],\n",
      "       [2025.        ,   61.99875305]])]]\n"
     ]
    }
   ],
   "source": [
    "# Code to read the forecast\n",
    "from pathlib import Path\n",
    "cwd = Path.cwd()\n",
    "fc_path = cwd.parent/r'data/processed/ts_forecast.pkl'\n",
    "with open(fc_path, 'rb') as fc_file:\n",
    "    read_fc = pickle.load(fc_file)\n",
    "print(read_fc)"
   ],
   "metadata": {
    "collapsed": false,
    "pycharm": {
     "name": "#%%\n"
    }
   }
  },
  {
   "cell_type": "code",
   "execution_count": 7,
   "outputs": [],
   "source": [],
   "metadata": {
    "collapsed": false,
    "pycharm": {
     "name": "#%%\n"
    }
   }
  }
 ],
 "metadata": {
  "kernelspec": {
   "display_name": "Python 3",
   "language": "python",
   "name": "python3"
  },
  "language_info": {
   "codemirror_mode": {
    "name": "ipython",
    "version": 3
   },
   "file_extension": ".py",
   "mimetype": "text/x-python",
   "name": "python",
   "nbconvert_exporter": "python",
   "pygments_lexer": "ipython3",
   "version": "3.9.9"
  }
 },
 "nbformat": 4,
 "nbformat_minor": 0
}