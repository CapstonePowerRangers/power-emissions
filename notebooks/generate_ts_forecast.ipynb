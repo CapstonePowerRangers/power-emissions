{
 "cells": [
  {
   "cell_type": "code",
   "execution_count": 49,
   "metadata": {
    "collapsed": true,
    "pycharm": {
     "name": "#%%\n"
    }
   },
   "outputs": [],
   "source": [
    "import re\n",
    "import pickle\n",
    "import json\n",
    "import pandas as pd\n",
    "\n",
    "from library.common import Core\n",
    "from pathlib import Path\n",
    "cwd = Path.cwd()\n",
    "prediction_horizon = 10\n",
    "core = Core()\n",
    "models = core.all_features"
   ]
  },
  {
   "cell_type": "code",
   "execution_count": 50,
   "outputs": [],
   "source": [
    "models_path = cwd.parent/'models'\n",
    "models = list(models_path.glob('*.pkl'))"
   ],
   "metadata": {
    "collapsed": false,
    "pycharm": {
     "name": "#%%\n"
    }
   }
  },
  {
   "cell_type": "code",
   "execution_count": 51,
   "outputs": [],
   "source": [
    "root_dir = cwd.parent\n",
    "data_file= r'data/processed/params_forecast_params.json'\n",
    "last_data_year_file = root_dir/data_file\n",
    "file_path = last_data_year_file.as_posix()"
   ],
   "metadata": {
    "collapsed": false,
    "pycharm": {
     "name": "#%%\n"
    }
   }
  },
  {
   "cell_type": "code",
   "execution_count": 52,
   "outputs": [],
   "source": [
    "\n",
    "with open(file_path, 'r') as datapoint:\n",
    "    last_data_year = json.load(datapoint)\n",
    "\n",
    "year_labels = [n for n in range(last_data_year.get('last_period') + 1,\n",
    "                                last_data_year.get('last_period') + 1 +\n",
    "                                prediction_horizon, 1)]"
   ],
   "metadata": {
    "collapsed": false,
    "pycharm": {
     "name": "#%%\n"
    }
   }
  },
  {
   "cell_type": "code",
   "execution_count": 53,
   "outputs": [
    {
     "name": "stdout",
     "output_type": "stream",
     "text": [
      "Processing: /Users/koonleong/Documents/UM/UMMADS/Courses - Current/SIADS697-Capstone/power_emissions/models/model-china-trade_openness.pkl\n",
      "Processing: /Users/koonleong/Documents/UM/UMMADS/Courses - Current/SIADS697-Capstone/power_emissions/models/model-china-constant_gdp_per_capita.pkl\n",
      "Processing: /Users/koonleong/Documents/UM/UMMADS/Courses - Current/SIADS697-Capstone/power_emissions/models/model-china-co2_emission_per_constant_gdp.pkl\n",
      "Processing: /Users/koonleong/Documents/UM/UMMADS/Courses - Current/SIADS697-Capstone/power_emissions/models/model-usa-primary_energy_consumption_per_capita.pkl\n",
      "Processing: /Users/koonleong/Documents/UM/UMMADS/Courses - Current/SIADS697-Capstone/power_emissions/models/model-usa-manufacturing_country_share_percent.pkl\n",
      "Processing: /Users/koonleong/Documents/UM/UMMADS/Courses - Current/SIADS697-Capstone/power_emissions/models/model-usa-co2.pkl\n",
      "Processing: /Users/koonleong/Documents/UM/UMMADS/Courses - Current/SIADS697-Capstone/power_emissions/models/model-china-percent_of_environment_patent.pkl\n",
      "Processing: /Users/koonleong/Documents/UM/UMMADS/Courses - Current/SIADS697-Capstone/power_emissions/models/model-global-population.pkl\n",
      "Processing: /Users/koonleong/Documents/UM/UMMADS/Courses - Current/SIADS697-Capstone/power_emissions/models/model-usa-trade_openness.pkl\n",
      "Processing: /Users/koonleong/Documents/UM/UMMADS/Courses - Current/SIADS697-Capstone/power_emissions/models/model-global-co2_emission_per_constant_gdp.pkl\n",
      "Processing: /Users/koonleong/Documents/UM/UMMADS/Courses - Current/SIADS697-Capstone/power_emissions/models/model-china-co2.pkl\n",
      "Processing: /Users/koonleong/Documents/UM/UMMADS/Courses - Current/SIADS697-Capstone/power_emissions/models/model-usa-percent_of_environment_patent.pkl\n",
      "Processing: /Users/koonleong/Documents/UM/UMMADS/Courses - Current/SIADS697-Capstone/power_emissions/models/model-global-trade_openness.pkl\n",
      "Processing: /Users/koonleong/Documents/UM/UMMADS/Courses - Current/SIADS697-Capstone/power_emissions/models/model-usa-co2_emission_per_constant_gdp.pkl\n",
      "Processing: /Users/koonleong/Documents/UM/UMMADS/Courses - Current/SIADS697-Capstone/power_emissions/models/model-china-primary_energy_consumption_per_capita.pkl\n",
      "Processing: /Users/koonleong/Documents/UM/UMMADS/Courses - Current/SIADS697-Capstone/power_emissions/models/model-usa-manufacturing_percent.pkl\n",
      "Processing: /Users/koonleong/Documents/UM/UMMADS/Courses - Current/SIADS697-Capstone/power_emissions/models/model-china-co2_emission_per_capita.pkl\n",
      "Processing: /Users/koonleong/Documents/UM/UMMADS/Courses - Current/SIADS697-Capstone/power_emissions/models/model-global-percent_of_environment_patent.pkl\n",
      "Processing: /Users/koonleong/Documents/UM/UMMADS/Courses - Current/SIADS697-Capstone/power_emissions/models/model-usa-co2_emission_per_capita.pkl\n",
      "Processing: /Users/koonleong/Documents/UM/UMMADS/Courses - Current/SIADS697-Capstone/power_emissions/models/model-china-urban_population_percent.pkl\n",
      "Processing: /Users/koonleong/Documents/UM/UMMADS/Courses - Current/SIADS697-Capstone/power_emissions/models/model-china-renewable_energy_consumption_share.pkl\n",
      "Processing: /Users/koonleong/Documents/UM/UMMADS/Courses - Current/SIADS697-Capstone/power_emissions/models/model-china-manufacturing_percent.pkl\n",
      "Processing: /Users/koonleong/Documents/UM/UMMADS/Courses - Current/SIADS697-Capstone/power_emissions/models/model-usa-energy_intensity.pkl\n",
      "Processing: /Users/koonleong/Documents/UM/UMMADS/Courses - Current/SIADS697-Capstone/power_emissions/models/model-global-primary_energy_consumption_per_capita.pkl\n",
      "Processing: /Users/koonleong/Documents/UM/UMMADS/Courses - Current/SIADS697-Capstone/power_emissions/models/model-china-manufacturing_country_share_percent.pkl\n",
      "Processing: /Users/koonleong/Documents/UM/UMMADS/Courses - Current/SIADS697-Capstone/power_emissions/models/model-china-energy_intensity.pkl\n",
      "Processing: /Users/koonleong/Documents/UM/UMMADS/Courses - Current/SIADS697-Capstone/power_emissions/models/model-global-manufacturing_percent.pkl\n",
      "Processing: /Users/koonleong/Documents/UM/UMMADS/Courses - Current/SIADS697-Capstone/power_emissions/models/model-global-co2_emission_per_capita.pkl\n",
      "Processing: /Users/koonleong/Documents/UM/UMMADS/Courses - Current/SIADS697-Capstone/power_emissions/models/model-global-manufacturing_country_share_percent.pkl\n",
      "Processing: /Users/koonleong/Documents/UM/UMMADS/Courses - Current/SIADS697-Capstone/power_emissions/models/model-global-constant_gdp_per_capita.pkl\n",
      "Processing: /Users/koonleong/Documents/UM/UMMADS/Courses - Current/SIADS697-Capstone/power_emissions/models/model-global-energy_intensity.pkl\n",
      "Processing: /Users/koonleong/Documents/UM/UMMADS/Courses - Current/SIADS697-Capstone/power_emissions/models/model-global-renewable_energy_consumption_share.pkl\n",
      "Processing: /Users/koonleong/Documents/UM/UMMADS/Courses - Current/SIADS697-Capstone/power_emissions/models/model-china-population.pkl\n",
      "Processing: /Users/koonleong/Documents/UM/UMMADS/Courses - Current/SIADS697-Capstone/power_emissions/models/model-global-urban_population_percent.pkl\n",
      "Processing: /Users/koonleong/Documents/UM/UMMADS/Courses - Current/SIADS697-Capstone/power_emissions/models/model-usa-renewable_energy_consumption_share.pkl\n",
      "Processing: /Users/koonleong/Documents/UM/UMMADS/Courses - Current/SIADS697-Capstone/power_emissions/models/model-usa-population.pkl\n",
      "Processing: /Users/koonleong/Documents/UM/UMMADS/Courses - Current/SIADS697-Capstone/power_emissions/models/model-global-co2.pkl\n",
      "Processing: /Users/koonleong/Documents/UM/UMMADS/Courses - Current/SIADS697-Capstone/power_emissions/models/model-usa-urban_population_percent.pkl\n",
      "Processing: /Users/koonleong/Documents/UM/UMMADS/Courses - Current/SIADS697-Capstone/power_emissions/models/model-usa-constant_gdp_per_capita.pkl\n"
     ]
    }
   ],
   "source": [
    "regex = r\"-([^-]\\w*[^-])-([^-]\\w*[^\\.])\"\n",
    "forecasts = []\n",
    "for model in models:\n",
    "    print('Processing:', model)\n",
    "    fname = model.name\n",
    "    matches = re.search(regex, fname)\n",
    "\n",
    "    if matches:\n",
    "        region = matches.group(1)\n",
    "        feature = matches.group(2)\n",
    "\n",
    "        with open(model.as_posix(), 'rb') as pkl:\n",
    "            optimal = pickle.load(pkl)\n",
    "            fc = zip(year_labels, optimal.predict(prediction_horizon))\n",
    "            forecast_df = pd.DataFrame(fc)\n",
    "            forecast_df.columns = ['year', 'forecasts']\n",
    "            forecasts.append([region, feature, forecast_df.to_numpy()])"
   ],
   "metadata": {
    "collapsed": false,
    "pycharm": {
     "name": "#%%\n"
    }
   }
  },
  {
   "cell_type": "code",
   "execution_count": 55,
   "outputs": [
    {
     "name": "stdout",
     "output_type": "stream",
     "text": [
      "Done with Forecasts\n"
     ]
    }
   ],
   "source": [
    "fc_path = cwd.parent/r'data/processed/ts_forecast.json'\n",
    "with open(fc_path, 'wb') as pkl:\n",
    "    pickle.dump(forecasts, pkl)\n",
    "\n",
    "print(\"Done with Forecasts\")"
   ],
   "metadata": {
    "collapsed": false,
    "pycharm": {
     "name": "#%%\n"
    }
   }
  }
 ],
 "metadata": {
  "kernelspec": {
   "display_name": "Python 3",
   "language": "python",
   "name": "python3"
  },
  "language_info": {
   "codemirror_mode": {
    "name": "ipython",
    "version": 3
   },
   "file_extension": ".py",
   "mimetype": "text/x-python",
   "name": "python",
   "nbconvert_exporter": "python",
   "pygments_lexer": "ipython3",
   "version": "3.9.9"
  }
 },
 "nbformat": 4,
 "nbformat_minor": 0
}