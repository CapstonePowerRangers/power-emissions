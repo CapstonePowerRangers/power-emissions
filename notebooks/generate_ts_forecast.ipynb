{
 "cells": [
  {
   "cell_type": "code",
   "execution_count": 3,
   "metadata": {
    "collapsed": true,
    "pycharm": {
     "name": "#%%\n"
    }
   },
   "outputs": [
    {
     "ename": "AttributeError",
     "evalue": "module 'library.common' has no attribute 'all_features'",
     "output_type": "error",
     "traceback": [
      "\u001b[0;31m---------------------------------------------------------------------------\u001b[0m",
      "\u001b[0;31mAttributeError\u001b[0m                            Traceback (most recent call last)",
      "\u001b[0;32m/var/folders/mq/db9ycln11xsdmvbmf1bcjz2r0000gn/T/ipykernel_76208/2513947881.py\u001b[0m in \u001b[0;36m<module>\u001b[0;34m\u001b[0m\n\u001b[1;32m      5\u001b[0m \u001b[0mcwd\u001b[0m \u001b[0;34m=\u001b[0m \u001b[0mPath\u001b[0m\u001b[0;34m.\u001b[0m\u001b[0mcwd\u001b[0m\u001b[0;34m(\u001b[0m\u001b[0;34m)\u001b[0m\u001b[0;34m\u001b[0m\u001b[0;34m\u001b[0m\u001b[0m\n\u001b[1;32m      6\u001b[0m \u001b[0;34m\u001b[0m\u001b[0m\n\u001b[0;32m----> 7\u001b[0;31m \u001b[0mall_features\u001b[0m \u001b[0;34m=\u001b[0m \u001b[0mcommon\u001b[0m\u001b[0;34m.\u001b[0m\u001b[0mall_features\u001b[0m\u001b[0;34m\u001b[0m\u001b[0;34m\u001b[0m\u001b[0m\n\u001b[0m\u001b[1;32m      8\u001b[0m \u001b[0mmodels_path\u001b[0m \u001b[0;34m=\u001b[0m \u001b[0mcwd\u001b[0m\u001b[0;34m.\u001b[0m\u001b[0mparent\u001b[0m\u001b[0;34m/\u001b[0m\u001b[0;34m'models'\u001b[0m\u001b[0;34m\u001b[0m\u001b[0;34m\u001b[0m\u001b[0m\n\u001b[1;32m      9\u001b[0m \u001b[0mmodels\u001b[0m \u001b[0;34m=\u001b[0m \u001b[0mlist\u001b[0m\u001b[0;34m(\u001b[0m\u001b[0mmodels_path\u001b[0m\u001b[0;34m.\u001b[0m\u001b[0mglob\u001b[0m\u001b[0;34m(\u001b[0m\u001b[0;34m'*.pkl'\u001b[0m\u001b[0;34m)\u001b[0m\u001b[0;34m)\u001b[0m\u001b[0;34m\u001b[0m\u001b[0;34m\u001b[0m\u001b[0m\n",
      "\u001b[0;31mAttributeError\u001b[0m: module 'library.common' has no attribute 'all_features'"
     ]
    }
   ],
   "source": [
    "import re\n",
    "import pickle\n",
    "from library.common import Core\n",
    "from pathlib import Path\n",
    "cwd = Path.cwd()\n",
    "\n",
    "core = Core()\n",
    "models = core.all_features\n",
    "models_path = cwd.parent/'models'\n",
    "models = list(models_path.glob('*.pkl'))\n",
    "\n",
    "# regex_region = re.compile(\"-([^-]\\w*)\")\n",
    "# regex_feature = re.compile(\"-([^-]\\w*)\\.\")\n",
    "regex = r\"-([^-]\\w*[^-])-([^-]\\w*[^\\.])\"\n",
    "forecasts = []\n",
    "for model in models:\n",
    "    print('Processing:', model)\n",
    "    fname = model.name\n",
    "    matches = re.search(regex, fname)\n",
    "\n",
    "    if matches:\n",
    "        region = matches.group(1)\n",
    "        feature = matches.group(2)\n",
    "\n",
    "        with open(model.as_posix(), 'rb') as pkl:\n",
    "            optimal = pickle.load(pkl)\n",
    "            forecasts.append([region, feature, optimal.predict(10)])\n",
    "\n",
    "fc_path = cwd.parent/r'data/processed/ts_forecast.pkl'\n",
    "\n",
    "with open(fc_path, 'wb') as pkl:\n",
    "    pickle.dump(forecasts, pkl)\n"
   ]
  }
 ],
 "metadata": {
  "kernelspec": {
   "display_name": "Python 3",
   "language": "python",
   "name": "python3"
  },
  "language_info": {
   "codemirror_mode": {
    "name": "ipython",
    "version": 3
   },
   "file_extension": ".py",
   "mimetype": "text/x-python",
   "name": "python",
   "nbconvert_exporter": "python",
   "pygments_lexer": "ipython3",
   "version": "3.9.9"
  }
 },
 "nbformat": 4,
 "nbformat_minor": 0
}
