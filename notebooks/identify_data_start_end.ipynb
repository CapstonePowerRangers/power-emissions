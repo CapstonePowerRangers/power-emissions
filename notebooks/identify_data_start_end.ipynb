{
 "cells": [
  {
   "cell_type": "code",
   "execution_count": 1,
   "outputs": [],
   "source": [
    "import pandas as pd\n",
    "from library.common import Core\n",
    "core = Core()\n",
    "\n",
    "quant = core.relevant_features[2:]"
   ],
   "metadata": {
    "collapsed": false,
    "pycharm": {
     "name": "#%%\n"
    }
   }
  },
  {
   "cell_type": "code",
   "execution_count": 2,
   "outputs": [
    {
     "name": "stdout",
     "output_type": "stream",
     "text": [
      "Processing: co2\n",
      "Processing: consumption_co2\n",
      "Processing: co2_growth_prct\n",
      "Processing: co2_growth_abs\n",
      "Processing: trade_co2\n",
      "Processing: co2_per_capita\n",
      "Processing: consumption_co2_per_capita\n",
      "Processing: share_global_co2\n",
      "Processing: cumulative_co2\n",
      "Processing: share_global_cumulative_co2\n",
      "Processing: co2_per_gdp\n",
      "Processing: consumption_co2_per_gdp\n",
      "Processing: co2_per_unit_energy\n",
      "Processing: coal_co2\n",
      "Processing: coal_co2_per_capita\n",
      "Processing: share_global_coal_co2\n",
      "Processing: cumulative_coal_co2\n",
      "Processing: share_global_cumulative_coal_co2\n",
      "Processing: gas_co2\n",
      "Processing: oil_co2\n",
      "Processing: gas_co2_per_capita\n",
      "Processing: share_global_gas_co2\n",
      "Processing: cumulative_gas_co2\n",
      "Processing: share_global_cumulative_gas_co2\n",
      "Processing: oil_co2_per_capita\n",
      "Processing: cumulative_oil_co2\n",
      "Processing: share_global_cumulative_oil_co2\n",
      "Processing: other_co2_per_capita\n",
      "Processing: trade_co2_share\n",
      "Processing: share_global_oil_co2\n",
      "Processing: cumulative_other_co2\n",
      "Processing: share_global_other_co2\n",
      "Processing: share_global_cumulative_other_co2\n",
      "Processing: population\n",
      "Processing: gdp\n",
      "Processing: primary_energy_consumption\n",
      "Processing: energy_per_capita\n",
      "Processing: energy_per_gdp\n",
      "Processing: current_gdp\n",
      "Processing: constant_gdp\n",
      "Processing: manufacturing_gdp\n",
      "Processing: medium_to_high_tech_percent\n",
      "Processing: export\n",
      "Processing: import\n",
      "Processing: real_gdp_growth_percent\n",
      "Processing: urban_population_percent\n",
      "Processing: merchandise_export\n",
      "Processing: merchandise_import\n",
      "Processing: manufacturer_export_share\n",
      "Processing: manufacturer_export\n",
      "Processing: co2_emission_electricity\n",
      "Processing: co2_emission_other_fuel\n",
      "Processing: co2_emission_transport\n",
      "Processing: co2_emission_bunkers\n",
      "Processing: co2_emission_industrial_process\n",
      "Processing: co2_emission_per_capita\n",
      "Processing: constant_gdp_per_capita\n",
      "Processing: manufacturing_percent\n",
      "Processing: medium_to_high_tech_gdp\n",
      "Processing: co2_emission_per_constant_gdp\n",
      "Processing: trade_openness\n",
      "Processing: share_of_merchandise_export\n",
      "Processing: share_of_merchandise_import\n",
      "Processing: industrial_gdp\n",
      "Processing: co2_country_share_percent\n",
      "Processing: manufacturing_country_share_percent\n",
      "Processing: iea_primary_energy_consumption\n",
      "Processing: renewable_energy_consumption\n",
      "Processing: coal_consumption\n",
      "Processing: oil_consumption\n",
      "Processing: total_electricity_production\n",
      "Processing: electricity_production_from_renewable\n",
      "Processing: primary_energy_consumption_per_capita\n",
      "Processing: fossil_energy_consumption_share\n",
      "Processing: renewable_electricity_production_share\n",
      "Processing: energy_intensity\n",
      "Processing: renewable_energy_consumption_share\n",
      "Processing: percent_of_environment_patent\n",
      "78\n"
     ]
    }
   ],
   "source": [
    "valid_data = {}\n",
    "\n",
    "for f in quant:\n",
    "    print(f'Processing: {f}')\n",
    "    feature = core.feature_data(f).dropna()\n",
    "    valid_data[f] = (min(feature.year), max(feature.year))\n",
    "\n",
    "print(len(valid_data))"
   ],
   "metadata": {
    "collapsed": false,
    "pycharm": {
     "name": "#%%\n"
    }
   }
  },
  {
   "cell_type": "code",
   "execution_count": 3,
   "outputs": [],
   "source": [
    "\n",
    "ts_period = pd.DataFrame.from_dict(valid_data, orient = 'index', columns = ['start', 'stop'])\n",
    "ts_period.index = ts_period.index.set_names('feature')\n",
    "ts_period = ts_period.reset_index(drop = False)"
   ],
   "metadata": {
    "collapsed": false,
    "pycharm": {
     "name": "#%%\n"
    }
   }
  },
  {
   "cell_type": "code",
   "execution_count": 4,
   "outputs": [
    {
     "name": "stdout",
     "output_type": "stream",
     "text": [
      "Timeseries Start/Stop processed\n"
     ]
    }
   ],
   "source": [
    "from pathlib import Path\n",
    "\n",
    "cwd = Path.cwd()\n",
    "ts_timeframe = cwd.parent/'data'\n",
    "ts_timeframe = ts_timeframe/'processed'\n",
    "ts_timeframe = ts_timeframe/'timeseries_start_stop.pkl'\n",
    "ts_period.to_pickle(ts_timeframe)\n",
    "print('Timeseries Start/Stop processed')"
   ],
   "metadata": {
    "collapsed": false,
    "pycharm": {
     "name": "#%%\n"
    }
   }
  }
 ],
 "metadata": {
  "kernelspec": {
   "display_name": "Python 3",
   "language": "python",
   "name": "python3"
  },
  "language_info": {
   "codemirror_mode": {
    "name": "ipython",
    "version": 2
   },
   "file_extension": ".py",
   "mimetype": "text/x-python",
   "name": "python",
   "nbconvert_exporter": "python",
   "pygments_lexer": "ipython2",
   "version": "2.7.6"
  }
 },
 "nbformat": 4,
 "nbformat_minor": 0
}