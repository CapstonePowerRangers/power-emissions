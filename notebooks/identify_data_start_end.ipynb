{
 "cells": [
  {
   "cell_type": "code",
   "execution_count": 11,
   "outputs": [],
   "source": [
    "import pandas as pd\n",
    "from library.common import Core\n",
    "core = Core()\n",
    "\n",
    "all = core.all_features\n",
    "cat = core.categorical\n",
    "quant = set(all).difference(set(cat))"
   ],
   "metadata": {
    "collapsed": false,
    "pycharm": {
     "name": "#%%\n"
    }
   }
  },
  {
   "cell_type": "code",
   "execution_count": 12,
   "outputs": [],
   "source": [
    "valid_data = {}\n",
    "\n",
    "for f in quant:\n",
    "    feature = core.feature_data(f).dropna()\n",
    "    valid_data[f] = (min(feature.year), max(feature.year))\n"
   ],
   "metadata": {
    "collapsed": false,
    "pycharm": {
     "name": "#%%\n"
    }
   }
  },
  {
   "cell_type": "code",
   "execution_count": 13,
   "outputs": [],
   "source": [
    "ts_period = pd.DataFrame.from_dict(valid_data, orient = 'index', columns = ['start', 'stop'] )"
   ],
   "metadata": {
    "collapsed": false,
    "pycharm": {
     "name": "#%%\n"
    }
   }
  },
  {
   "cell_type": "code",
   "execution_count": 14,
   "outputs": [
    {
     "name": "stdout",
     "output_type": "stream",
     "text": [
      "Timeseries Start Stop processed\n"
     ]
    }
   ],
   "source": [
    "from pathlib import Path\n",
    "\n",
    "cwd = Path.cwd()\n",
    "ts_timeframe = cwd.parent/'data'\n",
    "ts_timeframe = ts_timeframe/'processed'\n",
    "ts_timeframe = ts_timeframe/'timeseries_start_stop.pkl'\n",
    "ts_period.to_pickle(ts_timeframe)\n",
    "print('Timeseries Start/Stop processed')"
   ],
   "metadata": {
    "collapsed": false,
    "pycharm": {
     "name": "#%%\n"
    }
   }
  }
 ],
 "metadata": {
  "kernelspec": {
   "display_name": "Python 3",
   "language": "python",
   "name": "python3"
  },
  "language_info": {
   "codemirror_mode": {
    "name": "ipython",
    "version": 2
   },
   "file_extension": ".py",
   "mimetype": "text/x-python",
   "name": "python",
   "nbconvert_exporter": "python",
   "pygments_lexer": "ipython2",
   "version": "2.7.6"
  }
 },
 "nbformat": 4,
 "nbformat_minor": 0
}