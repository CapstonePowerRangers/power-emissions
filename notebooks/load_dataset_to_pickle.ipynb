{
 "cells": [
  {
   "cell_type": "code",
   "execution_count": 1,
   "metadata": {
    "collapsed": true,
    "pycharm": {
     "name": "#%%\n"
    }
   },
   "outputs": [],
   "source": [
    "from library.common import Database, Core\n",
    "from pathlib import Path\n",
    "import pandas as pd\n",
    "import pickle\n",
    "\n",
    "cwd = Path.cwd()\n",
    "db = Database()\n",
    "\n",
    "df = pd.read_sql('master_dataset', db.config)\n",
    "processed_path = cwd.parent/'data'/'processed'\n",
    "full_path = processed_path/'master_dataset.pkl'\n",
    "full_path = full_path.as_posix()\n",
    "df.to_pickle(full_path)\n",
    "\n"
   ]
  }
 ],
 "metadata": {
  "kernelspec": {
   "display_name": "Python 3",
   "language": "python",
   "name": "python3"
  },
  "language_info": {
   "codemirror_mode": {
    "name": "ipython",
    "version": 2
   },
   "file_extension": ".py",
   "mimetype": "text/x-python",
   "name": "python",
   "nbconvert_exporter": "python",
   "pygments_lexer": "ipython2",
   "version": "2.7.6"
  }
 },
 "nbformat": 4,
 "nbformat_minor": 0
}